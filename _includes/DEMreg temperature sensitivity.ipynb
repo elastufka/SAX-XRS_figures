{
 "cells": [
  {
   "cell_type": "markdown",
   "metadata": {},
   "source": [
    "DEMreg temperature sensitivity\n",
    "\n",
    "25.6.21 E. Lastufka\n",
    "\n",
    "run in python 3.5"
   ]
  },
  {
   "cell_type": "code",
   "execution_count": 1,
   "metadata": {},
   "outputs": [],
   "source": [
    "# Import some of the stuff we might need\n",
    "import matplotlib\n",
    "#  Using demreg from https://github.com/ianan/demreg/tree/master/python\n",
    "\n",
    "from datetime import datetime as dt\n",
    "import plotly.graph_objects as go\n",
    "\n",
    "#from sunpy_map_utils import *\n",
    "from aia_utils import *\n",
    "from nustar_utils import *\n",
    "from visualization_tools import *\n",
    "from joint_dem import *\n",
    "\n",
    "import warnings\n",
    "warnings.simplefilter('ignore')\n",
    "matplotlib.rcParams['font.size'] = 16"
   ]
  },
  {
   "cell_type": "code",
   "execution_count": 41,
   "metadata": {},
   "outputs": [],
   "source": [
    "colors=pride_colors_plotly(continuous_colorscale=True,flag='bi')"
   ]
  },
  {
   "cell_type": "markdown",
   "metadata": {},
   "source": [
    "## Timerange and temperature range"
   ]
  },
  {
   "cell_type": "code",
   "execution_count": 105,
   "metadata": {},
   "outputs": [
    {
     "data": {
      "text/plain": [
       "array([6. , 6.1, 6.2, 6.3, 6.4, 6.5, 6.6, 6.7, 6.8, 6.9, 7. , 7.1, 7.2,\n",
       "       7.3])"
      ]
     },
     "execution_count": 105,
     "metadata": {},
     "output_type": "execute_result"
    }
   ],
   "source": [
    "tr=[\"2020-09-12T20:39:00\",\"2020-09-12T20:42:00\"]\n",
    "tstart=5.0\n",
    "tend=np.linspace(6,7.3,14)\n",
    "tend"
   ]
  },
  {
   "cell_type": "markdown",
   "metadata": {},
   "source": [
    "## Default inputs - data from 12 September 2020 event in orbit 8"
   ]
  },
  {
   "cell_type": "code",
   "execution_count": 106,
   "metadata": {
    "scrolled": true
   },
   "outputs": [
    {
     "name": "stdout",
     "output_type": "stream",
     "text": [
      "all maps same dimensions\n",
      "all maps same dimensions\n",
      "all maps same dimensions\n",
      "all maps same dimensions\n",
      "all maps same dimensions\n",
      "all maps same dimensions\n",
      "not transposed\n",
      "nustar cutout coords:  <SkyCoord (Helioprojective: obstime=2020-09-12 20:39:08.832000, rsun=695508000.0 m, observer=<HeliographicStonyhurst Coordinate (obstime=2020-09-12 20:39:08.832000): (lon, lat, radius) in (deg, deg, m)\n",
      "    (0., 7.22963878, 1.50532105e+11)>): (Tx, Ty) in arcsec\n",
      "    (-963.75808695, 147.39076468)> <SkyCoord (Helioprojective: obstime=2020-09-12 20:39:08.832000, rsun=695508000.0 m, observer=<HeliographicStonyhurst Coordinate (obstime=2020-09-12 20:39:08.832000): (lon, lat, radius) in (deg, deg, m)\n",
      "    (0., 7.22963878, 1.50532105e+11)>): (Tx, Ty) in arcsec\n",
      "    (-853.75808695, 257.39076468)>\n",
      "[3.48716477e+00 4.90395787e+01 6.28365242e+02 1.09650502e+03\n",
      " 4.98635378e+02 2.90197734e+01 1.37087908e+01 2.12063981e-01]\n",
      "Input data and errors:\n",
      "94 :     3.49   2.91   83 %\n",
      "131 :     49.04   9.89   20 %\n",
      "171 :     628.37   68.23   11 %\n",
      "193 :     1096.51   114.36   10 %\n",
      "211 :     498.64   54.10   11 %\n",
      "335 :     29.02   5.16   18 %\n",
      "Be-Thin :     13.71   2.74   20 %\n",
      "NuSTAR 2.5-3.5 keV :     0.21   0.04   20 %\n",
      "chisq: 26.430199\n",
      "AIA DN_reg/DN_in ratio: 0.3555970753797073\n",
      "Xray DN_reg/DN_in ratio: 6.887916277194846e-05\n",
      "all maps same dimensions\n",
      "all maps same dimensions\n",
      "all maps same dimensions\n",
      "all maps same dimensions\n",
      "all maps same dimensions\n",
      "all maps same dimensions\n",
      "not transposed\n",
      "nustar cutout coords:  <SkyCoord (Helioprojective: obstime=2020-09-12 20:39:08.832000, rsun=695508000.0 m, observer=<HeliographicStonyhurst Coordinate (obstime=2020-09-12 20:39:08.832000): (lon, lat, radius) in (deg, deg, m)\n",
      "    (0., 7.22963878, 1.50532105e+11)>): (Tx, Ty) in arcsec\n",
      "    (-963.75808695, 147.39076468)> <SkyCoord (Helioprojective: obstime=2020-09-12 20:39:08.832000, rsun=695508000.0 m, observer=<HeliographicStonyhurst Coordinate (obstime=2020-09-12 20:39:08.832000): (lon, lat, radius) in (deg, deg, m)\n",
      "    (0., 7.22963878, 1.50532105e+11)>): (Tx, Ty) in arcsec\n",
      "    (-853.75808695, 257.39076468)>\n",
      "[3.48716477e+00 4.90395787e+01 6.28365242e+02 1.09650502e+03\n",
      " 4.98635378e+02 2.90197734e+01 1.37087908e+01 2.12063981e-01]\n",
      "Input data and errors:\n",
      "94 :     3.49   2.91   83 %\n",
      "131 :     49.04   9.89   20 %\n",
      "171 :     628.37   68.23   11 %\n",
      "193 :     1096.51   114.36   10 %\n",
      "211 :     498.64   54.10   11 %\n",
      "335 :     29.02   5.16   18 %\n",
      "Be-Thin :     13.71   2.74   20 %\n",
      "NuSTAR 2.5-3.5 keV :     0.21   0.04   20 %\n",
      "chisq: 19.527795\n",
      "AIA DN_reg/DN_in ratio: 0.5310251268385414\n",
      "Xray DN_reg/DN_in ratio: 0.0013680997615921138\n",
      "all maps same dimensions\n",
      "all maps same dimensions\n",
      "all maps same dimensions\n",
      "all maps same dimensions\n",
      "all maps same dimensions\n",
      "all maps same dimensions\n",
      "not transposed\n",
      "nustar cutout coords:  <SkyCoord (Helioprojective: obstime=2020-09-12 20:39:08.832000, rsun=695508000.0 m, observer=<HeliographicStonyhurst Coordinate (obstime=2020-09-12 20:39:08.832000): (lon, lat, radius) in (deg, deg, m)\n",
      "    (0., 7.22963878, 1.50532105e+11)>): (Tx, Ty) in arcsec\n",
      "    (-963.75808695, 147.39076468)> <SkyCoord (Helioprojective: obstime=2020-09-12 20:39:08.832000, rsun=695508000.0 m, observer=<HeliographicStonyhurst Coordinate (obstime=2020-09-12 20:39:08.832000): (lon, lat, radius) in (deg, deg, m)\n",
      "    (0., 7.22963878, 1.50532105e+11)>): (Tx, Ty) in arcsec\n",
      "    (-853.75808695, 257.39076468)>\n",
      "[3.48716477e+00 4.90395787e+01 6.28365242e+02 1.09650502e+03\n",
      " 4.98635378e+02 2.90197734e+01 1.37087908e+01 2.12063981e-01]\n",
      "Input data and errors:\n",
      "94 :     3.49   2.91   83 %\n",
      "131 :     49.04   9.89   20 %\n",
      "171 :     628.37   68.23   11 %\n",
      "193 :     1096.51   114.36   10 %\n",
      "211 :     498.64   54.10   11 %\n",
      "335 :     29.02   5.16   18 %\n",
      "Be-Thin :     13.71   2.74   20 %\n",
      "NuSTAR 2.5-3.5 keV :     0.21   0.04   20 %\n",
      "chisq: 15.046393\n",
      "AIA DN_reg/DN_in ratio: 0.570203478441888\n",
      "Xray DN_reg/DN_in ratio: 0.009446407592916112\n",
      "all maps same dimensions\n",
      "all maps same dimensions\n",
      "all maps same dimensions\n",
      "all maps same dimensions\n",
      "all maps same dimensions\n",
      "all maps same dimensions\n",
      "not transposed\n",
      "nustar cutout coords:  <SkyCoord (Helioprojective: obstime=2020-09-12 20:39:08.832000, rsun=695508000.0 m, observer=<HeliographicStonyhurst Coordinate (obstime=2020-09-12 20:39:08.832000): (lon, lat, radius) in (deg, deg, m)\n",
      "    (0., 7.22963878, 1.50532105e+11)>): (Tx, Ty) in arcsec\n",
      "    (-963.75808695, 147.39076468)> <SkyCoord (Helioprojective: obstime=2020-09-12 20:39:08.832000, rsun=695508000.0 m, observer=<HeliographicStonyhurst Coordinate (obstime=2020-09-12 20:39:08.832000): (lon, lat, radius) in (deg, deg, m)\n",
      "    (0., 7.22963878, 1.50532105e+11)>): (Tx, Ty) in arcsec\n",
      "    (-853.75808695, 257.39076468)>\n",
      "[3.48716477e+00 4.90395787e+01 6.28365242e+02 1.09650502e+03\n",
      " 4.98635378e+02 2.90197734e+01 1.37087908e+01 2.12063981e-01]\n",
      "Input data and errors:\n",
      "94 :     3.49   2.91   83 %\n",
      "131 :     49.04   9.89   20 %\n",
      "171 :     628.37   68.23   11 %\n",
      "193 :     1096.51   114.36   10 %\n",
      "211 :     498.64   54.10   11 %\n",
      "335 :     29.02   5.16   18 %\n",
      "Be-Thin :     13.71   2.74   20 %\n",
      "NuSTAR 2.5-3.5 keV :     0.21   0.04   20 %\n",
      "chisq: 8.431207\n",
      "AIA DN_reg/DN_in ratio: 0.7426591800050791\n",
      "Xray DN_reg/DN_in ratio: 0.05235548958101659\n",
      "all maps same dimensions\n",
      "all maps same dimensions\n",
      "all maps same dimensions\n",
      "all maps same dimensions\n",
      "all maps same dimensions\n",
      "all maps same dimensions\n",
      "not transposed\n",
      "nustar cutout coords:  <SkyCoord (Helioprojective: obstime=2020-09-12 20:39:08.832000, rsun=695508000.0 m, observer=<HeliographicStonyhurst Coordinate (obstime=2020-09-12 20:39:08.832000): (lon, lat, radius) in (deg, deg, m)\n",
      "    (0., 7.22963878, 1.50532105e+11)>): (Tx, Ty) in arcsec\n",
      "    (-963.75808695, 147.39076468)> <SkyCoord (Helioprojective: obstime=2020-09-12 20:39:08.832000, rsun=695508000.0 m, observer=<HeliographicStonyhurst Coordinate (obstime=2020-09-12 20:39:08.832000): (lon, lat, radius) in (deg, deg, m)\n",
      "    (0., 7.22963878, 1.50532105e+11)>): (Tx, Ty) in arcsec\n",
      "    (-853.75808695, 257.39076468)>\n",
      "[3.48716477e+00 4.90395787e+01 6.28365242e+02 1.09650502e+03\n",
      " 4.98635378e+02 2.90197734e+01 1.37087908e+01 2.12063981e-01]\n",
      "Input data and errors:\n",
      "94 :     3.49   2.91   83 %\n",
      "131 :     49.04   9.89   20 %\n",
      "171 :     628.37   68.23   11 %\n",
      "193 :     1096.51   114.36   10 %\n",
      "211 :     498.64   54.10   11 %\n",
      "335 :     29.02   5.16   18 %\n",
      "Be-Thin :     13.71   2.74   20 %\n",
      "NuSTAR 2.5-3.5 keV :     0.21   0.04   20 %\n",
      "chisq: 3.106390\n",
      "AIA DN_reg/DN_in ratio: 0.9411125489695366\n",
      "Xray DN_reg/DN_in ratio: 0.39338894580155837\n",
      "all maps same dimensions\n",
      "all maps same dimensions\n",
      "all maps same dimensions\n",
      "all maps same dimensions\n",
      "all maps same dimensions\n",
      "all maps same dimensions\n",
      "not transposed\n",
      "nustar cutout coords:  <SkyCoord (Helioprojective: obstime=2020-09-12 20:39:08.832000, rsun=695508000.0 m, observer=<HeliographicStonyhurst Coordinate (obstime=2020-09-12 20:39:08.832000): (lon, lat, radius) in (deg, deg, m)\n",
      "    (0., 7.22963878, 1.50532105e+11)>): (Tx, Ty) in arcsec\n",
      "    (-963.75808695, 147.39076468)> <SkyCoord (Helioprojective: obstime=2020-09-12 20:39:08.832000, rsun=695508000.0 m, observer=<HeliographicStonyhurst Coordinate (obstime=2020-09-12 20:39:08.832000): (lon, lat, radius) in (deg, deg, m)\n",
      "    (0., 7.22963878, 1.50532105e+11)>): (Tx, Ty) in arcsec\n",
      "    (-853.75808695, 257.39076468)>\n",
      "[3.48716477e+00 4.90395787e+01 6.28365242e+02 1.09650502e+03\n",
      " 4.98635378e+02 2.90197734e+01 1.37087908e+01 2.12063981e-01]\n",
      "Input data and errors:\n",
      "94 :     3.49   2.91   83 %\n",
      "131 :     49.04   9.89   20 %\n",
      "171 :     628.37   68.23   11 %\n",
      "193 :     1096.51   114.36   10 %\n",
      "211 :     498.64   54.10   11 %\n",
      "335 :     29.02   5.16   18 %\n",
      "Be-Thin :     13.71   2.74   20 %\n",
      "NuSTAR 2.5-3.5 keV :     0.21   0.04   20 %\n",
      "chisq: 1.476875\n",
      "AIA DN_reg/DN_in ratio: 0.9261678004108398\n",
      "Xray DN_reg/DN_in ratio: 0.7686072029868967\n",
      "all maps same dimensions\n",
      "all maps same dimensions\n",
      "all maps same dimensions\n",
      "all maps same dimensions\n",
      "all maps same dimensions\n",
      "all maps same dimensions\n",
      "not transposed\n",
      "nustar cutout coords:  <SkyCoord (Helioprojective: obstime=2020-09-12 20:39:08.832000, rsun=695508000.0 m, observer=<HeliographicStonyhurst Coordinate (obstime=2020-09-12 20:39:08.832000): (lon, lat, radius) in (deg, deg, m)\n",
      "    (0., 7.22963878, 1.50532105e+11)>): (Tx, Ty) in arcsec\n",
      "    (-963.75808695, 147.39076468)> <SkyCoord (Helioprojective: obstime=2020-09-12 20:39:08.832000, rsun=695508000.0 m, observer=<HeliographicStonyhurst Coordinate (obstime=2020-09-12 20:39:08.832000): (lon, lat, radius) in (deg, deg, m)\n",
      "    (0., 7.22963878, 1.50532105e+11)>): (Tx, Ty) in arcsec\n",
      "    (-853.75808695, 257.39076468)>\n"
     ]
    },
    {
     "name": "stdout",
     "output_type": "stream",
     "text": [
      "[3.48716477e+00 4.90395787e+01 6.28365242e+02 1.09650502e+03\n",
      " 4.98635378e+02 2.90197734e+01 1.37087908e+01 2.12063981e-01]\n",
      "Input data and errors:\n",
      "94 :     3.49   2.91   83 %\n",
      "131 :     49.04   9.89   20 %\n",
      "171 :     628.37   68.23   11 %\n",
      "193 :     1096.51   114.36   10 %\n",
      "211 :     498.64   54.10   11 %\n",
      "335 :     29.02   5.16   18 %\n",
      "Be-Thin :     13.71   2.74   20 %\n",
      "NuSTAR 2.5-3.5 keV :     0.21   0.04   20 %\n",
      "chisq: 1.157744\n",
      "AIA DN_reg/DN_in ratio: 0.8404891449313271\n",
      "Xray DN_reg/DN_in ratio: 0.9603629578180775\n",
      "all maps same dimensions\n",
      "all maps same dimensions\n",
      "all maps same dimensions\n",
      "all maps same dimensions\n",
      "all maps same dimensions\n",
      "all maps same dimensions\n",
      "not transposed\n",
      "nustar cutout coords:  <SkyCoord (Helioprojective: obstime=2020-09-12 20:39:08.832000, rsun=695508000.0 m, observer=<HeliographicStonyhurst Coordinate (obstime=2020-09-12 20:39:08.832000): (lon, lat, radius) in (deg, deg, m)\n",
      "    (0., 7.22963878, 1.50532105e+11)>): (Tx, Ty) in arcsec\n",
      "    (-963.75808695, 147.39076468)> <SkyCoord (Helioprojective: obstime=2020-09-12 20:39:08.832000, rsun=695508000.0 m, observer=<HeliographicStonyhurst Coordinate (obstime=2020-09-12 20:39:08.832000): (lon, lat, radius) in (deg, deg, m)\n",
      "    (0., 7.22963878, 1.50532105e+11)>): (Tx, Ty) in arcsec\n",
      "    (-853.75808695, 257.39076468)>\n",
      "[3.48716477e+00 4.90395787e+01 6.28365242e+02 1.09650502e+03\n",
      " 4.98635378e+02 2.90197734e+01 1.37087908e+01 2.12063981e-01]\n",
      "Input data and errors:\n",
      "94 :     3.49   2.91   83 %\n",
      "131 :     49.04   9.89   20 %\n",
      "171 :     628.37   68.23   11 %\n",
      "193 :     1096.51   114.36   10 %\n",
      "211 :     498.64   54.10   11 %\n",
      "335 :     29.02   5.16   18 %\n",
      "Be-Thin :     13.71   2.74   20 %\n",
      "NuSTAR 2.5-3.5 keV :     0.21   0.04   20 %\n",
      "chisq: 1.222214\n",
      "AIA DN_reg/DN_in ratio: 0.8222247176521167\n",
      "Xray DN_reg/DN_in ratio: 0.996282856505557\n",
      "all maps same dimensions\n",
      "all maps same dimensions\n",
      "all maps same dimensions\n",
      "all maps same dimensions\n",
      "all maps same dimensions\n",
      "all maps same dimensions\n",
      "not transposed\n",
      "nustar cutout coords:  <SkyCoord (Helioprojective: obstime=2020-09-12 20:39:08.832000, rsun=695508000.0 m, observer=<HeliographicStonyhurst Coordinate (obstime=2020-09-12 20:39:08.832000): (lon, lat, radius) in (deg, deg, m)\n",
      "    (0., 7.22963878, 1.50532105e+11)>): (Tx, Ty) in arcsec\n",
      "    (-963.75808695, 147.39076468)> <SkyCoord (Helioprojective: obstime=2020-09-12 20:39:08.832000, rsun=695508000.0 m, observer=<HeliographicStonyhurst Coordinate (obstime=2020-09-12 20:39:08.832000): (lon, lat, radius) in (deg, deg, m)\n",
      "    (0., 7.22963878, 1.50532105e+11)>): (Tx, Ty) in arcsec\n",
      "    (-853.75808695, 257.39076468)>\n",
      "[3.48716477e+00 4.90395787e+01 6.28365242e+02 1.09650502e+03\n",
      " 4.98635378e+02 2.90197734e+01 1.37087908e+01 2.12063981e-01]\n",
      "Input data and errors:\n",
      "94 :     3.49   2.91   83 %\n",
      "131 :     49.04   9.89   20 %\n",
      "171 :     628.37   68.23   11 %\n",
      "193 :     1096.51   114.36   10 %\n",
      "211 :     498.64   54.10   11 %\n",
      "335 :     29.02   5.16   18 %\n",
      "Be-Thin :     13.71   2.74   20 %\n",
      "NuSTAR 2.5-3.5 keV :     0.21   0.04   20 %\n",
      "chisq: 0.790832\n",
      "AIA DN_reg/DN_in ratio: 0.8576116573661053\n",
      "Xray DN_reg/DN_in ratio: 1.0025198436436595\n",
      "all maps same dimensions\n",
      "all maps same dimensions\n",
      "all maps same dimensions\n",
      "all maps same dimensions\n",
      "all maps same dimensions\n",
      "all maps same dimensions\n",
      "not transposed\n",
      "nustar cutout coords:  <SkyCoord (Helioprojective: obstime=2020-09-12 20:39:08.832000, rsun=695508000.0 m, observer=<HeliographicStonyhurst Coordinate (obstime=2020-09-12 20:39:08.832000): (lon, lat, radius) in (deg, deg, m)\n",
      "    (0., 7.22963878, 1.50532105e+11)>): (Tx, Ty) in arcsec\n",
      "    (-963.75808695, 147.39076468)> <SkyCoord (Helioprojective: obstime=2020-09-12 20:39:08.832000, rsun=695508000.0 m, observer=<HeliographicStonyhurst Coordinate (obstime=2020-09-12 20:39:08.832000): (lon, lat, radius) in (deg, deg, m)\n",
      "    (0., 7.22963878, 1.50532105e+11)>): (Tx, Ty) in arcsec\n",
      "    (-853.75808695, 257.39076468)>\n",
      "[3.48716477e+00 4.90395787e+01 6.28365242e+02 1.09650502e+03\n",
      " 4.98635378e+02 2.90197734e+01 1.37087908e+01 2.12063981e-01]\n",
      "Input data and errors:\n",
      "94 :     3.49   2.91   83 %\n",
      "131 :     49.04   9.89   20 %\n",
      "171 :     628.37   68.23   11 %\n",
      "193 :     1096.51   114.36   10 %\n",
      "211 :     498.64   54.10   11 %\n",
      "335 :     29.02   5.16   18 %\n",
      "Be-Thin :     13.71   2.74   20 %\n",
      "NuSTAR 2.5-3.5 keV :     0.21   0.04   20 %\n",
      "chisq: 1.113839\n",
      "AIA DN_reg/DN_in ratio: 0.8302418764176678\n",
      "Xray DN_reg/DN_in ratio: 0.9966492328906584\n",
      "all maps same dimensions\n",
      "all maps same dimensions\n",
      "all maps same dimensions\n",
      "all maps same dimensions\n",
      "all maps same dimensions\n",
      "all maps same dimensions\n",
      "not transposed\n",
      "nustar cutout coords:  <SkyCoord (Helioprojective: obstime=2020-09-12 20:39:08.832000, rsun=695508000.0 m, observer=<HeliographicStonyhurst Coordinate (obstime=2020-09-12 20:39:08.832000): (lon, lat, radius) in (deg, deg, m)\n",
      "    (0., 7.22963878, 1.50532105e+11)>): (Tx, Ty) in arcsec\n",
      "    (-963.75808695, 147.39076468)> <SkyCoord (Helioprojective: obstime=2020-09-12 20:39:08.832000, rsun=695508000.0 m, observer=<HeliographicStonyhurst Coordinate (obstime=2020-09-12 20:39:08.832000): (lon, lat, radius) in (deg, deg, m)\n",
      "    (0., 7.22963878, 1.50532105e+11)>): (Tx, Ty) in arcsec\n",
      "    (-853.75808695, 257.39076468)>\n",
      "[3.48716477e+00 4.90395787e+01 6.28365242e+02 1.09650502e+03\n",
      " 4.98635378e+02 2.90197734e+01 1.37087908e+01 2.12063981e-01]\n",
      "Input data and errors:\n",
      "94 :     3.49   2.91   83 %\n",
      "131 :     49.04   9.89   20 %\n",
      "171 :     628.37   68.23   11 %\n",
      "193 :     1096.51   114.36   10 %\n",
      "211 :     498.64   54.10   11 %\n",
      "335 :     29.02   5.16   18 %\n",
      "Be-Thin :     13.71   2.74   20 %\n",
      "NuSTAR 2.5-3.5 keV :     0.21   0.04   20 %\n",
      "chisq: 0.782967\n",
      "AIA DN_reg/DN_in ratio: 0.8581834161028105\n",
      "Xray DN_reg/DN_in ratio: 1.00089629724785\n",
      "all maps same dimensions\n",
      "all maps same dimensions\n",
      "all maps same dimensions\n",
      "all maps same dimensions\n",
      "all maps same dimensions\n",
      "all maps same dimensions\n",
      "not transposed\n",
      "nustar cutout coords:  <SkyCoord (Helioprojective: obstime=2020-09-12 20:39:08.832000, rsun=695508000.0 m, observer=<HeliographicStonyhurst Coordinate (obstime=2020-09-12 20:39:08.832000): (lon, lat, radius) in (deg, deg, m)\n",
      "    (0., 7.22963878, 1.50532105e+11)>): (Tx, Ty) in arcsec\n",
      "    (-963.75808695, 147.39076468)> <SkyCoord (Helioprojective: obstime=2020-09-12 20:39:08.832000, rsun=695508000.0 m, observer=<HeliographicStonyhurst Coordinate (obstime=2020-09-12 20:39:08.832000): (lon, lat, radius) in (deg, deg, m)\n",
      "    (0., 7.22963878, 1.50532105e+11)>): (Tx, Ty) in arcsec\n",
      "    (-853.75808695, 257.39076468)>\n",
      "[3.48716477e+00 4.90395787e+01 6.28365242e+02 1.09650502e+03\n",
      " 4.98635378e+02 2.90197734e+01 1.37087908e+01 2.12063981e-01]\n",
      "Input data and errors:\n",
      "94 :     3.49   2.91   83 %\n",
      "131 :     49.04   9.89   20 %\n",
      "171 :     628.37   68.23   11 %\n",
      "193 :     1096.51   114.36   10 %\n",
      "211 :     498.64   54.10   11 %\n",
      "335 :     29.02   5.16   18 %\n",
      "Be-Thin :     13.71   2.74   20 %\n",
      "NuSTAR 2.5-3.5 keV :     0.21   0.04   20 %\n",
      "chisq: 38.991806\n",
      "AIA DN_reg/DN_in ratio: 0.04144278040026755\n",
      "Xray DN_reg/DN_in ratio: 0.5382950158914754\n",
      "all maps same dimensions\n",
      "all maps same dimensions\n",
      "all maps same dimensions\n",
      "all maps same dimensions\n",
      "all maps same dimensions\n",
      "all maps same dimensions\n",
      "not transposed\n",
      "nustar cutout coords:  <SkyCoord (Helioprojective: obstime=2020-09-12 20:39:08.832000, rsun=695508000.0 m, observer=<HeliographicStonyhurst Coordinate (obstime=2020-09-12 20:39:08.832000): (lon, lat, radius) in (deg, deg, m)\n",
      "    (0., 7.22963878, 1.50532105e+11)>): (Tx, Ty) in arcsec\n",
      "    (-963.75808695, 147.39076468)> <SkyCoord (Helioprojective: obstime=2020-09-12 20:39:08.832000, rsun=695508000.0 m, observer=<HeliographicStonyhurst Coordinate (obstime=2020-09-12 20:39:08.832000): (lon, lat, radius) in (deg, deg, m)\n",
      "    (0., 7.22963878, 1.50532105e+11)>): (Tx, Ty) in arcsec\n",
      "    (-853.75808695, 257.39076468)>\n",
      "[3.48716477e+00 4.90395787e+01 6.28365242e+02 1.09650502e+03\n",
      " 4.98635378e+02 2.90197734e+01 1.37087908e+01 2.12063981e-01]\n",
      "Input data and errors:\n",
      "94 :     3.49   2.91   83 %\n",
      "131 :     49.04   9.89   20 %\n",
      "171 :     628.37   68.23   11 %\n",
      "193 :     1096.51   114.36   10 %\n",
      "211 :     498.64   54.10   11 %\n",
      "335 :     29.02   5.16   18 %\n",
      "Be-Thin :     13.71   2.74   20 %\n",
      "NuSTAR 2.5-3.5 keV :     0.21   0.04   20 %\n",
      "chisq: 39.674630\n",
      "AIA DN_reg/DN_in ratio: 0.0342553752721513\n",
      "Xray DN_reg/DN_in ratio: 0.5369719618159489\n"
     ]
    },
    {
     "name": "stdout",
     "output_type": "stream",
     "text": [
      "all maps same dimensions\n",
      "all maps same dimensions\n",
      "all maps same dimensions\n",
      "all maps same dimensions\n",
      "all maps same dimensions\n",
      "all maps same dimensions\n",
      "not transposed\n",
      "nustar cutout coords:  <SkyCoord (Helioprojective: obstime=2020-09-12 20:39:08.832000, rsun=695508000.0 m, observer=<HeliographicStonyhurst Coordinate (obstime=2020-09-12 20:39:08.832000): (lon, lat, radius) in (deg, deg, m)\n",
      "    (0., 7.22963878, 1.50532105e+11)>): (Tx, Ty) in arcsec\n",
      "    (-963.75808695, 147.39076468)> <SkyCoord (Helioprojective: obstime=2020-09-12 20:39:08.832000, rsun=695508000.0 m, observer=<HeliographicStonyhurst Coordinate (obstime=2020-09-12 20:39:08.832000): (lon, lat, radius) in (deg, deg, m)\n",
      "    (0., 7.22963878, 1.50532105e+11)>): (Tx, Ty) in arcsec\n",
      "    (-853.75808695, 257.39076468)>\n",
      "[3.48716477e+00 4.90395787e+01 6.28365242e+02 1.09650502e+03\n",
      " 4.98635378e+02 2.90197734e+01 1.37087908e+01 2.12063981e-01]\n",
      "Input data and errors:\n",
      "94 :     3.49   2.91   83 %\n",
      "131 :     49.04   9.89   20 %\n",
      "171 :     628.37   68.23   11 %\n",
      "193 :     1096.51   114.36   10 %\n",
      "211 :     498.64   54.10   11 %\n",
      "335 :     29.02   5.16   18 %\n",
      "Be-Thin :     13.71   2.74   20 %\n",
      "NuSTAR 2.5-3.5 keV :     0.21   0.04   20 %\n",
      "chisq: 37.724728\n",
      "AIA DN_reg/DN_in ratio: 0.05577949779914456\n",
      "Xray DN_reg/DN_in ratio: 0.5655876110145014\n"
     ]
    }
   ],
   "source": [
    "df=[]\n",
    "for t in tend:\n",
    "    foo=joint_DEM(timerange=tr,tstart=tstart,tend=t,numtemps=50)\n",
    "    foo.xrt_submap_radius=5\n",
    "    foo.aia_contour=70\n",
    "    fdf=foo.run_from_inputs()\n",
    "    df.append(fdf)"
   ]
  },
  {
   "cell_type": "code",
   "execution_count": 94,
   "metadata": {},
   "outputs": [
    {
     "data": {
      "text/html": [
       "<div>\n",
       "<style scoped>\n",
       "    .dataframe tbody tr th:only-of-type {\n",
       "        vertical-align: middle;\n",
       "    }\n",
       "\n",
       "    .dataframe tbody tr th {\n",
       "        vertical-align: top;\n",
       "    }\n",
       "\n",
       "    .dataframe thead th {\n",
       "        text-align: right;\n",
       "    }\n",
       "</style>\n",
       "<table border=\"1\" class=\"dataframe\">\n",
       "  <thead>\n",
       "    <tr style=\"text-align: right;\">\n",
       "      <th></th>\n",
       "      <th>aia_contour</th>\n",
       "      <th>aia_area</th>\n",
       "      <th>xrt_submap_radius</th>\n",
       "      <th>xrt_area</th>\n",
       "      <th>nustar_submap_radius</th>\n",
       "      <th>xrt_fac</th>\n",
       "      <th>nustar_fac</th>\n",
       "    </tr>\n",
       "  </thead>\n",
       "  <tbody>\n",
       "    <tr>\n",
       "      <th>0</th>\n",
       "      <td>70</td>\n",
       "      <td>2.491486e+16</td>\n",
       "      <td>5</td>\n",
       "      <td>5.407255e+17</td>\n",
       "      <td>55</td>\n",
       "      <td>1</td>\n",
       "      <td>1</td>\n",
       "    </tr>\n",
       "  </tbody>\n",
       "</table>\n",
       "</div>"
      ],
      "text/plain": [
       "   aia_contour      aia_area  xrt_submap_radius      xrt_area  \\\n",
       "0           70  2.491486e+16                  5  5.407255e+17   \n",
       "\n",
       "   nustar_submap_radius  xrt_fac  nustar_fac  \n",
       "0                    55        1           1  "
      ]
     },
     "execution_count": 94,
     "metadata": {},
     "output_type": "execute_result"
    }
   ],
   "source": [
    "fdf[['aia_contour','aia_area','xrt_submap_radius','xrt_area','nustar_submap_radius','xrt_fac','nustar_fac']]"
   ]
  },
  {
   "cell_type": "code",
   "execution_count": 109,
   "metadata": {
    "scrolled": false
   },
   "outputs": [
    {
     "data": {
      "application/vnd.plotly.v1+json": {
       "config": {
        "plotlyServerURL": "https://plotly.com"
       },
       "data": [
        {
         "error_y": {
          "array": [
           8.789805470118314e+23,
           1.559703823802742e+24,
           2.4612000201597656e+24,
           3.640500312871655e+24,
           4.059848913470638e+24,
           4.527085286088793e+24,
           5.051187385782602e+24,
           5.638185957526284e+24,
           6.293962662151971e+24,
           7.041562325945429e+24,
           7.864145283381566e+24,
           8.792288148903783e+24,
           9.846031987153661e+24,
           1.1018969998197128e+25,
           1.2381772997015364e+25,
           1.3960395676833718e+25,
           1.5842986151102394e+25,
           1.7982895126744039e+25,
           2.048567902591737e+25,
           2.3511756080625297e+25,
           2.6833221482147337e+25,
           3.0230586924670926e+25,
           3.2214202062374396e+25,
           3.3255373758108404e+25,
           3.4922914644421906e+25,
           3.6373782200554587e+25,
           3.740297121925288e+25,
           3.973020930774211e+25,
           4.261723200193892e+25,
           4.612599880053401e+25,
           4.97818614134351e+25,
           5.39620681067953e+25,
           5.8376793522466335e+25,
           6.325772795701705e+25,
           6.758163860964881e+25,
           7.111755809449694e+25,
           7.479465267428723e+25,
           7.802042511941278e+25,
           8.08464268690854e+25,
           8.662900447319222e+25,
           9.463732149660677e+25,
           1.056021446342122e+26,
           1.1828130235966992e+26,
           1.3371126741934904e+26,
           1.5089547562193856e+26,
           1.696010111569318e+26,
           1.5277336667128457e+26,
           1.261674383110598e+26,
           9.237073938906156e+25
          ],
          "type": "data"
         },
         "line": {
          "color": "rgb(254.28125, 0.5703125, 128.28125)"
         },
         "name": "log<sub>10</sub>T<sub>max</sub>=6.0",
         "type": "scatter",
         "x": [
          5.0102040816326525,
          5.030612244897959,
          5.051020408163265,
          5.071428571428571,
          5.091836734693878,
          5.112244897959183,
          5.13265306122449,
          5.153061224489797,
          5.173469387755102,
          5.1938775510204085,
          5.2142857142857135,
          5.23469387755102,
          5.255102040816327,
          5.275510204081632,
          5.295918367346939,
          5.316326530612245,
          5.336734693877551,
          5.357142857142858,
          5.377551020408163,
          5.3979591836734695,
          5.418367346938775,
          5.438775510204081,
          5.459183673469388,
          5.479591836734693,
          5.5,
          5.520408163265307,
          5.540816326530612,
          5.561224489795919,
          5.581632653061225,
          5.6020408163265305,
          5.622448979591837,
          5.642857142857142,
          5.663265306122449,
          5.683673469387755,
          5.704081632653061,
          5.724489795918368,
          5.744897959183673,
          5.76530612244898,
          5.785714285714286,
          5.8061224489795915,
          5.826530612244898,
          5.846938775510203,
          5.86734693877551,
          5.887755102040817,
          5.908163265306122,
          5.928571428571429,
          5.948979591836735,
          5.969387755102041,
          5.9897959183673475
         ],
         "y": [
          6.472229809861351e+24,
          1.1546553250934214e+25,
          1.8343239031255377e+25,
          2.73815528243365e+25,
          3.0863453242697312e+25,
          3.4911169480977796e+25,
          3.965062970859844e+25,
          4.518287737701935e+25,
          5.17235378253658e+25,
          5.951742044575979e+25,
          6.8697456706818825e+25,
          7.972867092246867e+25,
          9.293968150797373e+25,
          1.0863161661941036e+26,
          1.2763280067138795e+26,
          1.5034144974080603e+26,
          1.781125600162271e+26,
          2.1077636094077773e+26,
          2.4998464233157425e+26,
          2.986319506499728e+26,
          3.546633584373773e+26,
          4.139844177862866e+26,
          4.513603241512438e+26,
          4.62158790438509e+26,
          4.601619649176507e+26,
          4.4081933020092025e+26,
          4.086763533138773e+26,
          4.011337502712526e+26,
          4.133084927697606e+26,
          4.365788067528188e+26,
          4.736200260781001e+26,
          5.244361477927203e+26,
          5.877023351060217e+26,
          6.659401948354891e+26,
          7.436805318886099e+26,
          8.135435080430771e+26,
          8.736915666405995e+26,
          9.113070399794272e+26,
          9.213463176744181e+26,
          9.453711372229806e+26,
          9.813809657832644e+26,
          1.0363492942975084e+27,
          1.1095834242903596e+27,
          1.2093532843693529e+27,
          1.3423717448225152e+27,
          1.5199887245582564e+27,
          1.4049229917565477e+27,
          1.2299128359513719e+27,
          9.700690237714282e+26
         ]
        },
        {
         "error_y": {
          "array": [
           2.413924983642541e+24,
           4.309327671832617e+24,
           6.839456929304325e+24,
           1.017458171647043e+25,
           1.133421490106119e+25,
           1.2627057542212734e+25,
           1.4073134512973998e+25,
           1.5678668066385637e+25,
           1.749419568755617e+25,
           1.947650331163863e+25,
           2.168041904444961e+25,
           2.4145276132979022e+25,
           2.686089954205522e+25,
           2.999878706651617e+25,
           3.365914657600383e+25,
           3.790323050190845e+25,
           4.280022021193309e+25,
           4.875322166843841e+25,
           5.52286682665518e+25,
           6.065779640446596e+25,
           6.3099650531408045e+25,
           6.434156017908293e+25,
           6.79983894512771e+25,
           7.1419230634794185e+25,
           7.448356874443234e+25,
           7.951868349078617e+25,
           8.553887564078008e+25,
           9.167378195868149e+25,
           9.781759953944634e+25,
           1.0342061977818324e+26,
           1.0722914757064566e+26,
           1.0722753752937518e+26,
           1.027678134063949e+26,
           9.507493002698655e+25,
           8.522992358165713e+25,
           7.726144713948588e+25,
           7.5511877031696575e+25,
           8.038226895946365e+25,
           8.988588101546156e+25,
           1.030751611622824e+26,
           1.178468467501183e+26,
           1.3298631552450033e+26,
           1.4894233047101796e+26,
           1.6596201065582702e+26,
           1.9482618869617337e+26,
           2.6244587961574124e+26,
           3.0923160503423964e+26,
           3.672696509890831e+26,
           3.901230054957833e+26
          ],
          "type": "data"
         },
         "line": {
          "color": "rgb(243.5, 9.125, 132.5)"
         },
         "name": "log<sub>10</sub>T<sub>max</sub>=6.1",
         "type": "scatter",
         "x": [
          5.011224489795918,
          5.033673469387756,
          5.0561224489795915,
          5.078571428571429,
          5.101020408163265,
          5.123469387755103,
          5.145918367346939,
          5.168367346938776,
          5.190816326530612,
          5.213265306122448,
          5.235714285714286,
          5.258163265306122,
          5.280612244897959,
          5.303061224489795,
          5.325510204081633,
          5.347959183673469,
          5.3704081632653065,
          5.392857142857142,
          5.41530612244898,
          5.437755102040816,
          5.460204081632654,
          5.4826530612244895,
          5.505102040816327,
          5.527551020408163,
          5.55,
          5.572448979591837,
          5.5948979591836725,
          5.61734693877551,
          5.639795918367346,
          5.662244897959184,
          5.68469387755102,
          5.707142857142857,
          5.729591836734693,
          5.752040816326531,
          5.774489795918367,
          5.796938775510204,
          5.81938775510204,
          5.841836734693878,
          5.864285714285714,
          5.886734693877551,
          5.909183673469387,
          5.931632653061223,
          5.954081632653061,
          5.976530612244897,
          5.998979591836735,
          6.0214285714285705,
          6.043877551020408,
          6.066326530612244,
          6.088775510204082
         ],
         "y": [
          1.4408341242571753e+25,
          2.589122540930792e+25,
          4.146199369116932e+25,
          6.242894145041984e+25,
          7.060613605921905e+25,
          8.021285663988688e+25,
          9.150282309959149e+25,
          1.0485675675985823e+26,
          1.2086675294653925e+26,
          1.3976381462494865e+26,
          1.624954832614233e+26,
          1.8969475911301214e+26,
          2.22113381899376e+26,
          2.612930069449856e+26,
          3.0860262973097826e+26,
          3.65558918868034e+26,
          4.33654269615601e+26,
          5.1869439070010785e+26,
          6.1733416155094013e+26,
          7.098469714972487e+26,
          7.609386839256796e+26,
          7.64738252871914e+26,
          7.480212504364006e+26,
          6.973096501464529e+26,
          6.391982293873342e+26,
          6.1703079661359976e+26,
          6.143866566528615e+26,
          6.237596418366001e+26,
          6.40860951654013e+26,
          6.589717308312688e+26,
          6.698489909123585e+26,
          6.571690858025015e+26,
          6.173706320161016e+26,
          5.505495911320582e+26,
          4.608734326123374e+26,
          3.619818746011134e+26,
          2.7820027152121025e+26,
          2.0652286306150943e+26,
          1.5613299222826495e+26,
          1.2822869923853343e+26,
          1.4089282520430648e+26,
          2.163842257480755e+26,
          3.885153472924335e+26,
          7.410371622049943e+26,
          1.378470396073243e+27,
          2.5580844508150315e+27,
          3.3821228097752356e+27,
          4.0561744573365125e+27,
          4.2100873814631093e+27
         ]
        },
        {
         "error_y": {
          "array": [
           1.2868571659345635e+24,
           2.3121673264573384e+24,
           3.692780039209885e+24,
           5.528473043906969e+24,
           6.156867542738014e+24,
           6.859709305028136e+24,
           7.639389993775719e+24,
           8.511784094076805e+24,
           9.466378729694015e+24,
           1.0510018022198248e+25,
           1.165451877585827e+25,
           1.2893345542563635e+25,
           1.4292408904145241e+25,
           1.5906669042672077e+25,
           1.7727502195194029e+25,
           1.987913672381767e+25,
           2.232106563594299e+25,
           2.4675476411517974e+25,
           2.5834503177484937e+25,
           2.698935673230379e+25,
           2.964802020117878e+25,
           3.281369679446238e+25,
           3.456815513461301e+25,
           3.712295810185871e+25,
           3.998878895521051e+25,
           4.29093871317105e+25,
           4.578185779973755e+25,
           4.856815721892418e+25,
           4.982714305375989e+25,
           4.947059452661718e+25,
           4.786505711987704e+25,
           4.5598743554848605e+25,
           4.322551106825632e+25,
           4.373782139594759e+25,
           4.686338767567755e+25,
           5.195909263262285e+25,
           5.855102833260452e+25,
           6.598745024051607e+25,
           7.404870715094739e+25,
           8.189614390555767e+25,
           8.952129995299325e+25,
           9.728879649819748e+25,
           1.1267173998385076e+26,
           1.5421841399558978e+26,
           2.3822114904406833e+26,
           3.640735178457671e+26,
           4.243158197049446e+26,
           4.1791839866918814e+26,
           3.2527331632347336e+26
          ],
          "type": "data"
         },
         "line": {
          "color": "rgb(232.71875, 17.6796875, 136.71875)"
         },
         "name": "log<sub>10</sub>T<sub>max</sub>=6.2",
         "type": "scatter",
         "x": [
          5.012244897959183,
          5.036734693877551,
          5.061224489795919,
          5.085714285714285,
          5.110204081632653,
          5.134693877551021,
          5.159183673469387,
          5.183673469387755,
          5.208163265306123,
          5.2326530612244895,
          5.257142857142857,
          5.281632653061225,
          5.3061224489795915,
          5.330612244897959,
          5.355102040816327,
          5.3795918367346935,
          5.404081632653061,
          5.428571428571429,
          5.453061224489796,
          5.477551020408163,
          5.502040816326531,
          5.526530612244898,
          5.551020408163266,
          5.575510204081633,
          5.6,
          5.624489795918368,
          5.648979591836735,
          5.673469387755102,
          5.69795918367347,
          5.722448979591837,
          5.746938775510204,
          5.771428571428572,
          5.795918367346939,
          5.820408163265306,
          5.844897959183674,
          5.869387755102041,
          5.893877551020408,
          5.918367346938776,
          5.942857142857143,
          5.96734693877551,
          5.991836734693878,
          6.016326530612245,
          6.040816326530612,
          6.06530612244898,
          6.089795918367347,
          6.114285714285714,
          6.138775510204082,
          6.163265306122449,
          6.187755102040816
         ],
         "y": [
          7.311897823811845e+24,
          1.3209019554311523e+25,
          2.126249472138128e+25,
          3.2168121529257673e+25,
          3.632342701750492e+25,
          4.11891989988909e+25,
          4.68636023018306e+25,
          5.3581054601325985e+25,
          6.142093806361467e+25,
          7.065717707507948e+25,
          8.152706271544906e+25,
          9.428568850043777e+25,
          1.0954026846540014e+26,
          1.2802261102331747e+26,
          1.5024192738238828e+26,
          1.7798396263691104e+26,
          2.1215772577438595e+26,
          2.4939070935410307e+26,
          2.7347476200063363e+26,
          2.838232780468879e+26,
          2.8656489919925444e+26,
          2.7925767210421392e+26,
          2.6049885057211935e+26,
          2.5681620950887507e+26,
          2.6210489906317013e+26,
          2.7332814935813025e+26,
          2.8872108050844492e+26,
          3.0686914109562637e+26,
          3.178444471001181e+26,
          3.189621230745071e+26,
          3.087200560747288e+26,
          2.8629093936722242e+26,
          2.5198432712797632e+26,
          2.247343018016403e+26,
          2.0466446559166672e+26,
          1.9287897024076417e+26,
          1.9091241246485108e+26,
          2.0312653369048984e+26,
          2.3596616491905775e+26,
          3.0470802711548168e+26,
          4.327690987263366e+26,
          6.702692257791406e+26,
          1.1065671922131682e+27,
          1.8528100524099e+27,
          2.8734372149149484e+27,
          4.1764234968898404e+27,
          4.7213573987135386e+27,
          4.6841133655062527e+27,
          3.7610170823797023e+27
         ]
        },
        {
         "error_y": {
          "array": [
           2.2288518114651198e+24,
           4.028387102599365e+24,
           6.470611041441912e+24,
           9.73782770824159e+24,
           1.08311320694767e+25,
           1.204266126392122e+25,
           1.3384759708876892e+25,
           1.484951143372762e+25,
           1.643210235293799e+25,
           1.811999348481004e+25,
           1.9921932374943613e+25,
           2.1900424315112683e+25,
           2.4165860840236895e+25,
           2.667044278239438e+25,
           2.966065634957144e+25,
           3.2805330601461993e+25,
           3.4187210695448375e+25,
           3.4546486622366943e+25,
           3.6775921796377858e+25,
           4.215864963260563e+25,
           4.618796363754361e+25,
           4.974417479256458e+25,
           5.357109932896476e+25,
           5.741380567514797e+25,
           6.079318510706916e+25,
           6.319951642037694e+25,
           6.264175106107334e+25,
           5.910231145812367e+25,
           5.2928875672651e+25,
           4.551346609667279e+25,
           3.947668637216065e+25,
           3.8293401225679684e+25,
           4.143519274518049e+25,
           4.773041152298909e+25,
           5.590667986362872e+25,
           6.5029378480089815e+25,
           7.455278603332758e+25,
           8.368933381952154e+25,
           9.328096879169328e+25,
           1.0903055545508547e+26,
           1.3962610464837599e+26,
           2.00024814960476e+26,
           2.809026748510036e+26,
           3.495820256842269e+26,
           3.832388867011966e+26,
           4.2708530864042e+26,
           4.500790060213996e+26,
           5.0646530059568096e+26,
           4.914274289354573e+26
          ],
          "type": "data"
         },
         "line": {
          "color": "rgb(221.9375, 26.234375, 140.9375)"
         },
         "name": "log<sub>10</sub>T<sub>max</sub>=6.3",
         "type": "scatter",
         "x": [
          5.013265306122449,
          5.039795918367346,
          5.066326530612245,
          5.092857142857143,
          5.119387755102041,
          5.145918367346939,
          5.172448979591836,
          5.198979591836735,
          5.225510204081632,
          5.252040816326531,
          5.2785714285714285,
          5.305102040816326,
          5.331632653061225,
          5.358163265306122,
          5.384693877551021,
          5.411224489795918,
          5.437755102040816,
          5.464285714285714,
          5.490816326530612,
          5.5173469387755105,
          5.543877551020408,
          5.570408163265306,
          5.596938775510203,
          5.623469387755102,
          5.65,
          5.676530612244898,
          5.703061224489796,
          5.729591836734693,
          5.756122448979592,
          5.78265306122449,
          5.809183673469388,
          5.835714285714285,
          5.862244897959183,
          5.8887755102040815,
          5.91530612244898,
          5.941836734693878,
          5.968367346938775,
          5.994897959183673,
          6.021428571428571,
          6.04795918367347,
          6.0744897959183675,
          6.101020408163265,
          6.127551020408163,
          6.154081632653061,
          6.18061224489796,
          6.207142857142857,
          6.233673469387755,
          6.2602040816326525,
          6.28673469387755
         ],
         "y": [
          9.130688703346252e+24,
          1.6572674154450294e+25,
          2.67846591361098e+25,
          4.065348185924238e+25,
          4.5721833061798854e+25,
          5.155704492193406e+25,
          5.8280363069588785e+25,
          6.597738903496432e+25,
          7.4747099249930105e+25,
          8.466852423408542e+25,
          9.592885049811208e+25,
          1.0897517953219527e+26,
          1.246327976088556e+26,
          1.4347978180184553e+26,
          1.6809812422899485e+26,
          1.991836400323338e+26,
          2.253650487198626e+26,
          2.4251055257126578e+26,
          2.5270638912479522e+26,
          2.6080504411516482e+26,
          2.538882277988811e+26,
          2.5084298654421204e+26,
          2.5795930530886543e+26,
          2.711586907078854e+26,
          2.886778165054814e+26,
          3.0703135917787976e+26,
          3.170485031610909e+26,
          3.1646034890846183e+26,
          3.0306961351230697e+26,
          2.7632640642338417e+26,
          2.4215982729613646e+26,
          2.1566710312755563e+26,
          1.9636362174583434e+26,
          1.8444575559536264e+26,
          1.8076080873701363e+26,
          1.8774321115231215e+26,
          2.107567811871021e+26,
          2.5982446904405183e+26,
          3.5467877368292366e+26,
          5.353802625477561e+26,
          7.979726437163037e+26,
          1.1592316804396392e+27,
          1.656202296837503e+27,
          2.338964784463118e+27,
          3.234672993953386e+27,
          4.6152859052139543e+27,
          5.117129763625171e+27,
          5.177734703949431e+27,
          4.558621591535064e+27
         ]
        },
        {
         "error_y": {
          "array": [
           7.218396454331407e+24,
           1.3123440092961e+25,
           2.1201818167467914e+25,
           3.2072361371015373e+25,
           3.563339557335094e+25,
           3.954079794935355e+25,
           4.391808335661785e+25,
           4.857396101320012e+25,
           5.348774465595933e+25,
           5.883221310389255e+25,
           6.46420564597773e+25,
           7.13985483513268e+25,
           7.891146629578256e+25,
           8.794221260901407e+25,
           9.634095729880012e+25,
           9.37326676839191e+25,
           8.673471688943806e+25,
           8.599338539011624e+25,
           9.556347287296243e+25,
           1.0101169777158253e+26,
           1.0933420369097077e+26,
           1.1746167547063718e+26,
           1.2380438474016237e+26,
           1.2821636069770696e+26,
           1.2511322624009317e+26,
           1.1452355428686447e+26,
           9.641429513088602e+25,
           7.4287487142082086e+25,
           5.453786556838365e+25,
           4.686035783098052e+25,
           5.28630395017843e+25,
           6.6475683996887305e+25,
           8.373033327323867e+25,
           1.0084105766762882e+26,
           1.1891727247954902e+26,
           1.357822822539252e+26,
           1.6169522696570823e+26,
           2.140320952578836e+26,
           3.135248856382504e+26,
           4.37601964561613e+26,
           5.113144474718302e+26,
           4.863981220715213e+26,
           4.151995478869097e+26,
           6.1113848054346725e+26,
           1.0530391026172482e+27,
           1.3016693677217403e+27,
           1.0567006789503972e+27,
           1.34649646224583e+27,
           2.0404911561242535e+27
          ],
          "type": "data"
         },
         "line": {
          "color": "rgb(211.15625, 34.7890625, 145.15625)"
         },
         "name": "log<sub>10</sub>T<sub>max</sub>=6.4",
         "type": "scatter",
         "x": [
          5.014285714285714,
          5.042857142857143,
          5.071428571428571,
          5.1,
          5.128571428571428,
          5.1571428571428575,
          5.185714285714286,
          5.214285714285714,
          5.242857142857143,
          5.271428571428571,
          5.3,
          5.328571428571428,
          5.357142857142858,
          5.385714285714286,
          5.414285714285715,
          5.442857142857143,
          5.4714285714285715,
          5.5,
          5.5285714285714285,
          5.557142857142857,
          5.585714285714285,
          5.614285714285714,
          5.642857142857143,
          5.671428571428572,
          5.7,
          5.728571428571429,
          5.757142857142857,
          5.785714285714286,
          5.814285714285715,
          5.842857142857143,
          5.871428571428572,
          5.9,
          5.928571428571429,
          5.957142857142857,
          5.985714285714286,
          6.014285714285714,
          6.042857142857143,
          6.071428571428571,
          6.1,
          6.128571428571429,
          6.1571428571428575,
          6.185714285714286,
          6.214285714285714,
          6.242857142857143,
          6.271428571428572,
          6.300000000000001,
          6.328571428571429,
          6.357142857142858,
          6.385714285714286
         ],
         "y": [
          6.637118426317309e+24,
          1.2100688867263924e+25,
          1.961555444806873e+25,
          2.9800648595577473e+25,
          3.3305475959882213e+25,
          3.727432015835795e+25,
          4.1909916161173925e+25,
          4.71740823550714e+25,
          5.3249644755701055e+25,
          6.057566022270292e+25,
          6.965246872522482e+25,
          8.170699778363515e+25,
          9.822144981949013e+25,
          1.233021082965034e+26,
          1.6123518301299673e+26,
          2.017659811494157e+26,
          2.4813939981334075e+26,
          2.9944399924186828e+26,
          3.462349741522054e+26,
          3.558121770824807e+26,
          3.7464925548507994e+26,
          3.978662045128237e+26,
          4.217606165398441e+26,
          4.438984393832224e+26,
          4.463602677521317e+26,
          4.269850126461955e+26,
          3.822302314349368e+26,
          3.161325545972868e+26,
          2.3954994219698887e+26,
          1.7420346999622507e+26,
          1.1885694310548861e+26,
          7.25101241996082e+25,
          3.438746667321612e+25,
          1.0102116959399494e+25,
          3.9484368009649506e+24,
          3.889593177092457e+25,
          1.5208484453299245e+26,
          3.6830236578685164e+26,
          6.87708486680409e+26,
          1.0667805203590279e+27,
          1.4379238531762834e+27,
          1.7421344183739184e+27,
          2.0140688279646926e+27,
          2.3720126813428008e+27,
          3.165320293628009e+27,
          4.811628808529845e+27,
          6.376875374112408e+27,
          8.488261691785549e+27,
          1.0540521080573387e+28
         ]
        },
        {
         "error_y": {
          "array": [
           6.286636973748989e+24,
           1.149935086957458e+25,
           1.8694047369995964e+25,
           2.8438623834412778e+25,
           3.1577887245982878e+25,
           3.502129809774697e+25,
           3.8721009299329075e+25,
           4.27571765663421e+25,
           4.695825217454183e+25,
           5.150974772408187e+25,
           5.680827938891826e+25,
           6.287181519265782e+25,
           7.030625621678222e+25,
           7.651529253443013e+25,
           7.3611249330216855e+25,
           6.825307046027072e+25,
           7.038092648066465e+25,
           8.077276802297028e+25,
           8.581396182415835e+25,
           9.145026903495294e+25,
           9.74625442960542e+25,
           1.0154356769057477e+26,
           1.0062380084064794e+26,
           9.313727787656393e+25,
           7.888355236670866e+25,
           6.099275749753555e+25,
           4.340862211698409e+25,
           3.588640682919586e+25,
           4.031930906760783e+25,
           5.102407001728137e+25,
           6.505637436506668e+25,
           7.85915359665884e+25,
           9.077495711861637e+25,
           1.0560565557728846e+26,
           1.2810382511504065e+26,
           1.7952731454500743e+26,
           2.6314106402129817e+26,
           3.360756822589174e+26,
           3.573235945728503e+26,
           2.965007549977588e+26,
           3.406183972645931e+26,
           6.085651177270798e+26,
           8.174091426606821e+26,
           8.035472248015595e+26,
           7.237214081599714e+26,
           8.20079328575281e+26,
           7.631253183516006e+26,
           6.737289849259149e+26,
           9.092110945280919e+26
          ],
          "type": "data"
         },
         "line": {
          "color": "rgb(200.375, 43.34375, 149.375)"
         },
         "name": "log<sub>10</sub>T<sub>max</sub>=6.5",
         "type": "scatter",
         "x": [
          5.01530612244898,
          5.045918367346939,
          5.076530612244898,
          5.107142857142858,
          5.137755102040816,
          5.168367346938775,
          5.198979591836735,
          5.229591836734694,
          5.2602040816326525,
          5.290816326530612,
          5.321428571428571,
          5.3520408163265305,
          5.38265306122449,
          5.413265306122449,
          5.4438775510204085,
          5.474489795918368,
          5.505102040816326,
          5.535714285714286,
          5.566326530612245,
          5.596938775510204,
          5.627551020408163,
          5.658163265306122,
          5.688775510204081,
          5.719387755102041,
          5.75,
          5.780612244897959,
          5.811224489795919,
          5.841836734693878,
          5.872448979591836,
          5.903061224489796,
          5.933673469387755,
          5.964285714285714,
          5.994897959183673,
          6.025510204081632,
          6.0561224489795915,
          6.086734693877551,
          6.11734693877551,
          6.1479591836734695,
          6.178571428571429,
          6.209183673469388,
          6.2397959183673475,
          6.270408163265306,
          6.301020408163265,
          6.331632653061225,
          6.362244897959183,
          6.392857142857142,
          6.423469387755102,
          6.454081632653061,
          6.48469387755102
         ],
         "y": [
          7.264441981213137e+24,
          1.3380135081286262e+25,
          2.1964099702261812e+25,
          3.3877341127865465e+25,
          3.8299346497731433e+25,
          4.3443185100514045e+25,
          4.937357089696965e+25,
          5.631796007245038e+25,
          6.418945522993103e+25,
          7.342981154980651e+25,
          8.500669500669494e+25,
          1.0020300347759594e+26,
          1.228249385809521e+26,
          1.552127445046026e+26,
          1.871978794695732e+26,
          2.234996740336668e+26,
          2.641005896516959e+26,
          2.994011639320364e+26,
          3.0334188868378092e+26,
          3.149397685245739e+26,
          3.325524123231341e+26,
          3.5036044479688936e+26,
          3.569293880556944e+26,
          3.4634488232177116e+26,
          3.1522788357496196e+26,
          2.676405688505672e+26,
          2.06050039316541e+26,
          1.5372269107676524e+26,
          1.1135334367156843e+26,
          7.767182017317006e+25,
          5.157329280243598e+25,
          3.699121039786283e+25,
          4.031383963217756e+25,
          7.2244064449083544e+25,
          1.6050235907726932e+26,
          3.0614148090325183e+26,
          5.2579975487487456e+26,
          8.377933110976269e+26,
          1.2518564832610267e+27,
          1.761253100615653e+27,
          2.4346839289538736e+27,
          3.192558498917427e+27,
          3.503837279720087e+27,
          3.0793651160218054e+27,
          2.1995676389706726e+27,
          1.5639431625042172e+27,
          1.8441736949901584e+27,
          3.037452880623873e+27,
          4.529126272994801e+27
         ]
        },
        {
         "error_y": {
          "array": [
           2.1641378147578721e+24,
           3.9841128212480133e+24,
           6.522422946291669e+24,
           9.98692683535958e+24,
           1.107326941356688e+25,
           1.2293018652813524e+25,
           1.357365720218353e+25,
           1.4904543397386534e+25,
           1.6349881750068278e+25,
           1.794547677732586e+25,
           1.988128986047412e+25,
           2.2274041040042483e+25,
           2.4660466299773475e+25,
           2.467775705207265e+25,
           2.4831914059977894e+25,
           2.8491074461619963e+25,
           3.4504122635088635e+25,
           3.663373017285241e+25,
           3.8680934473895443e+25,
           4.076426903957018e+25,
           4.1575509846831745e+25,
           3.967858886085688e+25,
           3.5730137050657235e+25,
           2.987378884401187e+25,
           2.3892221943134593e+25,
           2.1110162521071884e+25,
           2.247182904519368e+25,
           2.6206276682266335e+25,
           3.1650108163379893e+25,
           3.699908695599626e+25,
           4.187072570573429e+25,
           4.82535609796924e+25,
           5.679605853050473e+25,
           8.136893248848307e+25,
           1.2366042863501309e+26,
           1.5985112504039553e+26,
           1.7014007448518647e+26,
           1.6152105205305273e+26,
           2.0257837198513405e+26,
           2.995256753527511e+26,
           3.3718108690236176e+26,
           3.012964639106919e+26,
           3.0152305023846052e+26,
           3.274913901272727e+26,
           3.010531344374798e+26,
           2.588730848423152e+26,
           1.7536832874427935e+26,
           1.688942815388137e+26,
           2.660889245003444e+26
          ],
          "type": "data"
         },
         "line": {
          "color": "rgb(189.59375, 51.8984375, 153.59375)"
         },
         "name": "log<sub>10</sub>T<sub>max</sub>=6.6",
         "type": "scatter",
         "x": [
          5.016326530612245,
          5.048979591836735,
          5.081632653061225,
          5.114285714285714,
          5.146938775510204,
          5.179591836734694,
          5.2122448979591836,
          5.244897959183673,
          5.277551020408163,
          5.310204081632653,
          5.342857142857143,
          5.375510204081633,
          5.408163265306122,
          5.440816326530612,
          5.473469387755102,
          5.506122448979592,
          5.538775510204081,
          5.571428571428571,
          5.604081632653061,
          5.6367346938775515,
          5.669387755102041,
          5.70204081632653,
          5.73469387755102,
          5.7673469387755105,
          5.8,
          5.832653061224489,
          5.865306122448979,
          5.8979591836734695,
          5.93061224489796,
          5.963265306122449,
          5.995918367346938,
          6.0285714285714285,
          6.061224489795919,
          6.093877551020408,
          6.126530612244897,
          6.159183673469387,
          6.191836734693878,
          6.224489795918368,
          6.257142857142857,
          6.289795918367346,
          6.322448979591837,
          6.355102040816327,
          6.387755102040816,
          6.420408163265305,
          6.453061224489796,
          6.485714285714286,
          6.518367346938776,
          6.551020408163264,
          6.5836734693877546
         ],
         "y": [
          5.135385933637967e+24,
          9.525536850029844e+24,
          1.5759747487203494e+25,
          2.4511774373042277e+25,
          2.777104279167259e+25,
          3.1681014279569854e+25,
          3.6216563120998593e+25,
          4.149323532965698e+25,
          4.7854981505387e+25,
          5.562131217060169e+25,
          6.587123072911622e+25,
          8.030763499669402e+25,
          1.000289777337872e+26,
          1.1633760207341783e+26,
          1.3119558029851032e+26,
          1.4682817445715526e+26,
          1.607165969651679e+26,
          1.5833311262871863e+26,
          1.630018700208817e+26,
          1.7256182126410236e+26,
          1.820208362438792e+26,
          1.847263161512469e+26,
          1.8114080784681614e+26,
          1.6796524724794364e+26,
          1.4543127881883558e+26,
          1.2232807394384565e+26,
          1.0565426816024696e+26,
          9.511113171102563e+25,
          9.185130225482756e+25,
          9.810294552518522e+25,
          1.2085636715440438e+26,
          1.7500585023390237e+26,
          2.6792875003155498e+26,
          4.0057207862395695e+26,
          5.842665955221865e+26,
          8.270073080692333e+26,
          1.1300714578625324e+27,
          1.4717763647170658e+27,
          1.8768731924562153e+27,
          2.2337850948477032e+27,
          2.1929031961462222e+27,
          1.7810495652635957e+27,
          1.3138090273035724e+27,
          8.737229493897234e+26,
          5.7261394574027576e+26,
          5.227549422281998e+26,
          6.327899283599525e+26,
          8.378152477946255e+26,
          1.0006758202531385e+27
         ]
        },
        {
         "error_y": {
          "array": [
           1.7540951822768296e+24,
           3.250064590835727e+24,
           5.354179793704804e+24,
           8.253437842171633e+24,
           9.145231810152534e+24,
           1.0127399145469414e+25,
           1.1173359950427504e+25,
           1.2221335386681078e+25,
           1.33636246978766e+25,
           1.4801866969692047e+25,
           1.6493856845737893e+25,
           1.8403803288965712e+25,
           1.8731754830277213e+25,
           1.8580335100641745e+25,
           2.1148650204217565e+25,
           2.624878526037611e+25,
           2.84040470861184e+25,
           2.9776905636968746e+25,
           3.1046225761674183e+25,
           3.1149845767730405e+25,
           2.908786949338457e+25,
           2.5349517323314374e+25,
           2.112197897383596e+25,
           1.7699773015073937e+25,
           1.7215125258221273e+25,
           1.9643708454176685e+25,
           2.3234957748818955e+25,
           2.6882308695387393e+25,
           3.0996980195569563e+25,
           3.544776769869337e+25,
           4.031546432712042e+25,
           5.728687054652378e+25,
           8.915852057651775e+25,
           1.1716911021908786e+26,
           1.2209356937118377e+26,
           1.2170740809563679e+26,
           1.645786649062487e+26,
           2.1573764563755063e+26,
           2.2106282890336802e+26,
           1.8887539858511453e+26,
           1.7535185899550018e+26,
           1.711602482680489e+26,
           1.6845264402673504e+26,
           1.592034296965294e+26,
           1.3002414104216313e+26,
           8.689559400983596e+25,
           4.3078109336892235e+25,
           5.239100208842699e+25,
           7.178206990319274e+25
          ],
          "type": "data"
         },
         "line": {
          "color": "rgb(178.8125, 60.453125, 157.8125)"
         },
         "name": "log<sub>10</sub>T<sub>max</sub>=6.7",
         "type": "scatter",
         "x": [
          5.0173469387755105,
          5.052040816326531,
          5.086734693877551,
          5.121428571428572,
          5.156122448979591,
          5.190816326530612,
          5.225510204081633,
          5.2602040816326525,
          5.294897959183674,
          5.329591836734695,
          5.364285714285714,
          5.398979591836735,
          5.433673469387756,
          5.468367346938775,
          5.503061224489796,
          5.5377551020408164,
          5.572448979591837,
          5.607142857142858,
          5.641836734693877,
          5.676530612244898,
          5.711224489795919,
          5.745918367346938,
          5.780612244897959,
          5.81530612244898,
          5.85,
          5.884693877551021,
          5.919387755102042,
          5.954081632653061,
          5.988775510204082,
          6.023469387755103,
          6.058163265306122,
          6.092857142857143,
          6.127551020408163,
          6.162244897959184,
          6.196938775510205,
          6.231632653061224,
          6.266326530612245,
          6.301020408163266,
          6.335714285714285,
          6.3704081632653065,
          6.4051020408163275,
          6.439795918367347,
          6.474489795918368,
          6.509183673469389,
          6.543877551020408,
          6.578571428571429,
          6.6132653061224485,
          6.6479591836734695,
          6.6826530612244905
         ],
         "y": [
          4.530939640587174e+24,
          8.466863118513454e+24,
          1.4120617991850844e+25,
          2.216488405402005e+25,
          2.5195526491118123e+25,
          2.883563912520918e+25,
          3.3176202150777185e+25,
          3.821543645807637e+25,
          4.440666205342723e+25,
          5.274419507803994e+25,
          6.397215425490117e+25,
          7.995297901805767e+25,
          9.409177920142324e+25,
          1.0533033501571659e+26,
          1.1681924094658424e+26,
          1.2900372142820622e+26,
          1.284378514589383e+26,
          1.3146588788568936e+26,
          1.3882367027704558e+26,
          1.4563354635654452e+26,
          1.4672587901754322e+26,
          1.4142545526425075e+26,
          1.300124288926726e+26,
          1.1125149362457011e+26,
          9.494684978294905e+25,
          8.551704339816406e+25,
          8.197606733693875e+25,
          8.61645746103097e+25,
          1.0374627254295205e+26,
          1.4720012439911909e+26,
          2.2133419225747988e+26,
          3.274963063286238e+26,
          4.7863880071619975e+26,
          6.806500184477419e+26,
          9.134091896158917e+26,
          1.1886310017321741e+27,
          1.5184245044935026e+27,
          1.648368794407489e+27,
          1.544755510050319e+27,
          1.266168550544269e+27,
          9.54966638302036e+26,
          6.352054544334613e+26,
          4.211329918969649e+26,
          3.007228882172663e+26,
          2.3600548027701203e+26,
          2.058446245135053e+26,
          1.820587094879787e+26,
          1.508412248987979e+26,
          1.2287687607271566e+26
         ]
        },
        {
         "error_y": {
          "array": [
           2.3607020625220592e+24,
           4.401196414457126e+24,
           7.290636992441452e+24,
           1.1309127311516026e+25,
           1.2524348153080594e+25,
           1.3805708781189014e+25,
           1.5165853408722195e+25,
           1.6586369319823245e+25,
           1.8171495503693083e+25,
           2.0149883309458834e+25,
           2.2739804001882488e+25,
           2.3369733365117542e+25,
           2.218483809278121e+25,
           2.412061724147954e+25,
           3.0454982918475068e+25,
           3.460409118233185e+25,
           3.5960680368515197e+25,
           3.7226047308539466e+25,
           3.6718609078660487e+25,
           3.3282964057130447e+25,
           2.745869145416505e+25,
           2.116179316880878e+25,
           1.6792391056758828e+25,
           1.7022543875336296e+25,
           2.024745262837898e+25,
           2.4915068825477483e+25,
           2.975049253181558e+25,
           3.3796075996152295e+25,
           3.8169067254754616e+25,
           5.233819357343692e+25,
           8.301689287437214e+25,
           1.1159944197991019e+26,
           1.1664022218022457e+26,
           1.083851623477568e+26,
           1.5991007879521577e+26,
           2.1568711110316226e+26,
           2.1381481051548293e+26,
           1.7682134163387522e+26,
           1.4672613709363551e+26,
           1.1663418604864465e+26,
           1.0717654325926043e+26,
           1.0481086702557701e+26,
           9.612039668808036e+25,
           7.849179013460038e+25,
           4.839781091459547e+25,
           2.212807647035283e+25,
           1.0299064578345546e+25,
           2.042289164883982e+25,
           2.6902449274344694e+25
          ],
          "type": "data"
         },
         "line": {
          "color": "rgb(168.03125, 69.0078125, 162.03125)"
         },
         "name": "log<sub>10</sub>T<sub>max</sub>=6.8",
         "type": "scatter",
         "x": [
          5.018367346938776,
          5.055102040816326,
          5.091836734693878,
          5.128571428571428,
          5.16530612244898,
          5.20204081632653,
          5.238775510204082,
          5.275510204081632,
          5.312244897959184,
          5.348979591836734,
          5.385714285714286,
          5.422448979591836,
          5.459183673469388,
          5.495918367346938,
          5.53265306122449,
          5.56938775510204,
          5.606122448979592,
          5.642857142857142,
          5.679591836734694,
          5.716326530612244,
          5.753061224489796,
          5.789795918367346,
          5.826530612244898,
          5.8632653061224485,
          5.9,
          5.9367346938775505,
          5.973469387755102,
          6.0102040816326525,
          6.046938775510204,
          6.0836734693877546,
          6.1204081632653065,
          6.157142857142857,
          6.1938775510204085,
          6.230612244897959,
          6.2673469387755105,
          6.304081632653061,
          6.340816326530613,
          6.377551020408163,
          6.414285714285715,
          6.451020408163265,
          6.487755102040817,
          6.524489795918367,
          6.561224489795919,
          6.597959183673469,
          6.634693877551021,
          6.671428571428571,
          6.708163265306123,
          6.744897959183673,
          6.781632653061225
         ],
         "y": [
          5.242440793057798e+24,
          9.86048367592236e+24,
          1.6551583695998693e+25,
          2.616819230636951e+25,
          2.9765370260715916e+25,
          3.3984087466788465e+25,
          3.900747551936277e+25,
          4.5001192828052374e+25,
          5.246996081906545e+25,
          6.2771836675314935e+25,
          7.853780945577206e+25,
          9.399770811829732e+25,
          1.0651373362274809e+26,
          1.2118532025420688e+26,
          1.3817615046551332e+26,
          1.4404445787301102e+26,
          1.456485642677288e+26,
          1.5197425082663899e+26,
          1.5609955367095258e+26,
          1.5251448672157608e+26,
          1.4032362698770582e+26,
          1.2142993614658926e+26,
          9.671087958571565e+25,
          7.742284678300059e+25,
          6.525963163155233e+25,
          6.037283257300304e+25,
          6.52351994384131e+25,
          8.858621041350585e+25,
          1.4106666542611404e+26,
          2.2268930506317223e+26,
          3.4596702140636016e+26,
          5.202556185002685e+26,
          7.401226409208222e+26,
          9.89789567888622e+26,
          1.3097499744766223e+27,
          1.4180539890593307e+27,
          1.3154473063428905e+27,
          1.0763572326894809e+27,
          8.069524950584363e+26,
          5.049852783647851e+26,
          3.197125270910397e+26,
          2.0686866990535865e+26,
          1.3413491370253752e+26,
          8.68853615938786e+25,
          5.500841510957973e+25,
          3.821396303195214e+25,
          2.9347638069111864e+25,
          2.4525232447300407e+25,
          2.004924864622537e+25
         ]
        },
        {
         "error_y": {
          "array": [
           1.751224516226153e+24,
           3.2873839315525555e+24,
           5.479525606511993e+24,
           8.548843150889054e+24,
           9.474332917521973e+24,
           1.0425812749880174e+25,
           1.1378080379730733e+25,
           1.2417454130108342e+25,
           1.3750698516888913e+25,
           1.5440485401384347e+25,
           1.6443696435343484e+25,
           1.581754694758579e+25,
           1.65382747873201e+25,
           2.091729777940072e+25,
           2.5253959407598174e+25,
           2.622049435459355e+25,
           2.7108873968544427e+25,
           2.655995325587864e+25,
           2.393503118357968e+25,
           1.976488430733903e+25,
           1.5668384157831181e+25,
           1.3414202141801097e+25,
           1.4368056865745575e+25,
           1.6901891671083283e+25,
           1.9982092713501944e+25,
           2.333371728034784e+25,
           2.7350158190184783e+25,
           3.1517737608949307e+25,
           4.802221230410826e+25,
           7.266093737465042e+25,
           8.97955148421428e+25,
           8.294758079933731e+25,
           1.0413611222288056e+26,
           1.4381134970690222e+26,
           1.4792415966665405e+26,
           1.2180341065754156e+26,
           9.93481216620408e+25,
           7.544077841440336e+25,
           6.3768374816987146e+25,
           6.05339473476433e+25,
           5.702353059777479e+25,
           4.895610075835873e+25,
           3.333132092450288e+25,
           2.101706128034092e+25,
           1.1338290526812676e+25,
           4.294585020059894e+24,
           4.4525134137632845e+24,
           8.283676789013536e+24,
           9.883606206061668e+24
          ],
          "type": "data"
         },
         "line": {
          "color": "rgb(152.8125, 68.4375, 169.6875)"
         },
         "name": "log<sub>10</sub>T<sub>max</sub>=6.9",
         "type": "scatter",
         "x": [
          5.019387755102041,
          5.058163265306122,
          5.096938775510203,
          5.135714285714286,
          5.174489795918367,
          5.213265306122449,
          5.252040816326531,
          5.290816326530612,
          5.329591836734695,
          5.368367346938776,
          5.407142857142857,
          5.445918367346939,
          5.48469387755102,
          5.523469387755102,
          5.562244897959184,
          5.601020408163265,
          5.639795918367347,
          5.678571428571429,
          5.71734693877551,
          5.756122448979593,
          5.794897959183674,
          5.8336734693877546,
          5.872448979591837,
          5.911224489795918,
          5.95,
          5.988775510204082,
          6.027551020408163,
          6.066326530612245,
          6.105102040816327,
          6.143877551020408,
          6.1826530612244905,
          6.2214285714285715,
          6.260204081632653,
          6.298979591836735,
          6.337755102040816,
          6.376530612244898,
          6.41530612244898,
          6.454081632653061,
          6.492857142857144,
          6.531632653061225,
          6.570408163265307,
          6.6091836734693885,
          6.6479591836734695,
          6.686734693877551,
          6.725510204081633,
          6.764285714285714,
          6.803061224489796,
          6.841836734693878,
          6.880612244897959
         ],
         "y": [
          4.465347029096123e+24,
          8.468610312842669e+24,
          1.434223623925287e+25,
          2.2898153599514845e+25,
          2.6209554831676276e+25,
          3.0117578474846067e+25,
          3.470988758840701e+25,
          4.0445501668926125e+25,
          4.834817442394021e+25,
          5.971738897346103e+25,
          7.279931683436825e+25,
          8.290311873350908e+25,
          9.309023100271684e+25,
          1.0556965518188705e+26,
          1.144718117020488e+26,
          1.1382281340637292e+26,
          1.1835291347137007e+26,
          1.2153874033113664e+26,
          1.193380959602199e+26,
          1.1080331559661085e+26,
          9.706992028502746e+25,
          7.892349469250966e+25,
          6.609168662839252e+25,
          5.947904571005804e+25,
          6.023670672828053e+25,
          7.259352160646848e+25,
          1.0888826498463022e+26,
          1.662915338069962e+26,
          2.5437456573566752e+26,
          3.847058135605546e+26,
          5.7282371452286175e+26,
          7.54636881551362e+26,
          9.833766514654661e+26,
          1.0793591436151655e+27,
          1.0019995850408203e+27,
          8.014555593817911e+26,
          5.9877149962621453e+26,
          3.8316471150016284e+26,
          2.466896560797247e+26,
          1.6515876444014444e+26,
          1.1077402404312229e+26,
          7.1859444591517e+25,
          4.08988634624364e+25,
          2.392054034792525e+25,
          1.4400012031834663e+25,
          8.777450497155108e+24,
          5.025947755723045e+24,
          2.707153176945175e+24,
          1.395893716115213e+24
         ]
        },
        {
         "error_y": {
          "array": [
           2.2018827485265051e+24,
           4.1611782279140817e+24,
           6.978073253573117e+24,
           1.0934823981536553e+25,
           1.2095895756085807e+25,
           1.3289846319181417e+25,
           1.4455529357743639e+25,
           1.578494112693248e+25,
           1.752156750448135e+25,
           1.9779860597199128e+25,
           1.9609488160338557e+25,
           1.8720232099304374e+25,
           2.22875185316836e+25,
           2.896523476916726e+25,
           3.0677095296233967e+25,
           3.161852115637346e+25,
           3.068348748377861e+25,
           2.719492485921978e+25,
           2.177744039078433e+25,
           1.613642380436801e+25,
           1.2989724941661761e+25,
           1.4275461690159255e+25,
           1.757369165740347e+25,
           2.114652320087349e+25,
           2.4645209181736775e+25,
           2.7456596534218283e+25,
           3.6569745784974755e+25,
           6.028485466492696e+25,
           8.29251700625383e+25,
           8.051880268246652e+25,
           8.251894912621707e+25,
           1.2984019021806982e+26,
           1.4873448206873728e+26,
           1.2444185127256837e+26,
           1.0201872464417451e+26,
           7.747028164780417e+25,
           5.3150448037747455e+25,
           4.3271632215017805e+25,
           4.055121830885039e+25,
           3.706332913488719e+25,
           2.747679853901967e+25,
           1.956071186655563e+25,
           1.3278479777767372e+25,
           8.377990934297166e+24,
           4.4090176591602137e+24,
           1.489813016658608e+24,
           2.688318493000297e+24,
           4.7417145536266053e+24,
           5.4866486317505e+24
          ],
          "type": "data"
         },
         "line": {
          "color": "rgb(133.7109375, 59.8828125, 180.3515625)"
         },
         "name": "log<sub>10</sub>T<sub>max</sub>=7.0",
         "type": "scatter",
         "x": [
          5.020408163265306,
          5.061224489795919,
          5.1020408163265305,
          5.142857142857142,
          5.183673469387755,
          5.224489795918368,
          5.26530612244898,
          5.3061224489795915,
          5.346938775510204,
          5.387755102040816,
          5.428571428571429,
          5.469387755102041,
          5.5102040816326525,
          5.551020408163265,
          5.591836734693878,
          5.63265306122449,
          5.673469387755102,
          5.714285714285714,
          5.755102040816326,
          5.795918367346939,
          5.836734693877551,
          5.877551020408163,
          5.918367346938775,
          5.959183673469388,
          6,
          6.040816326530612,
          6.081632653061225,
          6.122448979591836,
          6.163265306122449,
          6.204081632653061,
          6.244897959183673,
          6.285714285714286,
          6.326530612244898,
          6.36734693877551,
          6.408163265306122,
          6.448979591836735,
          6.489795918367347,
          6.530612244897959,
          6.571428571428571,
          6.612244897959183,
          6.653061224489796,
          6.6938775510204085,
          6.73469387755102,
          6.775510204081632,
          6.816326530612245,
          6.857142857142857,
          6.8979591836734695,
          6.938775510204081,
          6.979591836734694
         ],
         "y": [
          5.043396671762691e+24,
          9.633901685089769e+24,
          1.6434065853158407e+25,
          2.640446441197005e+25,
          3.023080852006294e+25,
          3.4766508993669122e+25,
          4.004369420109002e+25,
          4.6793075352881395e+25,
          5.645267088644243e+25,
          7.158509606927946e+25,
          8.44134340450681e+25,
          9.545334789445487e+25,
          1.0979414550023068e+26,
          1.2640083481025096e+26,
          1.2507832263417595e+26,
          1.2775326886780016e+26,
          1.2864505516461256e+26,
          1.2333828853961612e+26,
          1.1128765999350083e+26,
          9.328329909744993e+25,
          7.128026586945589e+25,
          5.53711057970804e+25,
          4.665038870295813e+25,
          4.629427110179855e+25,
          5.978120127617177e+25,
          9.507088008794246e+25,
          1.550150526091129e+26,
          2.5233780192970757e+26,
          4.032408896821806e+26,
          5.831751608224784e+26,
          7.82191312905617e+26,
          9.417631665055918e+26,
          9.219583485901977e+26,
          7.466626636310482e+26,
          5.569565717328006e+26,
          3.703308549999554e+26,
          2.2181418754549555e+26,
          1.3684957926158441e+26,
          8.348327262945852e+25,
          4.822176014251051e+25,
          2.3793889132326974e+25,
          1.1696034431271705e+25,
          5.767476680755013e+24,
          2.76728507308106e+24,
          1.3459201914631557e+24,
          9.017519302541056e+23,
          1.036030815449275e+24,
          1.4632392240741407e+24,
          1.6679855113869467e+24
         ]
        },
        {
         "error_y": {
          "array": [
           8.553451461037135e+21,
           1.636492433991854e+22,
           2.789186177096903e+22,
           4.461596968149429e+22,
           5.033429464876483e+22,
           5.7030466894761206e+22,
           6.528620617224929e+22,
           7.698249827132699e+22,
           9.458652441147483e+22,
           1.1036624880956793e+23,
           1.1582301728578834e+23,
           1.2191642380267848e+23,
           1.4088933328421074e+23,
           1.614544847552531e+23,
           1.806396504425992e+23,
           2.1728009381855344e+23,
           2.698545860937366e+23,
           3.3418142908099766e+23,
           3.9582272782595765e+23,
           4.307695922377648e+23,
           4.6114591458052606e+23,
           5.051881906328568e+23,
           5.676285510594568e+23,
           6.660996178134654e+23,
           7.103601677424198e+23,
           7.25435721893369e+23,
           8.62628882941882e+23,
           1.1444097567778711e+24,
           1.338556329683969e+24,
           1.4469793995649595e+24,
           1.3253335543369404e+24,
           1.1318369245583881e+24,
           1.1005448890300394e+24,
           1.2653958863248973e+24,
           1.2308696813543668e+24,
           1.2084559380310023e+24,
           1.1314833374300604e+24,
           9.92721746695702e+23,
           7.423519711599271e+23,
           5.332244825380375e+23,
           4.048521498255308e+23,
           3.330688613057334e+23,
           2.9887427320059434e+23,
           2.909611645161054e+23,
           3.0184229060420557e+23,
           3.2586793201584904e+23,
           3.274232790415212e+23,
           3.121589889726209e+23,
           2.6483927046592172e+23
          ],
          "type": "data"
         },
         "line": {
          "color": "rgb(114.609375, 51.328125, 191.015625)"
         },
         "name": "log<sub>10</sub>T<sub>max</sub>=7.1",
         "type": "scatter",
         "x": [
          5.021428571428571,
          5.064285714285714,
          5.107142857142857,
          5.15,
          5.192857142857143,
          5.235714285714286,
          5.2785714285714285,
          5.321428571428571,
          5.364285714285714,
          5.4071428571428575,
          5.45,
          5.492857142857143,
          5.535714285714286,
          5.578571428571428,
          5.621428571428571,
          5.664285714285715,
          5.707142857142857,
          5.75,
          5.792857142857143,
          5.835714285714285,
          5.878571428571428,
          5.921428571428572,
          5.964285714285714,
          6.007142857142857,
          6.05,
          6.0928571428571425,
          6.135714285714285,
          6.178571428571428,
          6.2214285714285715,
          6.264285714285714,
          6.307142857142857,
          6.35,
          6.392857142857142,
          6.435714285714286,
          6.478571428571429,
          6.521428571428571,
          6.564285714285714,
          6.607142857142857,
          6.6499999999999995,
          6.692857142857142,
          6.735714285714286,
          6.7785714285714285,
          6.821428571428571,
          6.864285714285714,
          6.907142857142857,
          6.95,
          6.992857142857143,
          7.035714285714286,
          7.078571428571428
         ],
         "y": [
          8.007269970787428e+22,
          1.5555876843376126e+23,
          2.7193527154792348e+23,
          4.5238742555547825e+23,
          5.396103857026354e+23,
          6.574953318951115e+23,
          8.196594499881275e+23,
          1.0521309060483837e+24,
          1.3922901411104579e+24,
          1.7295669926361064e+24,
          1.8893544988465867e+24,
          1.93438084194697e+24,
          2.0133002400465096e+24,
          2.1266711091184456e+24,
          2.34225056371972e+24,
          2.8197188122972886e+24,
          3.444135070938721e+24,
          4.1258243733345835e+24,
          4.7036815331332617e+24,
          4.953304555780566e+24,
          5.189809797554902e+24,
          5.665365793782272e+24,
          6.516651577038663e+24,
          8.151724662805373e+24,
          9.755681557542948e+24,
          1.1240752589711683e+25,
          1.3563544261803084e+25,
          1.7173383841871228e+25,
          2.0014966179624627e+25,
          2.2093385444912314e+25,
          2.0366815234219334e+25,
          1.6957002512970361e+25,
          1.3775464413192787e+25,
          1.1685504169219628e+25,
          8.943246468371245e+24,
          7.745500334614769e+24,
          6.934442000739683e+24,
          6.093386828809739e+24,
          4.7150048261518375e+24,
          3.5563998206614434e+24,
          2.826066332149239e+24,
          2.3628876420855436e+24,
          2.0557789058416918e+24,
          1.8515789251290579e+24,
          1.7194296316784256e+24,
          1.6263446599771714e+24,
          1.4238592797724244e+24,
          1.1703334837335203e+24,
          8.622592895388712e+23
         ]
        },
        {
         "error_y": {
          "array": [
           6.908533282757614e+21,
           1.3316861287719535e+22,
           2.2878908554311096e+22,
           3.6889247634853905e+22,
           4.166574226613754e+22,
           4.728134557642451e+22,
           5.4525855726969e+22,
           6.53313743380443e+22,
           8.236308164256801e+22,
           9.146833788941137e+22,
           9.321857264666615e+22,
           1.0319085153061067e+23,
           1.256514853607917e+23,
           1.3439467693409992e+23,
           1.580891855909879e+23,
           1.9562019516311274e+23,
           2.4438580989112795e+23,
           2.9447435591300864e+23,
           3.2781688769906094e+23,
           3.467898488811264e+23,
           3.7795154145233814e+23,
           4.2689870716814214e+23,
           5.070529723691757e+23,
           5.252769951544908e+23,
           5.399624438446478e+23,
           6.673138798631711e+23,
           8.606895256957778e+23,
           9.785084479394731e+23,
           9.907364587625889e+23,
           8.568608242247281e+23,
           7.315169133064575e+23,
           7.944977482973249e+23,
           8.824409214286682e+23,
           8.663529166581531e+23,
           8.338469531995357e+23,
           7.565937884927071e+23,
           6.055134015392272e+23,
           4.1610957800330005e+23,
           2.9873973316038803e+23,
           2.249927080557887e+23,
           1.7938639282817823e+23,
           1.5286076788435065e+23,
           1.4016386841408016e+23,
           1.379447797540379e+23,
           1.4456237634703227e+23,
           1.5844216646075147e+23,
           1.5985291814301406e+23,
           1.515017144115521e+23,
           1.262513301945809e+23
          ],
          "type": "data"
         },
         "line": {
          "color": "rgb(95.5078125, 42.7734375, 201.6796875)"
         },
         "name": "log<sub>10</sub>T<sub>max</sub>=7.2",
         "type": "scatter",
         "x": [
          5.022448979591837,
          5.06734693877551,
          5.112244897959184,
          5.1571428571428575,
          5.202040816326531,
          5.246938775510204,
          5.291836734693877,
          5.336734693877551,
          5.381632653061224,
          5.426530612244898,
          5.4714285714285715,
          5.516326530612245,
          5.561224489795919,
          5.606122448979592,
          5.651020408163266,
          5.6959183673469385,
          5.740816326530612,
          5.785714285714286,
          5.830612244897959,
          5.875510204081633,
          5.920408163265306,
          5.96530612244898,
          6.010204081632653,
          6.055102040816327,
          6.1000000000000005,
          6.144897959183673,
          6.189795918367347,
          6.23469387755102,
          6.279591836734694,
          6.3244897959183675,
          6.369387755102041,
          6.414285714285715,
          6.459183673469388,
          6.504081632653062,
          6.548979591836734,
          6.593877551020408,
          6.6387755102040815,
          6.683673469387755,
          6.728571428571429,
          6.773469387755102,
          6.818367346938776,
          6.863265306122449,
          6.908163265306123,
          6.9530612244897965,
          6.99795918367347,
          7.042857142857144,
          7.087755102040816,
          7.13265306122449,
          7.177551020408163
         ],
         "y": [
          6.501211601836235e+22,
          1.2737100516649367e+23,
          2.249683339985159e+23,
          3.78888368887974e+23,
          4.5541916864397295e+23,
          5.5975024205104384e+23,
          7.058134815360809e+23,
          9.209576901840041e+23,
          1.248578277224175e+24,
          1.468674140218407e+24,
          1.5189084343031145e+24,
          1.5534572781107496e+24,
          1.7109848187060527e+24,
          1.7597321878220045e+24,
          2.0616163664381778e+24,
          2.518374261185502e+24,
          3.046744359502881e+24,
          3.527073317175973e+24,
          3.789094929505381e+24,
          3.9167521196730503e+24,
          4.2507902818404586e+24,
          4.918296089144551e+24,
          6.257386952133057e+24,
          7.340873446050294e+24,
          8.477168850946596e+24,
          1.0429450484284584e+25,
          1.2937239638606762e+25,
          1.4798734986695036e+25,
          1.5184374519868294e+25,
          1.3133545473233014e+25,
          1.0428238774770258e+25,
          8.592769905600748e+24,
          7.07558234767534e+24,
          5.757759187834141e+24,
          5.067709192622133e+24,
          4.4535527219654766e+24,
          3.5834602048194117e+24,
          2.5371786638529536e+24,
          1.9065047435635017e+24,
          1.508602749202809e+24,
          1.2501536176038946e+24,
          1.0772914128784199e+24,
          9.565447934812474e+23,
          8.643387480884562e+23,
          7.916528317747447e+23,
          7.24109117254201e+23,
          5.9963988932443914e+23,
          4.661579680217179e+23,
          3.2550634564660135e+23
         ]
        },
        {
         "error_y": {
          "array": [
           1.1347114174313707e+22,
           2.203227360661222e+22,
           3.814108046538419e+22,
           6.19450015874117e+22,
           6.99675807173735e+22,
           7.945746423906465e+22,
           9.257699838388199e+22,
           1.1312930891032721e+23,
           1.332679280586291e+23,
           1.3956575109177062e+23,
           1.4613626253396831e+23,
           1.7305115738031994e+23,
           2.0422706432800097e+23,
           2.3045354013230884e+23,
           2.8039685088933544e+23,
           3.517901217934303e+23,
           4.3196722389839e+23,
           4.9449263256829445e+23,
           5.150239744098955e+23,
           5.580331842264173e+23,
           6.308119466127103e+23,
           7.535119324063694e+23,
           7.676938855261378e+23,
           7.924200992474551e+23,
           1.015786777988045e+24,
           1.3096971701337804e+24,
           1.4752492715590555e+24,
           1.3949449606106344e+24,
           1.1695061528564323e+24,
           1.0567172928532823e+24,
           1.2314231617924884e+24,
           1.245873097631723e+24,
           1.2122610932343879e+24,
           1.1345110017792353e+24,
           9.784221766447432e+23,
           6.916335587365873e+23,
           4.7837321005889376e+23,
           3.4267571151190746e+23,
           2.5362443015997137e+23,
           1.919974250748116e+23,
           1.4719846212493259e+23,
           1.1308893412233798e+23,
           8.887951553153908e+22,
           7.611138048060796e+22,
           7.898602971048117e+22,
           9.392318674957947e+22,
           1.0108689670868671e+23,
           9.868764872369187e+22,
           8.327390728577008e+22
          ],
          "type": "data"
         },
         "line": {
          "color": "rgb(76.40625, 34.21875, 212.34375)"
         },
         "name": "log<sub>10</sub>T<sub>max</sub>=7.3",
         "type": "scatter",
         "x": [
          5.023469387755102,
          5.070408163265306,
          5.11734693877551,
          5.164285714285715,
          5.211224489795918,
          5.2581632653061225,
          5.305102040816326,
          5.3520408163265305,
          5.398979591836735,
          5.4459183673469385,
          5.492857142857143,
          5.539795918367346,
          5.586734693877551,
          5.633673469387755,
          5.680612244897959,
          5.727551020408163,
          5.774489795918367,
          5.821428571428571,
          5.868367346938776,
          5.91530612244898,
          5.9622448979591836,
          6.009183673469388,
          6.0561224489795915,
          6.103061224489796,
          6.1499999999999995,
          6.196938775510204,
          6.243877551020408,
          6.290816326530612,
          6.337755102040816,
          6.384693877551021,
          6.431632653061224,
          6.478571428571429,
          6.525510204081632,
          6.572448979591837,
          6.619387755102041,
          6.666326530612245,
          6.713265306122449,
          6.7602040816326525,
          6.807142857142857,
          6.854081632653061,
          6.901020408163265,
          6.947959183673469,
          6.994897959183673,
          7.041836734693877,
          7.088775510204082,
          7.135714285714285,
          7.18265306122449,
          7.229591836734693,
          7.276530612244898
         ],
         "y": [
          1.0518871084678737e+23,
          2.0781396431580396e+23,
          3.707922188143459e+23,
          6.320308811106366e+23,
          7.652270606618165e+23,
          9.490775251262069e+23,
          1.215829260137323e+24,
          1.6211778054629962e+24,
          2.0560831517046193e+24,
          2.2650336530287614e+24,
          2.3122424675589096e+24,
          2.444775500426547e+24,
          2.669093852721341e+24,
          2.978011096384997e+24,
          3.6073635090991365e+24,
          4.404550525021741e+24,
          5.18980427172264e+24,
          5.711886466667398e+24,
          5.791639754159012e+24,
          6.229383307007852e+24,
          7.200832111450368e+24,
          9.233270117019859e+24,
          1.074071961140067e+25,
          1.2467104921209129e+25,
          1.5708191151932752e+25,
          1.955903144602453e+25,
          2.2346994054850595e+25,
          2.136911425278541e+25,
          1.7772870096946932e+25,
          1.4014545444989807e+25,
          1.1783664182131788e+25,
          9.008003353458578e+24,
          7.477758326278197e+24,
          6.468703416849805e+24,
          5.379237337999055e+24,
          3.7646332743610305e+24,
          2.622721700784949e+24,
          1.9196018368515714e+24,
          1.469886380880531e+24,
          1.1657098700311146e+24,
          9.471507400084151e+23,
          7.75194053545414e+23,
          6.310177355963339e+23,
          4.934551396633577e+23,
          3.667662831088525e+23,
          2.5090285130856262e+23,
          1.3501311905584708e+23,
          5.700587281266289e+22,
          1.0205112628013808e+22
         ]
        }
       ],
       "layout": {
        "height": 600,
        "template": {
         "data": {
          "bar": [
           {
            "error_x": {
             "color": "#2a3f5f"
            },
            "error_y": {
             "color": "#2a3f5f"
            },
            "marker": {
             "line": {
              "color": "#E5ECF6",
              "width": 0.5
             }
            },
            "type": "bar"
           }
          ],
          "barpolar": [
           {
            "marker": {
             "line": {
              "color": "#E5ECF6",
              "width": 0.5
             }
            },
            "type": "barpolar"
           }
          ],
          "carpet": [
           {
            "aaxis": {
             "endlinecolor": "#2a3f5f",
             "gridcolor": "white",
             "linecolor": "white",
             "minorgridcolor": "white",
             "startlinecolor": "#2a3f5f"
            },
            "baxis": {
             "endlinecolor": "#2a3f5f",
             "gridcolor": "white",
             "linecolor": "white",
             "minorgridcolor": "white",
             "startlinecolor": "#2a3f5f"
            },
            "type": "carpet"
           }
          ],
          "choropleth": [
           {
            "colorbar": {
             "outlinewidth": 0,
             "ticks": ""
            },
            "type": "choropleth"
           }
          ],
          "contour": [
           {
            "colorbar": {
             "outlinewidth": 0,
             "ticks": ""
            },
            "colorscale": [
             [
              0,
              "#0d0887"
             ],
             [
              0.1111111111111111,
              "#46039f"
             ],
             [
              0.2222222222222222,
              "#7201a8"
             ],
             [
              0.3333333333333333,
              "#9c179e"
             ],
             [
              0.4444444444444444,
              "#bd3786"
             ],
             [
              0.5555555555555556,
              "#d8576b"
             ],
             [
              0.6666666666666666,
              "#ed7953"
             ],
             [
              0.7777777777777778,
              "#fb9f3a"
             ],
             [
              0.8888888888888888,
              "#fdca26"
             ],
             [
              1,
              "#f0f921"
             ]
            ],
            "type": "contour"
           }
          ],
          "contourcarpet": [
           {
            "colorbar": {
             "outlinewidth": 0,
             "ticks": ""
            },
            "type": "contourcarpet"
           }
          ],
          "heatmap": [
           {
            "colorbar": {
             "outlinewidth": 0,
             "ticks": ""
            },
            "colorscale": [
             [
              0,
              "#0d0887"
             ],
             [
              0.1111111111111111,
              "#46039f"
             ],
             [
              0.2222222222222222,
              "#7201a8"
             ],
             [
              0.3333333333333333,
              "#9c179e"
             ],
             [
              0.4444444444444444,
              "#bd3786"
             ],
             [
              0.5555555555555556,
              "#d8576b"
             ],
             [
              0.6666666666666666,
              "#ed7953"
             ],
             [
              0.7777777777777778,
              "#fb9f3a"
             ],
             [
              0.8888888888888888,
              "#fdca26"
             ],
             [
              1,
              "#f0f921"
             ]
            ],
            "type": "heatmap"
           }
          ],
          "heatmapgl": [
           {
            "colorbar": {
             "outlinewidth": 0,
             "ticks": ""
            },
            "colorscale": [
             [
              0,
              "#0d0887"
             ],
             [
              0.1111111111111111,
              "#46039f"
             ],
             [
              0.2222222222222222,
              "#7201a8"
             ],
             [
              0.3333333333333333,
              "#9c179e"
             ],
             [
              0.4444444444444444,
              "#bd3786"
             ],
             [
              0.5555555555555556,
              "#d8576b"
             ],
             [
              0.6666666666666666,
              "#ed7953"
             ],
             [
              0.7777777777777778,
              "#fb9f3a"
             ],
             [
              0.8888888888888888,
              "#fdca26"
             ],
             [
              1,
              "#f0f921"
             ]
            ],
            "type": "heatmapgl"
           }
          ],
          "histogram": [
           {
            "marker": {
             "colorbar": {
              "outlinewidth": 0,
              "ticks": ""
             }
            },
            "type": "histogram"
           }
          ],
          "histogram2d": [
           {
            "colorbar": {
             "outlinewidth": 0,
             "ticks": ""
            },
            "colorscale": [
             [
              0,
              "#0d0887"
             ],
             [
              0.1111111111111111,
              "#46039f"
             ],
             [
              0.2222222222222222,
              "#7201a8"
             ],
             [
              0.3333333333333333,
              "#9c179e"
             ],
             [
              0.4444444444444444,
              "#bd3786"
             ],
             [
              0.5555555555555556,
              "#d8576b"
             ],
             [
              0.6666666666666666,
              "#ed7953"
             ],
             [
              0.7777777777777778,
              "#fb9f3a"
             ],
             [
              0.8888888888888888,
              "#fdca26"
             ],
             [
              1,
              "#f0f921"
             ]
            ],
            "type": "histogram2d"
           }
          ],
          "histogram2dcontour": [
           {
            "colorbar": {
             "outlinewidth": 0,
             "ticks": ""
            },
            "colorscale": [
             [
              0,
              "#0d0887"
             ],
             [
              0.1111111111111111,
              "#46039f"
             ],
             [
              0.2222222222222222,
              "#7201a8"
             ],
             [
              0.3333333333333333,
              "#9c179e"
             ],
             [
              0.4444444444444444,
              "#bd3786"
             ],
             [
              0.5555555555555556,
              "#d8576b"
             ],
             [
              0.6666666666666666,
              "#ed7953"
             ],
             [
              0.7777777777777778,
              "#fb9f3a"
             ],
             [
              0.8888888888888888,
              "#fdca26"
             ],
             [
              1,
              "#f0f921"
             ]
            ],
            "type": "histogram2dcontour"
           }
          ],
          "mesh3d": [
           {
            "colorbar": {
             "outlinewidth": 0,
             "ticks": ""
            },
            "type": "mesh3d"
           }
          ],
          "parcoords": [
           {
            "line": {
             "colorbar": {
              "outlinewidth": 0,
              "ticks": ""
             }
            },
            "type": "parcoords"
           }
          ],
          "pie": [
           {
            "automargin": true,
            "type": "pie"
           }
          ],
          "scatter": [
           {
            "marker": {
             "colorbar": {
              "outlinewidth": 0,
              "ticks": ""
             }
            },
            "type": "scatter"
           }
          ],
          "scatter3d": [
           {
            "line": {
             "colorbar": {
              "outlinewidth": 0,
              "ticks": ""
             }
            },
            "marker": {
             "colorbar": {
              "outlinewidth": 0,
              "ticks": ""
             }
            },
            "type": "scatter3d"
           }
          ],
          "scattercarpet": [
           {
            "marker": {
             "colorbar": {
              "outlinewidth": 0,
              "ticks": ""
             }
            },
            "type": "scattercarpet"
           }
          ],
          "scattergeo": [
           {
            "marker": {
             "colorbar": {
              "outlinewidth": 0,
              "ticks": ""
             }
            },
            "type": "scattergeo"
           }
          ],
          "scattergl": [
           {
            "marker": {
             "colorbar": {
              "outlinewidth": 0,
              "ticks": ""
             }
            },
            "type": "scattergl"
           }
          ],
          "scattermapbox": [
           {
            "marker": {
             "colorbar": {
              "outlinewidth": 0,
              "ticks": ""
             }
            },
            "type": "scattermapbox"
           }
          ],
          "scatterpolar": [
           {
            "marker": {
             "colorbar": {
              "outlinewidth": 0,
              "ticks": ""
             }
            },
            "type": "scatterpolar"
           }
          ],
          "scatterpolargl": [
           {
            "marker": {
             "colorbar": {
              "outlinewidth": 0,
              "ticks": ""
             }
            },
            "type": "scatterpolargl"
           }
          ],
          "scatterternary": [
           {
            "marker": {
             "colorbar": {
              "outlinewidth": 0,
              "ticks": ""
             }
            },
            "type": "scatterternary"
           }
          ],
          "surface": [
           {
            "colorbar": {
             "outlinewidth": 0,
             "ticks": ""
            },
            "colorscale": [
             [
              0,
              "#0d0887"
             ],
             [
              0.1111111111111111,
              "#46039f"
             ],
             [
              0.2222222222222222,
              "#7201a8"
             ],
             [
              0.3333333333333333,
              "#9c179e"
             ],
             [
              0.4444444444444444,
              "#bd3786"
             ],
             [
              0.5555555555555556,
              "#d8576b"
             ],
             [
              0.6666666666666666,
              "#ed7953"
             ],
             [
              0.7777777777777778,
              "#fb9f3a"
             ],
             [
              0.8888888888888888,
              "#fdca26"
             ],
             [
              1,
              "#f0f921"
             ]
            ],
            "type": "surface"
           }
          ],
          "table": [
           {
            "cells": {
             "fill": {
              "color": "#EBF0F8"
             },
             "line": {
              "color": "white"
             }
            },
            "header": {
             "fill": {
              "color": "#C8D4E3"
             },
             "line": {
              "color": "white"
             }
            },
            "type": "table"
           }
          ]
         },
         "layout": {
          "annotationdefaults": {
           "arrowcolor": "#2a3f5f",
           "arrowhead": 0,
           "arrowwidth": 1
          },
          "autotypenumbers": "strict",
          "coloraxis": {
           "colorbar": {
            "outlinewidth": 0,
            "ticks": ""
           }
          },
          "colorscale": {
           "diverging": [
            [
             0,
             "#8e0152"
            ],
            [
             0.1,
             "#c51b7d"
            ],
            [
             0.2,
             "#de77ae"
            ],
            [
             0.3,
             "#f1b6da"
            ],
            [
             0.4,
             "#fde0ef"
            ],
            [
             0.5,
             "#f7f7f7"
            ],
            [
             0.6,
             "#e6f5d0"
            ],
            [
             0.7,
             "#b8e186"
            ],
            [
             0.8,
             "#7fbc41"
            ],
            [
             0.9,
             "#4d9221"
            ],
            [
             1,
             "#276419"
            ]
           ],
           "sequential": [
            [
             0,
             "#0d0887"
            ],
            [
             0.1111111111111111,
             "#46039f"
            ],
            [
             0.2222222222222222,
             "#7201a8"
            ],
            [
             0.3333333333333333,
             "#9c179e"
            ],
            [
             0.4444444444444444,
             "#bd3786"
            ],
            [
             0.5555555555555556,
             "#d8576b"
            ],
            [
             0.6666666666666666,
             "#ed7953"
            ],
            [
             0.7777777777777778,
             "#fb9f3a"
            ],
            [
             0.8888888888888888,
             "#fdca26"
            ],
            [
             1,
             "#f0f921"
            ]
           ],
           "sequentialminus": [
            [
             0,
             "#0d0887"
            ],
            [
             0.1111111111111111,
             "#46039f"
            ],
            [
             0.2222222222222222,
             "#7201a8"
            ],
            [
             0.3333333333333333,
             "#9c179e"
            ],
            [
             0.4444444444444444,
             "#bd3786"
            ],
            [
             0.5555555555555556,
             "#d8576b"
            ],
            [
             0.6666666666666666,
             "#ed7953"
            ],
            [
             0.7777777777777778,
             "#fb9f3a"
            ],
            [
             0.8888888888888888,
             "#fdca26"
            ],
            [
             1,
             "#f0f921"
            ]
           ]
          },
          "colorway": [
           "#636efa",
           "#EF553B",
           "#00cc96",
           "#ab63fa",
           "#FFA15A",
           "#19d3f3",
           "#FF6692",
           "#B6E880",
           "#FF97FF",
           "#FECB52"
          ],
          "font": {
           "color": "#2a3f5f"
          },
          "geo": {
           "bgcolor": "white",
           "lakecolor": "white",
           "landcolor": "#E5ECF6",
           "showlakes": true,
           "showland": true,
           "subunitcolor": "white"
          },
          "hoverlabel": {
           "align": "left"
          },
          "hovermode": "closest",
          "mapbox": {
           "style": "light"
          },
          "paper_bgcolor": "white",
          "plot_bgcolor": "#E5ECF6",
          "polar": {
           "angularaxis": {
            "gridcolor": "white",
            "linecolor": "white",
            "ticks": ""
           },
           "bgcolor": "#E5ECF6",
           "radialaxis": {
            "gridcolor": "white",
            "linecolor": "white",
            "ticks": ""
           }
          },
          "scene": {
           "xaxis": {
            "backgroundcolor": "#E5ECF6",
            "gridcolor": "white",
            "gridwidth": 2,
            "linecolor": "white",
            "showbackground": true,
            "ticks": "",
            "zerolinecolor": "white"
           },
           "yaxis": {
            "backgroundcolor": "#E5ECF6",
            "gridcolor": "white",
            "gridwidth": 2,
            "linecolor": "white",
            "showbackground": true,
            "ticks": "",
            "zerolinecolor": "white"
           },
           "zaxis": {
            "backgroundcolor": "#E5ECF6",
            "gridcolor": "white",
            "gridwidth": 2,
            "linecolor": "white",
            "showbackground": true,
            "ticks": "",
            "zerolinecolor": "white"
           }
          },
          "shapedefaults": {
           "line": {
            "color": "#2a3f5f"
           }
          },
          "ternary": {
           "aaxis": {
            "gridcolor": "white",
            "linecolor": "white",
            "ticks": ""
           },
           "baxis": {
            "gridcolor": "white",
            "linecolor": "white",
            "ticks": ""
           },
           "bgcolor": "#E5ECF6",
           "caxis": {
            "gridcolor": "white",
            "linecolor": "white",
            "ticks": ""
           }
          },
          "title": {
           "x": 0.05
          },
          "xaxis": {
           "automargin": true,
           "gridcolor": "white",
           "linecolor": "white",
           "ticks": "",
           "title": {
            "standoff": 15
           },
           "zerolinecolor": "white",
           "zerolinewidth": 2
          },
          "yaxis": {
           "automargin": true,
           "gridcolor": "white",
           "linecolor": "white",
           "ticks": "",
           "title": {
            "standoff": 15
           },
           "zerolinecolor": "white",
           "zerolinewidth": 2
          }
         }
        },
        "title": {
         "text": "DEMreg solutions"
        },
        "width": 800,
        "xaxis": {
         "title": {
          "text": "log<sub>10</sub> T (K)"
         }
        },
        "yaxis": {
         "range": [
          23,
          28
         ],
         "title": {
          "text": "DEM cm<sup>-5</sup>"
         },
         "type": "log"
        }
       }
      },
      "text/html": [
       "<div>                            <div id=\"c3eb8a2a-bb53-4cfa-9bf4-899cb28edd47\" class=\"plotly-graph-div\" style=\"height:600px; width:800px;\"></div>            <script type=\"text/javascript\">                require([\"plotly\"], function(Plotly) {                    window.PLOTLYENV=window.PLOTLYENV || {};                                    if (document.getElementById(\"c3eb8a2a-bb53-4cfa-9bf4-899cb28edd47\")) {                    Plotly.newPlot(                        \"c3eb8a2a-bb53-4cfa-9bf4-899cb28edd47\",                        [{\"error_y\": {\"array\": [8.789805470118314e+23, 1.559703823802742e+24, 2.4612000201597656e+24, 3.640500312871655e+24, 4.059848913470638e+24, 4.527085286088793e+24, 5.051187385782602e+24, 5.638185957526284e+24, 6.293962662151971e+24, 7.041562325945429e+24, 7.864145283381566e+24, 8.792288148903783e+24, 9.846031987153661e+24, 1.1018969998197128e+25, 1.2381772997015364e+25, 1.3960395676833718e+25, 1.5842986151102394e+25, 1.7982895126744039e+25, 2.048567902591737e+25, 2.3511756080625297e+25, 2.6833221482147337e+25, 3.0230586924670926e+25, 3.2214202062374396e+25, 3.3255373758108404e+25, 3.4922914644421906e+25, 3.6373782200554587e+25, 3.740297121925288e+25, 3.973020930774211e+25, 4.261723200193892e+25, 4.612599880053401e+25, 4.97818614134351e+25, 5.39620681067953e+25, 5.8376793522466335e+25, 6.325772795701705e+25, 6.758163860964881e+25, 7.111755809449694e+25, 7.479465267428723e+25, 7.802042511941278e+25, 8.08464268690854e+25, 8.662900447319222e+25, 9.463732149660677e+25, 1.056021446342122e+26, 1.1828130235966992e+26, 1.3371126741934904e+26, 1.5089547562193856e+26, 1.696010111569318e+26, 1.5277336667128457e+26, 1.261674383110598e+26, 9.237073938906156e+25], \"type\": \"data\"}, \"line\": {\"color\": \"rgb(254.28125, 0.5703125, 128.28125)\"}, \"name\": \"log<sub>10</sub>T<sub>max</sub>=6.0\", \"type\": \"scatter\", \"x\": [5.0102040816326525, 5.030612244897959, 5.051020408163265, 5.071428571428571, 5.091836734693878, 5.112244897959183, 5.13265306122449, 5.153061224489797, 5.173469387755102, 5.1938775510204085, 5.2142857142857135, 5.23469387755102, 5.255102040816327, 5.275510204081632, 5.295918367346939, 5.316326530612245, 5.336734693877551, 5.357142857142858, 5.377551020408163, 5.3979591836734695, 5.418367346938775, 5.438775510204081, 5.459183673469388, 5.479591836734693, 5.5, 5.520408163265307, 5.540816326530612, 5.561224489795919, 5.581632653061225, 5.6020408163265305, 5.622448979591837, 5.642857142857142, 5.663265306122449, 5.683673469387755, 5.704081632653061, 5.724489795918368, 5.744897959183673, 5.76530612244898, 5.785714285714286, 5.8061224489795915, 5.826530612244898, 5.846938775510203, 5.86734693877551, 5.887755102040817, 5.908163265306122, 5.928571428571429, 5.948979591836735, 5.969387755102041, 5.9897959183673475], \"y\": [6.472229809861351e+24, 1.1546553250934214e+25, 1.8343239031255377e+25, 2.73815528243365e+25, 3.0863453242697312e+25, 3.4911169480977796e+25, 3.965062970859844e+25, 4.518287737701935e+25, 5.17235378253658e+25, 5.951742044575979e+25, 6.8697456706818825e+25, 7.972867092246867e+25, 9.293968150797373e+25, 1.0863161661941036e+26, 1.2763280067138795e+26, 1.5034144974080603e+26, 1.781125600162271e+26, 2.1077636094077773e+26, 2.4998464233157425e+26, 2.986319506499728e+26, 3.546633584373773e+26, 4.139844177862866e+26, 4.513603241512438e+26, 4.62158790438509e+26, 4.601619649176507e+26, 4.4081933020092025e+26, 4.086763533138773e+26, 4.011337502712526e+26, 4.133084927697606e+26, 4.365788067528188e+26, 4.736200260781001e+26, 5.244361477927203e+26, 5.877023351060217e+26, 6.659401948354891e+26, 7.436805318886099e+26, 8.135435080430771e+26, 8.736915666405995e+26, 9.113070399794272e+26, 9.213463176744181e+26, 9.453711372229806e+26, 9.813809657832644e+26, 1.0363492942975084e+27, 1.1095834242903596e+27, 1.2093532843693529e+27, 1.3423717448225152e+27, 1.5199887245582564e+27, 1.4049229917565477e+27, 1.2299128359513719e+27, 9.700690237714282e+26]}, {\"error_y\": {\"array\": [2.413924983642541e+24, 4.309327671832617e+24, 6.839456929304325e+24, 1.017458171647043e+25, 1.133421490106119e+25, 1.2627057542212734e+25, 1.4073134512973998e+25, 1.5678668066385637e+25, 1.749419568755617e+25, 1.947650331163863e+25, 2.168041904444961e+25, 2.4145276132979022e+25, 2.686089954205522e+25, 2.999878706651617e+25, 3.365914657600383e+25, 3.790323050190845e+25, 4.280022021193309e+25, 4.875322166843841e+25, 5.52286682665518e+25, 6.065779640446596e+25, 6.3099650531408045e+25, 6.434156017908293e+25, 6.79983894512771e+25, 7.1419230634794185e+25, 7.448356874443234e+25, 7.951868349078617e+25, 8.553887564078008e+25, 9.167378195868149e+25, 9.781759953944634e+25, 1.0342061977818324e+26, 1.0722914757064566e+26, 1.0722753752937518e+26, 1.027678134063949e+26, 9.507493002698655e+25, 8.522992358165713e+25, 7.726144713948588e+25, 7.5511877031696575e+25, 8.038226895946365e+25, 8.988588101546156e+25, 1.030751611622824e+26, 1.178468467501183e+26, 1.3298631552450033e+26, 1.4894233047101796e+26, 1.6596201065582702e+26, 1.9482618869617337e+26, 2.6244587961574124e+26, 3.0923160503423964e+26, 3.672696509890831e+26, 3.901230054957833e+26], \"type\": \"data\"}, \"line\": {\"color\": \"rgb(243.5, 9.125, 132.5)\"}, \"name\": \"log<sub>10</sub>T<sub>max</sub>=6.1\", \"type\": \"scatter\", \"x\": [5.011224489795918, 5.033673469387756, 5.0561224489795915, 5.078571428571429, 5.101020408163265, 5.123469387755103, 5.145918367346939, 5.168367346938776, 5.190816326530612, 5.213265306122448, 5.235714285714286, 5.258163265306122, 5.280612244897959, 5.303061224489795, 5.325510204081633, 5.347959183673469, 5.3704081632653065, 5.392857142857142, 5.41530612244898, 5.437755102040816, 5.460204081632654, 5.4826530612244895, 5.505102040816327, 5.527551020408163, 5.55, 5.572448979591837, 5.5948979591836725, 5.61734693877551, 5.639795918367346, 5.662244897959184, 5.68469387755102, 5.707142857142857, 5.729591836734693, 5.752040816326531, 5.774489795918367, 5.796938775510204, 5.81938775510204, 5.841836734693878, 5.864285714285714, 5.886734693877551, 5.909183673469387, 5.931632653061223, 5.954081632653061, 5.976530612244897, 5.998979591836735, 6.0214285714285705, 6.043877551020408, 6.066326530612244, 6.088775510204082], \"y\": [1.4408341242571753e+25, 2.589122540930792e+25, 4.146199369116932e+25, 6.242894145041984e+25, 7.060613605921905e+25, 8.021285663988688e+25, 9.150282309959149e+25, 1.0485675675985823e+26, 1.2086675294653925e+26, 1.3976381462494865e+26, 1.624954832614233e+26, 1.8969475911301214e+26, 2.22113381899376e+26, 2.612930069449856e+26, 3.0860262973097826e+26, 3.65558918868034e+26, 4.33654269615601e+26, 5.1869439070010785e+26, 6.1733416155094013e+26, 7.098469714972487e+26, 7.609386839256796e+26, 7.64738252871914e+26, 7.480212504364006e+26, 6.973096501464529e+26, 6.391982293873342e+26, 6.1703079661359976e+26, 6.143866566528615e+26, 6.237596418366001e+26, 6.40860951654013e+26, 6.589717308312688e+26, 6.698489909123585e+26, 6.571690858025015e+26, 6.173706320161016e+26, 5.505495911320582e+26, 4.608734326123374e+26, 3.619818746011134e+26, 2.7820027152121025e+26, 2.0652286306150943e+26, 1.5613299222826495e+26, 1.2822869923853343e+26, 1.4089282520430648e+26, 2.163842257480755e+26, 3.885153472924335e+26, 7.410371622049943e+26, 1.378470396073243e+27, 2.5580844508150315e+27, 3.3821228097752356e+27, 4.0561744573365125e+27, 4.2100873814631093e+27]}, {\"error_y\": {\"array\": [1.2868571659345635e+24, 2.3121673264573384e+24, 3.692780039209885e+24, 5.528473043906969e+24, 6.156867542738014e+24, 6.859709305028136e+24, 7.639389993775719e+24, 8.511784094076805e+24, 9.466378729694015e+24, 1.0510018022198248e+25, 1.165451877585827e+25, 1.2893345542563635e+25, 1.4292408904145241e+25, 1.5906669042672077e+25, 1.7727502195194029e+25, 1.987913672381767e+25, 2.232106563594299e+25, 2.4675476411517974e+25, 2.5834503177484937e+25, 2.698935673230379e+25, 2.964802020117878e+25, 3.281369679446238e+25, 3.456815513461301e+25, 3.712295810185871e+25, 3.998878895521051e+25, 4.29093871317105e+25, 4.578185779973755e+25, 4.856815721892418e+25, 4.982714305375989e+25, 4.947059452661718e+25, 4.786505711987704e+25, 4.5598743554848605e+25, 4.322551106825632e+25, 4.373782139594759e+25, 4.686338767567755e+25, 5.195909263262285e+25, 5.855102833260452e+25, 6.598745024051607e+25, 7.404870715094739e+25, 8.189614390555767e+25, 8.952129995299325e+25, 9.728879649819748e+25, 1.1267173998385076e+26, 1.5421841399558978e+26, 2.3822114904406833e+26, 3.640735178457671e+26, 4.243158197049446e+26, 4.1791839866918814e+26, 3.2527331632347336e+26], \"type\": \"data\"}, \"line\": {\"color\": \"rgb(232.71875, 17.6796875, 136.71875)\"}, \"name\": \"log<sub>10</sub>T<sub>max</sub>=6.2\", \"type\": \"scatter\", \"x\": [5.012244897959183, 5.036734693877551, 5.061224489795919, 5.085714285714285, 5.110204081632653, 5.134693877551021, 5.159183673469387, 5.183673469387755, 5.208163265306123, 5.2326530612244895, 5.257142857142857, 5.281632653061225, 5.3061224489795915, 5.330612244897959, 5.355102040816327, 5.3795918367346935, 5.404081632653061, 5.428571428571429, 5.453061224489796, 5.477551020408163, 5.502040816326531, 5.526530612244898, 5.551020408163266, 5.575510204081633, 5.6, 5.624489795918368, 5.648979591836735, 5.673469387755102, 5.69795918367347, 5.722448979591837, 5.746938775510204, 5.771428571428572, 5.795918367346939, 5.820408163265306, 5.844897959183674, 5.869387755102041, 5.893877551020408, 5.918367346938776, 5.942857142857143, 5.96734693877551, 5.991836734693878, 6.016326530612245, 6.040816326530612, 6.06530612244898, 6.089795918367347, 6.114285714285714, 6.138775510204082, 6.163265306122449, 6.187755102040816], \"y\": [7.311897823811845e+24, 1.3209019554311523e+25, 2.126249472138128e+25, 3.2168121529257673e+25, 3.632342701750492e+25, 4.11891989988909e+25, 4.68636023018306e+25, 5.3581054601325985e+25, 6.142093806361467e+25, 7.065717707507948e+25, 8.152706271544906e+25, 9.428568850043777e+25, 1.0954026846540014e+26, 1.2802261102331747e+26, 1.5024192738238828e+26, 1.7798396263691104e+26, 2.1215772577438595e+26, 2.4939070935410307e+26, 2.7347476200063363e+26, 2.838232780468879e+26, 2.8656489919925444e+26, 2.7925767210421392e+26, 2.6049885057211935e+26, 2.5681620950887507e+26, 2.6210489906317013e+26, 2.7332814935813025e+26, 2.8872108050844492e+26, 3.0686914109562637e+26, 3.178444471001181e+26, 3.189621230745071e+26, 3.087200560747288e+26, 2.8629093936722242e+26, 2.5198432712797632e+26, 2.247343018016403e+26, 2.0466446559166672e+26, 1.9287897024076417e+26, 1.9091241246485108e+26, 2.0312653369048984e+26, 2.3596616491905775e+26, 3.0470802711548168e+26, 4.327690987263366e+26, 6.702692257791406e+26, 1.1065671922131682e+27, 1.8528100524099e+27, 2.8734372149149484e+27, 4.1764234968898404e+27, 4.7213573987135386e+27, 4.6841133655062527e+27, 3.7610170823797023e+27]}, {\"error_y\": {\"array\": [2.2288518114651198e+24, 4.028387102599365e+24, 6.470611041441912e+24, 9.73782770824159e+24, 1.08311320694767e+25, 1.204266126392122e+25, 1.3384759708876892e+25, 1.484951143372762e+25, 1.643210235293799e+25, 1.811999348481004e+25, 1.9921932374943613e+25, 2.1900424315112683e+25, 2.4165860840236895e+25, 2.667044278239438e+25, 2.966065634957144e+25, 3.2805330601461993e+25, 3.4187210695448375e+25, 3.4546486622366943e+25, 3.6775921796377858e+25, 4.215864963260563e+25, 4.618796363754361e+25, 4.974417479256458e+25, 5.357109932896476e+25, 5.741380567514797e+25, 6.079318510706916e+25, 6.319951642037694e+25, 6.264175106107334e+25, 5.910231145812367e+25, 5.2928875672651e+25, 4.551346609667279e+25, 3.947668637216065e+25, 3.8293401225679684e+25, 4.143519274518049e+25, 4.773041152298909e+25, 5.590667986362872e+25, 6.5029378480089815e+25, 7.455278603332758e+25, 8.368933381952154e+25, 9.328096879169328e+25, 1.0903055545508547e+26, 1.3962610464837599e+26, 2.00024814960476e+26, 2.809026748510036e+26, 3.495820256842269e+26, 3.832388867011966e+26, 4.2708530864042e+26, 4.500790060213996e+26, 5.0646530059568096e+26, 4.914274289354573e+26], \"type\": \"data\"}, \"line\": {\"color\": \"rgb(221.9375, 26.234375, 140.9375)\"}, \"name\": \"log<sub>10</sub>T<sub>max</sub>=6.3\", \"type\": \"scatter\", \"x\": [5.013265306122449, 5.039795918367346, 5.066326530612245, 5.092857142857143, 5.119387755102041, 5.145918367346939, 5.172448979591836, 5.198979591836735, 5.225510204081632, 5.252040816326531, 5.2785714285714285, 5.305102040816326, 5.331632653061225, 5.358163265306122, 5.384693877551021, 5.411224489795918, 5.437755102040816, 5.464285714285714, 5.490816326530612, 5.5173469387755105, 5.543877551020408, 5.570408163265306, 5.596938775510203, 5.623469387755102, 5.65, 5.676530612244898, 5.703061224489796, 5.729591836734693, 5.756122448979592, 5.78265306122449, 5.809183673469388, 5.835714285714285, 5.862244897959183, 5.8887755102040815, 5.91530612244898, 5.941836734693878, 5.968367346938775, 5.994897959183673, 6.021428571428571, 6.04795918367347, 6.0744897959183675, 6.101020408163265, 6.127551020408163, 6.154081632653061, 6.18061224489796, 6.207142857142857, 6.233673469387755, 6.2602040816326525, 6.28673469387755], \"y\": [9.130688703346252e+24, 1.6572674154450294e+25, 2.67846591361098e+25, 4.065348185924238e+25, 4.5721833061798854e+25, 5.155704492193406e+25, 5.8280363069588785e+25, 6.597738903496432e+25, 7.4747099249930105e+25, 8.466852423408542e+25, 9.592885049811208e+25, 1.0897517953219527e+26, 1.246327976088556e+26, 1.4347978180184553e+26, 1.6809812422899485e+26, 1.991836400323338e+26, 2.253650487198626e+26, 2.4251055257126578e+26, 2.5270638912479522e+26, 2.6080504411516482e+26, 2.538882277988811e+26, 2.5084298654421204e+26, 2.5795930530886543e+26, 2.711586907078854e+26, 2.886778165054814e+26, 3.0703135917787976e+26, 3.170485031610909e+26, 3.1646034890846183e+26, 3.0306961351230697e+26, 2.7632640642338417e+26, 2.4215982729613646e+26, 2.1566710312755563e+26, 1.9636362174583434e+26, 1.8444575559536264e+26, 1.8076080873701363e+26, 1.8774321115231215e+26, 2.107567811871021e+26, 2.5982446904405183e+26, 3.5467877368292366e+26, 5.353802625477561e+26, 7.979726437163037e+26, 1.1592316804396392e+27, 1.656202296837503e+27, 2.338964784463118e+27, 3.234672993953386e+27, 4.6152859052139543e+27, 5.117129763625171e+27, 5.177734703949431e+27, 4.558621591535064e+27]}, {\"error_y\": {\"array\": [7.218396454331407e+24, 1.3123440092961e+25, 2.1201818167467914e+25, 3.2072361371015373e+25, 3.563339557335094e+25, 3.954079794935355e+25, 4.391808335661785e+25, 4.857396101320012e+25, 5.348774465595933e+25, 5.883221310389255e+25, 6.46420564597773e+25, 7.13985483513268e+25, 7.891146629578256e+25, 8.794221260901407e+25, 9.634095729880012e+25, 9.37326676839191e+25, 8.673471688943806e+25, 8.599338539011624e+25, 9.556347287296243e+25, 1.0101169777158253e+26, 1.0933420369097077e+26, 1.1746167547063718e+26, 1.2380438474016237e+26, 1.2821636069770696e+26, 1.2511322624009317e+26, 1.1452355428686447e+26, 9.641429513088602e+25, 7.4287487142082086e+25, 5.453786556838365e+25, 4.686035783098052e+25, 5.28630395017843e+25, 6.6475683996887305e+25, 8.373033327323867e+25, 1.0084105766762882e+26, 1.1891727247954902e+26, 1.357822822539252e+26, 1.6169522696570823e+26, 2.140320952578836e+26, 3.135248856382504e+26, 4.37601964561613e+26, 5.113144474718302e+26, 4.863981220715213e+26, 4.151995478869097e+26, 6.1113848054346725e+26, 1.0530391026172482e+27, 1.3016693677217403e+27, 1.0567006789503972e+27, 1.34649646224583e+27, 2.0404911561242535e+27], \"type\": \"data\"}, \"line\": {\"color\": \"rgb(211.15625, 34.7890625, 145.15625)\"}, \"name\": \"log<sub>10</sub>T<sub>max</sub>=6.4\", \"type\": \"scatter\", \"x\": [5.014285714285714, 5.042857142857143, 5.071428571428571, 5.1, 5.128571428571428, 5.1571428571428575, 5.185714285714286, 5.214285714285714, 5.242857142857143, 5.271428571428571, 5.3, 5.328571428571428, 5.357142857142858, 5.385714285714286, 5.414285714285715, 5.442857142857143, 5.4714285714285715, 5.5, 5.5285714285714285, 5.557142857142857, 5.585714285714285, 5.614285714285714, 5.642857142857143, 5.671428571428572, 5.7, 5.728571428571429, 5.757142857142857, 5.785714285714286, 5.814285714285715, 5.842857142857143, 5.871428571428572, 5.9, 5.928571428571429, 5.957142857142857, 5.985714285714286, 6.014285714285714, 6.042857142857143, 6.071428571428571, 6.1, 6.128571428571429, 6.1571428571428575, 6.185714285714286, 6.214285714285714, 6.242857142857143, 6.271428571428572, 6.300000000000001, 6.328571428571429, 6.357142857142858, 6.385714285714286], \"y\": [6.637118426317309e+24, 1.2100688867263924e+25, 1.961555444806873e+25, 2.9800648595577473e+25, 3.3305475959882213e+25, 3.727432015835795e+25, 4.1909916161173925e+25, 4.71740823550714e+25, 5.3249644755701055e+25, 6.057566022270292e+25, 6.965246872522482e+25, 8.170699778363515e+25, 9.822144981949013e+25, 1.233021082965034e+26, 1.6123518301299673e+26, 2.017659811494157e+26, 2.4813939981334075e+26, 2.9944399924186828e+26, 3.462349741522054e+26, 3.558121770824807e+26, 3.7464925548507994e+26, 3.978662045128237e+26, 4.217606165398441e+26, 4.438984393832224e+26, 4.463602677521317e+26, 4.269850126461955e+26, 3.822302314349368e+26, 3.161325545972868e+26, 2.3954994219698887e+26, 1.7420346999622507e+26, 1.1885694310548861e+26, 7.25101241996082e+25, 3.438746667321612e+25, 1.0102116959399494e+25, 3.9484368009649506e+24, 3.889593177092457e+25, 1.5208484453299245e+26, 3.6830236578685164e+26, 6.87708486680409e+26, 1.0667805203590279e+27, 1.4379238531762834e+27, 1.7421344183739184e+27, 2.0140688279646926e+27, 2.3720126813428008e+27, 3.165320293628009e+27, 4.811628808529845e+27, 6.376875374112408e+27, 8.488261691785549e+27, 1.0540521080573387e+28]}, {\"error_y\": {\"array\": [6.286636973748989e+24, 1.149935086957458e+25, 1.8694047369995964e+25, 2.8438623834412778e+25, 3.1577887245982878e+25, 3.502129809774697e+25, 3.8721009299329075e+25, 4.27571765663421e+25, 4.695825217454183e+25, 5.150974772408187e+25, 5.680827938891826e+25, 6.287181519265782e+25, 7.030625621678222e+25, 7.651529253443013e+25, 7.3611249330216855e+25, 6.825307046027072e+25, 7.038092648066465e+25, 8.077276802297028e+25, 8.581396182415835e+25, 9.145026903495294e+25, 9.74625442960542e+25, 1.0154356769057477e+26, 1.0062380084064794e+26, 9.313727787656393e+25, 7.888355236670866e+25, 6.099275749753555e+25, 4.340862211698409e+25, 3.588640682919586e+25, 4.031930906760783e+25, 5.102407001728137e+25, 6.505637436506668e+25, 7.85915359665884e+25, 9.077495711861637e+25, 1.0560565557728846e+26, 1.2810382511504065e+26, 1.7952731454500743e+26, 2.6314106402129817e+26, 3.360756822589174e+26, 3.573235945728503e+26, 2.965007549977588e+26, 3.406183972645931e+26, 6.085651177270798e+26, 8.174091426606821e+26, 8.035472248015595e+26, 7.237214081599714e+26, 8.20079328575281e+26, 7.631253183516006e+26, 6.737289849259149e+26, 9.092110945280919e+26], \"type\": \"data\"}, \"line\": {\"color\": \"rgb(200.375, 43.34375, 149.375)\"}, \"name\": \"log<sub>10</sub>T<sub>max</sub>=6.5\", \"type\": \"scatter\", \"x\": [5.01530612244898, 5.045918367346939, 5.076530612244898, 5.107142857142858, 5.137755102040816, 5.168367346938775, 5.198979591836735, 5.229591836734694, 5.2602040816326525, 5.290816326530612, 5.321428571428571, 5.3520408163265305, 5.38265306122449, 5.413265306122449, 5.4438775510204085, 5.474489795918368, 5.505102040816326, 5.535714285714286, 5.566326530612245, 5.596938775510204, 5.627551020408163, 5.658163265306122, 5.688775510204081, 5.719387755102041, 5.75, 5.780612244897959, 5.811224489795919, 5.841836734693878, 5.872448979591836, 5.903061224489796, 5.933673469387755, 5.964285714285714, 5.994897959183673, 6.025510204081632, 6.0561224489795915, 6.086734693877551, 6.11734693877551, 6.1479591836734695, 6.178571428571429, 6.209183673469388, 6.2397959183673475, 6.270408163265306, 6.301020408163265, 6.331632653061225, 6.362244897959183, 6.392857142857142, 6.423469387755102, 6.454081632653061, 6.48469387755102], \"y\": [7.264441981213137e+24, 1.3380135081286262e+25, 2.1964099702261812e+25, 3.3877341127865465e+25, 3.8299346497731433e+25, 4.3443185100514045e+25, 4.937357089696965e+25, 5.631796007245038e+25, 6.418945522993103e+25, 7.342981154980651e+25, 8.500669500669494e+25, 1.0020300347759594e+26, 1.228249385809521e+26, 1.552127445046026e+26, 1.871978794695732e+26, 2.234996740336668e+26, 2.641005896516959e+26, 2.994011639320364e+26, 3.0334188868378092e+26, 3.149397685245739e+26, 3.325524123231341e+26, 3.5036044479688936e+26, 3.569293880556944e+26, 3.4634488232177116e+26, 3.1522788357496196e+26, 2.676405688505672e+26, 2.06050039316541e+26, 1.5372269107676524e+26, 1.1135334367156843e+26, 7.767182017317006e+25, 5.157329280243598e+25, 3.699121039786283e+25, 4.031383963217756e+25, 7.2244064449083544e+25, 1.6050235907726932e+26, 3.0614148090325183e+26, 5.2579975487487456e+26, 8.377933110976269e+26, 1.2518564832610267e+27, 1.761253100615653e+27, 2.4346839289538736e+27, 3.192558498917427e+27, 3.503837279720087e+27, 3.0793651160218054e+27, 2.1995676389706726e+27, 1.5639431625042172e+27, 1.8441736949901584e+27, 3.037452880623873e+27, 4.529126272994801e+27]}, {\"error_y\": {\"array\": [2.1641378147578721e+24, 3.9841128212480133e+24, 6.522422946291669e+24, 9.98692683535958e+24, 1.107326941356688e+25, 1.2293018652813524e+25, 1.357365720218353e+25, 1.4904543397386534e+25, 1.6349881750068278e+25, 1.794547677732586e+25, 1.988128986047412e+25, 2.2274041040042483e+25, 2.4660466299773475e+25, 2.467775705207265e+25, 2.4831914059977894e+25, 2.8491074461619963e+25, 3.4504122635088635e+25, 3.663373017285241e+25, 3.8680934473895443e+25, 4.076426903957018e+25, 4.1575509846831745e+25, 3.967858886085688e+25, 3.5730137050657235e+25, 2.987378884401187e+25, 2.3892221943134593e+25, 2.1110162521071884e+25, 2.247182904519368e+25, 2.6206276682266335e+25, 3.1650108163379893e+25, 3.699908695599626e+25, 4.187072570573429e+25, 4.82535609796924e+25, 5.679605853050473e+25, 8.136893248848307e+25, 1.2366042863501309e+26, 1.5985112504039553e+26, 1.7014007448518647e+26, 1.6152105205305273e+26, 2.0257837198513405e+26, 2.995256753527511e+26, 3.3718108690236176e+26, 3.012964639106919e+26, 3.0152305023846052e+26, 3.274913901272727e+26, 3.010531344374798e+26, 2.588730848423152e+26, 1.7536832874427935e+26, 1.688942815388137e+26, 2.660889245003444e+26], \"type\": \"data\"}, \"line\": {\"color\": \"rgb(189.59375, 51.8984375, 153.59375)\"}, \"name\": \"log<sub>10</sub>T<sub>max</sub>=6.6\", \"type\": \"scatter\", \"x\": [5.016326530612245, 5.048979591836735, 5.081632653061225, 5.114285714285714, 5.146938775510204, 5.179591836734694, 5.2122448979591836, 5.244897959183673, 5.277551020408163, 5.310204081632653, 5.342857142857143, 5.375510204081633, 5.408163265306122, 5.440816326530612, 5.473469387755102, 5.506122448979592, 5.538775510204081, 5.571428571428571, 5.604081632653061, 5.6367346938775515, 5.669387755102041, 5.70204081632653, 5.73469387755102, 5.7673469387755105, 5.8, 5.832653061224489, 5.865306122448979, 5.8979591836734695, 5.93061224489796, 5.963265306122449, 5.995918367346938, 6.0285714285714285, 6.061224489795919, 6.093877551020408, 6.126530612244897, 6.159183673469387, 6.191836734693878, 6.224489795918368, 6.257142857142857, 6.289795918367346, 6.322448979591837, 6.355102040816327, 6.387755102040816, 6.420408163265305, 6.453061224489796, 6.485714285714286, 6.518367346938776, 6.551020408163264, 6.5836734693877546], \"y\": [5.135385933637967e+24, 9.525536850029844e+24, 1.5759747487203494e+25, 2.4511774373042277e+25, 2.777104279167259e+25, 3.1681014279569854e+25, 3.6216563120998593e+25, 4.149323532965698e+25, 4.7854981505387e+25, 5.562131217060169e+25, 6.587123072911622e+25, 8.030763499669402e+25, 1.000289777337872e+26, 1.1633760207341783e+26, 1.3119558029851032e+26, 1.4682817445715526e+26, 1.607165969651679e+26, 1.5833311262871863e+26, 1.630018700208817e+26, 1.7256182126410236e+26, 1.820208362438792e+26, 1.847263161512469e+26, 1.8114080784681614e+26, 1.6796524724794364e+26, 1.4543127881883558e+26, 1.2232807394384565e+26, 1.0565426816024696e+26, 9.511113171102563e+25, 9.185130225482756e+25, 9.810294552518522e+25, 1.2085636715440438e+26, 1.7500585023390237e+26, 2.6792875003155498e+26, 4.0057207862395695e+26, 5.842665955221865e+26, 8.270073080692333e+26, 1.1300714578625324e+27, 1.4717763647170658e+27, 1.8768731924562153e+27, 2.2337850948477032e+27, 2.1929031961462222e+27, 1.7810495652635957e+27, 1.3138090273035724e+27, 8.737229493897234e+26, 5.7261394574027576e+26, 5.227549422281998e+26, 6.327899283599525e+26, 8.378152477946255e+26, 1.0006758202531385e+27]}, {\"error_y\": {\"array\": [1.7540951822768296e+24, 3.250064590835727e+24, 5.354179793704804e+24, 8.253437842171633e+24, 9.145231810152534e+24, 1.0127399145469414e+25, 1.1173359950427504e+25, 1.2221335386681078e+25, 1.33636246978766e+25, 1.4801866969692047e+25, 1.6493856845737893e+25, 1.8403803288965712e+25, 1.8731754830277213e+25, 1.8580335100641745e+25, 2.1148650204217565e+25, 2.624878526037611e+25, 2.84040470861184e+25, 2.9776905636968746e+25, 3.1046225761674183e+25, 3.1149845767730405e+25, 2.908786949338457e+25, 2.5349517323314374e+25, 2.112197897383596e+25, 1.7699773015073937e+25, 1.7215125258221273e+25, 1.9643708454176685e+25, 2.3234957748818955e+25, 2.6882308695387393e+25, 3.0996980195569563e+25, 3.544776769869337e+25, 4.031546432712042e+25, 5.728687054652378e+25, 8.915852057651775e+25, 1.1716911021908786e+26, 1.2209356937118377e+26, 1.2170740809563679e+26, 1.645786649062487e+26, 2.1573764563755063e+26, 2.2106282890336802e+26, 1.8887539858511453e+26, 1.7535185899550018e+26, 1.711602482680489e+26, 1.6845264402673504e+26, 1.592034296965294e+26, 1.3002414104216313e+26, 8.689559400983596e+25, 4.3078109336892235e+25, 5.239100208842699e+25, 7.178206990319274e+25], \"type\": \"data\"}, \"line\": {\"color\": \"rgb(178.8125, 60.453125, 157.8125)\"}, \"name\": \"log<sub>10</sub>T<sub>max</sub>=6.7\", \"type\": \"scatter\", \"x\": [5.0173469387755105, 5.052040816326531, 5.086734693877551, 5.121428571428572, 5.156122448979591, 5.190816326530612, 5.225510204081633, 5.2602040816326525, 5.294897959183674, 5.329591836734695, 5.364285714285714, 5.398979591836735, 5.433673469387756, 5.468367346938775, 5.503061224489796, 5.5377551020408164, 5.572448979591837, 5.607142857142858, 5.641836734693877, 5.676530612244898, 5.711224489795919, 5.745918367346938, 5.780612244897959, 5.81530612244898, 5.85, 5.884693877551021, 5.919387755102042, 5.954081632653061, 5.988775510204082, 6.023469387755103, 6.058163265306122, 6.092857142857143, 6.127551020408163, 6.162244897959184, 6.196938775510205, 6.231632653061224, 6.266326530612245, 6.301020408163266, 6.335714285714285, 6.3704081632653065, 6.4051020408163275, 6.439795918367347, 6.474489795918368, 6.509183673469389, 6.543877551020408, 6.578571428571429, 6.6132653061224485, 6.6479591836734695, 6.6826530612244905], \"y\": [4.530939640587174e+24, 8.466863118513454e+24, 1.4120617991850844e+25, 2.216488405402005e+25, 2.5195526491118123e+25, 2.883563912520918e+25, 3.3176202150777185e+25, 3.821543645807637e+25, 4.440666205342723e+25, 5.274419507803994e+25, 6.397215425490117e+25, 7.995297901805767e+25, 9.409177920142324e+25, 1.0533033501571659e+26, 1.1681924094658424e+26, 1.2900372142820622e+26, 1.284378514589383e+26, 1.3146588788568936e+26, 1.3882367027704558e+26, 1.4563354635654452e+26, 1.4672587901754322e+26, 1.4142545526425075e+26, 1.300124288926726e+26, 1.1125149362457011e+26, 9.494684978294905e+25, 8.551704339816406e+25, 8.197606733693875e+25, 8.61645746103097e+25, 1.0374627254295205e+26, 1.4720012439911909e+26, 2.2133419225747988e+26, 3.274963063286238e+26, 4.7863880071619975e+26, 6.806500184477419e+26, 9.134091896158917e+26, 1.1886310017321741e+27, 1.5184245044935026e+27, 1.648368794407489e+27, 1.544755510050319e+27, 1.266168550544269e+27, 9.54966638302036e+26, 6.352054544334613e+26, 4.211329918969649e+26, 3.007228882172663e+26, 2.3600548027701203e+26, 2.058446245135053e+26, 1.820587094879787e+26, 1.508412248987979e+26, 1.2287687607271566e+26]}, {\"error_y\": {\"array\": [2.3607020625220592e+24, 4.401196414457126e+24, 7.290636992441452e+24, 1.1309127311516026e+25, 1.2524348153080594e+25, 1.3805708781189014e+25, 1.5165853408722195e+25, 1.6586369319823245e+25, 1.8171495503693083e+25, 2.0149883309458834e+25, 2.2739804001882488e+25, 2.3369733365117542e+25, 2.218483809278121e+25, 2.412061724147954e+25, 3.0454982918475068e+25, 3.460409118233185e+25, 3.5960680368515197e+25, 3.7226047308539466e+25, 3.6718609078660487e+25, 3.3282964057130447e+25, 2.745869145416505e+25, 2.116179316880878e+25, 1.6792391056758828e+25, 1.7022543875336296e+25, 2.024745262837898e+25, 2.4915068825477483e+25, 2.975049253181558e+25, 3.3796075996152295e+25, 3.8169067254754616e+25, 5.233819357343692e+25, 8.301689287437214e+25, 1.1159944197991019e+26, 1.1664022218022457e+26, 1.083851623477568e+26, 1.5991007879521577e+26, 2.1568711110316226e+26, 2.1381481051548293e+26, 1.7682134163387522e+26, 1.4672613709363551e+26, 1.1663418604864465e+26, 1.0717654325926043e+26, 1.0481086702557701e+26, 9.612039668808036e+25, 7.849179013460038e+25, 4.839781091459547e+25, 2.212807647035283e+25, 1.0299064578345546e+25, 2.042289164883982e+25, 2.6902449274344694e+25], \"type\": \"data\"}, \"line\": {\"color\": \"rgb(168.03125, 69.0078125, 162.03125)\"}, \"name\": \"log<sub>10</sub>T<sub>max</sub>=6.8\", \"type\": \"scatter\", \"x\": [5.018367346938776, 5.055102040816326, 5.091836734693878, 5.128571428571428, 5.16530612244898, 5.20204081632653, 5.238775510204082, 5.275510204081632, 5.312244897959184, 5.348979591836734, 5.385714285714286, 5.422448979591836, 5.459183673469388, 5.495918367346938, 5.53265306122449, 5.56938775510204, 5.606122448979592, 5.642857142857142, 5.679591836734694, 5.716326530612244, 5.753061224489796, 5.789795918367346, 5.826530612244898, 5.8632653061224485, 5.9, 5.9367346938775505, 5.973469387755102, 6.0102040816326525, 6.046938775510204, 6.0836734693877546, 6.1204081632653065, 6.157142857142857, 6.1938775510204085, 6.230612244897959, 6.2673469387755105, 6.304081632653061, 6.340816326530613, 6.377551020408163, 6.414285714285715, 6.451020408163265, 6.487755102040817, 6.524489795918367, 6.561224489795919, 6.597959183673469, 6.634693877551021, 6.671428571428571, 6.708163265306123, 6.744897959183673, 6.781632653061225], \"y\": [5.242440793057798e+24, 9.86048367592236e+24, 1.6551583695998693e+25, 2.616819230636951e+25, 2.9765370260715916e+25, 3.3984087466788465e+25, 3.900747551936277e+25, 4.5001192828052374e+25, 5.246996081906545e+25, 6.2771836675314935e+25, 7.853780945577206e+25, 9.399770811829732e+25, 1.0651373362274809e+26, 1.2118532025420688e+26, 1.3817615046551332e+26, 1.4404445787301102e+26, 1.456485642677288e+26, 1.5197425082663899e+26, 1.5609955367095258e+26, 1.5251448672157608e+26, 1.4032362698770582e+26, 1.2142993614658926e+26, 9.671087958571565e+25, 7.742284678300059e+25, 6.525963163155233e+25, 6.037283257300304e+25, 6.52351994384131e+25, 8.858621041350585e+25, 1.4106666542611404e+26, 2.2268930506317223e+26, 3.4596702140636016e+26, 5.202556185002685e+26, 7.401226409208222e+26, 9.89789567888622e+26, 1.3097499744766223e+27, 1.4180539890593307e+27, 1.3154473063428905e+27, 1.0763572326894809e+27, 8.069524950584363e+26, 5.049852783647851e+26, 3.197125270910397e+26, 2.0686866990535865e+26, 1.3413491370253752e+26, 8.68853615938786e+25, 5.500841510957973e+25, 3.821396303195214e+25, 2.9347638069111864e+25, 2.4525232447300407e+25, 2.004924864622537e+25]}, {\"error_y\": {\"array\": [1.751224516226153e+24, 3.2873839315525555e+24, 5.479525606511993e+24, 8.548843150889054e+24, 9.474332917521973e+24, 1.0425812749880174e+25, 1.1378080379730733e+25, 1.2417454130108342e+25, 1.3750698516888913e+25, 1.5440485401384347e+25, 1.6443696435343484e+25, 1.581754694758579e+25, 1.65382747873201e+25, 2.091729777940072e+25, 2.5253959407598174e+25, 2.622049435459355e+25, 2.7108873968544427e+25, 2.655995325587864e+25, 2.393503118357968e+25, 1.976488430733903e+25, 1.5668384157831181e+25, 1.3414202141801097e+25, 1.4368056865745575e+25, 1.6901891671083283e+25, 1.9982092713501944e+25, 2.333371728034784e+25, 2.7350158190184783e+25, 3.1517737608949307e+25, 4.802221230410826e+25, 7.266093737465042e+25, 8.97955148421428e+25, 8.294758079933731e+25, 1.0413611222288056e+26, 1.4381134970690222e+26, 1.4792415966665405e+26, 1.2180341065754156e+26, 9.93481216620408e+25, 7.544077841440336e+25, 6.3768374816987146e+25, 6.05339473476433e+25, 5.702353059777479e+25, 4.895610075835873e+25, 3.333132092450288e+25, 2.101706128034092e+25, 1.1338290526812676e+25, 4.294585020059894e+24, 4.4525134137632845e+24, 8.283676789013536e+24, 9.883606206061668e+24], \"type\": \"data\"}, \"line\": {\"color\": \"rgb(152.8125, 68.4375, 169.6875)\"}, \"name\": \"log<sub>10</sub>T<sub>max</sub>=6.9\", \"type\": \"scatter\", \"x\": [5.019387755102041, 5.058163265306122, 5.096938775510203, 5.135714285714286, 5.174489795918367, 5.213265306122449, 5.252040816326531, 5.290816326530612, 5.329591836734695, 5.368367346938776, 5.407142857142857, 5.445918367346939, 5.48469387755102, 5.523469387755102, 5.562244897959184, 5.601020408163265, 5.639795918367347, 5.678571428571429, 5.71734693877551, 5.756122448979593, 5.794897959183674, 5.8336734693877546, 5.872448979591837, 5.911224489795918, 5.95, 5.988775510204082, 6.027551020408163, 6.066326530612245, 6.105102040816327, 6.143877551020408, 6.1826530612244905, 6.2214285714285715, 6.260204081632653, 6.298979591836735, 6.337755102040816, 6.376530612244898, 6.41530612244898, 6.454081632653061, 6.492857142857144, 6.531632653061225, 6.570408163265307, 6.6091836734693885, 6.6479591836734695, 6.686734693877551, 6.725510204081633, 6.764285714285714, 6.803061224489796, 6.841836734693878, 6.880612244897959], \"y\": [4.465347029096123e+24, 8.468610312842669e+24, 1.434223623925287e+25, 2.2898153599514845e+25, 2.6209554831676276e+25, 3.0117578474846067e+25, 3.470988758840701e+25, 4.0445501668926125e+25, 4.834817442394021e+25, 5.971738897346103e+25, 7.279931683436825e+25, 8.290311873350908e+25, 9.309023100271684e+25, 1.0556965518188705e+26, 1.144718117020488e+26, 1.1382281340637292e+26, 1.1835291347137007e+26, 1.2153874033113664e+26, 1.193380959602199e+26, 1.1080331559661085e+26, 9.706992028502746e+25, 7.892349469250966e+25, 6.609168662839252e+25, 5.947904571005804e+25, 6.023670672828053e+25, 7.259352160646848e+25, 1.0888826498463022e+26, 1.662915338069962e+26, 2.5437456573566752e+26, 3.847058135605546e+26, 5.7282371452286175e+26, 7.54636881551362e+26, 9.833766514654661e+26, 1.0793591436151655e+27, 1.0019995850408203e+27, 8.014555593817911e+26, 5.9877149962621453e+26, 3.8316471150016284e+26, 2.466896560797247e+26, 1.6515876444014444e+26, 1.1077402404312229e+26, 7.1859444591517e+25, 4.08988634624364e+25, 2.392054034792525e+25, 1.4400012031834663e+25, 8.777450497155108e+24, 5.025947755723045e+24, 2.707153176945175e+24, 1.395893716115213e+24]}, {\"error_y\": {\"array\": [2.2018827485265051e+24, 4.1611782279140817e+24, 6.978073253573117e+24, 1.0934823981536553e+25, 1.2095895756085807e+25, 1.3289846319181417e+25, 1.4455529357743639e+25, 1.578494112693248e+25, 1.752156750448135e+25, 1.9779860597199128e+25, 1.9609488160338557e+25, 1.8720232099304374e+25, 2.22875185316836e+25, 2.896523476916726e+25, 3.0677095296233967e+25, 3.161852115637346e+25, 3.068348748377861e+25, 2.719492485921978e+25, 2.177744039078433e+25, 1.613642380436801e+25, 1.2989724941661761e+25, 1.4275461690159255e+25, 1.757369165740347e+25, 2.114652320087349e+25, 2.4645209181736775e+25, 2.7456596534218283e+25, 3.6569745784974755e+25, 6.028485466492696e+25, 8.29251700625383e+25, 8.051880268246652e+25, 8.251894912621707e+25, 1.2984019021806982e+26, 1.4873448206873728e+26, 1.2444185127256837e+26, 1.0201872464417451e+26, 7.747028164780417e+25, 5.3150448037747455e+25, 4.3271632215017805e+25, 4.055121830885039e+25, 3.706332913488719e+25, 2.747679853901967e+25, 1.956071186655563e+25, 1.3278479777767372e+25, 8.377990934297166e+24, 4.4090176591602137e+24, 1.489813016658608e+24, 2.688318493000297e+24, 4.7417145536266053e+24, 5.4866486317505e+24], \"type\": \"data\"}, \"line\": {\"color\": \"rgb(133.7109375, 59.8828125, 180.3515625)\"}, \"name\": \"log<sub>10</sub>T<sub>max</sub>=7.0\", \"type\": \"scatter\", \"x\": [5.020408163265306, 5.061224489795919, 5.1020408163265305, 5.142857142857142, 5.183673469387755, 5.224489795918368, 5.26530612244898, 5.3061224489795915, 5.346938775510204, 5.387755102040816, 5.428571428571429, 5.469387755102041, 5.5102040816326525, 5.551020408163265, 5.591836734693878, 5.63265306122449, 5.673469387755102, 5.714285714285714, 5.755102040816326, 5.795918367346939, 5.836734693877551, 5.877551020408163, 5.918367346938775, 5.959183673469388, 6.0, 6.040816326530612, 6.081632653061225, 6.122448979591836, 6.163265306122449, 6.204081632653061, 6.244897959183673, 6.285714285714286, 6.326530612244898, 6.36734693877551, 6.408163265306122, 6.448979591836735, 6.489795918367347, 6.530612244897959, 6.571428571428571, 6.612244897959183, 6.653061224489796, 6.6938775510204085, 6.73469387755102, 6.775510204081632, 6.816326530612245, 6.857142857142857, 6.8979591836734695, 6.938775510204081, 6.979591836734694], \"y\": [5.043396671762691e+24, 9.633901685089769e+24, 1.6434065853158407e+25, 2.640446441197005e+25, 3.023080852006294e+25, 3.4766508993669122e+25, 4.004369420109002e+25, 4.6793075352881395e+25, 5.645267088644243e+25, 7.158509606927946e+25, 8.44134340450681e+25, 9.545334789445487e+25, 1.0979414550023068e+26, 1.2640083481025096e+26, 1.2507832263417595e+26, 1.2775326886780016e+26, 1.2864505516461256e+26, 1.2333828853961612e+26, 1.1128765999350083e+26, 9.328329909744993e+25, 7.128026586945589e+25, 5.53711057970804e+25, 4.665038870295813e+25, 4.629427110179855e+25, 5.978120127617177e+25, 9.507088008794246e+25, 1.550150526091129e+26, 2.5233780192970757e+26, 4.032408896821806e+26, 5.831751608224784e+26, 7.82191312905617e+26, 9.417631665055918e+26, 9.219583485901977e+26, 7.466626636310482e+26, 5.569565717328006e+26, 3.703308549999554e+26, 2.2181418754549555e+26, 1.3684957926158441e+26, 8.348327262945852e+25, 4.822176014251051e+25, 2.3793889132326974e+25, 1.1696034431271705e+25, 5.767476680755013e+24, 2.76728507308106e+24, 1.3459201914631557e+24, 9.017519302541056e+23, 1.036030815449275e+24, 1.4632392240741407e+24, 1.6679855113869467e+24]}, {\"error_y\": {\"array\": [8.553451461037135e+21, 1.636492433991854e+22, 2.789186177096903e+22, 4.461596968149429e+22, 5.033429464876483e+22, 5.7030466894761206e+22, 6.528620617224929e+22, 7.698249827132699e+22, 9.458652441147483e+22, 1.1036624880956793e+23, 1.1582301728578834e+23, 1.2191642380267848e+23, 1.4088933328421074e+23, 1.614544847552531e+23, 1.806396504425992e+23, 2.1728009381855344e+23, 2.698545860937366e+23, 3.3418142908099766e+23, 3.9582272782595765e+23, 4.307695922377648e+23, 4.6114591458052606e+23, 5.051881906328568e+23, 5.676285510594568e+23, 6.660996178134654e+23, 7.103601677424198e+23, 7.25435721893369e+23, 8.62628882941882e+23, 1.1444097567778711e+24, 1.338556329683969e+24, 1.4469793995649595e+24, 1.3253335543369404e+24, 1.1318369245583881e+24, 1.1005448890300394e+24, 1.2653958863248973e+24, 1.2308696813543668e+24, 1.2084559380310023e+24, 1.1314833374300604e+24, 9.92721746695702e+23, 7.423519711599271e+23, 5.332244825380375e+23, 4.048521498255308e+23, 3.330688613057334e+23, 2.9887427320059434e+23, 2.909611645161054e+23, 3.0184229060420557e+23, 3.2586793201584904e+23, 3.274232790415212e+23, 3.121589889726209e+23, 2.6483927046592172e+23], \"type\": \"data\"}, \"line\": {\"color\": \"rgb(114.609375, 51.328125, 191.015625)\"}, \"name\": \"log<sub>10</sub>T<sub>max</sub>=7.1\", \"type\": \"scatter\", \"x\": [5.021428571428571, 5.064285714285714, 5.107142857142857, 5.15, 5.192857142857143, 5.235714285714286, 5.2785714285714285, 5.321428571428571, 5.364285714285714, 5.4071428571428575, 5.45, 5.492857142857143, 5.535714285714286, 5.578571428571428, 5.621428571428571, 5.664285714285715, 5.707142857142857, 5.75, 5.792857142857143, 5.835714285714285, 5.878571428571428, 5.921428571428572, 5.964285714285714, 6.007142857142857, 6.05, 6.0928571428571425, 6.135714285714285, 6.178571428571428, 6.2214285714285715, 6.264285714285714, 6.307142857142857, 6.35, 6.392857142857142, 6.435714285714286, 6.478571428571429, 6.521428571428571, 6.564285714285714, 6.607142857142857, 6.6499999999999995, 6.692857142857142, 6.735714285714286, 6.7785714285714285, 6.821428571428571, 6.864285714285714, 6.907142857142857, 6.95, 6.992857142857143, 7.035714285714286, 7.078571428571428], \"y\": [8.007269970787428e+22, 1.5555876843376126e+23, 2.7193527154792348e+23, 4.5238742555547825e+23, 5.396103857026354e+23, 6.574953318951115e+23, 8.196594499881275e+23, 1.0521309060483837e+24, 1.3922901411104579e+24, 1.7295669926361064e+24, 1.8893544988465867e+24, 1.93438084194697e+24, 2.0133002400465096e+24, 2.1266711091184456e+24, 2.34225056371972e+24, 2.8197188122972886e+24, 3.444135070938721e+24, 4.1258243733345835e+24, 4.7036815331332617e+24, 4.953304555780566e+24, 5.189809797554902e+24, 5.665365793782272e+24, 6.516651577038663e+24, 8.151724662805373e+24, 9.755681557542948e+24, 1.1240752589711683e+25, 1.3563544261803084e+25, 1.7173383841871228e+25, 2.0014966179624627e+25, 2.2093385444912314e+25, 2.0366815234219334e+25, 1.6957002512970361e+25, 1.3775464413192787e+25, 1.1685504169219628e+25, 8.943246468371245e+24, 7.745500334614769e+24, 6.934442000739683e+24, 6.093386828809739e+24, 4.7150048261518375e+24, 3.5563998206614434e+24, 2.826066332149239e+24, 2.3628876420855436e+24, 2.0557789058416918e+24, 1.8515789251290579e+24, 1.7194296316784256e+24, 1.6263446599771714e+24, 1.4238592797724244e+24, 1.1703334837335203e+24, 8.622592895388712e+23]}, {\"error_y\": {\"array\": [6.908533282757614e+21, 1.3316861287719535e+22, 2.2878908554311096e+22, 3.6889247634853905e+22, 4.166574226613754e+22, 4.728134557642451e+22, 5.4525855726969e+22, 6.53313743380443e+22, 8.236308164256801e+22, 9.146833788941137e+22, 9.321857264666615e+22, 1.0319085153061067e+23, 1.256514853607917e+23, 1.3439467693409992e+23, 1.580891855909879e+23, 1.9562019516311274e+23, 2.4438580989112795e+23, 2.9447435591300864e+23, 3.2781688769906094e+23, 3.467898488811264e+23, 3.7795154145233814e+23, 4.2689870716814214e+23, 5.070529723691757e+23, 5.252769951544908e+23, 5.399624438446478e+23, 6.673138798631711e+23, 8.606895256957778e+23, 9.785084479394731e+23, 9.907364587625889e+23, 8.568608242247281e+23, 7.315169133064575e+23, 7.944977482973249e+23, 8.824409214286682e+23, 8.663529166581531e+23, 8.338469531995357e+23, 7.565937884927071e+23, 6.055134015392272e+23, 4.1610957800330005e+23, 2.9873973316038803e+23, 2.249927080557887e+23, 1.7938639282817823e+23, 1.5286076788435065e+23, 1.4016386841408016e+23, 1.379447797540379e+23, 1.4456237634703227e+23, 1.5844216646075147e+23, 1.5985291814301406e+23, 1.515017144115521e+23, 1.262513301945809e+23], \"type\": \"data\"}, \"line\": {\"color\": \"rgb(95.5078125, 42.7734375, 201.6796875)\"}, \"name\": \"log<sub>10</sub>T<sub>max</sub>=7.2\", \"type\": \"scatter\", \"x\": [5.022448979591837, 5.06734693877551, 5.112244897959184, 5.1571428571428575, 5.202040816326531, 5.246938775510204, 5.291836734693877, 5.336734693877551, 5.381632653061224, 5.426530612244898, 5.4714285714285715, 5.516326530612245, 5.561224489795919, 5.606122448979592, 5.651020408163266, 5.6959183673469385, 5.740816326530612, 5.785714285714286, 5.830612244897959, 5.875510204081633, 5.920408163265306, 5.96530612244898, 6.010204081632653, 6.055102040816327, 6.1000000000000005, 6.144897959183673, 6.189795918367347, 6.23469387755102, 6.279591836734694, 6.3244897959183675, 6.369387755102041, 6.414285714285715, 6.459183673469388, 6.504081632653062, 6.548979591836734, 6.593877551020408, 6.6387755102040815, 6.683673469387755, 6.728571428571429, 6.773469387755102, 6.818367346938776, 6.863265306122449, 6.908163265306123, 6.9530612244897965, 6.99795918367347, 7.042857142857144, 7.087755102040816, 7.13265306122449, 7.177551020408163], \"y\": [6.501211601836235e+22, 1.2737100516649367e+23, 2.249683339985159e+23, 3.78888368887974e+23, 4.5541916864397295e+23, 5.5975024205104384e+23, 7.058134815360809e+23, 9.209576901840041e+23, 1.248578277224175e+24, 1.468674140218407e+24, 1.5189084343031145e+24, 1.5534572781107496e+24, 1.7109848187060527e+24, 1.7597321878220045e+24, 2.0616163664381778e+24, 2.518374261185502e+24, 3.046744359502881e+24, 3.527073317175973e+24, 3.789094929505381e+24, 3.9167521196730503e+24, 4.2507902818404586e+24, 4.918296089144551e+24, 6.257386952133057e+24, 7.340873446050294e+24, 8.477168850946596e+24, 1.0429450484284584e+25, 1.2937239638606762e+25, 1.4798734986695036e+25, 1.5184374519868294e+25, 1.3133545473233014e+25, 1.0428238774770258e+25, 8.592769905600748e+24, 7.07558234767534e+24, 5.757759187834141e+24, 5.067709192622133e+24, 4.4535527219654766e+24, 3.5834602048194117e+24, 2.5371786638529536e+24, 1.9065047435635017e+24, 1.508602749202809e+24, 1.2501536176038946e+24, 1.0772914128784199e+24, 9.565447934812474e+23, 8.643387480884562e+23, 7.916528317747447e+23, 7.24109117254201e+23, 5.9963988932443914e+23, 4.661579680217179e+23, 3.2550634564660135e+23]}, {\"error_y\": {\"array\": [1.1347114174313707e+22, 2.203227360661222e+22, 3.814108046538419e+22, 6.19450015874117e+22, 6.99675807173735e+22, 7.945746423906465e+22, 9.257699838388199e+22, 1.1312930891032721e+23, 1.332679280586291e+23, 1.3956575109177062e+23, 1.4613626253396831e+23, 1.7305115738031994e+23, 2.0422706432800097e+23, 2.3045354013230884e+23, 2.8039685088933544e+23, 3.517901217934303e+23, 4.3196722389839e+23, 4.9449263256829445e+23, 5.150239744098955e+23, 5.580331842264173e+23, 6.308119466127103e+23, 7.535119324063694e+23, 7.676938855261378e+23, 7.924200992474551e+23, 1.015786777988045e+24, 1.3096971701337804e+24, 1.4752492715590555e+24, 1.3949449606106344e+24, 1.1695061528564323e+24, 1.0567172928532823e+24, 1.2314231617924884e+24, 1.245873097631723e+24, 1.2122610932343879e+24, 1.1345110017792353e+24, 9.784221766447432e+23, 6.916335587365873e+23, 4.7837321005889376e+23, 3.4267571151190746e+23, 2.5362443015997137e+23, 1.919974250748116e+23, 1.4719846212493259e+23, 1.1308893412233798e+23, 8.887951553153908e+22, 7.611138048060796e+22, 7.898602971048117e+22, 9.392318674957947e+22, 1.0108689670868671e+23, 9.868764872369187e+22, 8.327390728577008e+22], \"type\": \"data\"}, \"line\": {\"color\": \"rgb(76.40625, 34.21875, 212.34375)\"}, \"name\": \"log<sub>10</sub>T<sub>max</sub>=7.3\", \"type\": \"scatter\", \"x\": [5.023469387755102, 5.070408163265306, 5.11734693877551, 5.164285714285715, 5.211224489795918, 5.2581632653061225, 5.305102040816326, 5.3520408163265305, 5.398979591836735, 5.4459183673469385, 5.492857142857143, 5.539795918367346, 5.586734693877551, 5.633673469387755, 5.680612244897959, 5.727551020408163, 5.774489795918367, 5.821428571428571, 5.868367346938776, 5.91530612244898, 5.9622448979591836, 6.009183673469388, 6.0561224489795915, 6.103061224489796, 6.1499999999999995, 6.196938775510204, 6.243877551020408, 6.290816326530612, 6.337755102040816, 6.384693877551021, 6.431632653061224, 6.478571428571429, 6.525510204081632, 6.572448979591837, 6.619387755102041, 6.666326530612245, 6.713265306122449, 6.7602040816326525, 6.807142857142857, 6.854081632653061, 6.901020408163265, 6.947959183673469, 6.994897959183673, 7.041836734693877, 7.088775510204082, 7.135714285714285, 7.18265306122449, 7.229591836734693, 7.276530612244898], \"y\": [1.0518871084678737e+23, 2.0781396431580396e+23, 3.707922188143459e+23, 6.320308811106366e+23, 7.652270606618165e+23, 9.490775251262069e+23, 1.215829260137323e+24, 1.6211778054629962e+24, 2.0560831517046193e+24, 2.2650336530287614e+24, 2.3122424675589096e+24, 2.444775500426547e+24, 2.669093852721341e+24, 2.978011096384997e+24, 3.6073635090991365e+24, 4.404550525021741e+24, 5.18980427172264e+24, 5.711886466667398e+24, 5.791639754159012e+24, 6.229383307007852e+24, 7.200832111450368e+24, 9.233270117019859e+24, 1.074071961140067e+25, 1.2467104921209129e+25, 1.5708191151932752e+25, 1.955903144602453e+25, 2.2346994054850595e+25, 2.136911425278541e+25, 1.7772870096946932e+25, 1.4014545444989807e+25, 1.1783664182131788e+25, 9.008003353458578e+24, 7.477758326278197e+24, 6.468703416849805e+24, 5.379237337999055e+24, 3.7646332743610305e+24, 2.622721700784949e+24, 1.9196018368515714e+24, 1.469886380880531e+24, 1.1657098700311146e+24, 9.471507400084151e+23, 7.75194053545414e+23, 6.310177355963339e+23, 4.934551396633577e+23, 3.667662831088525e+23, 2.5090285130856262e+23, 1.3501311905584708e+23, 5.700587281266289e+22, 1.0205112628013808e+22]}],                        {\"height\": 600, \"template\": {\"data\": {\"bar\": [{\"error_x\": {\"color\": \"#2a3f5f\"}, \"error_y\": {\"color\": \"#2a3f5f\"}, \"marker\": {\"line\": {\"color\": \"#E5ECF6\", \"width\": 0.5}}, \"type\": \"bar\"}], \"barpolar\": [{\"marker\": {\"line\": {\"color\": \"#E5ECF6\", \"width\": 0.5}}, \"type\": \"barpolar\"}], \"carpet\": [{\"aaxis\": {\"endlinecolor\": \"#2a3f5f\", \"gridcolor\": \"white\", \"linecolor\": \"white\", \"minorgridcolor\": \"white\", \"startlinecolor\": \"#2a3f5f\"}, \"baxis\": {\"endlinecolor\": \"#2a3f5f\", \"gridcolor\": \"white\", \"linecolor\": \"white\", \"minorgridcolor\": \"white\", \"startlinecolor\": \"#2a3f5f\"}, \"type\": \"carpet\"}], \"choropleth\": [{\"colorbar\": {\"outlinewidth\": 0, \"ticks\": \"\"}, \"type\": \"choropleth\"}], \"contour\": [{\"colorbar\": {\"outlinewidth\": 0, \"ticks\": \"\"}, \"colorscale\": [[0.0, \"#0d0887\"], [0.1111111111111111, \"#46039f\"], [0.2222222222222222, \"#7201a8\"], [0.3333333333333333, \"#9c179e\"], [0.4444444444444444, \"#bd3786\"], [0.5555555555555556, \"#d8576b\"], [0.6666666666666666, \"#ed7953\"], [0.7777777777777778, \"#fb9f3a\"], [0.8888888888888888, \"#fdca26\"], [1.0, \"#f0f921\"]], \"type\": \"contour\"}], \"contourcarpet\": [{\"colorbar\": {\"outlinewidth\": 0, \"ticks\": \"\"}, \"type\": \"contourcarpet\"}], \"heatmap\": [{\"colorbar\": {\"outlinewidth\": 0, \"ticks\": \"\"}, \"colorscale\": [[0.0, \"#0d0887\"], [0.1111111111111111, \"#46039f\"], [0.2222222222222222, \"#7201a8\"], [0.3333333333333333, \"#9c179e\"], [0.4444444444444444, \"#bd3786\"], [0.5555555555555556, \"#d8576b\"], [0.6666666666666666, \"#ed7953\"], [0.7777777777777778, \"#fb9f3a\"], [0.8888888888888888, \"#fdca26\"], [1.0, \"#f0f921\"]], \"type\": \"heatmap\"}], \"heatmapgl\": [{\"colorbar\": {\"outlinewidth\": 0, \"ticks\": \"\"}, \"colorscale\": [[0.0, \"#0d0887\"], [0.1111111111111111, \"#46039f\"], [0.2222222222222222, \"#7201a8\"], [0.3333333333333333, \"#9c179e\"], [0.4444444444444444, \"#bd3786\"], [0.5555555555555556, \"#d8576b\"], [0.6666666666666666, \"#ed7953\"], [0.7777777777777778, \"#fb9f3a\"], [0.8888888888888888, \"#fdca26\"], [1.0, \"#f0f921\"]], \"type\": \"heatmapgl\"}], \"histogram\": [{\"marker\": {\"colorbar\": {\"outlinewidth\": 0, \"ticks\": \"\"}}, \"type\": \"histogram\"}], \"histogram2d\": [{\"colorbar\": {\"outlinewidth\": 0, \"ticks\": \"\"}, \"colorscale\": [[0.0, \"#0d0887\"], [0.1111111111111111, \"#46039f\"], [0.2222222222222222, \"#7201a8\"], [0.3333333333333333, \"#9c179e\"], [0.4444444444444444, \"#bd3786\"], [0.5555555555555556, \"#d8576b\"], [0.6666666666666666, \"#ed7953\"], [0.7777777777777778, \"#fb9f3a\"], [0.8888888888888888, \"#fdca26\"], [1.0, \"#f0f921\"]], \"type\": \"histogram2d\"}], \"histogram2dcontour\": [{\"colorbar\": {\"outlinewidth\": 0, \"ticks\": \"\"}, \"colorscale\": [[0.0, \"#0d0887\"], [0.1111111111111111, \"#46039f\"], [0.2222222222222222, \"#7201a8\"], [0.3333333333333333, \"#9c179e\"], [0.4444444444444444, \"#bd3786\"], [0.5555555555555556, \"#d8576b\"], [0.6666666666666666, \"#ed7953\"], [0.7777777777777778, \"#fb9f3a\"], [0.8888888888888888, \"#fdca26\"], [1.0, \"#f0f921\"]], \"type\": \"histogram2dcontour\"}], \"mesh3d\": [{\"colorbar\": {\"outlinewidth\": 0, \"ticks\": \"\"}, \"type\": \"mesh3d\"}], \"parcoords\": [{\"line\": {\"colorbar\": {\"outlinewidth\": 0, \"ticks\": \"\"}}, \"type\": \"parcoords\"}], \"pie\": [{\"automargin\": true, \"type\": \"pie\"}], \"scatter\": [{\"marker\": {\"colorbar\": {\"outlinewidth\": 0, \"ticks\": \"\"}}, \"type\": \"scatter\"}], \"scatter3d\": [{\"line\": {\"colorbar\": {\"outlinewidth\": 0, \"ticks\": \"\"}}, \"marker\": {\"colorbar\": {\"outlinewidth\": 0, \"ticks\": \"\"}}, \"type\": \"scatter3d\"}], \"scattercarpet\": [{\"marker\": {\"colorbar\": {\"outlinewidth\": 0, \"ticks\": \"\"}}, \"type\": \"scattercarpet\"}], \"scattergeo\": [{\"marker\": {\"colorbar\": {\"outlinewidth\": 0, \"ticks\": \"\"}}, \"type\": \"scattergeo\"}], \"scattergl\": [{\"marker\": {\"colorbar\": {\"outlinewidth\": 0, \"ticks\": \"\"}}, \"type\": \"scattergl\"}], \"scattermapbox\": [{\"marker\": {\"colorbar\": {\"outlinewidth\": 0, \"ticks\": \"\"}}, \"type\": \"scattermapbox\"}], \"scatterpolar\": [{\"marker\": {\"colorbar\": {\"outlinewidth\": 0, \"ticks\": \"\"}}, \"type\": \"scatterpolar\"}], \"scatterpolargl\": [{\"marker\": {\"colorbar\": {\"outlinewidth\": 0, \"ticks\": \"\"}}, \"type\": \"scatterpolargl\"}], \"scatterternary\": [{\"marker\": {\"colorbar\": {\"outlinewidth\": 0, \"ticks\": \"\"}}, \"type\": \"scatterternary\"}], \"surface\": [{\"colorbar\": {\"outlinewidth\": 0, \"ticks\": \"\"}, \"colorscale\": [[0.0, \"#0d0887\"], [0.1111111111111111, \"#46039f\"], [0.2222222222222222, \"#7201a8\"], [0.3333333333333333, \"#9c179e\"], [0.4444444444444444, \"#bd3786\"], [0.5555555555555556, \"#d8576b\"], [0.6666666666666666, \"#ed7953\"], [0.7777777777777778, \"#fb9f3a\"], [0.8888888888888888, \"#fdca26\"], [1.0, \"#f0f921\"]], \"type\": \"surface\"}], \"table\": [{\"cells\": {\"fill\": {\"color\": \"#EBF0F8\"}, \"line\": {\"color\": \"white\"}}, \"header\": {\"fill\": {\"color\": \"#C8D4E3\"}, \"line\": {\"color\": \"white\"}}, \"type\": \"table\"}]}, \"layout\": {\"annotationdefaults\": {\"arrowcolor\": \"#2a3f5f\", \"arrowhead\": 0, \"arrowwidth\": 1}, \"autotypenumbers\": \"strict\", \"coloraxis\": {\"colorbar\": {\"outlinewidth\": 0, \"ticks\": \"\"}}, \"colorscale\": {\"diverging\": [[0, \"#8e0152\"], [0.1, \"#c51b7d\"], [0.2, \"#de77ae\"], [0.3, \"#f1b6da\"], [0.4, \"#fde0ef\"], [0.5, \"#f7f7f7\"], [0.6, \"#e6f5d0\"], [0.7, \"#b8e186\"], [0.8, \"#7fbc41\"], [0.9, \"#4d9221\"], [1, \"#276419\"]], \"sequential\": [[0.0, \"#0d0887\"], [0.1111111111111111, \"#46039f\"], [0.2222222222222222, \"#7201a8\"], [0.3333333333333333, \"#9c179e\"], [0.4444444444444444, \"#bd3786\"], [0.5555555555555556, \"#d8576b\"], [0.6666666666666666, \"#ed7953\"], [0.7777777777777778, \"#fb9f3a\"], [0.8888888888888888, \"#fdca26\"], [1.0, \"#f0f921\"]], \"sequentialminus\": [[0.0, \"#0d0887\"], [0.1111111111111111, \"#46039f\"], [0.2222222222222222, \"#7201a8\"], [0.3333333333333333, \"#9c179e\"], [0.4444444444444444, \"#bd3786\"], [0.5555555555555556, \"#d8576b\"], [0.6666666666666666, \"#ed7953\"], [0.7777777777777778, \"#fb9f3a\"], [0.8888888888888888, \"#fdca26\"], [1.0, \"#f0f921\"]]}, \"colorway\": [\"#636efa\", \"#EF553B\", \"#00cc96\", \"#ab63fa\", \"#FFA15A\", \"#19d3f3\", \"#FF6692\", \"#B6E880\", \"#FF97FF\", \"#FECB52\"], \"font\": {\"color\": \"#2a3f5f\"}, \"geo\": {\"bgcolor\": \"white\", \"lakecolor\": \"white\", \"landcolor\": \"#E5ECF6\", \"showlakes\": true, \"showland\": true, \"subunitcolor\": \"white\"}, \"hoverlabel\": {\"align\": \"left\"}, \"hovermode\": \"closest\", \"mapbox\": {\"style\": \"light\"}, \"paper_bgcolor\": \"white\", \"plot_bgcolor\": \"#E5ECF6\", \"polar\": {\"angularaxis\": {\"gridcolor\": \"white\", \"linecolor\": \"white\", \"ticks\": \"\"}, \"bgcolor\": \"#E5ECF6\", \"radialaxis\": {\"gridcolor\": \"white\", \"linecolor\": \"white\", \"ticks\": \"\"}}, \"scene\": {\"xaxis\": {\"backgroundcolor\": \"#E5ECF6\", \"gridcolor\": \"white\", \"gridwidth\": 2, \"linecolor\": \"white\", \"showbackground\": true, \"ticks\": \"\", \"zerolinecolor\": \"white\"}, \"yaxis\": {\"backgroundcolor\": \"#E5ECF6\", \"gridcolor\": \"white\", \"gridwidth\": 2, \"linecolor\": \"white\", \"showbackground\": true, \"ticks\": \"\", \"zerolinecolor\": \"white\"}, \"zaxis\": {\"backgroundcolor\": \"#E5ECF6\", \"gridcolor\": \"white\", \"gridwidth\": 2, \"linecolor\": \"white\", \"showbackground\": true, \"ticks\": \"\", \"zerolinecolor\": \"white\"}}, \"shapedefaults\": {\"line\": {\"color\": \"#2a3f5f\"}}, \"ternary\": {\"aaxis\": {\"gridcolor\": \"white\", \"linecolor\": \"white\", \"ticks\": \"\"}, \"baxis\": {\"gridcolor\": \"white\", \"linecolor\": \"white\", \"ticks\": \"\"}, \"bgcolor\": \"#E5ECF6\", \"caxis\": {\"gridcolor\": \"white\", \"linecolor\": \"white\", \"ticks\": \"\"}}, \"title\": {\"x\": 0.05}, \"xaxis\": {\"automargin\": true, \"gridcolor\": \"white\", \"linecolor\": \"white\", \"ticks\": \"\", \"title\": {\"standoff\": 15}, \"zerolinecolor\": \"white\", \"zerolinewidth\": 2}, \"yaxis\": {\"automargin\": true, \"gridcolor\": \"white\", \"linecolor\": \"white\", \"ticks\": \"\", \"title\": {\"standoff\": 15}, \"zerolinecolor\": \"white\", \"zerolinewidth\": 2}}}, \"title\": {\"text\": \"DEMreg solutions\"}, \"width\": 800, \"xaxis\": {\"title\": {\"text\": \"log<sub>10</sub> T (K)\"}}, \"yaxis\": {\"range\": [23, 28], \"title\": {\"text\": \"DEM cm<sup>-5</sup>\"}, \"type\": \"log\"}},                        {\"responsive\": true}                    ).then(function(){\n",
       "                            \n",
       "var gd = document.getElementById('c3eb8a2a-bb53-4cfa-9bf4-899cb28edd47');\n",
       "var x = new MutationObserver(function (mutations, observer) {{\n",
       "        var display = window.getComputedStyle(gd).display;\n",
       "        if (!display || display === 'none') {{\n",
       "            console.log([gd, 'removed!']);\n",
       "            Plotly.purge(gd);\n",
       "            observer.disconnect();\n",
       "        }}\n",
       "}});\n",
       "\n",
       "// Listen for the removal of the full notebook cells\n",
       "var notebookContainer = gd.closest('#notebook-container');\n",
       "if (notebookContainer) {{\n",
       "    x.observe(notebookContainer, {childList: true});\n",
       "}}\n",
       "\n",
       "// Listen for the clearing of the current output cell\n",
       "var outputEl = gd.closest('.output');\n",
       "if (outputEl) {{\n",
       "    x.observe(outputEl, {childList: true});\n",
       "}}\n",
       "\n",
       "                        })                };                });            </script>        </div>"
      ]
     },
     "metadata": {},
     "output_type": "display_data"
    }
   ],
   "source": [
    "fig = go.Figure()\n",
    "yaxis_title='DEM cm<sup>-5</sup>'\n",
    "title='DEMreg solutions'\n",
    "yaxis_range=[23,28]\n",
    "for i,d in enumerate(df):\n",
    "    name=\"log<sub>10</sub>T<sub>max</sub>=%.1f\" % tend[i]\n",
    "    pval=np.abs(d.dem[0][0]) *foo.dtemps\n",
    "    #have to do the same with the error\n",
    "    yerr=d.edem[0][0]*foo.dtemps\n",
    "    #xerr=d.elogt[0][0]\n",
    "    #,error_x=dict(type='data',array=xerr) #off for clarity\n",
    "    fig.add_trace(go.Scatter(x=d.mlogt[0][0],y=pval,error_y=dict(type='data',array=yerr),name=name,line_color=colors[i*15]))\n",
    "        \n",
    "\n",
    "#vecs=d.dn_in[0][0]/d.trmatrix_use[0][0]\n",
    "#for i in range(vecs.shape[1]):\n",
    "#    fig.add_trace(go.Scatter(x=foo.mlogt,y=vecs[:,i],name=d.chanax[0][i]))\n",
    "\n",
    "fig.update_layout(yaxis_type='log',yaxis_range=yaxis_range,title=title,yaxis_title=yaxis_title,xaxis_title='log<sub>10</sub> T (K)')\n",
    "fig.update_layout(width=800,height=600)"
   ]
  },
  {
   "cell_type": "code",
   "execution_count": 108,
   "metadata": {},
   "outputs": [
    {
     "data": {
      "text/plain": [
       "260"
      ]
     },
     "execution_count": 108,
     "metadata": {},
     "output_type": "execute_result"
    }
   ],
   "source": [
    "i*20"
   ]
  },
  {
   "cell_type": "code",
   "execution_count": 104,
   "metadata": {},
   "outputs": [
    {
     "data": {
      "text/plain": [
       "'DEMreg_temp_dem.html'"
      ]
     },
     "execution_count": 104,
     "metadata": {},
     "output_type": "execute_result"
    }
   ],
   "source": [
    "plotly.offline.plot(fig,filename='DEMreg_temp_dem.html',auto_open=False)"
   ]
  },
  {
   "cell_type": "code",
   "execution_count": 101,
   "metadata": {},
   "outputs": [
    {
     "data": {
      "application/vnd.plotly.v1+json": {
       "config": {
        "plotlyServerURL": "https://plotly.com"
       },
       "data": [
        {
         "hovertext": "ratio: 0.181",
         "legendgroup": "0",
         "marker": {
          "color": "rgb(254.28125, 0.5703125, 128.28125)",
          "size": 10,
          "symbol": "cross-open"
         },
         "mode": "markers",
         "name": "log<sub>10</sub>T<sub>max</sub>=7.0 NuSTAR 2.5-3.5 keV",
         "showlegend": false,
         "type": "scatter",
         "x": [
          3.4871647714756313
         ],
         "y": [
          0.631073566781406
         ]
        },
        {
         "hovertext": "ratio: 0.542",
         "legendgroup": "0",
         "marker": {
          "color": "rgb(254.28125, 0.5703125, 128.28125)",
          "size": 10,
          "symbol": "triangle-up-open"
         },
         "mode": "markers",
         "name": "log<sub>10</sub>T<sub>max</sub>=7.0 NuSTAR 2.5-3.5 keV",
         "showlegend": false,
         "type": "scatter",
         "x": [
          49.03957872227575
         ],
         "y": [
          26.600661435842014
         ]
        },
        {
         "hovertext": "ratio: 0.916",
         "legendgroup": "0",
         "marker": {
          "color": "rgb(254.28125, 0.5703125, 128.28125)",
          "size": 10,
          "symbol": "circle-open"
         },
         "mode": "markers",
         "name": "log<sub>10</sub>T<sub>max</sub>=7.0 NuSTAR 2.5-3.5 keV",
         "showlegend": false,
         "type": "scatter",
         "x": [
          628.3652421971151
         ],
         "y": [
          575.6890852073906
         ]
        },
        {
         "hovertext": "ratio: 0.153",
         "legendgroup": "0",
         "marker": {
          "color": "rgb(254.28125, 0.5703125, 128.28125)",
          "size": 10,
          "symbol": "triangle-down-open"
         },
         "mode": "markers",
         "name": "log<sub>10</sub>T<sub>max</sub>=7.0 NuSTAR 2.5-3.5 keV",
         "showlegend": false,
         "type": "scatter",
         "x": [
          1096.5050200540427
         ],
         "y": [
          167.66591993488407
         ]
        },
        {
         "hovertext": "ratio: 0.084",
         "legendgroup": "0",
         "marker": {
          "color": "rgb(254.28125, 0.5703125, 128.28125)",
          "size": 10,
          "symbol": "diamond-open"
         },
         "mode": "markers",
         "name": "log<sub>10</sub>T<sub>max</sub>=7.0 NuSTAR 2.5-3.5 keV",
         "showlegend": false,
         "type": "scatter",
         "x": [
          498.63537770079637
         ],
         "y": [
          41.901867011135366
         ]
        },
        {
         "hovertext": "ratio: 0.257",
         "legendgroup": "0",
         "marker": {
          "color": "rgb(254.28125, 0.5703125, 128.28125)",
          "size": 10,
          "symbol": "square-open"
         },
         "mode": "markers",
         "name": "log<sub>10</sub>T<sub>max</sub>=7.0 NuSTAR 2.5-3.5 keV",
         "showlegend": false,
         "type": "scatter",
         "x": [
          29.019773365796073
         ],
         "y": [
          7.460042292495603
         ]
        },
        {
         "hovertext": "ratio: 0.0",
         "legendgroup": "0",
         "marker": {
          "color": "rgb(254.28125, 0.5703125, 128.28125)",
          "size": 10,
          "symbol": "star-open"
         },
         "mode": "markers",
         "name": "log<sub>10</sub>T<sub>max</sub>=7.0 NuSTAR 2.5-3.5 keV",
         "showlegend": false,
         "type": "scatter",
         "x": [
          13.70879077911377
         ],
         "y": [
          0.00188849817155098
         ]
        },
        {
         "hovertext": "ratio: 0.0",
         "legendgroup": "0",
         "marker": {
          "color": "rgb(254.28125, 0.5703125, 128.28125)",
          "size": 10,
          "symbol": "hexagon-open"
         },
         "mode": "markers",
         "name": "log<sub>10</sub>T<sub>max</sub>=7.0 NuSTAR 2.5-3.5 keV",
         "showlegend": false,
         "type": "scatter",
         "x": [
          0.21206398124116085
         ],
         "y": [
          2.92586141881353e-11
         ]
        },
        {
         "legendgroup": "0",
         "line": {
          "color": "rgb(254.28125, 0.5703125, 128.28125)",
          "width": 0.5
         },
         "name": "log<sub>10</sub>T<sub>max</sub>=6.0",
         "type": "scatter",
         "x": [
          0.01,
          0.011497569953977356,
          0.013219411484660288,
          0.01519911082952934,
          0.01747528400007684,
          0.02009233002565047,
          0.023101297000831605,
          0.026560877829466867,
          0.030538555088334154,
          0.03511191734215131,
          0.040370172585965536,
          0.046415888336127795,
          0.0533669923120631,
          0.06135907273413173,
          0.07054802310718646,
          0.08111308307896872,
          0.093260334688322,
          0.10722672220103231,
          0.12328467394420659,
          0.14174741629268056,
          0.16297508346206444,
          0.1873817422860384,
          0.21544346900318845,
          0.24770763559917114,
          0.2848035868435802,
          0.32745491628777285,
          0.37649358067924676,
          0.43287612810830595,
          0.49770235643321115,
          0.5722367659350217,
          0.6579332246575682,
          0.7564633275546291,
          0.8697490026177834,
          1,
          1.1497569953977356,
          1.3219411484660286,
          1.5199110829529332,
          1.7475284000076847,
          2.0092330025650478,
          2.31012970008316,
          2.656087782946687,
          3.0538555088334154,
          3.511191734215131,
          4.037017258596554,
          4.641588833612782,
          5.336699231206313,
          6.135907273413176,
          7.054802310718645,
          8.111308307896872,
          9.326033468832199,
          10.722672220103231,
          12.32846739442066,
          14.174741629268048,
          16.297508346206453,
          18.73817422860385,
          21.544346900318846,
          24.770763559917114,
          28.48035868435802,
          32.74549162877728,
          37.64935806792467,
          43.287612810830616,
          49.770235643321136,
          57.2236765935022,
          65.79332246575683,
          75.64633275546291,
          86.97490026177834,
          100,
          114.97569953977356,
          132.19411484660287,
          151.99110829529332,
          174.7528400007683,
          200.92330025650458,
          231.0129700083158,
          265.6087782946689,
          305.38555088334186,
          351.11917342151344,
          403.70172585965577,
          464.1588833612782,
          533.6699231206312,
          613.5907273413176,
          705.4802310718645,
          811.1308307896873,
          932.60334688322,
          1072.2672220103232,
          1232.8467394420659,
          1417.4741629268049,
          1629.7508346206434,
          1873.817422860383,
          2154.4346900318865,
          2477.076355991714,
          2848.035868435805,
          3274.5491628777318,
          3764.9358067924713,
          4328.7612810830615,
          4977.023564332114,
          5722.3676593502205,
          6579.332246575683,
          7564.633275546291,
          8697.490026177835,
          10000
         ],
         "y": [
          0.01,
          0.011497569953977356,
          0.013219411484660288,
          0.01519911082952934,
          0.01747528400007684,
          0.02009233002565047,
          0.023101297000831605,
          0.026560877829466867,
          0.030538555088334154,
          0.03511191734215131,
          0.040370172585965536,
          0.046415888336127795,
          0.0533669923120631,
          0.06135907273413173,
          0.07054802310718646,
          0.08111308307896872,
          0.093260334688322,
          0.10722672220103231,
          0.12328467394420659,
          0.14174741629268056,
          0.16297508346206444,
          0.1873817422860384,
          0.21544346900318845,
          0.24770763559917114,
          0.2848035868435802,
          0.32745491628777285,
          0.37649358067924676,
          0.43287612810830595,
          0.49770235643321115,
          0.5722367659350217,
          0.6579332246575682,
          0.7564633275546291,
          0.8697490026177834,
          1,
          1.1497569953977356,
          1.3219411484660286,
          1.5199110829529332,
          1.7475284000076847,
          2.0092330025650478,
          2.31012970008316,
          2.656087782946687,
          3.0538555088334154,
          3.511191734215131,
          4.037017258596554,
          4.641588833612782,
          5.336699231206313,
          6.135907273413176,
          7.054802310718645,
          8.111308307896872,
          9.326033468832199,
          10.722672220103231,
          12.32846739442066,
          14.174741629268048,
          16.297508346206453,
          18.73817422860385,
          21.544346900318846,
          24.770763559917114,
          28.48035868435802,
          32.74549162877728,
          37.64935806792467,
          43.287612810830616,
          49.770235643321136,
          57.2236765935022,
          65.79332246575683,
          75.64633275546291,
          86.97490026177834,
          100,
          114.97569953977356,
          132.19411484660287,
          151.99110829529332,
          174.7528400007683,
          200.92330025650458,
          231.0129700083158,
          265.6087782946689,
          305.38555088334186,
          351.11917342151344,
          403.70172585965577,
          464.1588833612782,
          533.6699231206312,
          613.5907273413176,
          705.4802310718645,
          811.1308307896873,
          932.60334688322,
          1072.2672220103232,
          1232.8467394420659,
          1417.4741629268049,
          1629.7508346206434,
          1873.817422860383,
          2154.4346900318865,
          2477.076355991714,
          2848.035868435805,
          3274.5491628777318,
          3764.9358067924713,
          4328.7612810830615,
          4977.023564332114,
          5722.3676593502205,
          6579.332246575683,
          7564.633275546291,
          8697.490026177835,
          10000
         ]
        },
        {
         "hovertext": "ratio: 0.343",
         "legendgroup": "1",
         "marker": {
          "color": "rgb(239.90625, 11.9765625, 133.90625)",
          "size": 10,
          "symbol": "cross-open"
         },
         "mode": "markers",
         "name": "log<sub>10</sub>T<sub>max</sub>=7.0 NuSTAR 2.5-3.5 keV",
         "showlegend": false,
         "type": "scatter",
         "x": [
          3.4871647714756313
         ],
         "y": [
          1.1948610930523942
         ]
        },
        {
         "hovertext": "ratio: 0.675",
         "legendgroup": "1",
         "marker": {
          "color": "rgb(239.90625, 11.9765625, 133.90625)",
          "size": 10,
          "symbol": "triangle-up-open"
         },
         "mode": "markers",
         "name": "log<sub>10</sub>T<sub>max</sub>=7.0 NuSTAR 2.5-3.5 keV",
         "showlegend": false,
         "type": "scatter",
         "x": [
          49.03957872227575
         ],
         "y": [
          33.09481653732106
         ]
        },
        {
         "hovertext": "ratio: 1.128",
         "legendgroup": "1",
         "marker": {
          "color": "rgb(239.90625, 11.9765625, 133.90625)",
          "size": 10,
          "symbol": "circle-open"
         },
         "mode": "markers",
         "name": "log<sub>10</sub>T<sub>max</sub>=7.0 NuSTAR 2.5-3.5 keV",
         "showlegend": false,
         "type": "scatter",
         "x": [
          628.3652421971151
         ],
         "y": [
          708.7170091343417
         ]
        },
        {
         "hovertext": "ratio: 0.377",
         "legendgroup": "1",
         "marker": {
          "color": "rgb(239.90625, 11.9765625, 133.90625)",
          "size": 10,
          "symbol": "triangle-down-open"
         },
         "mode": "markers",
         "name": "log<sub>10</sub>T<sub>max</sub>=7.0 NuSTAR 2.5-3.5 keV",
         "showlegend": false,
         "type": "scatter",
         "x": [
          1096.5050200540427
         ],
         "y": [
          413.86312983302554
         ]
        },
        {
         "hovertext": "ratio: 0.175",
         "legendgroup": "1",
         "marker": {
          "color": "rgb(239.90625, 11.9765625, 133.90625)",
          "size": 10,
          "symbol": "diamond-open"
         },
         "mode": "markers",
         "name": "log<sub>10</sub>T<sub>max</sub>=7.0 NuSTAR 2.5-3.5 keV",
         "showlegend": false,
         "type": "scatter",
         "x": [
          498.63537770079637
         ],
         "y": [
          87.27541581728318
         ]
        },
        {
         "hovertext": "ratio: 0.488",
         "legendgroup": "1",
         "marker": {
          "color": "rgb(239.90625, 11.9765625, 133.90625)",
          "size": 10,
          "symbol": "square-open"
         },
         "mode": "markers",
         "name": "log<sub>10</sub>T<sub>max</sub>=7.0 NuSTAR 2.5-3.5 keV",
         "showlegend": false,
         "type": "scatter",
         "x": [
          29.019773365796073
         ],
         "y": [
          14.17049326602014
         ]
        },
        {
         "hovertext": "ratio: 0.003",
         "legendgroup": "1",
         "marker": {
          "color": "rgb(239.90625, 11.9765625, 133.90625)",
          "size": 10,
          "symbol": "star-open"
         },
         "mode": "markers",
         "name": "log<sub>10</sub>T<sub>max</sub>=7.0 NuSTAR 2.5-3.5 keV",
         "showlegend": false,
         "type": "scatter",
         "x": [
          13.70879077911377
         ],
         "y": [
          0.03750824206095594
         ]
        },
        {
         "hovertext": "ratio: 0.0",
         "legendgroup": "1",
         "marker": {
          "color": "rgb(239.90625, 11.9765625, 133.90625)",
          "size": 10,
          "symbol": "hexagon-open"
         },
         "mode": "markers",
         "name": "log<sub>10</sub>T<sub>max</sub>=7.0 NuSTAR 2.5-3.5 keV",
         "showlegend": false,
         "type": "scatter",
         "x": [
          0.21206398124116085
         ],
         "y": [
          2.698960696436358e-08
         ]
        },
        {
         "legendgroup": "1",
         "line": {
          "color": "rgb(239.90625, 11.9765625, 133.90625)",
          "width": 0.5
         },
         "name": "log<sub>10</sub>T<sub>max</sub>=6.1",
         "type": "scatter",
         "x": [
          0.01,
          0.011497569953977356,
          0.013219411484660288,
          0.01519911082952934,
          0.01747528400007684,
          0.02009233002565047,
          0.023101297000831605,
          0.026560877829466867,
          0.030538555088334154,
          0.03511191734215131,
          0.040370172585965536,
          0.046415888336127795,
          0.0533669923120631,
          0.06135907273413173,
          0.07054802310718646,
          0.08111308307896872,
          0.093260334688322,
          0.10722672220103231,
          0.12328467394420659,
          0.14174741629268056,
          0.16297508346206444,
          0.1873817422860384,
          0.21544346900318845,
          0.24770763559917114,
          0.2848035868435802,
          0.32745491628777285,
          0.37649358067924676,
          0.43287612810830595,
          0.49770235643321115,
          0.5722367659350217,
          0.6579332246575682,
          0.7564633275546291,
          0.8697490026177834,
          1,
          1.1497569953977356,
          1.3219411484660286,
          1.5199110829529332,
          1.7475284000076847,
          2.0092330025650478,
          2.31012970008316,
          2.656087782946687,
          3.0538555088334154,
          3.511191734215131,
          4.037017258596554,
          4.641588833612782,
          5.336699231206313,
          6.135907273413176,
          7.054802310718645,
          8.111308307896872,
          9.326033468832199,
          10.722672220103231,
          12.32846739442066,
          14.174741629268048,
          16.297508346206453,
          18.73817422860385,
          21.544346900318846,
          24.770763559917114,
          28.48035868435802,
          32.74549162877728,
          37.64935806792467,
          43.287612810830616,
          49.770235643321136,
          57.2236765935022,
          65.79332246575683,
          75.64633275546291,
          86.97490026177834,
          100,
          114.97569953977356,
          132.19411484660287,
          151.99110829529332,
          174.7528400007683,
          200.92330025650458,
          231.0129700083158,
          265.6087782946689,
          305.38555088334186,
          351.11917342151344,
          403.70172585965577,
          464.1588833612782,
          533.6699231206312,
          613.5907273413176,
          705.4802310718645,
          811.1308307896873,
          932.60334688322,
          1072.2672220103232,
          1232.8467394420659,
          1417.4741629268049,
          1629.7508346206434,
          1873.817422860383,
          2154.4346900318865,
          2477.076355991714,
          2848.035868435805,
          3274.5491628777318,
          3764.9358067924713,
          4328.7612810830615,
          4977.023564332114,
          5722.3676593502205,
          6579.332246575683,
          7564.633275546291,
          8697.490026177835,
          10000
         ],
         "y": [
          0.01,
          0.011497569953977356,
          0.013219411484660288,
          0.01519911082952934,
          0.01747528400007684,
          0.02009233002565047,
          0.023101297000831605,
          0.026560877829466867,
          0.030538555088334154,
          0.03511191734215131,
          0.040370172585965536,
          0.046415888336127795,
          0.0533669923120631,
          0.06135907273413173,
          0.07054802310718646,
          0.08111308307896872,
          0.093260334688322,
          0.10722672220103231,
          0.12328467394420659,
          0.14174741629268056,
          0.16297508346206444,
          0.1873817422860384,
          0.21544346900318845,
          0.24770763559917114,
          0.2848035868435802,
          0.32745491628777285,
          0.37649358067924676,
          0.43287612810830595,
          0.49770235643321115,
          0.5722367659350217,
          0.6579332246575682,
          0.7564633275546291,
          0.8697490026177834,
          1,
          1.1497569953977356,
          1.3219411484660286,
          1.5199110829529332,
          1.7475284000076847,
          2.0092330025650478,
          2.31012970008316,
          2.656087782946687,
          3.0538555088334154,
          3.511191734215131,
          4.037017258596554,
          4.641588833612782,
          5.336699231206313,
          6.135907273413176,
          7.054802310718645,
          8.111308307896872,
          9.326033468832199,
          10.722672220103231,
          12.32846739442066,
          14.174741629268048,
          16.297508346206453,
          18.73817422860385,
          21.544346900318846,
          24.770763559917114,
          28.48035868435802,
          32.74549162877728,
          37.64935806792467,
          43.287612810830616,
          49.770235643321136,
          57.2236765935022,
          65.79332246575683,
          75.64633275546291,
          86.97490026177834,
          100,
          114.97569953977356,
          132.19411484660287,
          151.99110829529332,
          174.7528400007683,
          200.92330025650458,
          231.0129700083158,
          265.6087782946689,
          305.38555088334186,
          351.11917342151344,
          403.70172585965577,
          464.1588833612782,
          533.6699231206312,
          613.5907273413176,
          705.4802310718645,
          811.1308307896873,
          932.60334688322,
          1072.2672220103232,
          1232.8467394420659,
          1417.4741629268049,
          1629.7508346206434,
          1873.817422860383,
          2154.4346900318865,
          2477.076355991714,
          2848.035868435805,
          3274.5491628777318,
          3764.9358067924713,
          4328.7612810830615,
          4977.023564332114,
          5722.3676593502205,
          6579.332246575683,
          7564.633275546291,
          8697.490026177835,
          10000
         ]
        },
        {
         "hovertext": "ratio: 0.498",
         "legendgroup": "2",
         "marker": {
          "color": "rgb(225.53125, 23.3828125, 139.53125)",
          "size": 10,
          "symbol": "cross-open"
         },
         "mode": "markers",
         "name": "log<sub>10</sub>T<sub>max</sub>=7.0 NuSTAR 2.5-3.5 keV",
         "showlegend": false,
         "type": "scatter",
         "x": [
          3.4871647714756313
         ],
         "y": [
          1.7357961655051009
         ]
        },
        {
         "hovertext": "ratio: 0.5",
         "legendgroup": "2",
         "marker": {
          "color": "rgb(225.53125, 23.3828125, 139.53125)",
          "size": 10,
          "symbol": "triangle-up-open"
         },
         "mode": "markers",
         "name": "log<sub>10</sub>T<sub>max</sub>=7.0 NuSTAR 2.5-3.5 keV",
         "showlegend": false,
         "type": "scatter",
         "x": [
          49.03957872227575
         ],
         "y": [
          24.519430268708803
         ]
        },
        {
         "hovertext": "ratio: 1.065",
         "legendgroup": "2",
         "marker": {
          "color": "rgb(225.53125, 23.3828125, 139.53125)",
          "size": 10,
          "symbol": "circle-open"
         },
         "mode": "markers",
         "name": "log<sub>10</sub>T<sub>max</sub>=7.0 NuSTAR 2.5-3.5 keV",
         "showlegend": false,
         "type": "scatter",
         "x": [
          628.3652421971151
         ],
         "y": [
          669.5210172156116
         ]
        },
        {
         "hovertext": "ratio: 0.709",
         "legendgroup": "2",
         "marker": {
          "color": "rgb(225.53125, 23.3828125, 139.53125)",
          "size": 10,
          "symbol": "triangle-down-open"
         },
         "mode": "markers",
         "name": "log<sub>10</sub>T<sub>max</sub>=7.0 NuSTAR 2.5-3.5 keV",
         "showlegend": false,
         "type": "scatter",
         "x": [
          1096.5050200540427
         ],
         "y": [
          776.9700040941267
         ]
        },
        {
         "hovertext": "ratio: 0.28",
         "legendgroup": "2",
         "marker": {
          "color": "rgb(225.53125, 23.3828125, 139.53125)",
          "size": 10,
          "symbol": "diamond-open"
         },
         "mode": "markers",
         "name": "log<sub>10</sub>T<sub>max</sub>=7.0 NuSTAR 2.5-3.5 keV",
         "showlegend": false,
         "type": "scatter",
         "x": [
          498.63537770079637
         ],
         "y": [
          139.7634016488945
         ]
        },
        {
         "hovertext": "ratio: 0.369",
         "legendgroup": "2",
         "marker": {
          "color": "rgb(225.53125, 23.3828125, 139.53125)",
          "size": 10,
          "symbol": "square-open"
         },
         "mode": "markers",
         "name": "log<sub>10</sub>T<sub>max</sub>=7.0 NuSTAR 2.5-3.5 keV",
         "showlegend": false,
         "type": "scatter",
         "x": [
          29.019773365796073
         ],
         "y": [
          10.710760603904706
         ]
        },
        {
         "hovertext": "ratio: 0.019",
         "legendgroup": "2",
         "marker": {
          "color": "rgb(225.53125, 23.3828125, 139.53125)",
          "size": 10,
          "symbol": "star-open"
         },
         "mode": "markers",
         "name": "log<sub>10</sub>T<sub>max</sub>=7.0 NuSTAR 2.5-3.5 keV",
         "showlegend": false,
         "type": "scatter",
         "x": [
          13.70879077911377
         ],
         "y": [
          0.25875200989396907
         ]
        },
        {
         "hovertext": "ratio: 0.0",
         "legendgroup": "2",
         "marker": {
          "color": "rgb(225.53125, 23.3828125, 139.53125)",
          "size": 10,
          "symbol": "hexagon-open"
         },
         "mode": "markers",
         "name": "log<sub>10</sub>T<sub>max</sub>=7.0 NuSTAR 2.5-3.5 keV",
         "showlegend": false,
         "type": "scatter",
         "x": [
          0.21206398124116085
         ],
         "y": [
          3.799864572723714e-06
         ]
        },
        {
         "legendgroup": "2",
         "line": {
          "color": "rgb(225.53125, 23.3828125, 139.53125)",
          "width": 0.5
         },
         "name": "log<sub>10</sub>T<sub>max</sub>=6.2",
         "type": "scatter",
         "x": [
          0.01,
          0.011497569953977356,
          0.013219411484660288,
          0.01519911082952934,
          0.01747528400007684,
          0.02009233002565047,
          0.023101297000831605,
          0.026560877829466867,
          0.030538555088334154,
          0.03511191734215131,
          0.040370172585965536,
          0.046415888336127795,
          0.0533669923120631,
          0.06135907273413173,
          0.07054802310718646,
          0.08111308307896872,
          0.093260334688322,
          0.10722672220103231,
          0.12328467394420659,
          0.14174741629268056,
          0.16297508346206444,
          0.1873817422860384,
          0.21544346900318845,
          0.24770763559917114,
          0.2848035868435802,
          0.32745491628777285,
          0.37649358067924676,
          0.43287612810830595,
          0.49770235643321115,
          0.5722367659350217,
          0.6579332246575682,
          0.7564633275546291,
          0.8697490026177834,
          1,
          1.1497569953977356,
          1.3219411484660286,
          1.5199110829529332,
          1.7475284000076847,
          2.0092330025650478,
          2.31012970008316,
          2.656087782946687,
          3.0538555088334154,
          3.511191734215131,
          4.037017258596554,
          4.641588833612782,
          5.336699231206313,
          6.135907273413176,
          7.054802310718645,
          8.111308307896872,
          9.326033468832199,
          10.722672220103231,
          12.32846739442066,
          14.174741629268048,
          16.297508346206453,
          18.73817422860385,
          21.544346900318846,
          24.770763559917114,
          28.48035868435802,
          32.74549162877728,
          37.64935806792467,
          43.287612810830616,
          49.770235643321136,
          57.2236765935022,
          65.79332246575683,
          75.64633275546291,
          86.97490026177834,
          100,
          114.97569953977356,
          132.19411484660287,
          151.99110829529332,
          174.7528400007683,
          200.92330025650458,
          231.0129700083158,
          265.6087782946689,
          305.38555088334186,
          351.11917342151344,
          403.70172585965577,
          464.1588833612782,
          533.6699231206312,
          613.5907273413176,
          705.4802310718645,
          811.1308307896873,
          932.60334688322,
          1072.2672220103232,
          1232.8467394420659,
          1417.4741629268049,
          1629.7508346206434,
          1873.817422860383,
          2154.4346900318865,
          2477.076355991714,
          2848.035868435805,
          3274.5491628777318,
          3764.9358067924713,
          4328.7612810830615,
          4977.023564332114,
          5722.3676593502205,
          6579.332246575683,
          7564.633275546291,
          8697.490026177835,
          10000
         ],
         "y": [
          0.01,
          0.011497569953977356,
          0.013219411484660288,
          0.01519911082952934,
          0.01747528400007684,
          0.02009233002565047,
          0.023101297000831605,
          0.026560877829466867,
          0.030538555088334154,
          0.03511191734215131,
          0.040370172585965536,
          0.046415888336127795,
          0.0533669923120631,
          0.06135907273413173,
          0.07054802310718646,
          0.08111308307896872,
          0.093260334688322,
          0.10722672220103231,
          0.12328467394420659,
          0.14174741629268056,
          0.16297508346206444,
          0.1873817422860384,
          0.21544346900318845,
          0.24770763559917114,
          0.2848035868435802,
          0.32745491628777285,
          0.37649358067924676,
          0.43287612810830595,
          0.49770235643321115,
          0.5722367659350217,
          0.6579332246575682,
          0.7564633275546291,
          0.8697490026177834,
          1,
          1.1497569953977356,
          1.3219411484660286,
          1.5199110829529332,
          1.7475284000076847,
          2.0092330025650478,
          2.31012970008316,
          2.656087782946687,
          3.0538555088334154,
          3.511191734215131,
          4.037017258596554,
          4.641588833612782,
          5.336699231206313,
          6.135907273413176,
          7.054802310718645,
          8.111308307896872,
          9.326033468832199,
          10.722672220103231,
          12.32846739442066,
          14.174741629268048,
          16.297508346206453,
          18.73817422860385,
          21.544346900318846,
          24.770763559917114,
          28.48035868435802,
          32.74549162877728,
          37.64935806792467,
          43.287612810830616,
          49.770235643321136,
          57.2236765935022,
          65.79332246575683,
          75.64633275546291,
          86.97490026177834,
          100,
          114.97569953977356,
          132.19411484660287,
          151.99110829529332,
          174.7528400007683,
          200.92330025650458,
          231.0129700083158,
          265.6087782946689,
          305.38555088334186,
          351.11917342151344,
          403.70172585965577,
          464.1588833612782,
          533.6699231206312,
          613.5907273413176,
          705.4802310718645,
          811.1308307896873,
          932.60334688322,
          1072.2672220103232,
          1232.8467394420659,
          1417.4741629268049,
          1629.7508346206434,
          1873.817422860383,
          2154.4346900318865,
          2477.076355991714,
          2848.035868435805,
          3274.5491628777318,
          3764.9358067924713,
          4328.7612810830615,
          4977.023564332114,
          5722.3676593502205,
          6579.332246575683,
          7564.633275546291,
          8697.490026177835,
          10000
         ]
        },
        {
         "hovertext": "ratio: 0.664",
         "legendgroup": "3",
         "marker": {
          "color": "rgb(211.15625, 34.7890625, 145.15625)",
          "size": 10,
          "symbol": "cross-open"
         },
         "mode": "markers",
         "name": "log<sub>10</sub>T<sub>max</sub>=7.0 NuSTAR 2.5-3.5 keV",
         "showlegend": false,
         "type": "scatter",
         "x": [
          3.4871647714756313
         ],
         "y": [
          2.3159721303998264
         ]
        },
        {
         "hovertext": "ratio: 0.594",
         "legendgroup": "3",
         "marker": {
          "color": "rgb(211.15625, 34.7890625, 145.15625)",
          "size": 10,
          "symbol": "triangle-up-open"
         },
         "mode": "markers",
         "name": "log<sub>10</sub>T<sub>max</sub>=7.0 NuSTAR 2.5-3.5 keV",
         "showlegend": false,
         "type": "scatter",
         "x": [
          49.03957872227575
         ],
         "y": [
          29.14565385516632
         ]
        },
        {
         "hovertext": "ratio: 1.026",
         "legendgroup": "3",
         "marker": {
          "color": "rgb(211.15625, 34.7890625, 145.15625)",
          "size": 10,
          "symbol": "circle-open"
         },
         "mode": "markers",
         "name": "log<sub>10</sub>T<sub>max</sub>=7.0 NuSTAR 2.5-3.5 keV",
         "showlegend": false,
         "type": "scatter",
         "x": [
          628.3652421971151
         ],
         "y": [
          644.4485015928374
         ]
        },
        {
         "hovertext": "ratio: 1.016",
         "legendgroup": "3",
         "marker": {
          "color": "rgb(211.15625, 34.7890625, 145.15625)",
          "size": 10,
          "symbol": "triangle-down-open"
         },
         "mode": "markers",
         "name": "log<sub>10</sub>T<sub>max</sub>=7.0 NuSTAR 2.5-3.5 keV",
         "showlegend": false,
         "type": "scatter",
         "x": [
          1096.5050200540427
         ],
         "y": [
          1113.6784565453806
         ]
        },
        {
         "hovertext": "ratio: 0.65",
         "legendgroup": "3",
         "marker": {
          "color": "rgb(211.15625, 34.7890625, 145.15625)",
          "size": 10,
          "symbol": "diamond-open"
         },
         "mode": "markers",
         "name": "log<sub>10</sub>T<sub>max</sub>=7.0 NuSTAR 2.5-3.5 keV",
         "showlegend": false,
         "type": "scatter",
         "x": [
          498.63537770079637
         ],
         "y": [
          324.22226111967166
         ]
        },
        {
         "hovertext": "ratio: 0.506",
         "legendgroup": "3",
         "marker": {
          "color": "rgb(211.15625, 34.7890625, 145.15625)",
          "size": 10,
          "symbol": "square-open"
         },
         "mode": "markers",
         "name": "log<sub>10</sub>T<sub>max</sub>=7.0 NuSTAR 2.5-3.5 keV",
         "showlegend": false,
         "type": "scatter",
         "x": [
          29.019773365796073
         ],
         "y": [
          14.684222952066953
         ]
        },
        {
         "hovertext": "ratio: 0.103",
         "legendgroup": "3",
         "marker": {
          "color": "rgb(211.15625, 34.7890625, 145.15625)",
          "size": 10,
          "symbol": "star-open"
         },
         "mode": "markers",
         "name": "log<sub>10</sub>T<sub>max</sub>=7.0 NuSTAR 2.5-3.5 keV",
         "showlegend": false,
         "type": "scatter",
         "x": [
          13.70879077911377
         ],
         "y": [
          1.4187189708218275
         ]
        },
        {
         "hovertext": "ratio: 0.001",
         "legendgroup": "3",
         "marker": {
          "color": "rgb(211.15625, 34.7890625, 145.15625)",
          "size": 10,
          "symbol": "hexagon-open"
         },
         "mode": "markers",
         "name": "log<sub>10</sub>T<sub>max</sub>=7.0 NuSTAR 2.5-3.5 keV",
         "showlegend": false,
         "type": "scatter",
         "x": [
          0.21206398124116085
         ],
         "y": [
          0.00025898428254819033
         ]
        },
        {
         "legendgroup": "3",
         "line": {
          "color": "rgb(211.15625, 34.7890625, 145.15625)",
          "width": 0.5
         },
         "name": "log<sub>10</sub>T<sub>max</sub>=6.3",
         "type": "scatter",
         "x": [
          0.01,
          0.011497569953977356,
          0.013219411484660288,
          0.01519911082952934,
          0.01747528400007684,
          0.02009233002565047,
          0.023101297000831605,
          0.026560877829466867,
          0.030538555088334154,
          0.03511191734215131,
          0.040370172585965536,
          0.046415888336127795,
          0.0533669923120631,
          0.06135907273413173,
          0.07054802310718646,
          0.08111308307896872,
          0.093260334688322,
          0.10722672220103231,
          0.12328467394420659,
          0.14174741629268056,
          0.16297508346206444,
          0.1873817422860384,
          0.21544346900318845,
          0.24770763559917114,
          0.2848035868435802,
          0.32745491628777285,
          0.37649358067924676,
          0.43287612810830595,
          0.49770235643321115,
          0.5722367659350217,
          0.6579332246575682,
          0.7564633275546291,
          0.8697490026177834,
          1,
          1.1497569953977356,
          1.3219411484660286,
          1.5199110829529332,
          1.7475284000076847,
          2.0092330025650478,
          2.31012970008316,
          2.656087782946687,
          3.0538555088334154,
          3.511191734215131,
          4.037017258596554,
          4.641588833612782,
          5.336699231206313,
          6.135907273413176,
          7.054802310718645,
          8.111308307896872,
          9.326033468832199,
          10.722672220103231,
          12.32846739442066,
          14.174741629268048,
          16.297508346206453,
          18.73817422860385,
          21.544346900318846,
          24.770763559917114,
          28.48035868435802,
          32.74549162877728,
          37.64935806792467,
          43.287612810830616,
          49.770235643321136,
          57.2236765935022,
          65.79332246575683,
          75.64633275546291,
          86.97490026177834,
          100,
          114.97569953977356,
          132.19411484660287,
          151.99110829529332,
          174.7528400007683,
          200.92330025650458,
          231.0129700083158,
          265.6087782946689,
          305.38555088334186,
          351.11917342151344,
          403.70172585965577,
          464.1588833612782,
          533.6699231206312,
          613.5907273413176,
          705.4802310718645,
          811.1308307896873,
          932.60334688322,
          1072.2672220103232,
          1232.8467394420659,
          1417.4741629268049,
          1629.7508346206434,
          1873.817422860383,
          2154.4346900318865,
          2477.076355991714,
          2848.035868435805,
          3274.5491628777318,
          3764.9358067924713,
          4328.7612810830615,
          4977.023564332114,
          5722.3676593502205,
          6579.332246575683,
          7564.633275546291,
          8697.490026177835,
          10000
         ],
         "y": [
          0.01,
          0.011497569953977356,
          0.013219411484660288,
          0.01519911082952934,
          0.01747528400007684,
          0.02009233002565047,
          0.023101297000831605,
          0.026560877829466867,
          0.030538555088334154,
          0.03511191734215131,
          0.040370172585965536,
          0.046415888336127795,
          0.0533669923120631,
          0.06135907273413173,
          0.07054802310718646,
          0.08111308307896872,
          0.093260334688322,
          0.10722672220103231,
          0.12328467394420659,
          0.14174741629268056,
          0.16297508346206444,
          0.1873817422860384,
          0.21544346900318845,
          0.24770763559917114,
          0.2848035868435802,
          0.32745491628777285,
          0.37649358067924676,
          0.43287612810830595,
          0.49770235643321115,
          0.5722367659350217,
          0.6579332246575682,
          0.7564633275546291,
          0.8697490026177834,
          1,
          1.1497569953977356,
          1.3219411484660286,
          1.5199110829529332,
          1.7475284000076847,
          2.0092330025650478,
          2.31012970008316,
          2.656087782946687,
          3.0538555088334154,
          3.511191734215131,
          4.037017258596554,
          4.641588833612782,
          5.336699231206313,
          6.135907273413176,
          7.054802310718645,
          8.111308307896872,
          9.326033468832199,
          10.722672220103231,
          12.32846739442066,
          14.174741629268048,
          16.297508346206453,
          18.73817422860385,
          21.544346900318846,
          24.770763559917114,
          28.48035868435802,
          32.74549162877728,
          37.64935806792467,
          43.287612810830616,
          49.770235643321136,
          57.2236765935022,
          65.79332246575683,
          75.64633275546291,
          86.97490026177834,
          100,
          114.97569953977356,
          132.19411484660287,
          151.99110829529332,
          174.7528400007683,
          200.92330025650458,
          231.0129700083158,
          265.6087782946689,
          305.38555088334186,
          351.11917342151344,
          403.70172585965577,
          464.1588833612782,
          533.6699231206312,
          613.5907273413176,
          705.4802310718645,
          811.1308307896873,
          932.60334688322,
          1072.2672220103232,
          1232.8467394420659,
          1417.4741629268049,
          1629.7508346206434,
          1873.817422860383,
          2154.4346900318865,
          2477.076355991714,
          2848.035868435805,
          3274.5491628777318,
          3764.9358067924713,
          4328.7612810830615,
          4977.023564332114,
          5722.3676593502205,
          6579.332246575683,
          7564.633275546291,
          8697.490026177835,
          10000
         ]
        },
        {
         "hovertext": "ratio: 0.89",
         "legendgroup": "4",
         "marker": {
          "color": "rgb(196.78125, 46.1953125, 150.78125)",
          "size": 10,
          "symbol": "cross-open"
         },
         "mode": "markers",
         "name": "log<sub>10</sub>T<sub>max</sub>=7.0 NuSTAR 2.5-3.5 keV",
         "showlegend": false,
         "type": "scatter",
         "x": [
          3.4871647714756313
         ],
         "y": [
          3.1022195937084005
         ]
        },
        {
         "hovertext": "ratio: 0.825",
         "legendgroup": "4",
         "marker": {
          "color": "rgb(196.78125, 46.1953125, 150.78125)",
          "size": 10,
          "symbol": "triangle-up-open"
         },
         "mode": "markers",
         "name": "log<sub>10</sub>T<sub>max</sub>=7.0 NuSTAR 2.5-3.5 keV",
         "showlegend": false,
         "type": "scatter",
         "x": [
          49.03957872227575
         ],
         "y": [
          40.46563433264002
         ]
        },
        {
         "hovertext": "ratio: 1.014",
         "legendgroup": "4",
         "marker": {
          "color": "rgb(196.78125, 46.1953125, 150.78125)",
          "size": 10,
          "symbol": "circle-open"
         },
         "mode": "markers",
         "name": "log<sub>10</sub>T<sub>max</sub>=7.0 NuSTAR 2.5-3.5 keV",
         "showlegend": false,
         "type": "scatter",
         "x": [
          628.3652421971151
         ],
         "y": [
          637.4524450750398
         ]
        },
        {
         "hovertext": "ratio: 0.98",
         "legendgroup": "4",
         "marker": {
          "color": "rgb(196.78125, 46.1953125, 150.78125)",
          "size": 10,
          "symbol": "triangle-down-open"
         },
         "mode": "markers",
         "name": "log<sub>10</sub>T<sub>max</sub>=7.0 NuSTAR 2.5-3.5 keV",
         "showlegend": false,
         "type": "scatter",
         "x": [
          1096.5050200540427
         ],
         "y": [
          1074.9040067871194
         ]
        },
        {
         "hovertext": "ratio: 1.018",
         "legendgroup": "4",
         "marker": {
          "color": "rgb(196.78125, 46.1953125, 150.78125)",
          "size": 10,
          "symbol": "diamond-open"
         },
         "mode": "markers",
         "name": "log<sub>10</sub>T<sub>max</sub>=7.0 NuSTAR 2.5-3.5 keV",
         "showlegend": false,
         "type": "scatter",
         "x": [
          498.63537770079637
         ],
         "y": [
          507.7149231821443
         ]
        },
        {
         "hovertext": "ratio: 0.919",
         "legendgroup": "4",
         "marker": {
          "color": "rgb(196.78125, 46.1953125, 150.78125)",
          "size": 10,
          "symbol": "square-open"
         },
         "mode": "markers",
         "name": "log<sub>10</sub>T<sub>max</sub>=7.0 NuSTAR 2.5-3.5 keV",
         "showlegend": false,
         "type": "scatter",
         "x": [
          29.019773365796073
         ],
         "y": [
          26.66717277828228
         ]
        },
        {
         "hovertext": "ratio: 0.722",
         "legendgroup": "4",
         "marker": {
          "color": "rgb(196.78125, 46.1953125, 150.78125)",
          "size": 10,
          "symbol": "star-open"
         },
         "mode": "markers",
         "name": "log<sub>10</sub>T<sub>max</sub>=7.0 NuSTAR 2.5-3.5 keV",
         "showlegend": false,
         "type": "scatter",
         "x": [
          13.70879077911377
         ],
         "y": [
          9.895021622704315
         ]
        },
        {
         "hovertext": "ratio: 0.065",
         "legendgroup": "4",
         "marker": {
          "color": "rgb(196.78125, 46.1953125, 150.78125)",
          "size": 10,
          "symbol": "hexagon-open"
         },
         "mode": "markers",
         "name": "log<sub>10</sub>T<sub>max</sub>=7.0 NuSTAR 2.5-3.5 keV",
         "showlegend": false,
         "type": "scatter",
         "x": [
          0.21206398124116085
         ],
         "y": [
          0.013779216098098535
         ]
        },
        {
         "legendgroup": "4",
         "line": {
          "color": "rgb(196.78125, 46.1953125, 150.78125)",
          "width": 0.5
         },
         "name": "log<sub>10</sub>T<sub>max</sub>=6.4",
         "type": "scatter",
         "x": [
          0.01,
          0.011497569953977356,
          0.013219411484660288,
          0.01519911082952934,
          0.01747528400007684,
          0.02009233002565047,
          0.023101297000831605,
          0.026560877829466867,
          0.030538555088334154,
          0.03511191734215131,
          0.040370172585965536,
          0.046415888336127795,
          0.0533669923120631,
          0.06135907273413173,
          0.07054802310718646,
          0.08111308307896872,
          0.093260334688322,
          0.10722672220103231,
          0.12328467394420659,
          0.14174741629268056,
          0.16297508346206444,
          0.1873817422860384,
          0.21544346900318845,
          0.24770763559917114,
          0.2848035868435802,
          0.32745491628777285,
          0.37649358067924676,
          0.43287612810830595,
          0.49770235643321115,
          0.5722367659350217,
          0.6579332246575682,
          0.7564633275546291,
          0.8697490026177834,
          1,
          1.1497569953977356,
          1.3219411484660286,
          1.5199110829529332,
          1.7475284000076847,
          2.0092330025650478,
          2.31012970008316,
          2.656087782946687,
          3.0538555088334154,
          3.511191734215131,
          4.037017258596554,
          4.641588833612782,
          5.336699231206313,
          6.135907273413176,
          7.054802310718645,
          8.111308307896872,
          9.326033468832199,
          10.722672220103231,
          12.32846739442066,
          14.174741629268048,
          16.297508346206453,
          18.73817422860385,
          21.544346900318846,
          24.770763559917114,
          28.48035868435802,
          32.74549162877728,
          37.64935806792467,
          43.287612810830616,
          49.770235643321136,
          57.2236765935022,
          65.79332246575683,
          75.64633275546291,
          86.97490026177834,
          100,
          114.97569953977356,
          132.19411484660287,
          151.99110829529332,
          174.7528400007683,
          200.92330025650458,
          231.0129700083158,
          265.6087782946689,
          305.38555088334186,
          351.11917342151344,
          403.70172585965577,
          464.1588833612782,
          533.6699231206312,
          613.5907273413176,
          705.4802310718645,
          811.1308307896873,
          932.60334688322,
          1072.2672220103232,
          1232.8467394420659,
          1417.4741629268049,
          1629.7508346206434,
          1873.817422860383,
          2154.4346900318865,
          2477.076355991714,
          2848.035868435805,
          3274.5491628777318,
          3764.9358067924713,
          4328.7612810830615,
          4977.023564332114,
          5722.3676593502205,
          6579.332246575683,
          7564.633275546291,
          8697.490026177835,
          10000
         ],
         "y": [
          0.01,
          0.011497569953977356,
          0.013219411484660288,
          0.01519911082952934,
          0.01747528400007684,
          0.02009233002565047,
          0.023101297000831605,
          0.026560877829466867,
          0.030538555088334154,
          0.03511191734215131,
          0.040370172585965536,
          0.046415888336127795,
          0.0533669923120631,
          0.06135907273413173,
          0.07054802310718646,
          0.08111308307896872,
          0.093260334688322,
          0.10722672220103231,
          0.12328467394420659,
          0.14174741629268056,
          0.16297508346206444,
          0.1873817422860384,
          0.21544346900318845,
          0.24770763559917114,
          0.2848035868435802,
          0.32745491628777285,
          0.37649358067924676,
          0.43287612810830595,
          0.49770235643321115,
          0.5722367659350217,
          0.6579332246575682,
          0.7564633275546291,
          0.8697490026177834,
          1,
          1.1497569953977356,
          1.3219411484660286,
          1.5199110829529332,
          1.7475284000076847,
          2.0092330025650478,
          2.31012970008316,
          2.656087782946687,
          3.0538555088334154,
          3.511191734215131,
          4.037017258596554,
          4.641588833612782,
          5.336699231206313,
          6.135907273413176,
          7.054802310718645,
          8.111308307896872,
          9.326033468832199,
          10.722672220103231,
          12.32846739442066,
          14.174741629268048,
          16.297508346206453,
          18.73817422860385,
          21.544346900318846,
          24.770763559917114,
          28.48035868435802,
          32.74549162877728,
          37.64935806792467,
          43.287612810830616,
          49.770235643321136,
          57.2236765935022,
          65.79332246575683,
          75.64633275546291,
          86.97490026177834,
          100,
          114.97569953977356,
          132.19411484660287,
          151.99110829529332,
          174.7528400007683,
          200.92330025650458,
          231.0129700083158,
          265.6087782946689,
          305.38555088334186,
          351.11917342151344,
          403.70172585965577,
          464.1588833612782,
          533.6699231206312,
          613.5907273413176,
          705.4802310718645,
          811.1308307896873,
          932.60334688322,
          1072.2672220103232,
          1232.8467394420659,
          1417.4741629268049,
          1629.7508346206434,
          1873.817422860383,
          2154.4346900318865,
          2477.076355991714,
          2848.035868435805,
          3274.5491628777318,
          3764.9358067924713,
          4328.7612810830615,
          4977.023564332114,
          5722.3676593502205,
          6579.332246575683,
          7564.633275546291,
          8697.490026177835,
          10000
         ]
        },
        {
         "hovertext": "ratio: 0.874",
         "legendgroup": "5",
         "marker": {
          "color": "rgb(182.40625, 57.6015625, 156.40625)",
          "size": 10,
          "symbol": "cross-open"
         },
         "mode": "markers",
         "name": "log<sub>10</sub>T<sub>max</sub>=7.0 NuSTAR 2.5-3.5 keV",
         "showlegend": false,
         "type": "scatter",
         "x": [
          3.4871647714756313
         ],
         "y": [
          3.046849513761734
         ]
        },
        {
         "hovertext": "ratio: 0.813",
         "legendgroup": "5",
         "marker": {
          "color": "rgb(182.40625, 57.6015625, 156.40625)",
          "size": 10,
          "symbol": "triangle-up-open"
         },
         "mode": "markers",
         "name": "log<sub>10</sub>T<sub>max</sub>=7.0 NuSTAR 2.5-3.5 keV",
         "showlegend": false,
         "type": "scatter",
         "x": [
          49.03957872227575
         ],
         "y": [
          39.84652235955166
         ]
        },
        {
         "hovertext": "ratio: 1.015",
         "legendgroup": "5",
         "marker": {
          "color": "rgb(182.40625, 57.6015625, 156.40625)",
          "size": 10,
          "symbol": "circle-open"
         },
         "mode": "markers",
         "name": "log<sub>10</sub>T<sub>max</sub>=7.0 NuSTAR 2.5-3.5 keV",
         "showlegend": false,
         "type": "scatter",
         "x": [
          628.3652421971151
         ],
         "y": [
          637.546675580145
         ]
        },
        {
         "hovertext": "ratio: 1.003",
         "legendgroup": "5",
         "marker": {
          "color": "rgb(182.40625, 57.6015625, 156.40625)",
          "size": 10,
          "symbol": "triangle-down-open"
         },
         "mode": "markers",
         "name": "log<sub>10</sub>T<sub>max</sub>=7.0 NuSTAR 2.5-3.5 keV",
         "showlegend": false,
         "type": "scatter",
         "x": [
          1096.5050200540427
         ],
         "y": [
          1099.4571568827216
         ]
        },
        {
         "hovertext": "ratio: 0.941",
         "legendgroup": "5",
         "marker": {
          "color": "rgb(182.40625, 57.6015625, 156.40625)",
          "size": 10,
          "symbol": "diamond-open"
         },
         "mode": "markers",
         "name": "log<sub>10</sub>T<sub>max</sub>=7.0 NuSTAR 2.5-3.5 keV",
         "showlegend": false,
         "type": "scatter",
         "x": [
          498.63537770079637
         ],
         "y": [
          469.21031302566155
         ]
        },
        {
         "hovertext": "ratio: 0.912",
         "legendgroup": "5",
         "marker": {
          "color": "rgb(182.40625, 57.6015625, 156.40625)",
          "size": 10,
          "symbol": "square-open"
         },
         "mode": "markers",
         "name": "log<sub>10</sub>T<sub>max</sub>=7.0 NuSTAR 2.5-3.5 keV",
         "showlegend": false,
         "type": "scatter",
         "x": [
          29.019773365796073
         ],
         "y": [
          26.478901807409773
         ]
        },
        {
         "hovertext": "ratio: 1.161",
         "legendgroup": "5",
         "marker": {
          "color": "rgb(182.40625, 57.6015625, 156.40625)",
          "size": 10,
          "symbol": "star-open"
         },
         "mode": "markers",
         "name": "log<sub>10</sub>T<sub>max</sub>=7.0 NuSTAR 2.5-3.5 keV",
         "showlegend": false,
         "type": "scatter",
         "x": [
          13.70879077911377
         ],
         "y": [
          15.913826641966974
         ]
        },
        {
         "hovertext": "ratio: 0.376",
         "legendgroup": "5",
         "marker": {
          "color": "rgb(182.40625, 57.6015625, 156.40625)",
          "size": 10,
          "symbol": "hexagon-open"
         },
         "mode": "markers",
         "name": "log<sub>10</sub>T<sub>max</sub>=7.0 NuSTAR 2.5-3.5 keV",
         "showlegend": false,
         "type": "scatter",
         "x": [
          0.21206398124116085
         ],
         "y": [
          0.07981369219215721
         ]
        },
        {
         "legendgroup": "5",
         "line": {
          "color": "rgb(182.40625, 57.6015625, 156.40625)",
          "width": 0.5
         },
         "name": "log<sub>10</sub>T<sub>max</sub>=6.5",
         "type": "scatter",
         "x": [
          0.01,
          0.011497569953977356,
          0.013219411484660288,
          0.01519911082952934,
          0.01747528400007684,
          0.02009233002565047,
          0.023101297000831605,
          0.026560877829466867,
          0.030538555088334154,
          0.03511191734215131,
          0.040370172585965536,
          0.046415888336127795,
          0.0533669923120631,
          0.06135907273413173,
          0.07054802310718646,
          0.08111308307896872,
          0.093260334688322,
          0.10722672220103231,
          0.12328467394420659,
          0.14174741629268056,
          0.16297508346206444,
          0.1873817422860384,
          0.21544346900318845,
          0.24770763559917114,
          0.2848035868435802,
          0.32745491628777285,
          0.37649358067924676,
          0.43287612810830595,
          0.49770235643321115,
          0.5722367659350217,
          0.6579332246575682,
          0.7564633275546291,
          0.8697490026177834,
          1,
          1.1497569953977356,
          1.3219411484660286,
          1.5199110829529332,
          1.7475284000076847,
          2.0092330025650478,
          2.31012970008316,
          2.656087782946687,
          3.0538555088334154,
          3.511191734215131,
          4.037017258596554,
          4.641588833612782,
          5.336699231206313,
          6.135907273413176,
          7.054802310718645,
          8.111308307896872,
          9.326033468832199,
          10.722672220103231,
          12.32846739442066,
          14.174741629268048,
          16.297508346206453,
          18.73817422860385,
          21.544346900318846,
          24.770763559917114,
          28.48035868435802,
          32.74549162877728,
          37.64935806792467,
          43.287612810830616,
          49.770235643321136,
          57.2236765935022,
          65.79332246575683,
          75.64633275546291,
          86.97490026177834,
          100,
          114.97569953977356,
          132.19411484660287,
          151.99110829529332,
          174.7528400007683,
          200.92330025650458,
          231.0129700083158,
          265.6087782946689,
          305.38555088334186,
          351.11917342151344,
          403.70172585965577,
          464.1588833612782,
          533.6699231206312,
          613.5907273413176,
          705.4802310718645,
          811.1308307896873,
          932.60334688322,
          1072.2672220103232,
          1232.8467394420659,
          1417.4741629268049,
          1629.7508346206434,
          1873.817422860383,
          2154.4346900318865,
          2477.076355991714,
          2848.035868435805,
          3274.5491628777318,
          3764.9358067924713,
          4328.7612810830615,
          4977.023564332114,
          5722.3676593502205,
          6579.332246575683,
          7564.633275546291,
          8697.490026177835,
          10000
         ],
         "y": [
          0.01,
          0.011497569953977356,
          0.013219411484660288,
          0.01519911082952934,
          0.01747528400007684,
          0.02009233002565047,
          0.023101297000831605,
          0.026560877829466867,
          0.030538555088334154,
          0.03511191734215131,
          0.040370172585965536,
          0.046415888336127795,
          0.0533669923120631,
          0.06135907273413173,
          0.07054802310718646,
          0.08111308307896872,
          0.093260334688322,
          0.10722672220103231,
          0.12328467394420659,
          0.14174741629268056,
          0.16297508346206444,
          0.1873817422860384,
          0.21544346900318845,
          0.24770763559917114,
          0.2848035868435802,
          0.32745491628777285,
          0.37649358067924676,
          0.43287612810830595,
          0.49770235643321115,
          0.5722367659350217,
          0.6579332246575682,
          0.7564633275546291,
          0.8697490026177834,
          1,
          1.1497569953977356,
          1.3219411484660286,
          1.5199110829529332,
          1.7475284000076847,
          2.0092330025650478,
          2.31012970008316,
          2.656087782946687,
          3.0538555088334154,
          3.511191734215131,
          4.037017258596554,
          4.641588833612782,
          5.336699231206313,
          6.135907273413176,
          7.054802310718645,
          8.111308307896872,
          9.326033468832199,
          10.722672220103231,
          12.32846739442066,
          14.174741629268048,
          16.297508346206453,
          18.73817422860385,
          21.544346900318846,
          24.770763559917114,
          28.48035868435802,
          32.74549162877728,
          37.64935806792467,
          43.287612810830616,
          49.770235643321136,
          57.2236765935022,
          65.79332246575683,
          75.64633275546291,
          86.97490026177834,
          100,
          114.97569953977356,
          132.19411484660287,
          151.99110829529332,
          174.7528400007683,
          200.92330025650458,
          231.0129700083158,
          265.6087782946689,
          305.38555088334186,
          351.11917342151344,
          403.70172585965577,
          464.1588833612782,
          533.6699231206312,
          613.5907273413176,
          705.4802310718645,
          811.1308307896873,
          932.60334688322,
          1072.2672220103232,
          1232.8467394420659,
          1417.4741629268049,
          1629.7508346206434,
          1873.817422860383,
          2154.4346900318865,
          2477.076355991714,
          2848.035868435805,
          3274.5491628777318,
          3764.9358067924713,
          4328.7612810830615,
          4977.023564332114,
          5722.3676593502205,
          6579.332246575683,
          7564.633275546291,
          8697.490026177835,
          10000
         ]
        },
        {
         "hovertext": "ratio: 0.862",
         "legendgroup": "6",
         "marker": {
          "color": "rgb(168.03125, 69.0078125, 162.03125)",
          "size": 10,
          "symbol": "cross-open"
         },
         "mode": "markers",
         "name": "log<sub>10</sub>T<sub>max</sub>=7.0 NuSTAR 2.5-3.5 keV",
         "showlegend": false,
         "type": "scatter",
         "x": [
          3.4871647714756313
         ],
         "y": [
          3.0062836799241066
         ]
        },
        {
         "hovertext": "ratio: 0.609",
         "legendgroup": "6",
         "marker": {
          "color": "rgb(168.03125, 69.0078125, 162.03125)",
          "size": 10,
          "symbol": "triangle-up-open"
         },
         "mode": "markers",
         "name": "log<sub>10</sub>T<sub>max</sub>=7.0 NuSTAR 2.5-3.5 keV",
         "showlegend": false,
         "type": "scatter",
         "x": [
          49.03957872227575
         ],
         "y": [
          29.86402892763823
         ]
        },
        {
         "hovertext": "ratio: 1.016",
         "legendgroup": "6",
         "marker": {
          "color": "rgb(168.03125, 69.0078125, 162.03125)",
          "size": 10,
          "symbol": "circle-open"
         },
         "mode": "markers",
         "name": "log<sub>10</sub>T<sub>max</sub>=7.0 NuSTAR 2.5-3.5 keV",
         "showlegend": false,
         "type": "scatter",
         "x": [
          628.3652421971151
         ],
         "y": [
          638.7062596951365
         ]
        },
        {
         "hovertext": "ratio: 0.966",
         "legendgroup": "6",
         "marker": {
          "color": "rgb(168.03125, 69.0078125, 162.03125)",
          "size": 10,
          "symbol": "triangle-down-open"
         },
         "mode": "markers",
         "name": "log<sub>10</sub>T<sub>max</sub>=7.0 NuSTAR 2.5-3.5 keV",
         "showlegend": false,
         "type": "scatter",
         "x": [
          1096.5050200540427
         ],
         "y": [
          1059.4045663026984
         ]
        },
        {
         "hovertext": "ratio: 0.845",
         "legendgroup": "6",
         "marker": {
          "color": "rgb(168.03125, 69.0078125, 162.03125)",
          "size": 10,
          "symbol": "diamond-open"
         },
         "mode": "markers",
         "name": "log<sub>10</sub>T<sub>max</sub>=7.0 NuSTAR 2.5-3.5 keV",
         "showlegend": false,
         "type": "scatter",
         "x": [
          498.63537770079637
         ],
         "y": [
          421.3627428820469
         ]
        },
        {
         "hovertext": "ratio: 0.744",
         "legendgroup": "6",
         "marker": {
          "color": "rgb(168.03125, 69.0078125, 162.03125)",
          "size": 10,
          "symbol": "square-open"
         },
         "mode": "markers",
         "name": "log<sub>10</sub>T<sub>max</sub>=7.0 NuSTAR 2.5-3.5 keV",
         "showlegend": false,
         "type": "scatter",
         "x": [
          29.019773365796073
         ],
         "y": [
          21.596616166935856
         ]
        },
        {
         "hovertext": "ratio: 1.112",
         "legendgroup": "6",
         "marker": {
          "color": "rgb(168.03125, 69.0078125, 162.03125)",
          "size": 10,
          "symbol": "star-open"
         },
         "mode": "markers",
         "name": "log<sub>10</sub>T<sub>max</sub>=7.0 NuSTAR 2.5-3.5 keV",
         "showlegend": false,
         "type": "scatter",
         "x": [
          13.70879077911377
         ],
         "y": [
          15.246152637765116
         ]
        },
        {
         "hovertext": "ratio: 0.809",
         "legendgroup": "6",
         "marker": {
          "color": "rgb(168.03125, 69.0078125, 162.03125)",
          "size": 10,
          "symbol": "hexagon-open"
         },
         "mode": "markers",
         "name": "log<sub>10</sub>T<sub>max</sub>=7.0 NuSTAR 2.5-3.5 keV",
         "showlegend": false,
         "type": "scatter",
         "x": [
          0.21206398124116085
         ],
         "y": [
          0.17147105029322868
         ]
        },
        {
         "legendgroup": "6",
         "line": {
          "color": "rgb(168.03125, 69.0078125, 162.03125)",
          "width": 0.5
         },
         "name": "log<sub>10</sub>T<sub>max</sub>=6.6",
         "type": "scatter",
         "x": [
          0.01,
          0.011497569953977356,
          0.013219411484660288,
          0.01519911082952934,
          0.01747528400007684,
          0.02009233002565047,
          0.023101297000831605,
          0.026560877829466867,
          0.030538555088334154,
          0.03511191734215131,
          0.040370172585965536,
          0.046415888336127795,
          0.0533669923120631,
          0.06135907273413173,
          0.07054802310718646,
          0.08111308307896872,
          0.093260334688322,
          0.10722672220103231,
          0.12328467394420659,
          0.14174741629268056,
          0.16297508346206444,
          0.1873817422860384,
          0.21544346900318845,
          0.24770763559917114,
          0.2848035868435802,
          0.32745491628777285,
          0.37649358067924676,
          0.43287612810830595,
          0.49770235643321115,
          0.5722367659350217,
          0.6579332246575682,
          0.7564633275546291,
          0.8697490026177834,
          1,
          1.1497569953977356,
          1.3219411484660286,
          1.5199110829529332,
          1.7475284000076847,
          2.0092330025650478,
          2.31012970008316,
          2.656087782946687,
          3.0538555088334154,
          3.511191734215131,
          4.037017258596554,
          4.641588833612782,
          5.336699231206313,
          6.135907273413176,
          7.054802310718645,
          8.111308307896872,
          9.326033468832199,
          10.722672220103231,
          12.32846739442066,
          14.174741629268048,
          16.297508346206453,
          18.73817422860385,
          21.544346900318846,
          24.770763559917114,
          28.48035868435802,
          32.74549162877728,
          37.64935806792467,
          43.287612810830616,
          49.770235643321136,
          57.2236765935022,
          65.79332246575683,
          75.64633275546291,
          86.97490026177834,
          100,
          114.97569953977356,
          132.19411484660287,
          151.99110829529332,
          174.7528400007683,
          200.92330025650458,
          231.0129700083158,
          265.6087782946689,
          305.38555088334186,
          351.11917342151344,
          403.70172585965577,
          464.1588833612782,
          533.6699231206312,
          613.5907273413176,
          705.4802310718645,
          811.1308307896873,
          932.60334688322,
          1072.2672220103232,
          1232.8467394420659,
          1417.4741629268049,
          1629.7508346206434,
          1873.817422860383,
          2154.4346900318865,
          2477.076355991714,
          2848.035868435805,
          3274.5491628777318,
          3764.9358067924713,
          4328.7612810830615,
          4977.023564332114,
          5722.3676593502205,
          6579.332246575683,
          7564.633275546291,
          8697.490026177835,
          10000
         ],
         "y": [
          0.01,
          0.011497569953977356,
          0.013219411484660288,
          0.01519911082952934,
          0.01747528400007684,
          0.02009233002565047,
          0.023101297000831605,
          0.026560877829466867,
          0.030538555088334154,
          0.03511191734215131,
          0.040370172585965536,
          0.046415888336127795,
          0.0533669923120631,
          0.06135907273413173,
          0.07054802310718646,
          0.08111308307896872,
          0.093260334688322,
          0.10722672220103231,
          0.12328467394420659,
          0.14174741629268056,
          0.16297508346206444,
          0.1873817422860384,
          0.21544346900318845,
          0.24770763559917114,
          0.2848035868435802,
          0.32745491628777285,
          0.37649358067924676,
          0.43287612810830595,
          0.49770235643321115,
          0.5722367659350217,
          0.6579332246575682,
          0.7564633275546291,
          0.8697490026177834,
          1,
          1.1497569953977356,
          1.3219411484660286,
          1.5199110829529332,
          1.7475284000076847,
          2.0092330025650478,
          2.31012970008316,
          2.656087782946687,
          3.0538555088334154,
          3.511191734215131,
          4.037017258596554,
          4.641588833612782,
          5.336699231206313,
          6.135907273413176,
          7.054802310718645,
          8.111308307896872,
          9.326033468832199,
          10.722672220103231,
          12.32846739442066,
          14.174741629268048,
          16.297508346206453,
          18.73817422860385,
          21.544346900318846,
          24.770763559917114,
          28.48035868435802,
          32.74549162877728,
          37.64935806792467,
          43.287612810830616,
          49.770235643321136,
          57.2236765935022,
          65.79332246575683,
          75.64633275546291,
          86.97490026177834,
          100,
          114.97569953977356,
          132.19411484660287,
          151.99110829529332,
          174.7528400007683,
          200.92330025650458,
          231.0129700083158,
          265.6087782946689,
          305.38555088334186,
          351.11917342151344,
          403.70172585965577,
          464.1588833612782,
          533.6699231206312,
          613.5907273413176,
          705.4802310718645,
          811.1308307896873,
          932.60334688322,
          1072.2672220103232,
          1232.8467394420659,
          1417.4741629268049,
          1629.7508346206434,
          1873.817422860383,
          2154.4346900318865,
          2477.076355991714,
          2848.035868435805,
          3274.5491628777318,
          3764.9358067924713,
          4328.7612810830615,
          4977.023564332114,
          5722.3676593502205,
          6579.332246575683,
          7564.633275546291,
          8697.490026177835,
          10000
         ]
        },
        {
         "hovertext": "ratio: 0.851",
         "legendgroup": "7",
         "marker": {
          "color": "rgb(146.4453125, 65.5859375, 173.2421875)",
          "size": 10,
          "symbol": "cross-open"
         },
         "mode": "markers",
         "name": "log<sub>10</sub>T<sub>max</sub>=7.0 NuSTAR 2.5-3.5 keV",
         "showlegend": false,
         "type": "scatter",
         "x": [
          3.4871647714756313
         ],
         "y": [
          2.9673722178918642
         ]
        },
        {
         "hovertext": "ratio: 0.578",
         "legendgroup": "7",
         "marker": {
          "color": "rgb(146.4453125, 65.5859375, 173.2421875)",
          "size": 10,
          "symbol": "triangle-up-open"
         },
         "mode": "markers",
         "name": "log<sub>10</sub>T<sub>max</sub>=7.0 NuSTAR 2.5-3.5 keV",
         "showlegend": false,
         "type": "scatter",
         "x": [
          49.03957872227575
         ],
         "y": [
          28.329242531391937
         ]
        },
        {
         "hovertext": "ratio: 1.013",
         "legendgroup": "7",
         "marker": {
          "color": "rgb(146.4453125, 65.5859375, 173.2421875)",
          "size": 10,
          "symbol": "circle-open"
         },
         "mode": "markers",
         "name": "log<sub>10</sub>T<sub>max</sub>=7.0 NuSTAR 2.5-3.5 keV",
         "showlegend": false,
         "type": "scatter",
         "x": [
          628.3652421971151
         ],
         "y": [
          636.290932395885
         ]
        },
        {
         "hovertext": "ratio: 0.949",
         "legendgroup": "7",
         "marker": {
          "color": "rgb(146.4453125, 65.5859375, 173.2421875)",
          "size": 10,
          "symbol": "triangle-down-open"
         },
         "mode": "markers",
         "name": "log<sub>10</sub>T<sub>max</sub>=7.0 NuSTAR 2.5-3.5 keV",
         "showlegend": false,
         "type": "scatter",
         "x": [
          1096.5050200540427
         ],
         "y": [
          1040.1333203342863
         ]
        },
        {
         "hovertext": "ratio: 0.827",
         "legendgroup": "7",
         "marker": {
          "color": "rgb(146.4453125, 65.5859375, 173.2421875)",
          "size": 10,
          "symbol": "diamond-open"
         },
         "mode": "markers",
         "name": "log<sub>10</sub>T<sub>max</sub>=7.0 NuSTAR 2.5-3.5 keV",
         "showlegend": false,
         "type": "scatter",
         "x": [
          498.63537770079637
         ],
         "y": [
          412.6026279458462
         ]
        },
        {
         "hovertext": "ratio: 0.716",
         "legendgroup": "7",
         "marker": {
          "color": "rgb(146.4453125, 65.5859375, 173.2421875)",
          "size": 10,
          "symbol": "square-open"
         },
         "mode": "markers",
         "name": "log<sub>10</sub>T<sub>max</sub>=7.0 NuSTAR 2.5-3.5 keV",
         "showlegend": false,
         "type": "scatter",
         "x": [
          29.019773365796073
         ],
         "y": [
          20.779882775318136
         ]
        },
        {
         "hovertext": "ratio: 1.014",
         "legendgroup": "7",
         "marker": {
          "color": "rgb(146.4453125, 65.5859375, 173.2421875)",
          "size": 10,
          "symbol": "star-open"
         },
         "mode": "markers",
         "name": "log<sub>10</sub>T<sub>max</sub>=7.0 NuSTAR 2.5-3.5 keV",
         "showlegend": false,
         "type": "scatter",
         "x": [
          13.70879077911377
         ],
         "y": [
          13.903931918957133
         ]
        },
        {
         "hovertext": "ratio: 0.978",
         "legendgroup": "7",
         "marker": {
          "color": "rgb(146.4453125, 65.5859375, 173.2421875)",
          "size": 10,
          "symbol": "hexagon-open"
         },
         "mode": "markers",
         "name": "log<sub>10</sub>T<sub>max</sub>=7.0 NuSTAR 2.5-3.5 keV",
         "showlegend": false,
         "type": "scatter",
         "x": [
          0.21206398124116085
         ],
         "y": [
          0.20746876006583298
         ]
        },
        {
         "legendgroup": "7",
         "line": {
          "color": "rgb(146.4453125, 65.5859375, 173.2421875)",
          "width": 0.5
         },
         "name": "log<sub>10</sub>T<sub>max</sub>=6.7",
         "type": "scatter",
         "x": [
          0.01,
          0.011497569953977356,
          0.013219411484660288,
          0.01519911082952934,
          0.01747528400007684,
          0.02009233002565047,
          0.023101297000831605,
          0.026560877829466867,
          0.030538555088334154,
          0.03511191734215131,
          0.040370172585965536,
          0.046415888336127795,
          0.0533669923120631,
          0.06135907273413173,
          0.07054802310718646,
          0.08111308307896872,
          0.093260334688322,
          0.10722672220103231,
          0.12328467394420659,
          0.14174741629268056,
          0.16297508346206444,
          0.1873817422860384,
          0.21544346900318845,
          0.24770763559917114,
          0.2848035868435802,
          0.32745491628777285,
          0.37649358067924676,
          0.43287612810830595,
          0.49770235643321115,
          0.5722367659350217,
          0.6579332246575682,
          0.7564633275546291,
          0.8697490026177834,
          1,
          1.1497569953977356,
          1.3219411484660286,
          1.5199110829529332,
          1.7475284000076847,
          2.0092330025650478,
          2.31012970008316,
          2.656087782946687,
          3.0538555088334154,
          3.511191734215131,
          4.037017258596554,
          4.641588833612782,
          5.336699231206313,
          6.135907273413176,
          7.054802310718645,
          8.111308307896872,
          9.326033468832199,
          10.722672220103231,
          12.32846739442066,
          14.174741629268048,
          16.297508346206453,
          18.73817422860385,
          21.544346900318846,
          24.770763559917114,
          28.48035868435802,
          32.74549162877728,
          37.64935806792467,
          43.287612810830616,
          49.770235643321136,
          57.2236765935022,
          65.79332246575683,
          75.64633275546291,
          86.97490026177834,
          100,
          114.97569953977356,
          132.19411484660287,
          151.99110829529332,
          174.7528400007683,
          200.92330025650458,
          231.0129700083158,
          265.6087782946689,
          305.38555088334186,
          351.11917342151344,
          403.70172585965577,
          464.1588833612782,
          533.6699231206312,
          613.5907273413176,
          705.4802310718645,
          811.1308307896873,
          932.60334688322,
          1072.2672220103232,
          1232.8467394420659,
          1417.4741629268049,
          1629.7508346206434,
          1873.817422860383,
          2154.4346900318865,
          2477.076355991714,
          2848.035868435805,
          3274.5491628777318,
          3764.9358067924713,
          4328.7612810830615,
          4977.023564332114,
          5722.3676593502205,
          6579.332246575683,
          7564.633275546291,
          8697.490026177835,
          10000
         ],
         "y": [
          0.01,
          0.011497569953977356,
          0.013219411484660288,
          0.01519911082952934,
          0.01747528400007684,
          0.02009233002565047,
          0.023101297000831605,
          0.026560877829466867,
          0.030538555088334154,
          0.03511191734215131,
          0.040370172585965536,
          0.046415888336127795,
          0.0533669923120631,
          0.06135907273413173,
          0.07054802310718646,
          0.08111308307896872,
          0.093260334688322,
          0.10722672220103231,
          0.12328467394420659,
          0.14174741629268056,
          0.16297508346206444,
          0.1873817422860384,
          0.21544346900318845,
          0.24770763559917114,
          0.2848035868435802,
          0.32745491628777285,
          0.37649358067924676,
          0.43287612810830595,
          0.49770235643321115,
          0.5722367659350217,
          0.6579332246575682,
          0.7564633275546291,
          0.8697490026177834,
          1,
          1.1497569953977356,
          1.3219411484660286,
          1.5199110829529332,
          1.7475284000076847,
          2.0092330025650478,
          2.31012970008316,
          2.656087782946687,
          3.0538555088334154,
          3.511191734215131,
          4.037017258596554,
          4.641588833612782,
          5.336699231206313,
          6.135907273413176,
          7.054802310718645,
          8.111308307896872,
          9.326033468832199,
          10.722672220103231,
          12.32846739442066,
          14.174741629268048,
          16.297508346206453,
          18.73817422860385,
          21.544346900318846,
          24.770763559917114,
          28.48035868435802,
          32.74549162877728,
          37.64935806792467,
          43.287612810830616,
          49.770235643321136,
          57.2236765935022,
          65.79332246575683,
          75.64633275546291,
          86.97490026177834,
          100,
          114.97569953977356,
          132.19411484660287,
          151.99110829529332,
          174.7528400007683,
          200.92330025650458,
          231.0129700083158,
          265.6087782946689,
          305.38555088334186,
          351.11917342151344,
          403.70172585965577,
          464.1588833612782,
          533.6699231206312,
          613.5907273413176,
          705.4802310718645,
          811.1308307896873,
          932.60334688322,
          1072.2672220103232,
          1232.8467394420659,
          1417.4741629268049,
          1629.7508346206434,
          1873.817422860383,
          2154.4346900318865,
          2477.076355991714,
          2848.035868435805,
          3274.5491628777318,
          3764.9358067924713,
          4328.7612810830615,
          4977.023564332114,
          5722.3676593502205,
          6579.332246575683,
          7564.633275546291,
          8697.490026177835,
          10000
         ]
        },
        {
         "hovertext": "ratio: 0.87",
         "legendgroup": "8",
         "marker": {
          "color": "rgb(120.9765625, 54.1796875, 187.4609375)",
          "size": 10,
          "symbol": "cross-open"
         },
         "mode": "markers",
         "name": "log<sub>10</sub>T<sub>max</sub>=7.0 NuSTAR 2.5-3.5 keV",
         "showlegend": false,
         "type": "scatter",
         "x": [
          3.4871647714756313
         ],
         "y": [
          3.033135668942394
         ]
        },
        {
         "hovertext": "ratio: 0.637",
         "legendgroup": "8",
         "marker": {
          "color": "rgb(120.9765625, 54.1796875, 187.4609375)",
          "size": 10,
          "symbol": "triangle-up-open"
         },
         "mode": "markers",
         "name": "log<sub>10</sub>T<sub>max</sub>=7.0 NuSTAR 2.5-3.5 keV",
         "showlegend": false,
         "type": "scatter",
         "x": [
          49.03957872227575
         ],
         "y": [
          31.214165656027355
         ]
        },
        {
         "hovertext": "ratio: 1.019",
         "legendgroup": "8",
         "marker": {
          "color": "rgb(120.9765625, 54.1796875, 187.4609375)",
          "size": 10,
          "symbol": "circle-open"
         },
         "mode": "markers",
         "name": "log<sub>10</sub>T<sub>max</sub>=7.0 NuSTAR 2.5-3.5 keV",
         "showlegend": false,
         "type": "scatter",
         "x": [
          628.3652421971151
         ],
         "y": [
          640.0471824658754
         ]
        },
        {
         "hovertext": "ratio: 0.973",
         "legendgroup": "8",
         "marker": {
          "color": "rgb(120.9765625, 54.1796875, 187.4609375)",
          "size": 10,
          "symbol": "triangle-down-open"
         },
         "mode": "markers",
         "name": "log<sub>10</sub>T<sub>max</sub>=7.0 NuSTAR 2.5-3.5 keV",
         "showlegend": false,
         "type": "scatter",
         "x": [
          1096.5050200540427
         ],
         "y": [
          1066.8681617751822
         ]
        },
        {
         "hovertext": "ratio: 0.877",
         "legendgroup": "8",
         "marker": {
          "color": "rgb(120.9765625, 54.1796875, 187.4609375)",
          "size": 10,
          "symbol": "diamond-open"
         },
         "mode": "markers",
         "name": "log<sub>10</sub>T<sub>max</sub>=7.0 NuSTAR 2.5-3.5 keV",
         "showlegend": false,
         "type": "scatter",
         "x": [
          498.63537770079637
         ],
         "y": [
          437.0781443951357
         ]
        },
        {
         "hovertext": "ratio: 0.771",
         "legendgroup": "8",
         "marker": {
          "color": "rgb(120.9765625, 54.1796875, 187.4609375)",
          "size": 10,
          "symbol": "square-open"
         },
         "mode": "markers",
         "name": "log<sub>10</sub>T<sub>max</sub>=7.0 NuSTAR 2.5-3.5 keV",
         "showlegend": false,
         "type": "scatter",
         "x": [
          29.019773365796073
         ],
         "y": [
          22.381477610512377
         ]
        },
        {
         "hovertext": "ratio: 1.008",
         "legendgroup": "8",
         "marker": {
          "color": "rgb(120.9765625, 54.1796875, 187.4609375)",
          "size": 10,
          "symbol": "star-open"
         },
         "mode": "markers",
         "name": "log<sub>10</sub>T<sub>max</sub>=7.0 NuSTAR 2.5-3.5 keV",
         "showlegend": false,
         "type": "scatter",
         "x": [
          13.70879077911377
         ],
         "y": [
          13.817367744713088
         ]
        },
        {
         "hovertext": "ratio: 0.997",
         "legendgroup": "8",
         "marker": {
          "color": "rgb(120.9765625, 54.1796875, 187.4609375)",
          "size": 10,
          "symbol": "hexagon-open"
         },
         "mode": "markers",
         "name": "log<sub>10</sub>T<sub>max</sub>=7.0 NuSTAR 2.5-3.5 keV",
         "showlegend": false,
         "type": "scatter",
         "x": [
          0.21206398124116085
         ],
         "y": [
          0.21145311895230876
         ]
        },
        {
         "legendgroup": "8",
         "line": {
          "color": "rgb(120.9765625, 54.1796875, 187.4609375)",
          "width": 0.5
         },
         "name": "log<sub>10</sub>T<sub>max</sub>=6.8",
         "type": "scatter",
         "x": [
          0.01,
          0.011497569953977356,
          0.013219411484660288,
          0.01519911082952934,
          0.01747528400007684,
          0.02009233002565047,
          0.023101297000831605,
          0.026560877829466867,
          0.030538555088334154,
          0.03511191734215131,
          0.040370172585965536,
          0.046415888336127795,
          0.0533669923120631,
          0.06135907273413173,
          0.07054802310718646,
          0.08111308307896872,
          0.093260334688322,
          0.10722672220103231,
          0.12328467394420659,
          0.14174741629268056,
          0.16297508346206444,
          0.1873817422860384,
          0.21544346900318845,
          0.24770763559917114,
          0.2848035868435802,
          0.32745491628777285,
          0.37649358067924676,
          0.43287612810830595,
          0.49770235643321115,
          0.5722367659350217,
          0.6579332246575682,
          0.7564633275546291,
          0.8697490026177834,
          1,
          1.1497569953977356,
          1.3219411484660286,
          1.5199110829529332,
          1.7475284000076847,
          2.0092330025650478,
          2.31012970008316,
          2.656087782946687,
          3.0538555088334154,
          3.511191734215131,
          4.037017258596554,
          4.641588833612782,
          5.336699231206313,
          6.135907273413176,
          7.054802310718645,
          8.111308307896872,
          9.326033468832199,
          10.722672220103231,
          12.32846739442066,
          14.174741629268048,
          16.297508346206453,
          18.73817422860385,
          21.544346900318846,
          24.770763559917114,
          28.48035868435802,
          32.74549162877728,
          37.64935806792467,
          43.287612810830616,
          49.770235643321136,
          57.2236765935022,
          65.79332246575683,
          75.64633275546291,
          86.97490026177834,
          100,
          114.97569953977356,
          132.19411484660287,
          151.99110829529332,
          174.7528400007683,
          200.92330025650458,
          231.0129700083158,
          265.6087782946689,
          305.38555088334186,
          351.11917342151344,
          403.70172585965577,
          464.1588833612782,
          533.6699231206312,
          613.5907273413176,
          705.4802310718645,
          811.1308307896873,
          932.60334688322,
          1072.2672220103232,
          1232.8467394420659,
          1417.4741629268049,
          1629.7508346206434,
          1873.817422860383,
          2154.4346900318865,
          2477.076355991714,
          2848.035868435805,
          3274.5491628777318,
          3764.9358067924713,
          4328.7612810830615,
          4977.023564332114,
          5722.3676593502205,
          6579.332246575683,
          7564.633275546291,
          8697.490026177835,
          10000
         ],
         "y": [
          0.01,
          0.011497569953977356,
          0.013219411484660288,
          0.01519911082952934,
          0.01747528400007684,
          0.02009233002565047,
          0.023101297000831605,
          0.026560877829466867,
          0.030538555088334154,
          0.03511191734215131,
          0.040370172585965536,
          0.046415888336127795,
          0.0533669923120631,
          0.06135907273413173,
          0.07054802310718646,
          0.08111308307896872,
          0.093260334688322,
          0.10722672220103231,
          0.12328467394420659,
          0.14174741629268056,
          0.16297508346206444,
          0.1873817422860384,
          0.21544346900318845,
          0.24770763559917114,
          0.2848035868435802,
          0.32745491628777285,
          0.37649358067924676,
          0.43287612810830595,
          0.49770235643321115,
          0.5722367659350217,
          0.6579332246575682,
          0.7564633275546291,
          0.8697490026177834,
          1,
          1.1497569953977356,
          1.3219411484660286,
          1.5199110829529332,
          1.7475284000076847,
          2.0092330025650478,
          2.31012970008316,
          2.656087782946687,
          3.0538555088334154,
          3.511191734215131,
          4.037017258596554,
          4.641588833612782,
          5.336699231206313,
          6.135907273413176,
          7.054802310718645,
          8.111308307896872,
          9.326033468832199,
          10.722672220103231,
          12.32846739442066,
          14.174741629268048,
          16.297508346206453,
          18.73817422860385,
          21.544346900318846,
          24.770763559917114,
          28.48035868435802,
          32.74549162877728,
          37.64935806792467,
          43.287612810830616,
          49.770235643321136,
          57.2236765935022,
          65.79332246575683,
          75.64633275546291,
          86.97490026177834,
          100,
          114.97569953977356,
          132.19411484660287,
          151.99110829529332,
          174.7528400007683,
          200.92330025650458,
          231.0129700083158,
          265.6087782946689,
          305.38555088334186,
          351.11917342151344,
          403.70172585965577,
          464.1588833612782,
          533.6699231206312,
          613.5907273413176,
          705.4802310718645,
          811.1308307896873,
          932.60334688322,
          1072.2672220103232,
          1232.8467394420659,
          1417.4741629268049,
          1629.7508346206434,
          1873.817422860383,
          2154.4346900318865,
          2477.076355991714,
          2848.035868435805,
          3274.5491628777318,
          3764.9358067924713,
          4328.7612810830615,
          4977.023564332114,
          5722.3676593502205,
          6579.332246575683,
          7564.633275546291,
          8697.490026177835,
          10000
         ]
        },
        {
         "hovertext": "ratio: 0.853",
         "legendgroup": "9",
         "marker": {
          "color": "rgb(95.5078125, 42.7734375, 201.6796875)",
          "size": 10,
          "symbol": "cross-open"
         },
         "mode": "markers",
         "name": "log<sub>10</sub>T<sub>max</sub>=7.0 NuSTAR 2.5-3.5 keV",
         "showlegend": false,
         "type": "scatter",
         "x": [
          3.4871647714756313
         ],
         "y": [
          2.9736362258733635
         ]
        },
        {
         "hovertext": "ratio: 0.59",
         "legendgroup": "9",
         "marker": {
          "color": "rgb(95.5078125, 42.7734375, 201.6796875)",
          "size": 10,
          "symbol": "triangle-up-open"
         },
         "mode": "markers",
         "name": "log<sub>10</sub>T<sub>max</sub>=7.0 NuSTAR 2.5-3.5 keV",
         "showlegend": false,
         "type": "scatter",
         "x": [
          49.03957872227575
         ],
         "y": [
          28.938609058428725
         ]
        },
        {
         "hovertext": "ratio: 1.015",
         "legendgroup": "9",
         "marker": {
          "color": "rgb(95.5078125, 42.7734375, 201.6796875)",
          "size": 10,
          "symbol": "circle-open"
         },
         "mode": "markers",
         "name": "log<sub>10</sub>T<sub>max</sub>=7.0 NuSTAR 2.5-3.5 keV",
         "showlegend": false,
         "type": "scatter",
         "x": [
          628.3652421971151
         ],
         "y": [
          637.6475937839114
         ]
        },
        {
         "hovertext": "ratio: 0.955",
         "legendgroup": "9",
         "marker": {
          "color": "rgb(95.5078125, 42.7734375, 201.6796875)",
          "size": 10,
          "symbol": "triangle-down-open"
         },
         "mode": "markers",
         "name": "log<sub>10</sub>T<sub>max</sub>=7.0 NuSTAR 2.5-3.5 keV",
         "showlegend": false,
         "type": "scatter",
         "x": [
          1096.5050200540427
         ],
         "y": [
          1047.4263391440709
         ]
        },
        {
         "hovertext": "ratio: 0.837",
         "legendgroup": "9",
         "marker": {
          "color": "rgb(95.5078125, 42.7734375, 201.6796875)",
          "size": 10,
          "symbol": "diamond-open"
         },
         "mode": "markers",
         "name": "log<sub>10</sub>T<sub>max</sub>=7.0 NuSTAR 2.5-3.5 keV",
         "showlegend": false,
         "type": "scatter",
         "x": [
          498.63537770079637
         ],
         "y": [
          417.30484765573124
         ]
        },
        {
         "hovertext": "ratio: 0.732",
         "legendgroup": "9",
         "marker": {
          "color": "rgb(95.5078125, 42.7734375, 201.6796875)",
          "size": 10,
          "symbol": "square-open"
         },
         "mode": "markers",
         "name": "log<sub>10</sub>T<sub>max</sub>=7.0 NuSTAR 2.5-3.5 keV",
         "showlegend": false,
         "type": "scatter",
         "x": [
          29.019773365796073
         ],
         "y": [
          21.233759998557385
         ]
        },
        {
         "hovertext": "ratio: 0.992",
         "legendgroup": "9",
         "marker": {
          "color": "rgb(95.5078125, 42.7734375, 201.6796875)",
          "size": 10,
          "symbol": "star-open"
         },
         "mode": "markers",
         "name": "log<sub>10</sub>T<sub>max</sub>=7.0 NuSTAR 2.5-3.5 keV",
         "showlegend": false,
         "type": "scatter",
         "x": [
          13.70879077911377
         ],
         "y": [
          13.60595757150224
         ]
        },
        {
         "hovertext": "ratio: 1.001",
         "legendgroup": "9",
         "marker": {
          "color": "rgb(95.5078125, 42.7734375, 201.6796875)",
          "size": 10,
          "symbol": "hexagon-open"
         },
         "mode": "markers",
         "name": "log<sub>10</sub>T<sub>max</sub>=7.0 NuSTAR 2.5-3.5 keV",
         "showlegend": false,
         "type": "scatter",
         "x": [
          0.21206398124116085
         ],
         "y": [
          0.21223357433135726
         ]
        },
        {
         "legendgroup": "9",
         "line": {
          "color": "rgb(95.5078125, 42.7734375, 201.6796875)",
          "width": 0.5
         },
         "name": "log<sub>10</sub>T<sub>max</sub>=6.9",
         "type": "scatter",
         "x": [
          0.01,
          0.011497569953977356,
          0.013219411484660288,
          0.01519911082952934,
          0.01747528400007684,
          0.02009233002565047,
          0.023101297000831605,
          0.026560877829466867,
          0.030538555088334154,
          0.03511191734215131,
          0.040370172585965536,
          0.046415888336127795,
          0.0533669923120631,
          0.06135907273413173,
          0.07054802310718646,
          0.08111308307896872,
          0.093260334688322,
          0.10722672220103231,
          0.12328467394420659,
          0.14174741629268056,
          0.16297508346206444,
          0.1873817422860384,
          0.21544346900318845,
          0.24770763559917114,
          0.2848035868435802,
          0.32745491628777285,
          0.37649358067924676,
          0.43287612810830595,
          0.49770235643321115,
          0.5722367659350217,
          0.6579332246575682,
          0.7564633275546291,
          0.8697490026177834,
          1,
          1.1497569953977356,
          1.3219411484660286,
          1.5199110829529332,
          1.7475284000076847,
          2.0092330025650478,
          2.31012970008316,
          2.656087782946687,
          3.0538555088334154,
          3.511191734215131,
          4.037017258596554,
          4.641588833612782,
          5.336699231206313,
          6.135907273413176,
          7.054802310718645,
          8.111308307896872,
          9.326033468832199,
          10.722672220103231,
          12.32846739442066,
          14.174741629268048,
          16.297508346206453,
          18.73817422860385,
          21.544346900318846,
          24.770763559917114,
          28.48035868435802,
          32.74549162877728,
          37.64935806792467,
          43.287612810830616,
          49.770235643321136,
          57.2236765935022,
          65.79332246575683,
          75.64633275546291,
          86.97490026177834,
          100,
          114.97569953977356,
          132.19411484660287,
          151.99110829529332,
          174.7528400007683,
          200.92330025650458,
          231.0129700083158,
          265.6087782946689,
          305.38555088334186,
          351.11917342151344,
          403.70172585965577,
          464.1588833612782,
          533.6699231206312,
          613.5907273413176,
          705.4802310718645,
          811.1308307896873,
          932.60334688322,
          1072.2672220103232,
          1232.8467394420659,
          1417.4741629268049,
          1629.7508346206434,
          1873.817422860383,
          2154.4346900318865,
          2477.076355991714,
          2848.035868435805,
          3274.5491628777318,
          3764.9358067924713,
          4328.7612810830615,
          4977.023564332114,
          5722.3676593502205,
          6579.332246575683,
          7564.633275546291,
          8697.490026177835,
          10000
         ],
         "y": [
          0.01,
          0.011497569953977356,
          0.013219411484660288,
          0.01519911082952934,
          0.01747528400007684,
          0.02009233002565047,
          0.023101297000831605,
          0.026560877829466867,
          0.030538555088334154,
          0.03511191734215131,
          0.040370172585965536,
          0.046415888336127795,
          0.0533669923120631,
          0.06135907273413173,
          0.07054802310718646,
          0.08111308307896872,
          0.093260334688322,
          0.10722672220103231,
          0.12328467394420659,
          0.14174741629268056,
          0.16297508346206444,
          0.1873817422860384,
          0.21544346900318845,
          0.24770763559917114,
          0.2848035868435802,
          0.32745491628777285,
          0.37649358067924676,
          0.43287612810830595,
          0.49770235643321115,
          0.5722367659350217,
          0.6579332246575682,
          0.7564633275546291,
          0.8697490026177834,
          1,
          1.1497569953977356,
          1.3219411484660286,
          1.5199110829529332,
          1.7475284000076847,
          2.0092330025650478,
          2.31012970008316,
          2.656087782946687,
          3.0538555088334154,
          3.511191734215131,
          4.037017258596554,
          4.641588833612782,
          5.336699231206313,
          6.135907273413176,
          7.054802310718645,
          8.111308307896872,
          9.326033468832199,
          10.722672220103231,
          12.32846739442066,
          14.174741629268048,
          16.297508346206453,
          18.73817422860385,
          21.544346900318846,
          24.770763559917114,
          28.48035868435802,
          32.74549162877728,
          37.64935806792467,
          43.287612810830616,
          49.770235643321136,
          57.2236765935022,
          65.79332246575683,
          75.64633275546291,
          86.97490026177834,
          100,
          114.97569953977356,
          132.19411484660287,
          151.99110829529332,
          174.7528400007683,
          200.92330025650458,
          231.0129700083158,
          265.6087782946689,
          305.38555088334186,
          351.11917342151344,
          403.70172585965577,
          464.1588833612782,
          533.6699231206312,
          613.5907273413176,
          705.4802310718645,
          811.1308307896873,
          932.60334688322,
          1072.2672220103232,
          1232.8467394420659,
          1417.4741629268049,
          1629.7508346206434,
          1873.817422860383,
          2154.4346900318865,
          2477.076355991714,
          2848.035868435805,
          3274.5491628777318,
          3764.9358067924713,
          4328.7612810830615,
          4977.023564332114,
          5722.3676593502205,
          6579.332246575683,
          7564.633275546291,
          8697.490026177835,
          10000
         ]
        },
        {
         "hovertext": "ratio: 0.868",
         "legendgroup": "10",
         "marker": {
          "color": "rgb(70.0390625, 31.3671875, 215.8984375)",
          "size": 10,
          "symbol": "cross-open"
         },
         "mode": "markers",
         "name": "log<sub>10</sub>T<sub>max</sub>=7.0 NuSTAR 2.5-3.5 keV",
         "showlegend": false,
         "type": "scatter",
         "x": [
          3.4871647714756313
         ],
         "y": [
          3.026044191899697
         ]
        },
        {
         "hovertext": "ratio: 0.64",
         "legendgroup": "10",
         "marker": {
          "color": "rgb(70.0390625, 31.3671875, 215.8984375)",
          "size": 10,
          "symbol": "triangle-up-open"
         },
         "mode": "markers",
         "name": "log<sub>10</sub>T<sub>max</sub>=7.0 NuSTAR 2.5-3.5 keV",
         "showlegend": false,
         "type": "scatter",
         "x": [
          49.03957872227575
         ],
         "y": [
          31.404227806016376
         ]
        },
        {
         "hovertext": "ratio: 1.019",
         "legendgroup": "10",
         "marker": {
          "color": "rgb(70.0390625, 31.3671875, 215.8984375)",
          "size": 10,
          "symbol": "circle-open"
         },
         "mode": "markers",
         "name": "log<sub>10</sub>T<sub>max</sub>=7.0 NuSTAR 2.5-3.5 keV",
         "showlegend": false,
         "type": "scatter",
         "x": [
          628.3652421971151
         ],
         "y": [
          640.4512357744142
         ]
        },
        {
         "hovertext": "ratio: 0.973",
         "legendgroup": "10",
         "marker": {
          "color": "rgb(70.0390625, 31.3671875, 215.8984375)",
          "size": 10,
          "symbol": "triangle-down-open"
         },
         "mode": "markers",
         "name": "log<sub>10</sub>T<sub>max</sub>=7.0 NuSTAR 2.5-3.5 keV",
         "showlegend": false,
         "type": "scatter",
         "x": [
          1096.5050200540427
         ],
         "y": [
          1066.6086711725009
         ]
        },
        {
         "hovertext": "ratio: 0.874",
         "legendgroup": "10",
         "marker": {
          "color": "rgb(70.0390625, 31.3671875, 215.8984375)",
          "size": 10,
          "symbol": "diamond-open"
         },
         "mode": "markers",
         "name": "log<sub>10</sub>T<sub>max</sub>=7.0 NuSTAR 2.5-3.5 keV",
         "showlegend": false,
         "type": "scatter",
         "x": [
          498.63537770079637
         ],
         "y": [
          435.57395528068986
         ]
        },
        {
         "hovertext": "ratio: 0.775",
         "legendgroup": "10",
         "marker": {
          "color": "rgb(70.0390625, 31.3671875, 215.8984375)",
          "size": 10,
          "symbol": "square-open"
         },
         "mode": "markers",
         "name": "log<sub>10</sub>T<sub>max</sub>=7.0 NuSTAR 2.5-3.5 keV",
         "showlegend": false,
         "type": "scatter",
         "x": [
          29.019773365796073
         ],
         "y": [
          22.5033228804908
         ]
        },
        {
         "hovertext": "ratio: 1.002",
         "legendgroup": "10",
         "marker": {
          "color": "rgb(70.0390625, 31.3671875, 215.8984375)",
          "size": 10,
          "symbol": "star-open"
         },
         "mode": "markers",
         "name": "log<sub>10</sub>T<sub>max</sub>=7.0 NuSTAR 2.5-3.5 keV",
         "showlegend": false,
         "type": "scatter",
         "x": [
          13.70879077911377
         ],
         "y": [
          13.730394514919778
         ]
        },
        {
         "hovertext": "ratio: 1.0",
         "legendgroup": "10",
         "marker": {
          "color": "rgb(70.0390625, 31.3671875, 215.8984375)",
          "size": 10,
          "symbol": "hexagon-open"
         },
         "mode": "markers",
         "name": "log<sub>10</sub>T<sub>max</sub>=7.0 NuSTAR 2.5-3.5 keV",
         "showlegend": false,
         "type": "scatter",
         "x": [
          0.21206398124116085
         ],
         "y": [
          0.21210993352777996
         ]
        },
        {
         "legendgroup": "10",
         "line": {
          "color": "rgb(70.0390625, 31.3671875, 215.8984375)",
          "width": 0.5
         },
         "name": "log<sub>10</sub>T<sub>max</sub>=7.0",
         "type": "scatter",
         "x": [
          0.01,
          0.011497569953977356,
          0.013219411484660288,
          0.01519911082952934,
          0.01747528400007684,
          0.02009233002565047,
          0.023101297000831605,
          0.026560877829466867,
          0.030538555088334154,
          0.03511191734215131,
          0.040370172585965536,
          0.046415888336127795,
          0.0533669923120631,
          0.06135907273413173,
          0.07054802310718646,
          0.08111308307896872,
          0.093260334688322,
          0.10722672220103231,
          0.12328467394420659,
          0.14174741629268056,
          0.16297508346206444,
          0.1873817422860384,
          0.21544346900318845,
          0.24770763559917114,
          0.2848035868435802,
          0.32745491628777285,
          0.37649358067924676,
          0.43287612810830595,
          0.49770235643321115,
          0.5722367659350217,
          0.6579332246575682,
          0.7564633275546291,
          0.8697490026177834,
          1,
          1.1497569953977356,
          1.3219411484660286,
          1.5199110829529332,
          1.7475284000076847,
          2.0092330025650478,
          2.31012970008316,
          2.656087782946687,
          3.0538555088334154,
          3.511191734215131,
          4.037017258596554,
          4.641588833612782,
          5.336699231206313,
          6.135907273413176,
          7.054802310718645,
          8.111308307896872,
          9.326033468832199,
          10.722672220103231,
          12.32846739442066,
          14.174741629268048,
          16.297508346206453,
          18.73817422860385,
          21.544346900318846,
          24.770763559917114,
          28.48035868435802,
          32.74549162877728,
          37.64935806792467,
          43.287612810830616,
          49.770235643321136,
          57.2236765935022,
          65.79332246575683,
          75.64633275546291,
          86.97490026177834,
          100,
          114.97569953977356,
          132.19411484660287,
          151.99110829529332,
          174.7528400007683,
          200.92330025650458,
          231.0129700083158,
          265.6087782946689,
          305.38555088334186,
          351.11917342151344,
          403.70172585965577,
          464.1588833612782,
          533.6699231206312,
          613.5907273413176,
          705.4802310718645,
          811.1308307896873,
          932.60334688322,
          1072.2672220103232,
          1232.8467394420659,
          1417.4741629268049,
          1629.7508346206434,
          1873.817422860383,
          2154.4346900318865,
          2477.076355991714,
          2848.035868435805,
          3274.5491628777318,
          3764.9358067924713,
          4328.7612810830615,
          4977.023564332114,
          5722.3676593502205,
          6579.332246575683,
          7564.633275546291,
          8697.490026177835,
          10000
         ],
         "y": [
          0.01,
          0.011497569953977356,
          0.013219411484660288,
          0.01519911082952934,
          0.01747528400007684,
          0.02009233002565047,
          0.023101297000831605,
          0.026560877829466867,
          0.030538555088334154,
          0.03511191734215131,
          0.040370172585965536,
          0.046415888336127795,
          0.0533669923120631,
          0.06135907273413173,
          0.07054802310718646,
          0.08111308307896872,
          0.093260334688322,
          0.10722672220103231,
          0.12328467394420659,
          0.14174741629268056,
          0.16297508346206444,
          0.1873817422860384,
          0.21544346900318845,
          0.24770763559917114,
          0.2848035868435802,
          0.32745491628777285,
          0.37649358067924676,
          0.43287612810830595,
          0.49770235643321115,
          0.5722367659350217,
          0.6579332246575682,
          0.7564633275546291,
          0.8697490026177834,
          1,
          1.1497569953977356,
          1.3219411484660286,
          1.5199110829529332,
          1.7475284000076847,
          2.0092330025650478,
          2.31012970008316,
          2.656087782946687,
          3.0538555088334154,
          3.511191734215131,
          4.037017258596554,
          4.641588833612782,
          5.336699231206313,
          6.135907273413176,
          7.054802310718645,
          8.111308307896872,
          9.326033468832199,
          10.722672220103231,
          12.32846739442066,
          14.174741629268048,
          16.297508346206453,
          18.73817422860385,
          21.544346900318846,
          24.770763559917114,
          28.48035868435802,
          32.74549162877728,
          37.64935806792467,
          43.287612810830616,
          49.770235643321136,
          57.2236765935022,
          65.79332246575683,
          75.64633275546291,
          86.97490026177834,
          100,
          114.97569953977356,
          132.19411484660287,
          151.99110829529332,
          174.7528400007683,
          200.92330025650458,
          231.0129700083158,
          265.6087782946689,
          305.38555088334186,
          351.11917342151344,
          403.70172585965577,
          464.1588833612782,
          533.6699231206312,
          613.5907273413176,
          705.4802310718645,
          811.1308307896873,
          932.60334688322,
          1072.2672220103232,
          1232.8467394420659,
          1417.4741629268049,
          1629.7508346206434,
          1873.817422860383,
          2154.4346900318865,
          2477.076355991714,
          2848.035868435805,
          3274.5491628777318,
          3764.9358067924713,
          4328.7612810830615,
          4977.023564332114,
          5722.3676593502205,
          6579.332246575683,
          7564.633275546291,
          8697.490026177835,
          10000
         ]
        },
        {
         "name": "1:1",
         "type": "scatter",
         "x": [
          0.01,
          0.011497569953977356,
          0.013219411484660288,
          0.01519911082952934,
          0.01747528400007684,
          0.02009233002565047,
          0.023101297000831605,
          0.026560877829466867,
          0.030538555088334154,
          0.03511191734215131,
          0.040370172585965536,
          0.046415888336127795,
          0.0533669923120631,
          0.06135907273413173,
          0.07054802310718646,
          0.08111308307896872,
          0.093260334688322,
          0.10722672220103231,
          0.12328467394420659,
          0.14174741629268056,
          0.16297508346206444,
          0.1873817422860384,
          0.21544346900318845,
          0.24770763559917114,
          0.2848035868435802,
          0.32745491628777285,
          0.37649358067924676,
          0.43287612810830595,
          0.49770235643321115,
          0.5722367659350217,
          0.6579332246575682,
          0.7564633275546291,
          0.8697490026177834,
          1,
          1.1497569953977356,
          1.3219411484660286,
          1.5199110829529332,
          1.7475284000076847,
          2.0092330025650478,
          2.31012970008316,
          2.656087782946687,
          3.0538555088334154,
          3.511191734215131,
          4.037017258596554,
          4.641588833612782,
          5.336699231206313,
          6.135907273413176,
          7.054802310718645,
          8.111308307896872,
          9.326033468832199,
          10.722672220103231,
          12.32846739442066,
          14.174741629268048,
          16.297508346206453,
          18.73817422860385,
          21.544346900318846,
          24.770763559917114,
          28.48035868435802,
          32.74549162877728,
          37.64935806792467,
          43.287612810830616,
          49.770235643321136,
          57.2236765935022,
          65.79332246575683,
          75.64633275546291,
          86.97490026177834,
          100,
          114.97569953977356,
          132.19411484660287,
          151.99110829529332,
          174.7528400007683,
          200.92330025650458,
          231.0129700083158,
          265.6087782946689,
          305.38555088334186,
          351.11917342151344,
          403.70172585965577,
          464.1588833612782,
          533.6699231206312,
          613.5907273413176,
          705.4802310718645,
          811.1308307896873,
          932.60334688322,
          1072.2672220103232,
          1232.8467394420659,
          1417.4741629268049,
          1629.7508346206434,
          1873.817422860383,
          2154.4346900318865,
          2477.076355991714,
          2848.035868435805,
          3274.5491628777318,
          3764.9358067924713,
          4328.7612810830615,
          4977.023564332114,
          5722.3676593502205,
          6579.332246575683,
          7564.633275546291,
          8697.490026177835,
          10000
         ],
         "y": [
          0.01,
          0.011497569953977356,
          0.013219411484660288,
          0.01519911082952934,
          0.01747528400007684,
          0.02009233002565047,
          0.023101297000831605,
          0.026560877829466867,
          0.030538555088334154,
          0.03511191734215131,
          0.040370172585965536,
          0.046415888336127795,
          0.0533669923120631,
          0.06135907273413173,
          0.07054802310718646,
          0.08111308307896872,
          0.093260334688322,
          0.10722672220103231,
          0.12328467394420659,
          0.14174741629268056,
          0.16297508346206444,
          0.1873817422860384,
          0.21544346900318845,
          0.24770763559917114,
          0.2848035868435802,
          0.32745491628777285,
          0.37649358067924676,
          0.43287612810830595,
          0.49770235643321115,
          0.5722367659350217,
          0.6579332246575682,
          0.7564633275546291,
          0.8697490026177834,
          1,
          1.1497569953977356,
          1.3219411484660286,
          1.5199110829529332,
          1.7475284000076847,
          2.0092330025650478,
          2.31012970008316,
          2.656087782946687,
          3.0538555088334154,
          3.511191734215131,
          4.037017258596554,
          4.641588833612782,
          5.336699231206313,
          6.135907273413176,
          7.054802310718645,
          8.111308307896872,
          9.326033468832199,
          10.722672220103231,
          12.32846739442066,
          14.174741629268048,
          16.297508346206453,
          18.73817422860385,
          21.544346900318846,
          24.770763559917114,
          28.48035868435802,
          32.74549162877728,
          37.64935806792467,
          43.287612810830616,
          49.770235643321136,
          57.2236765935022,
          65.79332246575683,
          75.64633275546291,
          86.97490026177834,
          100,
          114.97569953977356,
          132.19411484660287,
          151.99110829529332,
          174.7528400007683,
          200.92330025650458,
          231.0129700083158,
          265.6087782946689,
          305.38555088334186,
          351.11917342151344,
          403.70172585965577,
          464.1588833612782,
          533.6699231206312,
          613.5907273413176,
          705.4802310718645,
          811.1308307896873,
          932.60334688322,
          1072.2672220103232,
          1232.8467394420659,
          1417.4741629268049,
          1629.7508346206434,
          1873.817422860383,
          2154.4346900318865,
          2477.076355991714,
          2848.035868435805,
          3274.5491628777318,
          3764.9358067924713,
          4328.7612810830615,
          4977.023564332114,
          5722.3676593502205,
          6579.332246575683,
          7564.633275546291,
          8697.490026177835,
          10000
         ]
        }
       ],
       "layout": {
        "annotations": [
         {
          "showarrow": false,
          "text": "NuSTAR 2.5-3.5 keV",
          "x": -0.6735330895059872,
          "y": -7
         },
         {
          "showarrow": false,
          "text": "94",
          "x": 0.5424724686412462,
          "y": -6
         },
         {
          "showarrow": false,
          "text": "Be-Thin",
          "x": 1.136999148362153,
          "y": -5
         },
         {
          "showarrow": false,
          "text": "335",
          "x": 1.462694016428095,
          "y": -4
         },
         {
          "showarrow": false,
          "text": "131",
          "x": 1.6905467306910917,
          "y": -3
         },
         {
          "showarrow": false,
          "text": "211",
          "x": 2.697783088036954,
          "y": -2
         },
         {
          "showarrow": false,
          "text": "171",
          "x": 2.798212154185442,
          "y": -1
         },
         {
          "showarrow": false,
          "text": "193",
          "x": 3.0400106243188576,
          "y": 0
         }
        ],
        "height": 700,
        "template": {
         "data": {
          "bar": [
           {
            "error_x": {
             "color": "#2a3f5f"
            },
            "error_y": {
             "color": "#2a3f5f"
            },
            "marker": {
             "line": {
              "color": "#E5ECF6",
              "width": 0.5
             }
            },
            "type": "bar"
           }
          ],
          "barpolar": [
           {
            "marker": {
             "line": {
              "color": "#E5ECF6",
              "width": 0.5
             }
            },
            "type": "barpolar"
           }
          ],
          "carpet": [
           {
            "aaxis": {
             "endlinecolor": "#2a3f5f",
             "gridcolor": "white",
             "linecolor": "white",
             "minorgridcolor": "white",
             "startlinecolor": "#2a3f5f"
            },
            "baxis": {
             "endlinecolor": "#2a3f5f",
             "gridcolor": "white",
             "linecolor": "white",
             "minorgridcolor": "white",
             "startlinecolor": "#2a3f5f"
            },
            "type": "carpet"
           }
          ],
          "choropleth": [
           {
            "colorbar": {
             "outlinewidth": 0,
             "ticks": ""
            },
            "type": "choropleth"
           }
          ],
          "contour": [
           {
            "colorbar": {
             "outlinewidth": 0,
             "ticks": ""
            },
            "colorscale": [
             [
              0,
              "#0d0887"
             ],
             [
              0.1111111111111111,
              "#46039f"
             ],
             [
              0.2222222222222222,
              "#7201a8"
             ],
             [
              0.3333333333333333,
              "#9c179e"
             ],
             [
              0.4444444444444444,
              "#bd3786"
             ],
             [
              0.5555555555555556,
              "#d8576b"
             ],
             [
              0.6666666666666666,
              "#ed7953"
             ],
             [
              0.7777777777777778,
              "#fb9f3a"
             ],
             [
              0.8888888888888888,
              "#fdca26"
             ],
             [
              1,
              "#f0f921"
             ]
            ],
            "type": "contour"
           }
          ],
          "contourcarpet": [
           {
            "colorbar": {
             "outlinewidth": 0,
             "ticks": ""
            },
            "type": "contourcarpet"
           }
          ],
          "heatmap": [
           {
            "colorbar": {
             "outlinewidth": 0,
             "ticks": ""
            },
            "colorscale": [
             [
              0,
              "#0d0887"
             ],
             [
              0.1111111111111111,
              "#46039f"
             ],
             [
              0.2222222222222222,
              "#7201a8"
             ],
             [
              0.3333333333333333,
              "#9c179e"
             ],
             [
              0.4444444444444444,
              "#bd3786"
             ],
             [
              0.5555555555555556,
              "#d8576b"
             ],
             [
              0.6666666666666666,
              "#ed7953"
             ],
             [
              0.7777777777777778,
              "#fb9f3a"
             ],
             [
              0.8888888888888888,
              "#fdca26"
             ],
             [
              1,
              "#f0f921"
             ]
            ],
            "type": "heatmap"
           }
          ],
          "heatmapgl": [
           {
            "colorbar": {
             "outlinewidth": 0,
             "ticks": ""
            },
            "colorscale": [
             [
              0,
              "#0d0887"
             ],
             [
              0.1111111111111111,
              "#46039f"
             ],
             [
              0.2222222222222222,
              "#7201a8"
             ],
             [
              0.3333333333333333,
              "#9c179e"
             ],
             [
              0.4444444444444444,
              "#bd3786"
             ],
             [
              0.5555555555555556,
              "#d8576b"
             ],
             [
              0.6666666666666666,
              "#ed7953"
             ],
             [
              0.7777777777777778,
              "#fb9f3a"
             ],
             [
              0.8888888888888888,
              "#fdca26"
             ],
             [
              1,
              "#f0f921"
             ]
            ],
            "type": "heatmapgl"
           }
          ],
          "histogram": [
           {
            "marker": {
             "colorbar": {
              "outlinewidth": 0,
              "ticks": ""
             }
            },
            "type": "histogram"
           }
          ],
          "histogram2d": [
           {
            "colorbar": {
             "outlinewidth": 0,
             "ticks": ""
            },
            "colorscale": [
             [
              0,
              "#0d0887"
             ],
             [
              0.1111111111111111,
              "#46039f"
             ],
             [
              0.2222222222222222,
              "#7201a8"
             ],
             [
              0.3333333333333333,
              "#9c179e"
             ],
             [
              0.4444444444444444,
              "#bd3786"
             ],
             [
              0.5555555555555556,
              "#d8576b"
             ],
             [
              0.6666666666666666,
              "#ed7953"
             ],
             [
              0.7777777777777778,
              "#fb9f3a"
             ],
             [
              0.8888888888888888,
              "#fdca26"
             ],
             [
              1,
              "#f0f921"
             ]
            ],
            "type": "histogram2d"
           }
          ],
          "histogram2dcontour": [
           {
            "colorbar": {
             "outlinewidth": 0,
             "ticks": ""
            },
            "colorscale": [
             [
              0,
              "#0d0887"
             ],
             [
              0.1111111111111111,
              "#46039f"
             ],
             [
              0.2222222222222222,
              "#7201a8"
             ],
             [
              0.3333333333333333,
              "#9c179e"
             ],
             [
              0.4444444444444444,
              "#bd3786"
             ],
             [
              0.5555555555555556,
              "#d8576b"
             ],
             [
              0.6666666666666666,
              "#ed7953"
             ],
             [
              0.7777777777777778,
              "#fb9f3a"
             ],
             [
              0.8888888888888888,
              "#fdca26"
             ],
             [
              1,
              "#f0f921"
             ]
            ],
            "type": "histogram2dcontour"
           }
          ],
          "mesh3d": [
           {
            "colorbar": {
             "outlinewidth": 0,
             "ticks": ""
            },
            "type": "mesh3d"
           }
          ],
          "parcoords": [
           {
            "line": {
             "colorbar": {
              "outlinewidth": 0,
              "ticks": ""
             }
            },
            "type": "parcoords"
           }
          ],
          "pie": [
           {
            "automargin": true,
            "type": "pie"
           }
          ],
          "scatter": [
           {
            "marker": {
             "colorbar": {
              "outlinewidth": 0,
              "ticks": ""
             }
            },
            "type": "scatter"
           }
          ],
          "scatter3d": [
           {
            "line": {
             "colorbar": {
              "outlinewidth": 0,
              "ticks": ""
             }
            },
            "marker": {
             "colorbar": {
              "outlinewidth": 0,
              "ticks": ""
             }
            },
            "type": "scatter3d"
           }
          ],
          "scattercarpet": [
           {
            "marker": {
             "colorbar": {
              "outlinewidth": 0,
              "ticks": ""
             }
            },
            "type": "scattercarpet"
           }
          ],
          "scattergeo": [
           {
            "marker": {
             "colorbar": {
              "outlinewidth": 0,
              "ticks": ""
             }
            },
            "type": "scattergeo"
           }
          ],
          "scattergl": [
           {
            "marker": {
             "colorbar": {
              "outlinewidth": 0,
              "ticks": ""
             }
            },
            "type": "scattergl"
           }
          ],
          "scattermapbox": [
           {
            "marker": {
             "colorbar": {
              "outlinewidth": 0,
              "ticks": ""
             }
            },
            "type": "scattermapbox"
           }
          ],
          "scatterpolar": [
           {
            "marker": {
             "colorbar": {
              "outlinewidth": 0,
              "ticks": ""
             }
            },
            "type": "scatterpolar"
           }
          ],
          "scatterpolargl": [
           {
            "marker": {
             "colorbar": {
              "outlinewidth": 0,
              "ticks": ""
             }
            },
            "type": "scatterpolargl"
           }
          ],
          "scatterternary": [
           {
            "marker": {
             "colorbar": {
              "outlinewidth": 0,
              "ticks": ""
             }
            },
            "type": "scatterternary"
           }
          ],
          "surface": [
           {
            "colorbar": {
             "outlinewidth": 0,
             "ticks": ""
            },
            "colorscale": [
             [
              0,
              "#0d0887"
             ],
             [
              0.1111111111111111,
              "#46039f"
             ],
             [
              0.2222222222222222,
              "#7201a8"
             ],
             [
              0.3333333333333333,
              "#9c179e"
             ],
             [
              0.4444444444444444,
              "#bd3786"
             ],
             [
              0.5555555555555556,
              "#d8576b"
             ],
             [
              0.6666666666666666,
              "#ed7953"
             ],
             [
              0.7777777777777778,
              "#fb9f3a"
             ],
             [
              0.8888888888888888,
              "#fdca26"
             ],
             [
              1,
              "#f0f921"
             ]
            ],
            "type": "surface"
           }
          ],
          "table": [
           {
            "cells": {
             "fill": {
              "color": "#EBF0F8"
             },
             "line": {
              "color": "white"
             }
            },
            "header": {
             "fill": {
              "color": "#C8D4E3"
             },
             "line": {
              "color": "white"
             }
            },
            "type": "table"
           }
          ]
         },
         "layout": {
          "annotationdefaults": {
           "arrowcolor": "#2a3f5f",
           "arrowhead": 0,
           "arrowwidth": 1
          },
          "autotypenumbers": "strict",
          "coloraxis": {
           "colorbar": {
            "outlinewidth": 0,
            "ticks": ""
           }
          },
          "colorscale": {
           "diverging": [
            [
             0,
             "#8e0152"
            ],
            [
             0.1,
             "#c51b7d"
            ],
            [
             0.2,
             "#de77ae"
            ],
            [
             0.3,
             "#f1b6da"
            ],
            [
             0.4,
             "#fde0ef"
            ],
            [
             0.5,
             "#f7f7f7"
            ],
            [
             0.6,
             "#e6f5d0"
            ],
            [
             0.7,
             "#b8e186"
            ],
            [
             0.8,
             "#7fbc41"
            ],
            [
             0.9,
             "#4d9221"
            ],
            [
             1,
             "#276419"
            ]
           ],
           "sequential": [
            [
             0,
             "#0d0887"
            ],
            [
             0.1111111111111111,
             "#46039f"
            ],
            [
             0.2222222222222222,
             "#7201a8"
            ],
            [
             0.3333333333333333,
             "#9c179e"
            ],
            [
             0.4444444444444444,
             "#bd3786"
            ],
            [
             0.5555555555555556,
             "#d8576b"
            ],
            [
             0.6666666666666666,
             "#ed7953"
            ],
            [
             0.7777777777777778,
             "#fb9f3a"
            ],
            [
             0.8888888888888888,
             "#fdca26"
            ],
            [
             1,
             "#f0f921"
            ]
           ],
           "sequentialminus": [
            [
             0,
             "#0d0887"
            ],
            [
             0.1111111111111111,
             "#46039f"
            ],
            [
             0.2222222222222222,
             "#7201a8"
            ],
            [
             0.3333333333333333,
             "#9c179e"
            ],
            [
             0.4444444444444444,
             "#bd3786"
            ],
            [
             0.5555555555555556,
             "#d8576b"
            ],
            [
             0.6666666666666666,
             "#ed7953"
            ],
            [
             0.7777777777777778,
             "#fb9f3a"
            ],
            [
             0.8888888888888888,
             "#fdca26"
            ],
            [
             1,
             "#f0f921"
            ]
           ]
          },
          "colorway": [
           "#636efa",
           "#EF553B",
           "#00cc96",
           "#ab63fa",
           "#FFA15A",
           "#19d3f3",
           "#FF6692",
           "#B6E880",
           "#FF97FF",
           "#FECB52"
          ],
          "font": {
           "color": "#2a3f5f"
          },
          "geo": {
           "bgcolor": "white",
           "lakecolor": "white",
           "landcolor": "#E5ECF6",
           "showlakes": true,
           "showland": true,
           "subunitcolor": "white"
          },
          "hoverlabel": {
           "align": "left"
          },
          "hovermode": "closest",
          "mapbox": {
           "style": "light"
          },
          "paper_bgcolor": "white",
          "plot_bgcolor": "#E5ECF6",
          "polar": {
           "angularaxis": {
            "gridcolor": "white",
            "linecolor": "white",
            "ticks": ""
           },
           "bgcolor": "#E5ECF6",
           "radialaxis": {
            "gridcolor": "white",
            "linecolor": "white",
            "ticks": ""
           }
          },
          "scene": {
           "xaxis": {
            "backgroundcolor": "#E5ECF6",
            "gridcolor": "white",
            "gridwidth": 2,
            "linecolor": "white",
            "showbackground": true,
            "ticks": "",
            "zerolinecolor": "white"
           },
           "yaxis": {
            "backgroundcolor": "#E5ECF6",
            "gridcolor": "white",
            "gridwidth": 2,
            "linecolor": "white",
            "showbackground": true,
            "ticks": "",
            "zerolinecolor": "white"
           },
           "zaxis": {
            "backgroundcolor": "#E5ECF6",
            "gridcolor": "white",
            "gridwidth": 2,
            "linecolor": "white",
            "showbackground": true,
            "ticks": "",
            "zerolinecolor": "white"
           }
          },
          "shapedefaults": {
           "line": {
            "color": "#2a3f5f"
           }
          },
          "ternary": {
           "aaxis": {
            "gridcolor": "white",
            "linecolor": "white",
            "ticks": ""
           },
           "baxis": {
            "gridcolor": "white",
            "linecolor": "white",
            "ticks": ""
           },
           "bgcolor": "#E5ECF6",
           "caxis": {
            "gridcolor": "white",
            "linecolor": "white",
            "ticks": ""
           }
          },
          "title": {
           "x": 0.05
          },
          "xaxis": {
           "automargin": true,
           "gridcolor": "white",
           "linecolor": "white",
           "ticks": "",
           "title": {
            "standoff": 15
           },
           "zerolinecolor": "white",
           "zerolinewidth": 2
          },
          "yaxis": {
           "automargin": true,
           "gridcolor": "white",
           "linecolor": "white",
           "ticks": "",
           "title": {
            "standoff": 15
           },
           "zerolinecolor": "white",
           "zerolinewidth": 2
          }
         }
        },
        "title": {
         "text": "DN_reg vs DN_in"
        },
        "width": 800,
        "xaxis": {
         "exponentformat": "e",
         "showexponent": "all",
         "title": {
          "text": "DN_in"
         },
         "type": "log"
        },
        "yaxis": {
         "exponentformat": "e",
         "showexponent": "all",
         "title": {
          "text": "DN_reg"
         },
         "type": "log"
        }
       }
      },
      "text/html": [
       "<div>                            <div id=\"4a8b09da-2eb6-45ee-907e-921cb0f5fc52\" class=\"plotly-graph-div\" style=\"height:700px; width:800px;\"></div>            <script type=\"text/javascript\">                require([\"plotly\"], function(Plotly) {                    window.PLOTLYENV=window.PLOTLYENV || {};                                    if (document.getElementById(\"4a8b09da-2eb6-45ee-907e-921cb0f5fc52\")) {                    Plotly.newPlot(                        \"4a8b09da-2eb6-45ee-907e-921cb0f5fc52\",                        [{\"hovertext\": \"ratio: 0.181\", \"legendgroup\": \"0\", \"marker\": {\"color\": \"rgb(254.28125, 0.5703125, 128.28125)\", \"size\": 10, \"symbol\": \"cross-open\"}, \"mode\": \"markers\", \"name\": \"log<sub>10</sub>T<sub>max</sub>=7.0 NuSTAR 2.5-3.5 keV\", \"showlegend\": false, \"type\": \"scatter\", \"x\": [3.4871647714756313], \"y\": [0.631073566781406]}, {\"hovertext\": \"ratio: 0.542\", \"legendgroup\": \"0\", \"marker\": {\"color\": \"rgb(254.28125, 0.5703125, 128.28125)\", \"size\": 10, \"symbol\": \"triangle-up-open\"}, \"mode\": \"markers\", \"name\": \"log<sub>10</sub>T<sub>max</sub>=7.0 NuSTAR 2.5-3.5 keV\", \"showlegend\": false, \"type\": \"scatter\", \"x\": [49.03957872227575], \"y\": [26.600661435842014]}, {\"hovertext\": \"ratio: 0.916\", \"legendgroup\": \"0\", \"marker\": {\"color\": \"rgb(254.28125, 0.5703125, 128.28125)\", \"size\": 10, \"symbol\": \"circle-open\"}, \"mode\": \"markers\", \"name\": \"log<sub>10</sub>T<sub>max</sub>=7.0 NuSTAR 2.5-3.5 keV\", \"showlegend\": false, \"type\": \"scatter\", \"x\": [628.3652421971151], \"y\": [575.6890852073906]}, {\"hovertext\": \"ratio: 0.153\", \"legendgroup\": \"0\", \"marker\": {\"color\": \"rgb(254.28125, 0.5703125, 128.28125)\", \"size\": 10, \"symbol\": \"triangle-down-open\"}, \"mode\": \"markers\", \"name\": \"log<sub>10</sub>T<sub>max</sub>=7.0 NuSTAR 2.5-3.5 keV\", \"showlegend\": false, \"type\": \"scatter\", \"x\": [1096.5050200540427], \"y\": [167.66591993488407]}, {\"hovertext\": \"ratio: 0.084\", \"legendgroup\": \"0\", \"marker\": {\"color\": \"rgb(254.28125, 0.5703125, 128.28125)\", \"size\": 10, \"symbol\": \"diamond-open\"}, \"mode\": \"markers\", \"name\": \"log<sub>10</sub>T<sub>max</sub>=7.0 NuSTAR 2.5-3.5 keV\", \"showlegend\": false, \"type\": \"scatter\", \"x\": [498.63537770079637], \"y\": [41.901867011135366]}, {\"hovertext\": \"ratio: 0.257\", \"legendgroup\": \"0\", \"marker\": {\"color\": \"rgb(254.28125, 0.5703125, 128.28125)\", \"size\": 10, \"symbol\": \"square-open\"}, \"mode\": \"markers\", \"name\": \"log<sub>10</sub>T<sub>max</sub>=7.0 NuSTAR 2.5-3.5 keV\", \"showlegend\": false, \"type\": \"scatter\", \"x\": [29.019773365796073], \"y\": [7.460042292495603]}, {\"hovertext\": \"ratio: 0.0\", \"legendgroup\": \"0\", \"marker\": {\"color\": \"rgb(254.28125, 0.5703125, 128.28125)\", \"size\": 10, \"symbol\": \"star-open\"}, \"mode\": \"markers\", \"name\": \"log<sub>10</sub>T<sub>max</sub>=7.0 NuSTAR 2.5-3.5 keV\", \"showlegend\": false, \"type\": \"scatter\", \"x\": [13.70879077911377], \"y\": [0.00188849817155098]}, {\"hovertext\": \"ratio: 0.0\", \"legendgroup\": \"0\", \"marker\": {\"color\": \"rgb(254.28125, 0.5703125, 128.28125)\", \"size\": 10, \"symbol\": \"hexagon-open\"}, \"mode\": \"markers\", \"name\": \"log<sub>10</sub>T<sub>max</sub>=7.0 NuSTAR 2.5-3.5 keV\", \"showlegend\": false, \"type\": \"scatter\", \"x\": [0.21206398124116085], \"y\": [2.92586141881353e-11]}, {\"legendgroup\": \"0\", \"line\": {\"color\": \"rgb(254.28125, 0.5703125, 128.28125)\", \"width\": 0.5}, \"name\": \"log<sub>10</sub>T<sub>max</sub>=6.0\", \"type\": \"scatter\", \"x\": [0.01, 0.011497569953977356, 0.013219411484660288, 0.01519911082952934, 0.01747528400007684, 0.02009233002565047, 0.023101297000831605, 0.026560877829466867, 0.030538555088334154, 0.03511191734215131, 0.040370172585965536, 0.046415888336127795, 0.0533669923120631, 0.06135907273413173, 0.07054802310718646, 0.08111308307896872, 0.093260334688322, 0.10722672220103231, 0.12328467394420659, 0.14174741629268056, 0.16297508346206444, 0.1873817422860384, 0.21544346900318845, 0.24770763559917114, 0.2848035868435802, 0.32745491628777285, 0.37649358067924676, 0.43287612810830595, 0.49770235643321115, 0.5722367659350217, 0.6579332246575682, 0.7564633275546291, 0.8697490026177834, 1.0, 1.1497569953977356, 1.3219411484660286, 1.5199110829529332, 1.7475284000076847, 2.0092330025650478, 2.31012970008316, 2.656087782946687, 3.0538555088334154, 3.511191734215131, 4.037017258596554, 4.641588833612782, 5.336699231206313, 6.135907273413176, 7.054802310718645, 8.111308307896872, 9.326033468832199, 10.722672220103231, 12.32846739442066, 14.174741629268048, 16.297508346206453, 18.73817422860385, 21.544346900318846, 24.770763559917114, 28.48035868435802, 32.74549162877728, 37.64935806792467, 43.287612810830616, 49.770235643321136, 57.2236765935022, 65.79332246575683, 75.64633275546291, 86.97490026177834, 100.0, 114.97569953977356, 132.19411484660287, 151.99110829529332, 174.7528400007683, 200.92330025650458, 231.0129700083158, 265.6087782946689, 305.38555088334186, 351.11917342151344, 403.70172585965577, 464.1588833612782, 533.6699231206312, 613.5907273413176, 705.4802310718645, 811.1308307896873, 932.60334688322, 1072.2672220103232, 1232.8467394420659, 1417.4741629268049, 1629.7508346206434, 1873.817422860383, 2154.4346900318865, 2477.076355991714, 2848.035868435805, 3274.5491628777318, 3764.9358067924713, 4328.7612810830615, 4977.023564332114, 5722.3676593502205, 6579.332246575683, 7564.633275546291, 8697.490026177835, 10000.0], \"y\": [0.01, 0.011497569953977356, 0.013219411484660288, 0.01519911082952934, 0.01747528400007684, 0.02009233002565047, 0.023101297000831605, 0.026560877829466867, 0.030538555088334154, 0.03511191734215131, 0.040370172585965536, 0.046415888336127795, 0.0533669923120631, 0.06135907273413173, 0.07054802310718646, 0.08111308307896872, 0.093260334688322, 0.10722672220103231, 0.12328467394420659, 0.14174741629268056, 0.16297508346206444, 0.1873817422860384, 0.21544346900318845, 0.24770763559917114, 0.2848035868435802, 0.32745491628777285, 0.37649358067924676, 0.43287612810830595, 0.49770235643321115, 0.5722367659350217, 0.6579332246575682, 0.7564633275546291, 0.8697490026177834, 1.0, 1.1497569953977356, 1.3219411484660286, 1.5199110829529332, 1.7475284000076847, 2.0092330025650478, 2.31012970008316, 2.656087782946687, 3.0538555088334154, 3.511191734215131, 4.037017258596554, 4.641588833612782, 5.336699231206313, 6.135907273413176, 7.054802310718645, 8.111308307896872, 9.326033468832199, 10.722672220103231, 12.32846739442066, 14.174741629268048, 16.297508346206453, 18.73817422860385, 21.544346900318846, 24.770763559917114, 28.48035868435802, 32.74549162877728, 37.64935806792467, 43.287612810830616, 49.770235643321136, 57.2236765935022, 65.79332246575683, 75.64633275546291, 86.97490026177834, 100.0, 114.97569953977356, 132.19411484660287, 151.99110829529332, 174.7528400007683, 200.92330025650458, 231.0129700083158, 265.6087782946689, 305.38555088334186, 351.11917342151344, 403.70172585965577, 464.1588833612782, 533.6699231206312, 613.5907273413176, 705.4802310718645, 811.1308307896873, 932.60334688322, 1072.2672220103232, 1232.8467394420659, 1417.4741629268049, 1629.7508346206434, 1873.817422860383, 2154.4346900318865, 2477.076355991714, 2848.035868435805, 3274.5491628777318, 3764.9358067924713, 4328.7612810830615, 4977.023564332114, 5722.3676593502205, 6579.332246575683, 7564.633275546291, 8697.490026177835, 10000.0]}, {\"hovertext\": \"ratio: 0.343\", \"legendgroup\": \"1\", \"marker\": {\"color\": \"rgb(239.90625, 11.9765625, 133.90625)\", \"size\": 10, \"symbol\": \"cross-open\"}, \"mode\": \"markers\", \"name\": \"log<sub>10</sub>T<sub>max</sub>=7.0 NuSTAR 2.5-3.5 keV\", \"showlegend\": false, \"type\": \"scatter\", \"x\": [3.4871647714756313], \"y\": [1.1948610930523942]}, {\"hovertext\": \"ratio: 0.675\", \"legendgroup\": \"1\", \"marker\": {\"color\": \"rgb(239.90625, 11.9765625, 133.90625)\", \"size\": 10, \"symbol\": \"triangle-up-open\"}, \"mode\": \"markers\", \"name\": \"log<sub>10</sub>T<sub>max</sub>=7.0 NuSTAR 2.5-3.5 keV\", \"showlegend\": false, \"type\": \"scatter\", \"x\": [49.03957872227575], \"y\": [33.09481653732106]}, {\"hovertext\": \"ratio: 1.128\", \"legendgroup\": \"1\", \"marker\": {\"color\": \"rgb(239.90625, 11.9765625, 133.90625)\", \"size\": 10, \"symbol\": \"circle-open\"}, \"mode\": \"markers\", \"name\": \"log<sub>10</sub>T<sub>max</sub>=7.0 NuSTAR 2.5-3.5 keV\", \"showlegend\": false, \"type\": \"scatter\", \"x\": [628.3652421971151], \"y\": [708.7170091343417]}, {\"hovertext\": \"ratio: 0.377\", \"legendgroup\": \"1\", \"marker\": {\"color\": \"rgb(239.90625, 11.9765625, 133.90625)\", \"size\": 10, \"symbol\": \"triangle-down-open\"}, \"mode\": \"markers\", \"name\": \"log<sub>10</sub>T<sub>max</sub>=7.0 NuSTAR 2.5-3.5 keV\", \"showlegend\": false, \"type\": \"scatter\", \"x\": [1096.5050200540427], \"y\": [413.86312983302554]}, {\"hovertext\": \"ratio: 0.175\", \"legendgroup\": \"1\", \"marker\": {\"color\": \"rgb(239.90625, 11.9765625, 133.90625)\", \"size\": 10, \"symbol\": \"diamond-open\"}, \"mode\": \"markers\", \"name\": \"log<sub>10</sub>T<sub>max</sub>=7.0 NuSTAR 2.5-3.5 keV\", \"showlegend\": false, \"type\": \"scatter\", \"x\": [498.63537770079637], \"y\": [87.27541581728318]}, {\"hovertext\": \"ratio: 0.488\", \"legendgroup\": \"1\", \"marker\": {\"color\": \"rgb(239.90625, 11.9765625, 133.90625)\", \"size\": 10, \"symbol\": \"square-open\"}, \"mode\": \"markers\", \"name\": \"log<sub>10</sub>T<sub>max</sub>=7.0 NuSTAR 2.5-3.5 keV\", \"showlegend\": false, \"type\": \"scatter\", \"x\": [29.019773365796073], \"y\": [14.17049326602014]}, {\"hovertext\": \"ratio: 0.003\", \"legendgroup\": \"1\", \"marker\": {\"color\": \"rgb(239.90625, 11.9765625, 133.90625)\", \"size\": 10, \"symbol\": \"star-open\"}, \"mode\": \"markers\", \"name\": \"log<sub>10</sub>T<sub>max</sub>=7.0 NuSTAR 2.5-3.5 keV\", \"showlegend\": false, \"type\": \"scatter\", \"x\": [13.70879077911377], \"y\": [0.03750824206095594]}, {\"hovertext\": \"ratio: 0.0\", \"legendgroup\": \"1\", \"marker\": {\"color\": \"rgb(239.90625, 11.9765625, 133.90625)\", \"size\": 10, \"symbol\": \"hexagon-open\"}, \"mode\": \"markers\", \"name\": \"log<sub>10</sub>T<sub>max</sub>=7.0 NuSTAR 2.5-3.5 keV\", \"showlegend\": false, \"type\": \"scatter\", \"x\": [0.21206398124116085], \"y\": [2.698960696436358e-08]}, {\"legendgroup\": \"1\", \"line\": {\"color\": \"rgb(239.90625, 11.9765625, 133.90625)\", \"width\": 0.5}, \"name\": \"log<sub>10</sub>T<sub>max</sub>=6.1\", \"type\": \"scatter\", \"x\": [0.01, 0.011497569953977356, 0.013219411484660288, 0.01519911082952934, 0.01747528400007684, 0.02009233002565047, 0.023101297000831605, 0.026560877829466867, 0.030538555088334154, 0.03511191734215131, 0.040370172585965536, 0.046415888336127795, 0.0533669923120631, 0.06135907273413173, 0.07054802310718646, 0.08111308307896872, 0.093260334688322, 0.10722672220103231, 0.12328467394420659, 0.14174741629268056, 0.16297508346206444, 0.1873817422860384, 0.21544346900318845, 0.24770763559917114, 0.2848035868435802, 0.32745491628777285, 0.37649358067924676, 0.43287612810830595, 0.49770235643321115, 0.5722367659350217, 0.6579332246575682, 0.7564633275546291, 0.8697490026177834, 1.0, 1.1497569953977356, 1.3219411484660286, 1.5199110829529332, 1.7475284000076847, 2.0092330025650478, 2.31012970008316, 2.656087782946687, 3.0538555088334154, 3.511191734215131, 4.037017258596554, 4.641588833612782, 5.336699231206313, 6.135907273413176, 7.054802310718645, 8.111308307896872, 9.326033468832199, 10.722672220103231, 12.32846739442066, 14.174741629268048, 16.297508346206453, 18.73817422860385, 21.544346900318846, 24.770763559917114, 28.48035868435802, 32.74549162877728, 37.64935806792467, 43.287612810830616, 49.770235643321136, 57.2236765935022, 65.79332246575683, 75.64633275546291, 86.97490026177834, 100.0, 114.97569953977356, 132.19411484660287, 151.99110829529332, 174.7528400007683, 200.92330025650458, 231.0129700083158, 265.6087782946689, 305.38555088334186, 351.11917342151344, 403.70172585965577, 464.1588833612782, 533.6699231206312, 613.5907273413176, 705.4802310718645, 811.1308307896873, 932.60334688322, 1072.2672220103232, 1232.8467394420659, 1417.4741629268049, 1629.7508346206434, 1873.817422860383, 2154.4346900318865, 2477.076355991714, 2848.035868435805, 3274.5491628777318, 3764.9358067924713, 4328.7612810830615, 4977.023564332114, 5722.3676593502205, 6579.332246575683, 7564.633275546291, 8697.490026177835, 10000.0], \"y\": [0.01, 0.011497569953977356, 0.013219411484660288, 0.01519911082952934, 0.01747528400007684, 0.02009233002565047, 0.023101297000831605, 0.026560877829466867, 0.030538555088334154, 0.03511191734215131, 0.040370172585965536, 0.046415888336127795, 0.0533669923120631, 0.06135907273413173, 0.07054802310718646, 0.08111308307896872, 0.093260334688322, 0.10722672220103231, 0.12328467394420659, 0.14174741629268056, 0.16297508346206444, 0.1873817422860384, 0.21544346900318845, 0.24770763559917114, 0.2848035868435802, 0.32745491628777285, 0.37649358067924676, 0.43287612810830595, 0.49770235643321115, 0.5722367659350217, 0.6579332246575682, 0.7564633275546291, 0.8697490026177834, 1.0, 1.1497569953977356, 1.3219411484660286, 1.5199110829529332, 1.7475284000076847, 2.0092330025650478, 2.31012970008316, 2.656087782946687, 3.0538555088334154, 3.511191734215131, 4.037017258596554, 4.641588833612782, 5.336699231206313, 6.135907273413176, 7.054802310718645, 8.111308307896872, 9.326033468832199, 10.722672220103231, 12.32846739442066, 14.174741629268048, 16.297508346206453, 18.73817422860385, 21.544346900318846, 24.770763559917114, 28.48035868435802, 32.74549162877728, 37.64935806792467, 43.287612810830616, 49.770235643321136, 57.2236765935022, 65.79332246575683, 75.64633275546291, 86.97490026177834, 100.0, 114.97569953977356, 132.19411484660287, 151.99110829529332, 174.7528400007683, 200.92330025650458, 231.0129700083158, 265.6087782946689, 305.38555088334186, 351.11917342151344, 403.70172585965577, 464.1588833612782, 533.6699231206312, 613.5907273413176, 705.4802310718645, 811.1308307896873, 932.60334688322, 1072.2672220103232, 1232.8467394420659, 1417.4741629268049, 1629.7508346206434, 1873.817422860383, 2154.4346900318865, 2477.076355991714, 2848.035868435805, 3274.5491628777318, 3764.9358067924713, 4328.7612810830615, 4977.023564332114, 5722.3676593502205, 6579.332246575683, 7564.633275546291, 8697.490026177835, 10000.0]}, {\"hovertext\": \"ratio: 0.498\", \"legendgroup\": \"2\", \"marker\": {\"color\": \"rgb(225.53125, 23.3828125, 139.53125)\", \"size\": 10, \"symbol\": \"cross-open\"}, \"mode\": \"markers\", \"name\": \"log<sub>10</sub>T<sub>max</sub>=7.0 NuSTAR 2.5-3.5 keV\", \"showlegend\": false, \"type\": \"scatter\", \"x\": [3.4871647714756313], \"y\": [1.7357961655051009]}, {\"hovertext\": \"ratio: 0.5\", \"legendgroup\": \"2\", \"marker\": {\"color\": \"rgb(225.53125, 23.3828125, 139.53125)\", \"size\": 10, \"symbol\": \"triangle-up-open\"}, \"mode\": \"markers\", \"name\": \"log<sub>10</sub>T<sub>max</sub>=7.0 NuSTAR 2.5-3.5 keV\", \"showlegend\": false, \"type\": \"scatter\", \"x\": [49.03957872227575], \"y\": [24.519430268708803]}, {\"hovertext\": \"ratio: 1.065\", \"legendgroup\": \"2\", \"marker\": {\"color\": \"rgb(225.53125, 23.3828125, 139.53125)\", \"size\": 10, \"symbol\": \"circle-open\"}, \"mode\": \"markers\", \"name\": \"log<sub>10</sub>T<sub>max</sub>=7.0 NuSTAR 2.5-3.5 keV\", \"showlegend\": false, \"type\": \"scatter\", \"x\": [628.3652421971151], \"y\": [669.5210172156116]}, {\"hovertext\": \"ratio: 0.709\", \"legendgroup\": \"2\", \"marker\": {\"color\": \"rgb(225.53125, 23.3828125, 139.53125)\", \"size\": 10, \"symbol\": \"triangle-down-open\"}, \"mode\": \"markers\", \"name\": \"log<sub>10</sub>T<sub>max</sub>=7.0 NuSTAR 2.5-3.5 keV\", \"showlegend\": false, \"type\": \"scatter\", \"x\": [1096.5050200540427], \"y\": [776.9700040941267]}, {\"hovertext\": \"ratio: 0.28\", \"legendgroup\": \"2\", \"marker\": {\"color\": \"rgb(225.53125, 23.3828125, 139.53125)\", \"size\": 10, \"symbol\": \"diamond-open\"}, \"mode\": \"markers\", \"name\": \"log<sub>10</sub>T<sub>max</sub>=7.0 NuSTAR 2.5-3.5 keV\", \"showlegend\": false, \"type\": \"scatter\", \"x\": [498.63537770079637], \"y\": [139.7634016488945]}, {\"hovertext\": \"ratio: 0.369\", \"legendgroup\": \"2\", \"marker\": {\"color\": \"rgb(225.53125, 23.3828125, 139.53125)\", \"size\": 10, \"symbol\": \"square-open\"}, \"mode\": \"markers\", \"name\": \"log<sub>10</sub>T<sub>max</sub>=7.0 NuSTAR 2.5-3.5 keV\", \"showlegend\": false, \"type\": \"scatter\", \"x\": [29.019773365796073], \"y\": [10.710760603904706]}, {\"hovertext\": \"ratio: 0.019\", \"legendgroup\": \"2\", \"marker\": {\"color\": \"rgb(225.53125, 23.3828125, 139.53125)\", \"size\": 10, \"symbol\": \"star-open\"}, \"mode\": \"markers\", \"name\": \"log<sub>10</sub>T<sub>max</sub>=7.0 NuSTAR 2.5-3.5 keV\", \"showlegend\": false, \"type\": \"scatter\", \"x\": [13.70879077911377], \"y\": [0.25875200989396907]}, {\"hovertext\": \"ratio: 0.0\", \"legendgroup\": \"2\", \"marker\": {\"color\": \"rgb(225.53125, 23.3828125, 139.53125)\", \"size\": 10, \"symbol\": \"hexagon-open\"}, \"mode\": \"markers\", \"name\": \"log<sub>10</sub>T<sub>max</sub>=7.0 NuSTAR 2.5-3.5 keV\", \"showlegend\": false, \"type\": \"scatter\", \"x\": [0.21206398124116085], \"y\": [3.799864572723714e-06]}, {\"legendgroup\": \"2\", \"line\": {\"color\": \"rgb(225.53125, 23.3828125, 139.53125)\", \"width\": 0.5}, \"name\": \"log<sub>10</sub>T<sub>max</sub>=6.2\", \"type\": \"scatter\", \"x\": [0.01, 0.011497569953977356, 0.013219411484660288, 0.01519911082952934, 0.01747528400007684, 0.02009233002565047, 0.023101297000831605, 0.026560877829466867, 0.030538555088334154, 0.03511191734215131, 0.040370172585965536, 0.046415888336127795, 0.0533669923120631, 0.06135907273413173, 0.07054802310718646, 0.08111308307896872, 0.093260334688322, 0.10722672220103231, 0.12328467394420659, 0.14174741629268056, 0.16297508346206444, 0.1873817422860384, 0.21544346900318845, 0.24770763559917114, 0.2848035868435802, 0.32745491628777285, 0.37649358067924676, 0.43287612810830595, 0.49770235643321115, 0.5722367659350217, 0.6579332246575682, 0.7564633275546291, 0.8697490026177834, 1.0, 1.1497569953977356, 1.3219411484660286, 1.5199110829529332, 1.7475284000076847, 2.0092330025650478, 2.31012970008316, 2.656087782946687, 3.0538555088334154, 3.511191734215131, 4.037017258596554, 4.641588833612782, 5.336699231206313, 6.135907273413176, 7.054802310718645, 8.111308307896872, 9.326033468832199, 10.722672220103231, 12.32846739442066, 14.174741629268048, 16.297508346206453, 18.73817422860385, 21.544346900318846, 24.770763559917114, 28.48035868435802, 32.74549162877728, 37.64935806792467, 43.287612810830616, 49.770235643321136, 57.2236765935022, 65.79332246575683, 75.64633275546291, 86.97490026177834, 100.0, 114.97569953977356, 132.19411484660287, 151.99110829529332, 174.7528400007683, 200.92330025650458, 231.0129700083158, 265.6087782946689, 305.38555088334186, 351.11917342151344, 403.70172585965577, 464.1588833612782, 533.6699231206312, 613.5907273413176, 705.4802310718645, 811.1308307896873, 932.60334688322, 1072.2672220103232, 1232.8467394420659, 1417.4741629268049, 1629.7508346206434, 1873.817422860383, 2154.4346900318865, 2477.076355991714, 2848.035868435805, 3274.5491628777318, 3764.9358067924713, 4328.7612810830615, 4977.023564332114, 5722.3676593502205, 6579.332246575683, 7564.633275546291, 8697.490026177835, 10000.0], \"y\": [0.01, 0.011497569953977356, 0.013219411484660288, 0.01519911082952934, 0.01747528400007684, 0.02009233002565047, 0.023101297000831605, 0.026560877829466867, 0.030538555088334154, 0.03511191734215131, 0.040370172585965536, 0.046415888336127795, 0.0533669923120631, 0.06135907273413173, 0.07054802310718646, 0.08111308307896872, 0.093260334688322, 0.10722672220103231, 0.12328467394420659, 0.14174741629268056, 0.16297508346206444, 0.1873817422860384, 0.21544346900318845, 0.24770763559917114, 0.2848035868435802, 0.32745491628777285, 0.37649358067924676, 0.43287612810830595, 0.49770235643321115, 0.5722367659350217, 0.6579332246575682, 0.7564633275546291, 0.8697490026177834, 1.0, 1.1497569953977356, 1.3219411484660286, 1.5199110829529332, 1.7475284000076847, 2.0092330025650478, 2.31012970008316, 2.656087782946687, 3.0538555088334154, 3.511191734215131, 4.037017258596554, 4.641588833612782, 5.336699231206313, 6.135907273413176, 7.054802310718645, 8.111308307896872, 9.326033468832199, 10.722672220103231, 12.32846739442066, 14.174741629268048, 16.297508346206453, 18.73817422860385, 21.544346900318846, 24.770763559917114, 28.48035868435802, 32.74549162877728, 37.64935806792467, 43.287612810830616, 49.770235643321136, 57.2236765935022, 65.79332246575683, 75.64633275546291, 86.97490026177834, 100.0, 114.97569953977356, 132.19411484660287, 151.99110829529332, 174.7528400007683, 200.92330025650458, 231.0129700083158, 265.6087782946689, 305.38555088334186, 351.11917342151344, 403.70172585965577, 464.1588833612782, 533.6699231206312, 613.5907273413176, 705.4802310718645, 811.1308307896873, 932.60334688322, 1072.2672220103232, 1232.8467394420659, 1417.4741629268049, 1629.7508346206434, 1873.817422860383, 2154.4346900318865, 2477.076355991714, 2848.035868435805, 3274.5491628777318, 3764.9358067924713, 4328.7612810830615, 4977.023564332114, 5722.3676593502205, 6579.332246575683, 7564.633275546291, 8697.490026177835, 10000.0]}, {\"hovertext\": \"ratio: 0.664\", \"legendgroup\": \"3\", \"marker\": {\"color\": \"rgb(211.15625, 34.7890625, 145.15625)\", \"size\": 10, \"symbol\": \"cross-open\"}, \"mode\": \"markers\", \"name\": \"log<sub>10</sub>T<sub>max</sub>=7.0 NuSTAR 2.5-3.5 keV\", \"showlegend\": false, \"type\": \"scatter\", \"x\": [3.4871647714756313], \"y\": [2.3159721303998264]}, {\"hovertext\": \"ratio: 0.594\", \"legendgroup\": \"3\", \"marker\": {\"color\": \"rgb(211.15625, 34.7890625, 145.15625)\", \"size\": 10, \"symbol\": \"triangle-up-open\"}, \"mode\": \"markers\", \"name\": \"log<sub>10</sub>T<sub>max</sub>=7.0 NuSTAR 2.5-3.5 keV\", \"showlegend\": false, \"type\": \"scatter\", \"x\": [49.03957872227575], \"y\": [29.14565385516632]}, {\"hovertext\": \"ratio: 1.026\", \"legendgroup\": \"3\", \"marker\": {\"color\": \"rgb(211.15625, 34.7890625, 145.15625)\", \"size\": 10, \"symbol\": \"circle-open\"}, \"mode\": \"markers\", \"name\": \"log<sub>10</sub>T<sub>max</sub>=7.0 NuSTAR 2.5-3.5 keV\", \"showlegend\": false, \"type\": \"scatter\", \"x\": [628.3652421971151], \"y\": [644.4485015928374]}, {\"hovertext\": \"ratio: 1.016\", \"legendgroup\": \"3\", \"marker\": {\"color\": \"rgb(211.15625, 34.7890625, 145.15625)\", \"size\": 10, \"symbol\": \"triangle-down-open\"}, \"mode\": \"markers\", \"name\": \"log<sub>10</sub>T<sub>max</sub>=7.0 NuSTAR 2.5-3.5 keV\", \"showlegend\": false, \"type\": \"scatter\", \"x\": [1096.5050200540427], \"y\": [1113.6784565453806]}, {\"hovertext\": \"ratio: 0.65\", \"legendgroup\": \"3\", \"marker\": {\"color\": \"rgb(211.15625, 34.7890625, 145.15625)\", \"size\": 10, \"symbol\": \"diamond-open\"}, \"mode\": \"markers\", \"name\": \"log<sub>10</sub>T<sub>max</sub>=7.0 NuSTAR 2.5-3.5 keV\", \"showlegend\": false, \"type\": \"scatter\", \"x\": [498.63537770079637], \"y\": [324.22226111967166]}, {\"hovertext\": \"ratio: 0.506\", \"legendgroup\": \"3\", \"marker\": {\"color\": \"rgb(211.15625, 34.7890625, 145.15625)\", \"size\": 10, \"symbol\": \"square-open\"}, \"mode\": \"markers\", \"name\": \"log<sub>10</sub>T<sub>max</sub>=7.0 NuSTAR 2.5-3.5 keV\", \"showlegend\": false, \"type\": \"scatter\", \"x\": [29.019773365796073], \"y\": [14.684222952066953]}, {\"hovertext\": \"ratio: 0.103\", \"legendgroup\": \"3\", \"marker\": {\"color\": \"rgb(211.15625, 34.7890625, 145.15625)\", \"size\": 10, \"symbol\": \"star-open\"}, \"mode\": \"markers\", \"name\": \"log<sub>10</sub>T<sub>max</sub>=7.0 NuSTAR 2.5-3.5 keV\", \"showlegend\": false, \"type\": \"scatter\", \"x\": [13.70879077911377], \"y\": [1.4187189708218275]}, {\"hovertext\": \"ratio: 0.001\", \"legendgroup\": \"3\", \"marker\": {\"color\": \"rgb(211.15625, 34.7890625, 145.15625)\", \"size\": 10, \"symbol\": \"hexagon-open\"}, \"mode\": \"markers\", \"name\": \"log<sub>10</sub>T<sub>max</sub>=7.0 NuSTAR 2.5-3.5 keV\", \"showlegend\": false, \"type\": \"scatter\", \"x\": [0.21206398124116085], \"y\": [0.00025898428254819033]}, {\"legendgroup\": \"3\", \"line\": {\"color\": \"rgb(211.15625, 34.7890625, 145.15625)\", \"width\": 0.5}, \"name\": \"log<sub>10</sub>T<sub>max</sub>=6.3\", \"type\": \"scatter\", \"x\": [0.01, 0.011497569953977356, 0.013219411484660288, 0.01519911082952934, 0.01747528400007684, 0.02009233002565047, 0.023101297000831605, 0.026560877829466867, 0.030538555088334154, 0.03511191734215131, 0.040370172585965536, 0.046415888336127795, 0.0533669923120631, 0.06135907273413173, 0.07054802310718646, 0.08111308307896872, 0.093260334688322, 0.10722672220103231, 0.12328467394420659, 0.14174741629268056, 0.16297508346206444, 0.1873817422860384, 0.21544346900318845, 0.24770763559917114, 0.2848035868435802, 0.32745491628777285, 0.37649358067924676, 0.43287612810830595, 0.49770235643321115, 0.5722367659350217, 0.6579332246575682, 0.7564633275546291, 0.8697490026177834, 1.0, 1.1497569953977356, 1.3219411484660286, 1.5199110829529332, 1.7475284000076847, 2.0092330025650478, 2.31012970008316, 2.656087782946687, 3.0538555088334154, 3.511191734215131, 4.037017258596554, 4.641588833612782, 5.336699231206313, 6.135907273413176, 7.054802310718645, 8.111308307896872, 9.326033468832199, 10.722672220103231, 12.32846739442066, 14.174741629268048, 16.297508346206453, 18.73817422860385, 21.544346900318846, 24.770763559917114, 28.48035868435802, 32.74549162877728, 37.64935806792467, 43.287612810830616, 49.770235643321136, 57.2236765935022, 65.79332246575683, 75.64633275546291, 86.97490026177834, 100.0, 114.97569953977356, 132.19411484660287, 151.99110829529332, 174.7528400007683, 200.92330025650458, 231.0129700083158, 265.6087782946689, 305.38555088334186, 351.11917342151344, 403.70172585965577, 464.1588833612782, 533.6699231206312, 613.5907273413176, 705.4802310718645, 811.1308307896873, 932.60334688322, 1072.2672220103232, 1232.8467394420659, 1417.4741629268049, 1629.7508346206434, 1873.817422860383, 2154.4346900318865, 2477.076355991714, 2848.035868435805, 3274.5491628777318, 3764.9358067924713, 4328.7612810830615, 4977.023564332114, 5722.3676593502205, 6579.332246575683, 7564.633275546291, 8697.490026177835, 10000.0], \"y\": [0.01, 0.011497569953977356, 0.013219411484660288, 0.01519911082952934, 0.01747528400007684, 0.02009233002565047, 0.023101297000831605, 0.026560877829466867, 0.030538555088334154, 0.03511191734215131, 0.040370172585965536, 0.046415888336127795, 0.0533669923120631, 0.06135907273413173, 0.07054802310718646, 0.08111308307896872, 0.093260334688322, 0.10722672220103231, 0.12328467394420659, 0.14174741629268056, 0.16297508346206444, 0.1873817422860384, 0.21544346900318845, 0.24770763559917114, 0.2848035868435802, 0.32745491628777285, 0.37649358067924676, 0.43287612810830595, 0.49770235643321115, 0.5722367659350217, 0.6579332246575682, 0.7564633275546291, 0.8697490026177834, 1.0, 1.1497569953977356, 1.3219411484660286, 1.5199110829529332, 1.7475284000076847, 2.0092330025650478, 2.31012970008316, 2.656087782946687, 3.0538555088334154, 3.511191734215131, 4.037017258596554, 4.641588833612782, 5.336699231206313, 6.135907273413176, 7.054802310718645, 8.111308307896872, 9.326033468832199, 10.722672220103231, 12.32846739442066, 14.174741629268048, 16.297508346206453, 18.73817422860385, 21.544346900318846, 24.770763559917114, 28.48035868435802, 32.74549162877728, 37.64935806792467, 43.287612810830616, 49.770235643321136, 57.2236765935022, 65.79332246575683, 75.64633275546291, 86.97490026177834, 100.0, 114.97569953977356, 132.19411484660287, 151.99110829529332, 174.7528400007683, 200.92330025650458, 231.0129700083158, 265.6087782946689, 305.38555088334186, 351.11917342151344, 403.70172585965577, 464.1588833612782, 533.6699231206312, 613.5907273413176, 705.4802310718645, 811.1308307896873, 932.60334688322, 1072.2672220103232, 1232.8467394420659, 1417.4741629268049, 1629.7508346206434, 1873.817422860383, 2154.4346900318865, 2477.076355991714, 2848.035868435805, 3274.5491628777318, 3764.9358067924713, 4328.7612810830615, 4977.023564332114, 5722.3676593502205, 6579.332246575683, 7564.633275546291, 8697.490026177835, 10000.0]}, {\"hovertext\": \"ratio: 0.89\", \"legendgroup\": \"4\", \"marker\": {\"color\": \"rgb(196.78125, 46.1953125, 150.78125)\", \"size\": 10, \"symbol\": \"cross-open\"}, \"mode\": \"markers\", \"name\": \"log<sub>10</sub>T<sub>max</sub>=7.0 NuSTAR 2.5-3.5 keV\", \"showlegend\": false, \"type\": \"scatter\", \"x\": [3.4871647714756313], \"y\": [3.1022195937084005]}, {\"hovertext\": \"ratio: 0.825\", \"legendgroup\": \"4\", \"marker\": {\"color\": \"rgb(196.78125, 46.1953125, 150.78125)\", \"size\": 10, \"symbol\": \"triangle-up-open\"}, \"mode\": \"markers\", \"name\": \"log<sub>10</sub>T<sub>max</sub>=7.0 NuSTAR 2.5-3.5 keV\", \"showlegend\": false, \"type\": \"scatter\", \"x\": [49.03957872227575], \"y\": [40.46563433264002]}, {\"hovertext\": \"ratio: 1.014\", \"legendgroup\": \"4\", \"marker\": {\"color\": \"rgb(196.78125, 46.1953125, 150.78125)\", \"size\": 10, \"symbol\": \"circle-open\"}, \"mode\": \"markers\", \"name\": \"log<sub>10</sub>T<sub>max</sub>=7.0 NuSTAR 2.5-3.5 keV\", \"showlegend\": false, \"type\": \"scatter\", \"x\": [628.3652421971151], \"y\": [637.4524450750398]}, {\"hovertext\": \"ratio: 0.98\", \"legendgroup\": \"4\", \"marker\": {\"color\": \"rgb(196.78125, 46.1953125, 150.78125)\", \"size\": 10, \"symbol\": \"triangle-down-open\"}, \"mode\": \"markers\", \"name\": \"log<sub>10</sub>T<sub>max</sub>=7.0 NuSTAR 2.5-3.5 keV\", \"showlegend\": false, \"type\": \"scatter\", \"x\": [1096.5050200540427], \"y\": [1074.9040067871194]}, {\"hovertext\": \"ratio: 1.018\", \"legendgroup\": \"4\", \"marker\": {\"color\": \"rgb(196.78125, 46.1953125, 150.78125)\", \"size\": 10, \"symbol\": \"diamond-open\"}, \"mode\": \"markers\", \"name\": \"log<sub>10</sub>T<sub>max</sub>=7.0 NuSTAR 2.5-3.5 keV\", \"showlegend\": false, \"type\": \"scatter\", \"x\": [498.63537770079637], \"y\": [507.7149231821443]}, {\"hovertext\": \"ratio: 0.919\", \"legendgroup\": \"4\", \"marker\": {\"color\": \"rgb(196.78125, 46.1953125, 150.78125)\", \"size\": 10, \"symbol\": \"square-open\"}, \"mode\": \"markers\", \"name\": \"log<sub>10</sub>T<sub>max</sub>=7.0 NuSTAR 2.5-3.5 keV\", \"showlegend\": false, \"type\": \"scatter\", \"x\": [29.019773365796073], \"y\": [26.66717277828228]}, {\"hovertext\": \"ratio: 0.722\", \"legendgroup\": \"4\", \"marker\": {\"color\": \"rgb(196.78125, 46.1953125, 150.78125)\", \"size\": 10, \"symbol\": \"star-open\"}, \"mode\": \"markers\", \"name\": \"log<sub>10</sub>T<sub>max</sub>=7.0 NuSTAR 2.5-3.5 keV\", \"showlegend\": false, \"type\": \"scatter\", \"x\": [13.70879077911377], \"y\": [9.895021622704315]}, {\"hovertext\": \"ratio: 0.065\", \"legendgroup\": \"4\", \"marker\": {\"color\": \"rgb(196.78125, 46.1953125, 150.78125)\", \"size\": 10, \"symbol\": \"hexagon-open\"}, \"mode\": \"markers\", \"name\": \"log<sub>10</sub>T<sub>max</sub>=7.0 NuSTAR 2.5-3.5 keV\", \"showlegend\": false, \"type\": \"scatter\", \"x\": [0.21206398124116085], \"y\": [0.013779216098098535]}, {\"legendgroup\": \"4\", \"line\": {\"color\": \"rgb(196.78125, 46.1953125, 150.78125)\", \"width\": 0.5}, \"name\": \"log<sub>10</sub>T<sub>max</sub>=6.4\", \"type\": \"scatter\", \"x\": [0.01, 0.011497569953977356, 0.013219411484660288, 0.01519911082952934, 0.01747528400007684, 0.02009233002565047, 0.023101297000831605, 0.026560877829466867, 0.030538555088334154, 0.03511191734215131, 0.040370172585965536, 0.046415888336127795, 0.0533669923120631, 0.06135907273413173, 0.07054802310718646, 0.08111308307896872, 0.093260334688322, 0.10722672220103231, 0.12328467394420659, 0.14174741629268056, 0.16297508346206444, 0.1873817422860384, 0.21544346900318845, 0.24770763559917114, 0.2848035868435802, 0.32745491628777285, 0.37649358067924676, 0.43287612810830595, 0.49770235643321115, 0.5722367659350217, 0.6579332246575682, 0.7564633275546291, 0.8697490026177834, 1.0, 1.1497569953977356, 1.3219411484660286, 1.5199110829529332, 1.7475284000076847, 2.0092330025650478, 2.31012970008316, 2.656087782946687, 3.0538555088334154, 3.511191734215131, 4.037017258596554, 4.641588833612782, 5.336699231206313, 6.135907273413176, 7.054802310718645, 8.111308307896872, 9.326033468832199, 10.722672220103231, 12.32846739442066, 14.174741629268048, 16.297508346206453, 18.73817422860385, 21.544346900318846, 24.770763559917114, 28.48035868435802, 32.74549162877728, 37.64935806792467, 43.287612810830616, 49.770235643321136, 57.2236765935022, 65.79332246575683, 75.64633275546291, 86.97490026177834, 100.0, 114.97569953977356, 132.19411484660287, 151.99110829529332, 174.7528400007683, 200.92330025650458, 231.0129700083158, 265.6087782946689, 305.38555088334186, 351.11917342151344, 403.70172585965577, 464.1588833612782, 533.6699231206312, 613.5907273413176, 705.4802310718645, 811.1308307896873, 932.60334688322, 1072.2672220103232, 1232.8467394420659, 1417.4741629268049, 1629.7508346206434, 1873.817422860383, 2154.4346900318865, 2477.076355991714, 2848.035868435805, 3274.5491628777318, 3764.9358067924713, 4328.7612810830615, 4977.023564332114, 5722.3676593502205, 6579.332246575683, 7564.633275546291, 8697.490026177835, 10000.0], \"y\": [0.01, 0.011497569953977356, 0.013219411484660288, 0.01519911082952934, 0.01747528400007684, 0.02009233002565047, 0.023101297000831605, 0.026560877829466867, 0.030538555088334154, 0.03511191734215131, 0.040370172585965536, 0.046415888336127795, 0.0533669923120631, 0.06135907273413173, 0.07054802310718646, 0.08111308307896872, 0.093260334688322, 0.10722672220103231, 0.12328467394420659, 0.14174741629268056, 0.16297508346206444, 0.1873817422860384, 0.21544346900318845, 0.24770763559917114, 0.2848035868435802, 0.32745491628777285, 0.37649358067924676, 0.43287612810830595, 0.49770235643321115, 0.5722367659350217, 0.6579332246575682, 0.7564633275546291, 0.8697490026177834, 1.0, 1.1497569953977356, 1.3219411484660286, 1.5199110829529332, 1.7475284000076847, 2.0092330025650478, 2.31012970008316, 2.656087782946687, 3.0538555088334154, 3.511191734215131, 4.037017258596554, 4.641588833612782, 5.336699231206313, 6.135907273413176, 7.054802310718645, 8.111308307896872, 9.326033468832199, 10.722672220103231, 12.32846739442066, 14.174741629268048, 16.297508346206453, 18.73817422860385, 21.544346900318846, 24.770763559917114, 28.48035868435802, 32.74549162877728, 37.64935806792467, 43.287612810830616, 49.770235643321136, 57.2236765935022, 65.79332246575683, 75.64633275546291, 86.97490026177834, 100.0, 114.97569953977356, 132.19411484660287, 151.99110829529332, 174.7528400007683, 200.92330025650458, 231.0129700083158, 265.6087782946689, 305.38555088334186, 351.11917342151344, 403.70172585965577, 464.1588833612782, 533.6699231206312, 613.5907273413176, 705.4802310718645, 811.1308307896873, 932.60334688322, 1072.2672220103232, 1232.8467394420659, 1417.4741629268049, 1629.7508346206434, 1873.817422860383, 2154.4346900318865, 2477.076355991714, 2848.035868435805, 3274.5491628777318, 3764.9358067924713, 4328.7612810830615, 4977.023564332114, 5722.3676593502205, 6579.332246575683, 7564.633275546291, 8697.490026177835, 10000.0]}, {\"hovertext\": \"ratio: 0.874\", \"legendgroup\": \"5\", \"marker\": {\"color\": \"rgb(182.40625, 57.6015625, 156.40625)\", \"size\": 10, \"symbol\": \"cross-open\"}, \"mode\": \"markers\", \"name\": \"log<sub>10</sub>T<sub>max</sub>=7.0 NuSTAR 2.5-3.5 keV\", \"showlegend\": false, \"type\": \"scatter\", \"x\": [3.4871647714756313], \"y\": [3.046849513761734]}, {\"hovertext\": \"ratio: 0.813\", \"legendgroup\": \"5\", \"marker\": {\"color\": \"rgb(182.40625, 57.6015625, 156.40625)\", \"size\": 10, \"symbol\": \"triangle-up-open\"}, \"mode\": \"markers\", \"name\": \"log<sub>10</sub>T<sub>max</sub>=7.0 NuSTAR 2.5-3.5 keV\", \"showlegend\": false, \"type\": \"scatter\", \"x\": [49.03957872227575], \"y\": [39.84652235955166]}, {\"hovertext\": \"ratio: 1.015\", \"legendgroup\": \"5\", \"marker\": {\"color\": \"rgb(182.40625, 57.6015625, 156.40625)\", \"size\": 10, \"symbol\": \"circle-open\"}, \"mode\": \"markers\", \"name\": \"log<sub>10</sub>T<sub>max</sub>=7.0 NuSTAR 2.5-3.5 keV\", \"showlegend\": false, \"type\": \"scatter\", \"x\": [628.3652421971151], \"y\": [637.546675580145]}, {\"hovertext\": \"ratio: 1.003\", \"legendgroup\": \"5\", \"marker\": {\"color\": \"rgb(182.40625, 57.6015625, 156.40625)\", \"size\": 10, \"symbol\": \"triangle-down-open\"}, \"mode\": \"markers\", \"name\": \"log<sub>10</sub>T<sub>max</sub>=7.0 NuSTAR 2.5-3.5 keV\", \"showlegend\": false, \"type\": \"scatter\", \"x\": [1096.5050200540427], \"y\": [1099.4571568827216]}, {\"hovertext\": \"ratio: 0.941\", \"legendgroup\": \"5\", \"marker\": {\"color\": \"rgb(182.40625, 57.6015625, 156.40625)\", \"size\": 10, \"symbol\": \"diamond-open\"}, \"mode\": \"markers\", \"name\": \"log<sub>10</sub>T<sub>max</sub>=7.0 NuSTAR 2.5-3.5 keV\", \"showlegend\": false, \"type\": \"scatter\", \"x\": [498.63537770079637], \"y\": [469.21031302566155]}, {\"hovertext\": \"ratio: 0.912\", \"legendgroup\": \"5\", \"marker\": {\"color\": \"rgb(182.40625, 57.6015625, 156.40625)\", \"size\": 10, \"symbol\": \"square-open\"}, \"mode\": \"markers\", \"name\": \"log<sub>10</sub>T<sub>max</sub>=7.0 NuSTAR 2.5-3.5 keV\", \"showlegend\": false, \"type\": \"scatter\", \"x\": [29.019773365796073], \"y\": [26.478901807409773]}, {\"hovertext\": \"ratio: 1.161\", \"legendgroup\": \"5\", \"marker\": {\"color\": \"rgb(182.40625, 57.6015625, 156.40625)\", \"size\": 10, \"symbol\": \"star-open\"}, \"mode\": \"markers\", \"name\": \"log<sub>10</sub>T<sub>max</sub>=7.0 NuSTAR 2.5-3.5 keV\", \"showlegend\": false, \"type\": \"scatter\", \"x\": [13.70879077911377], \"y\": [15.913826641966974]}, {\"hovertext\": \"ratio: 0.376\", \"legendgroup\": \"5\", \"marker\": {\"color\": \"rgb(182.40625, 57.6015625, 156.40625)\", \"size\": 10, \"symbol\": \"hexagon-open\"}, \"mode\": \"markers\", \"name\": \"log<sub>10</sub>T<sub>max</sub>=7.0 NuSTAR 2.5-3.5 keV\", \"showlegend\": false, \"type\": \"scatter\", \"x\": [0.21206398124116085], \"y\": [0.07981369219215721]}, {\"legendgroup\": \"5\", \"line\": {\"color\": \"rgb(182.40625, 57.6015625, 156.40625)\", \"width\": 0.5}, \"name\": \"log<sub>10</sub>T<sub>max</sub>=6.5\", \"type\": \"scatter\", \"x\": [0.01, 0.011497569953977356, 0.013219411484660288, 0.01519911082952934, 0.01747528400007684, 0.02009233002565047, 0.023101297000831605, 0.026560877829466867, 0.030538555088334154, 0.03511191734215131, 0.040370172585965536, 0.046415888336127795, 0.0533669923120631, 0.06135907273413173, 0.07054802310718646, 0.08111308307896872, 0.093260334688322, 0.10722672220103231, 0.12328467394420659, 0.14174741629268056, 0.16297508346206444, 0.1873817422860384, 0.21544346900318845, 0.24770763559917114, 0.2848035868435802, 0.32745491628777285, 0.37649358067924676, 0.43287612810830595, 0.49770235643321115, 0.5722367659350217, 0.6579332246575682, 0.7564633275546291, 0.8697490026177834, 1.0, 1.1497569953977356, 1.3219411484660286, 1.5199110829529332, 1.7475284000076847, 2.0092330025650478, 2.31012970008316, 2.656087782946687, 3.0538555088334154, 3.511191734215131, 4.037017258596554, 4.641588833612782, 5.336699231206313, 6.135907273413176, 7.054802310718645, 8.111308307896872, 9.326033468832199, 10.722672220103231, 12.32846739442066, 14.174741629268048, 16.297508346206453, 18.73817422860385, 21.544346900318846, 24.770763559917114, 28.48035868435802, 32.74549162877728, 37.64935806792467, 43.287612810830616, 49.770235643321136, 57.2236765935022, 65.79332246575683, 75.64633275546291, 86.97490026177834, 100.0, 114.97569953977356, 132.19411484660287, 151.99110829529332, 174.7528400007683, 200.92330025650458, 231.0129700083158, 265.6087782946689, 305.38555088334186, 351.11917342151344, 403.70172585965577, 464.1588833612782, 533.6699231206312, 613.5907273413176, 705.4802310718645, 811.1308307896873, 932.60334688322, 1072.2672220103232, 1232.8467394420659, 1417.4741629268049, 1629.7508346206434, 1873.817422860383, 2154.4346900318865, 2477.076355991714, 2848.035868435805, 3274.5491628777318, 3764.9358067924713, 4328.7612810830615, 4977.023564332114, 5722.3676593502205, 6579.332246575683, 7564.633275546291, 8697.490026177835, 10000.0], \"y\": [0.01, 0.011497569953977356, 0.013219411484660288, 0.01519911082952934, 0.01747528400007684, 0.02009233002565047, 0.023101297000831605, 0.026560877829466867, 0.030538555088334154, 0.03511191734215131, 0.040370172585965536, 0.046415888336127795, 0.0533669923120631, 0.06135907273413173, 0.07054802310718646, 0.08111308307896872, 0.093260334688322, 0.10722672220103231, 0.12328467394420659, 0.14174741629268056, 0.16297508346206444, 0.1873817422860384, 0.21544346900318845, 0.24770763559917114, 0.2848035868435802, 0.32745491628777285, 0.37649358067924676, 0.43287612810830595, 0.49770235643321115, 0.5722367659350217, 0.6579332246575682, 0.7564633275546291, 0.8697490026177834, 1.0, 1.1497569953977356, 1.3219411484660286, 1.5199110829529332, 1.7475284000076847, 2.0092330025650478, 2.31012970008316, 2.656087782946687, 3.0538555088334154, 3.511191734215131, 4.037017258596554, 4.641588833612782, 5.336699231206313, 6.135907273413176, 7.054802310718645, 8.111308307896872, 9.326033468832199, 10.722672220103231, 12.32846739442066, 14.174741629268048, 16.297508346206453, 18.73817422860385, 21.544346900318846, 24.770763559917114, 28.48035868435802, 32.74549162877728, 37.64935806792467, 43.287612810830616, 49.770235643321136, 57.2236765935022, 65.79332246575683, 75.64633275546291, 86.97490026177834, 100.0, 114.97569953977356, 132.19411484660287, 151.99110829529332, 174.7528400007683, 200.92330025650458, 231.0129700083158, 265.6087782946689, 305.38555088334186, 351.11917342151344, 403.70172585965577, 464.1588833612782, 533.6699231206312, 613.5907273413176, 705.4802310718645, 811.1308307896873, 932.60334688322, 1072.2672220103232, 1232.8467394420659, 1417.4741629268049, 1629.7508346206434, 1873.817422860383, 2154.4346900318865, 2477.076355991714, 2848.035868435805, 3274.5491628777318, 3764.9358067924713, 4328.7612810830615, 4977.023564332114, 5722.3676593502205, 6579.332246575683, 7564.633275546291, 8697.490026177835, 10000.0]}, {\"hovertext\": \"ratio: 0.862\", \"legendgroup\": \"6\", \"marker\": {\"color\": \"rgb(168.03125, 69.0078125, 162.03125)\", \"size\": 10, \"symbol\": \"cross-open\"}, \"mode\": \"markers\", \"name\": \"log<sub>10</sub>T<sub>max</sub>=7.0 NuSTAR 2.5-3.5 keV\", \"showlegend\": false, \"type\": \"scatter\", \"x\": [3.4871647714756313], \"y\": [3.0062836799241066]}, {\"hovertext\": \"ratio: 0.609\", \"legendgroup\": \"6\", \"marker\": {\"color\": \"rgb(168.03125, 69.0078125, 162.03125)\", \"size\": 10, \"symbol\": \"triangle-up-open\"}, \"mode\": \"markers\", \"name\": \"log<sub>10</sub>T<sub>max</sub>=7.0 NuSTAR 2.5-3.5 keV\", \"showlegend\": false, \"type\": \"scatter\", \"x\": [49.03957872227575], \"y\": [29.86402892763823]}, {\"hovertext\": \"ratio: 1.016\", \"legendgroup\": \"6\", \"marker\": {\"color\": \"rgb(168.03125, 69.0078125, 162.03125)\", \"size\": 10, \"symbol\": \"circle-open\"}, \"mode\": \"markers\", \"name\": \"log<sub>10</sub>T<sub>max</sub>=7.0 NuSTAR 2.5-3.5 keV\", \"showlegend\": false, \"type\": \"scatter\", \"x\": [628.3652421971151], \"y\": [638.7062596951365]}, {\"hovertext\": \"ratio: 0.966\", \"legendgroup\": \"6\", \"marker\": {\"color\": \"rgb(168.03125, 69.0078125, 162.03125)\", \"size\": 10, \"symbol\": \"triangle-down-open\"}, \"mode\": \"markers\", \"name\": \"log<sub>10</sub>T<sub>max</sub>=7.0 NuSTAR 2.5-3.5 keV\", \"showlegend\": false, \"type\": \"scatter\", \"x\": [1096.5050200540427], \"y\": [1059.4045663026984]}, {\"hovertext\": \"ratio: 0.845\", \"legendgroup\": \"6\", \"marker\": {\"color\": \"rgb(168.03125, 69.0078125, 162.03125)\", \"size\": 10, \"symbol\": \"diamond-open\"}, \"mode\": \"markers\", \"name\": \"log<sub>10</sub>T<sub>max</sub>=7.0 NuSTAR 2.5-3.5 keV\", \"showlegend\": false, \"type\": \"scatter\", \"x\": [498.63537770079637], \"y\": [421.3627428820469]}, {\"hovertext\": \"ratio: 0.744\", \"legendgroup\": \"6\", \"marker\": {\"color\": \"rgb(168.03125, 69.0078125, 162.03125)\", \"size\": 10, \"symbol\": \"square-open\"}, \"mode\": \"markers\", \"name\": \"log<sub>10</sub>T<sub>max</sub>=7.0 NuSTAR 2.5-3.5 keV\", \"showlegend\": false, \"type\": \"scatter\", \"x\": [29.019773365796073], \"y\": [21.596616166935856]}, {\"hovertext\": \"ratio: 1.112\", \"legendgroup\": \"6\", \"marker\": {\"color\": \"rgb(168.03125, 69.0078125, 162.03125)\", \"size\": 10, \"symbol\": \"star-open\"}, \"mode\": \"markers\", \"name\": \"log<sub>10</sub>T<sub>max</sub>=7.0 NuSTAR 2.5-3.5 keV\", \"showlegend\": false, \"type\": \"scatter\", \"x\": [13.70879077911377], \"y\": [15.246152637765116]}, {\"hovertext\": \"ratio: 0.809\", \"legendgroup\": \"6\", \"marker\": {\"color\": \"rgb(168.03125, 69.0078125, 162.03125)\", \"size\": 10, \"symbol\": \"hexagon-open\"}, \"mode\": \"markers\", \"name\": \"log<sub>10</sub>T<sub>max</sub>=7.0 NuSTAR 2.5-3.5 keV\", \"showlegend\": false, \"type\": \"scatter\", \"x\": [0.21206398124116085], \"y\": [0.17147105029322868]}, {\"legendgroup\": \"6\", \"line\": {\"color\": \"rgb(168.03125, 69.0078125, 162.03125)\", \"width\": 0.5}, \"name\": \"log<sub>10</sub>T<sub>max</sub>=6.6\", \"type\": \"scatter\", \"x\": [0.01, 0.011497569953977356, 0.013219411484660288, 0.01519911082952934, 0.01747528400007684, 0.02009233002565047, 0.023101297000831605, 0.026560877829466867, 0.030538555088334154, 0.03511191734215131, 0.040370172585965536, 0.046415888336127795, 0.0533669923120631, 0.06135907273413173, 0.07054802310718646, 0.08111308307896872, 0.093260334688322, 0.10722672220103231, 0.12328467394420659, 0.14174741629268056, 0.16297508346206444, 0.1873817422860384, 0.21544346900318845, 0.24770763559917114, 0.2848035868435802, 0.32745491628777285, 0.37649358067924676, 0.43287612810830595, 0.49770235643321115, 0.5722367659350217, 0.6579332246575682, 0.7564633275546291, 0.8697490026177834, 1.0, 1.1497569953977356, 1.3219411484660286, 1.5199110829529332, 1.7475284000076847, 2.0092330025650478, 2.31012970008316, 2.656087782946687, 3.0538555088334154, 3.511191734215131, 4.037017258596554, 4.641588833612782, 5.336699231206313, 6.135907273413176, 7.054802310718645, 8.111308307896872, 9.326033468832199, 10.722672220103231, 12.32846739442066, 14.174741629268048, 16.297508346206453, 18.73817422860385, 21.544346900318846, 24.770763559917114, 28.48035868435802, 32.74549162877728, 37.64935806792467, 43.287612810830616, 49.770235643321136, 57.2236765935022, 65.79332246575683, 75.64633275546291, 86.97490026177834, 100.0, 114.97569953977356, 132.19411484660287, 151.99110829529332, 174.7528400007683, 200.92330025650458, 231.0129700083158, 265.6087782946689, 305.38555088334186, 351.11917342151344, 403.70172585965577, 464.1588833612782, 533.6699231206312, 613.5907273413176, 705.4802310718645, 811.1308307896873, 932.60334688322, 1072.2672220103232, 1232.8467394420659, 1417.4741629268049, 1629.7508346206434, 1873.817422860383, 2154.4346900318865, 2477.076355991714, 2848.035868435805, 3274.5491628777318, 3764.9358067924713, 4328.7612810830615, 4977.023564332114, 5722.3676593502205, 6579.332246575683, 7564.633275546291, 8697.490026177835, 10000.0], \"y\": [0.01, 0.011497569953977356, 0.013219411484660288, 0.01519911082952934, 0.01747528400007684, 0.02009233002565047, 0.023101297000831605, 0.026560877829466867, 0.030538555088334154, 0.03511191734215131, 0.040370172585965536, 0.046415888336127795, 0.0533669923120631, 0.06135907273413173, 0.07054802310718646, 0.08111308307896872, 0.093260334688322, 0.10722672220103231, 0.12328467394420659, 0.14174741629268056, 0.16297508346206444, 0.1873817422860384, 0.21544346900318845, 0.24770763559917114, 0.2848035868435802, 0.32745491628777285, 0.37649358067924676, 0.43287612810830595, 0.49770235643321115, 0.5722367659350217, 0.6579332246575682, 0.7564633275546291, 0.8697490026177834, 1.0, 1.1497569953977356, 1.3219411484660286, 1.5199110829529332, 1.7475284000076847, 2.0092330025650478, 2.31012970008316, 2.656087782946687, 3.0538555088334154, 3.511191734215131, 4.037017258596554, 4.641588833612782, 5.336699231206313, 6.135907273413176, 7.054802310718645, 8.111308307896872, 9.326033468832199, 10.722672220103231, 12.32846739442066, 14.174741629268048, 16.297508346206453, 18.73817422860385, 21.544346900318846, 24.770763559917114, 28.48035868435802, 32.74549162877728, 37.64935806792467, 43.287612810830616, 49.770235643321136, 57.2236765935022, 65.79332246575683, 75.64633275546291, 86.97490026177834, 100.0, 114.97569953977356, 132.19411484660287, 151.99110829529332, 174.7528400007683, 200.92330025650458, 231.0129700083158, 265.6087782946689, 305.38555088334186, 351.11917342151344, 403.70172585965577, 464.1588833612782, 533.6699231206312, 613.5907273413176, 705.4802310718645, 811.1308307896873, 932.60334688322, 1072.2672220103232, 1232.8467394420659, 1417.4741629268049, 1629.7508346206434, 1873.817422860383, 2154.4346900318865, 2477.076355991714, 2848.035868435805, 3274.5491628777318, 3764.9358067924713, 4328.7612810830615, 4977.023564332114, 5722.3676593502205, 6579.332246575683, 7564.633275546291, 8697.490026177835, 10000.0]}, {\"hovertext\": \"ratio: 0.851\", \"legendgroup\": \"7\", \"marker\": {\"color\": \"rgb(146.4453125, 65.5859375, 173.2421875)\", \"size\": 10, \"symbol\": \"cross-open\"}, \"mode\": \"markers\", \"name\": \"log<sub>10</sub>T<sub>max</sub>=7.0 NuSTAR 2.5-3.5 keV\", \"showlegend\": false, \"type\": \"scatter\", \"x\": [3.4871647714756313], \"y\": [2.9673722178918642]}, {\"hovertext\": \"ratio: 0.578\", \"legendgroup\": \"7\", \"marker\": {\"color\": \"rgb(146.4453125, 65.5859375, 173.2421875)\", \"size\": 10, \"symbol\": \"triangle-up-open\"}, \"mode\": \"markers\", \"name\": \"log<sub>10</sub>T<sub>max</sub>=7.0 NuSTAR 2.5-3.5 keV\", \"showlegend\": false, \"type\": \"scatter\", \"x\": [49.03957872227575], \"y\": [28.329242531391937]}, {\"hovertext\": \"ratio: 1.013\", \"legendgroup\": \"7\", \"marker\": {\"color\": \"rgb(146.4453125, 65.5859375, 173.2421875)\", \"size\": 10, \"symbol\": \"circle-open\"}, \"mode\": \"markers\", \"name\": \"log<sub>10</sub>T<sub>max</sub>=7.0 NuSTAR 2.5-3.5 keV\", \"showlegend\": false, \"type\": \"scatter\", \"x\": [628.3652421971151], \"y\": [636.290932395885]}, {\"hovertext\": \"ratio: 0.949\", \"legendgroup\": \"7\", \"marker\": {\"color\": \"rgb(146.4453125, 65.5859375, 173.2421875)\", \"size\": 10, \"symbol\": \"triangle-down-open\"}, \"mode\": \"markers\", \"name\": \"log<sub>10</sub>T<sub>max</sub>=7.0 NuSTAR 2.5-3.5 keV\", \"showlegend\": false, \"type\": \"scatter\", \"x\": [1096.5050200540427], \"y\": [1040.1333203342863]}, {\"hovertext\": \"ratio: 0.827\", \"legendgroup\": \"7\", \"marker\": {\"color\": \"rgb(146.4453125, 65.5859375, 173.2421875)\", \"size\": 10, \"symbol\": \"diamond-open\"}, \"mode\": \"markers\", \"name\": \"log<sub>10</sub>T<sub>max</sub>=7.0 NuSTAR 2.5-3.5 keV\", \"showlegend\": false, \"type\": \"scatter\", \"x\": [498.63537770079637], \"y\": [412.6026279458462]}, {\"hovertext\": \"ratio: 0.716\", \"legendgroup\": \"7\", \"marker\": {\"color\": \"rgb(146.4453125, 65.5859375, 173.2421875)\", \"size\": 10, \"symbol\": \"square-open\"}, \"mode\": \"markers\", \"name\": \"log<sub>10</sub>T<sub>max</sub>=7.0 NuSTAR 2.5-3.5 keV\", \"showlegend\": false, \"type\": \"scatter\", \"x\": [29.019773365796073], \"y\": [20.779882775318136]}, {\"hovertext\": \"ratio: 1.014\", \"legendgroup\": \"7\", \"marker\": {\"color\": \"rgb(146.4453125, 65.5859375, 173.2421875)\", \"size\": 10, \"symbol\": \"star-open\"}, \"mode\": \"markers\", \"name\": \"log<sub>10</sub>T<sub>max</sub>=7.0 NuSTAR 2.5-3.5 keV\", \"showlegend\": false, \"type\": \"scatter\", \"x\": [13.70879077911377], \"y\": [13.903931918957133]}, {\"hovertext\": \"ratio: 0.978\", \"legendgroup\": \"7\", \"marker\": {\"color\": \"rgb(146.4453125, 65.5859375, 173.2421875)\", \"size\": 10, \"symbol\": \"hexagon-open\"}, \"mode\": \"markers\", \"name\": \"log<sub>10</sub>T<sub>max</sub>=7.0 NuSTAR 2.5-3.5 keV\", \"showlegend\": false, \"type\": \"scatter\", \"x\": [0.21206398124116085], \"y\": [0.20746876006583298]}, {\"legendgroup\": \"7\", \"line\": {\"color\": \"rgb(146.4453125, 65.5859375, 173.2421875)\", \"width\": 0.5}, \"name\": \"log<sub>10</sub>T<sub>max</sub>=6.7\", \"type\": \"scatter\", \"x\": [0.01, 0.011497569953977356, 0.013219411484660288, 0.01519911082952934, 0.01747528400007684, 0.02009233002565047, 0.023101297000831605, 0.026560877829466867, 0.030538555088334154, 0.03511191734215131, 0.040370172585965536, 0.046415888336127795, 0.0533669923120631, 0.06135907273413173, 0.07054802310718646, 0.08111308307896872, 0.093260334688322, 0.10722672220103231, 0.12328467394420659, 0.14174741629268056, 0.16297508346206444, 0.1873817422860384, 0.21544346900318845, 0.24770763559917114, 0.2848035868435802, 0.32745491628777285, 0.37649358067924676, 0.43287612810830595, 0.49770235643321115, 0.5722367659350217, 0.6579332246575682, 0.7564633275546291, 0.8697490026177834, 1.0, 1.1497569953977356, 1.3219411484660286, 1.5199110829529332, 1.7475284000076847, 2.0092330025650478, 2.31012970008316, 2.656087782946687, 3.0538555088334154, 3.511191734215131, 4.037017258596554, 4.641588833612782, 5.336699231206313, 6.135907273413176, 7.054802310718645, 8.111308307896872, 9.326033468832199, 10.722672220103231, 12.32846739442066, 14.174741629268048, 16.297508346206453, 18.73817422860385, 21.544346900318846, 24.770763559917114, 28.48035868435802, 32.74549162877728, 37.64935806792467, 43.287612810830616, 49.770235643321136, 57.2236765935022, 65.79332246575683, 75.64633275546291, 86.97490026177834, 100.0, 114.97569953977356, 132.19411484660287, 151.99110829529332, 174.7528400007683, 200.92330025650458, 231.0129700083158, 265.6087782946689, 305.38555088334186, 351.11917342151344, 403.70172585965577, 464.1588833612782, 533.6699231206312, 613.5907273413176, 705.4802310718645, 811.1308307896873, 932.60334688322, 1072.2672220103232, 1232.8467394420659, 1417.4741629268049, 1629.7508346206434, 1873.817422860383, 2154.4346900318865, 2477.076355991714, 2848.035868435805, 3274.5491628777318, 3764.9358067924713, 4328.7612810830615, 4977.023564332114, 5722.3676593502205, 6579.332246575683, 7564.633275546291, 8697.490026177835, 10000.0], \"y\": [0.01, 0.011497569953977356, 0.013219411484660288, 0.01519911082952934, 0.01747528400007684, 0.02009233002565047, 0.023101297000831605, 0.026560877829466867, 0.030538555088334154, 0.03511191734215131, 0.040370172585965536, 0.046415888336127795, 0.0533669923120631, 0.06135907273413173, 0.07054802310718646, 0.08111308307896872, 0.093260334688322, 0.10722672220103231, 0.12328467394420659, 0.14174741629268056, 0.16297508346206444, 0.1873817422860384, 0.21544346900318845, 0.24770763559917114, 0.2848035868435802, 0.32745491628777285, 0.37649358067924676, 0.43287612810830595, 0.49770235643321115, 0.5722367659350217, 0.6579332246575682, 0.7564633275546291, 0.8697490026177834, 1.0, 1.1497569953977356, 1.3219411484660286, 1.5199110829529332, 1.7475284000076847, 2.0092330025650478, 2.31012970008316, 2.656087782946687, 3.0538555088334154, 3.511191734215131, 4.037017258596554, 4.641588833612782, 5.336699231206313, 6.135907273413176, 7.054802310718645, 8.111308307896872, 9.326033468832199, 10.722672220103231, 12.32846739442066, 14.174741629268048, 16.297508346206453, 18.73817422860385, 21.544346900318846, 24.770763559917114, 28.48035868435802, 32.74549162877728, 37.64935806792467, 43.287612810830616, 49.770235643321136, 57.2236765935022, 65.79332246575683, 75.64633275546291, 86.97490026177834, 100.0, 114.97569953977356, 132.19411484660287, 151.99110829529332, 174.7528400007683, 200.92330025650458, 231.0129700083158, 265.6087782946689, 305.38555088334186, 351.11917342151344, 403.70172585965577, 464.1588833612782, 533.6699231206312, 613.5907273413176, 705.4802310718645, 811.1308307896873, 932.60334688322, 1072.2672220103232, 1232.8467394420659, 1417.4741629268049, 1629.7508346206434, 1873.817422860383, 2154.4346900318865, 2477.076355991714, 2848.035868435805, 3274.5491628777318, 3764.9358067924713, 4328.7612810830615, 4977.023564332114, 5722.3676593502205, 6579.332246575683, 7564.633275546291, 8697.490026177835, 10000.0]}, {\"hovertext\": \"ratio: 0.87\", \"legendgroup\": \"8\", \"marker\": {\"color\": \"rgb(120.9765625, 54.1796875, 187.4609375)\", \"size\": 10, \"symbol\": \"cross-open\"}, \"mode\": \"markers\", \"name\": \"log<sub>10</sub>T<sub>max</sub>=7.0 NuSTAR 2.5-3.5 keV\", \"showlegend\": false, \"type\": \"scatter\", \"x\": [3.4871647714756313], \"y\": [3.033135668942394]}, {\"hovertext\": \"ratio: 0.637\", \"legendgroup\": \"8\", \"marker\": {\"color\": \"rgb(120.9765625, 54.1796875, 187.4609375)\", \"size\": 10, \"symbol\": \"triangle-up-open\"}, \"mode\": \"markers\", \"name\": \"log<sub>10</sub>T<sub>max</sub>=7.0 NuSTAR 2.5-3.5 keV\", \"showlegend\": false, \"type\": \"scatter\", \"x\": [49.03957872227575], \"y\": [31.214165656027355]}, {\"hovertext\": \"ratio: 1.019\", \"legendgroup\": \"8\", \"marker\": {\"color\": \"rgb(120.9765625, 54.1796875, 187.4609375)\", \"size\": 10, \"symbol\": \"circle-open\"}, \"mode\": \"markers\", \"name\": \"log<sub>10</sub>T<sub>max</sub>=7.0 NuSTAR 2.5-3.5 keV\", \"showlegend\": false, \"type\": \"scatter\", \"x\": [628.3652421971151], \"y\": [640.0471824658754]}, {\"hovertext\": \"ratio: 0.973\", \"legendgroup\": \"8\", \"marker\": {\"color\": \"rgb(120.9765625, 54.1796875, 187.4609375)\", \"size\": 10, \"symbol\": \"triangle-down-open\"}, \"mode\": \"markers\", \"name\": \"log<sub>10</sub>T<sub>max</sub>=7.0 NuSTAR 2.5-3.5 keV\", \"showlegend\": false, \"type\": \"scatter\", \"x\": [1096.5050200540427], \"y\": [1066.8681617751822]}, {\"hovertext\": \"ratio: 0.877\", \"legendgroup\": \"8\", \"marker\": {\"color\": \"rgb(120.9765625, 54.1796875, 187.4609375)\", \"size\": 10, \"symbol\": \"diamond-open\"}, \"mode\": \"markers\", \"name\": \"log<sub>10</sub>T<sub>max</sub>=7.0 NuSTAR 2.5-3.5 keV\", \"showlegend\": false, \"type\": \"scatter\", \"x\": [498.63537770079637], \"y\": [437.0781443951357]}, {\"hovertext\": \"ratio: 0.771\", \"legendgroup\": \"8\", \"marker\": {\"color\": \"rgb(120.9765625, 54.1796875, 187.4609375)\", \"size\": 10, \"symbol\": \"square-open\"}, \"mode\": \"markers\", \"name\": \"log<sub>10</sub>T<sub>max</sub>=7.0 NuSTAR 2.5-3.5 keV\", \"showlegend\": false, \"type\": \"scatter\", \"x\": [29.019773365796073], \"y\": [22.381477610512377]}, {\"hovertext\": \"ratio: 1.008\", \"legendgroup\": \"8\", \"marker\": {\"color\": \"rgb(120.9765625, 54.1796875, 187.4609375)\", \"size\": 10, \"symbol\": \"star-open\"}, \"mode\": \"markers\", \"name\": \"log<sub>10</sub>T<sub>max</sub>=7.0 NuSTAR 2.5-3.5 keV\", \"showlegend\": false, \"type\": \"scatter\", \"x\": [13.70879077911377], \"y\": [13.817367744713088]}, {\"hovertext\": \"ratio: 0.997\", \"legendgroup\": \"8\", \"marker\": {\"color\": \"rgb(120.9765625, 54.1796875, 187.4609375)\", \"size\": 10, \"symbol\": \"hexagon-open\"}, \"mode\": \"markers\", \"name\": \"log<sub>10</sub>T<sub>max</sub>=7.0 NuSTAR 2.5-3.5 keV\", \"showlegend\": false, \"type\": \"scatter\", \"x\": [0.21206398124116085], \"y\": [0.21145311895230876]}, {\"legendgroup\": \"8\", \"line\": {\"color\": \"rgb(120.9765625, 54.1796875, 187.4609375)\", \"width\": 0.5}, \"name\": \"log<sub>10</sub>T<sub>max</sub>=6.8\", \"type\": \"scatter\", \"x\": [0.01, 0.011497569953977356, 0.013219411484660288, 0.01519911082952934, 0.01747528400007684, 0.02009233002565047, 0.023101297000831605, 0.026560877829466867, 0.030538555088334154, 0.03511191734215131, 0.040370172585965536, 0.046415888336127795, 0.0533669923120631, 0.06135907273413173, 0.07054802310718646, 0.08111308307896872, 0.093260334688322, 0.10722672220103231, 0.12328467394420659, 0.14174741629268056, 0.16297508346206444, 0.1873817422860384, 0.21544346900318845, 0.24770763559917114, 0.2848035868435802, 0.32745491628777285, 0.37649358067924676, 0.43287612810830595, 0.49770235643321115, 0.5722367659350217, 0.6579332246575682, 0.7564633275546291, 0.8697490026177834, 1.0, 1.1497569953977356, 1.3219411484660286, 1.5199110829529332, 1.7475284000076847, 2.0092330025650478, 2.31012970008316, 2.656087782946687, 3.0538555088334154, 3.511191734215131, 4.037017258596554, 4.641588833612782, 5.336699231206313, 6.135907273413176, 7.054802310718645, 8.111308307896872, 9.326033468832199, 10.722672220103231, 12.32846739442066, 14.174741629268048, 16.297508346206453, 18.73817422860385, 21.544346900318846, 24.770763559917114, 28.48035868435802, 32.74549162877728, 37.64935806792467, 43.287612810830616, 49.770235643321136, 57.2236765935022, 65.79332246575683, 75.64633275546291, 86.97490026177834, 100.0, 114.97569953977356, 132.19411484660287, 151.99110829529332, 174.7528400007683, 200.92330025650458, 231.0129700083158, 265.6087782946689, 305.38555088334186, 351.11917342151344, 403.70172585965577, 464.1588833612782, 533.6699231206312, 613.5907273413176, 705.4802310718645, 811.1308307896873, 932.60334688322, 1072.2672220103232, 1232.8467394420659, 1417.4741629268049, 1629.7508346206434, 1873.817422860383, 2154.4346900318865, 2477.076355991714, 2848.035868435805, 3274.5491628777318, 3764.9358067924713, 4328.7612810830615, 4977.023564332114, 5722.3676593502205, 6579.332246575683, 7564.633275546291, 8697.490026177835, 10000.0], \"y\": [0.01, 0.011497569953977356, 0.013219411484660288, 0.01519911082952934, 0.01747528400007684, 0.02009233002565047, 0.023101297000831605, 0.026560877829466867, 0.030538555088334154, 0.03511191734215131, 0.040370172585965536, 0.046415888336127795, 0.0533669923120631, 0.06135907273413173, 0.07054802310718646, 0.08111308307896872, 0.093260334688322, 0.10722672220103231, 0.12328467394420659, 0.14174741629268056, 0.16297508346206444, 0.1873817422860384, 0.21544346900318845, 0.24770763559917114, 0.2848035868435802, 0.32745491628777285, 0.37649358067924676, 0.43287612810830595, 0.49770235643321115, 0.5722367659350217, 0.6579332246575682, 0.7564633275546291, 0.8697490026177834, 1.0, 1.1497569953977356, 1.3219411484660286, 1.5199110829529332, 1.7475284000076847, 2.0092330025650478, 2.31012970008316, 2.656087782946687, 3.0538555088334154, 3.511191734215131, 4.037017258596554, 4.641588833612782, 5.336699231206313, 6.135907273413176, 7.054802310718645, 8.111308307896872, 9.326033468832199, 10.722672220103231, 12.32846739442066, 14.174741629268048, 16.297508346206453, 18.73817422860385, 21.544346900318846, 24.770763559917114, 28.48035868435802, 32.74549162877728, 37.64935806792467, 43.287612810830616, 49.770235643321136, 57.2236765935022, 65.79332246575683, 75.64633275546291, 86.97490026177834, 100.0, 114.97569953977356, 132.19411484660287, 151.99110829529332, 174.7528400007683, 200.92330025650458, 231.0129700083158, 265.6087782946689, 305.38555088334186, 351.11917342151344, 403.70172585965577, 464.1588833612782, 533.6699231206312, 613.5907273413176, 705.4802310718645, 811.1308307896873, 932.60334688322, 1072.2672220103232, 1232.8467394420659, 1417.4741629268049, 1629.7508346206434, 1873.817422860383, 2154.4346900318865, 2477.076355991714, 2848.035868435805, 3274.5491628777318, 3764.9358067924713, 4328.7612810830615, 4977.023564332114, 5722.3676593502205, 6579.332246575683, 7564.633275546291, 8697.490026177835, 10000.0]}, {\"hovertext\": \"ratio: 0.853\", \"legendgroup\": \"9\", \"marker\": {\"color\": \"rgb(95.5078125, 42.7734375, 201.6796875)\", \"size\": 10, \"symbol\": \"cross-open\"}, \"mode\": \"markers\", \"name\": \"log<sub>10</sub>T<sub>max</sub>=7.0 NuSTAR 2.5-3.5 keV\", \"showlegend\": false, \"type\": \"scatter\", \"x\": [3.4871647714756313], \"y\": [2.9736362258733635]}, {\"hovertext\": \"ratio: 0.59\", \"legendgroup\": \"9\", \"marker\": {\"color\": \"rgb(95.5078125, 42.7734375, 201.6796875)\", \"size\": 10, \"symbol\": \"triangle-up-open\"}, \"mode\": \"markers\", \"name\": \"log<sub>10</sub>T<sub>max</sub>=7.0 NuSTAR 2.5-3.5 keV\", \"showlegend\": false, \"type\": \"scatter\", \"x\": [49.03957872227575], \"y\": [28.938609058428725]}, {\"hovertext\": \"ratio: 1.015\", \"legendgroup\": \"9\", \"marker\": {\"color\": \"rgb(95.5078125, 42.7734375, 201.6796875)\", \"size\": 10, \"symbol\": \"circle-open\"}, \"mode\": \"markers\", \"name\": \"log<sub>10</sub>T<sub>max</sub>=7.0 NuSTAR 2.5-3.5 keV\", \"showlegend\": false, \"type\": \"scatter\", \"x\": [628.3652421971151], \"y\": [637.6475937839114]}, {\"hovertext\": \"ratio: 0.955\", \"legendgroup\": \"9\", \"marker\": {\"color\": \"rgb(95.5078125, 42.7734375, 201.6796875)\", \"size\": 10, \"symbol\": \"triangle-down-open\"}, \"mode\": \"markers\", \"name\": \"log<sub>10</sub>T<sub>max</sub>=7.0 NuSTAR 2.5-3.5 keV\", \"showlegend\": false, \"type\": \"scatter\", \"x\": [1096.5050200540427], \"y\": [1047.4263391440709]}, {\"hovertext\": \"ratio: 0.837\", \"legendgroup\": \"9\", \"marker\": {\"color\": \"rgb(95.5078125, 42.7734375, 201.6796875)\", \"size\": 10, \"symbol\": \"diamond-open\"}, \"mode\": \"markers\", \"name\": \"log<sub>10</sub>T<sub>max</sub>=7.0 NuSTAR 2.5-3.5 keV\", \"showlegend\": false, \"type\": \"scatter\", \"x\": [498.63537770079637], \"y\": [417.30484765573124]}, {\"hovertext\": \"ratio: 0.732\", \"legendgroup\": \"9\", \"marker\": {\"color\": \"rgb(95.5078125, 42.7734375, 201.6796875)\", \"size\": 10, \"symbol\": \"square-open\"}, \"mode\": \"markers\", \"name\": \"log<sub>10</sub>T<sub>max</sub>=7.0 NuSTAR 2.5-3.5 keV\", \"showlegend\": false, \"type\": \"scatter\", \"x\": [29.019773365796073], \"y\": [21.233759998557385]}, {\"hovertext\": \"ratio: 0.992\", \"legendgroup\": \"9\", \"marker\": {\"color\": \"rgb(95.5078125, 42.7734375, 201.6796875)\", \"size\": 10, \"symbol\": \"star-open\"}, \"mode\": \"markers\", \"name\": \"log<sub>10</sub>T<sub>max</sub>=7.0 NuSTAR 2.5-3.5 keV\", \"showlegend\": false, \"type\": \"scatter\", \"x\": [13.70879077911377], \"y\": [13.60595757150224]}, {\"hovertext\": \"ratio: 1.001\", \"legendgroup\": \"9\", \"marker\": {\"color\": \"rgb(95.5078125, 42.7734375, 201.6796875)\", \"size\": 10, \"symbol\": \"hexagon-open\"}, \"mode\": \"markers\", \"name\": \"log<sub>10</sub>T<sub>max</sub>=7.0 NuSTAR 2.5-3.5 keV\", \"showlegend\": false, \"type\": \"scatter\", \"x\": [0.21206398124116085], \"y\": [0.21223357433135726]}, {\"legendgroup\": \"9\", \"line\": {\"color\": \"rgb(95.5078125, 42.7734375, 201.6796875)\", \"width\": 0.5}, \"name\": \"log<sub>10</sub>T<sub>max</sub>=6.9\", \"type\": \"scatter\", \"x\": [0.01, 0.011497569953977356, 0.013219411484660288, 0.01519911082952934, 0.01747528400007684, 0.02009233002565047, 0.023101297000831605, 0.026560877829466867, 0.030538555088334154, 0.03511191734215131, 0.040370172585965536, 0.046415888336127795, 0.0533669923120631, 0.06135907273413173, 0.07054802310718646, 0.08111308307896872, 0.093260334688322, 0.10722672220103231, 0.12328467394420659, 0.14174741629268056, 0.16297508346206444, 0.1873817422860384, 0.21544346900318845, 0.24770763559917114, 0.2848035868435802, 0.32745491628777285, 0.37649358067924676, 0.43287612810830595, 0.49770235643321115, 0.5722367659350217, 0.6579332246575682, 0.7564633275546291, 0.8697490026177834, 1.0, 1.1497569953977356, 1.3219411484660286, 1.5199110829529332, 1.7475284000076847, 2.0092330025650478, 2.31012970008316, 2.656087782946687, 3.0538555088334154, 3.511191734215131, 4.037017258596554, 4.641588833612782, 5.336699231206313, 6.135907273413176, 7.054802310718645, 8.111308307896872, 9.326033468832199, 10.722672220103231, 12.32846739442066, 14.174741629268048, 16.297508346206453, 18.73817422860385, 21.544346900318846, 24.770763559917114, 28.48035868435802, 32.74549162877728, 37.64935806792467, 43.287612810830616, 49.770235643321136, 57.2236765935022, 65.79332246575683, 75.64633275546291, 86.97490026177834, 100.0, 114.97569953977356, 132.19411484660287, 151.99110829529332, 174.7528400007683, 200.92330025650458, 231.0129700083158, 265.6087782946689, 305.38555088334186, 351.11917342151344, 403.70172585965577, 464.1588833612782, 533.6699231206312, 613.5907273413176, 705.4802310718645, 811.1308307896873, 932.60334688322, 1072.2672220103232, 1232.8467394420659, 1417.4741629268049, 1629.7508346206434, 1873.817422860383, 2154.4346900318865, 2477.076355991714, 2848.035868435805, 3274.5491628777318, 3764.9358067924713, 4328.7612810830615, 4977.023564332114, 5722.3676593502205, 6579.332246575683, 7564.633275546291, 8697.490026177835, 10000.0], \"y\": [0.01, 0.011497569953977356, 0.013219411484660288, 0.01519911082952934, 0.01747528400007684, 0.02009233002565047, 0.023101297000831605, 0.026560877829466867, 0.030538555088334154, 0.03511191734215131, 0.040370172585965536, 0.046415888336127795, 0.0533669923120631, 0.06135907273413173, 0.07054802310718646, 0.08111308307896872, 0.093260334688322, 0.10722672220103231, 0.12328467394420659, 0.14174741629268056, 0.16297508346206444, 0.1873817422860384, 0.21544346900318845, 0.24770763559917114, 0.2848035868435802, 0.32745491628777285, 0.37649358067924676, 0.43287612810830595, 0.49770235643321115, 0.5722367659350217, 0.6579332246575682, 0.7564633275546291, 0.8697490026177834, 1.0, 1.1497569953977356, 1.3219411484660286, 1.5199110829529332, 1.7475284000076847, 2.0092330025650478, 2.31012970008316, 2.656087782946687, 3.0538555088334154, 3.511191734215131, 4.037017258596554, 4.641588833612782, 5.336699231206313, 6.135907273413176, 7.054802310718645, 8.111308307896872, 9.326033468832199, 10.722672220103231, 12.32846739442066, 14.174741629268048, 16.297508346206453, 18.73817422860385, 21.544346900318846, 24.770763559917114, 28.48035868435802, 32.74549162877728, 37.64935806792467, 43.287612810830616, 49.770235643321136, 57.2236765935022, 65.79332246575683, 75.64633275546291, 86.97490026177834, 100.0, 114.97569953977356, 132.19411484660287, 151.99110829529332, 174.7528400007683, 200.92330025650458, 231.0129700083158, 265.6087782946689, 305.38555088334186, 351.11917342151344, 403.70172585965577, 464.1588833612782, 533.6699231206312, 613.5907273413176, 705.4802310718645, 811.1308307896873, 932.60334688322, 1072.2672220103232, 1232.8467394420659, 1417.4741629268049, 1629.7508346206434, 1873.817422860383, 2154.4346900318865, 2477.076355991714, 2848.035868435805, 3274.5491628777318, 3764.9358067924713, 4328.7612810830615, 4977.023564332114, 5722.3676593502205, 6579.332246575683, 7564.633275546291, 8697.490026177835, 10000.0]}, {\"hovertext\": \"ratio: 0.868\", \"legendgroup\": \"10\", \"marker\": {\"color\": \"rgb(70.0390625, 31.3671875, 215.8984375)\", \"size\": 10, \"symbol\": \"cross-open\"}, \"mode\": \"markers\", \"name\": \"log<sub>10</sub>T<sub>max</sub>=7.0 NuSTAR 2.5-3.5 keV\", \"showlegend\": false, \"type\": \"scatter\", \"x\": [3.4871647714756313], \"y\": [3.026044191899697]}, {\"hovertext\": \"ratio: 0.64\", \"legendgroup\": \"10\", \"marker\": {\"color\": \"rgb(70.0390625, 31.3671875, 215.8984375)\", \"size\": 10, \"symbol\": \"triangle-up-open\"}, \"mode\": \"markers\", \"name\": \"log<sub>10</sub>T<sub>max</sub>=7.0 NuSTAR 2.5-3.5 keV\", \"showlegend\": false, \"type\": \"scatter\", \"x\": [49.03957872227575], \"y\": [31.404227806016376]}, {\"hovertext\": \"ratio: 1.019\", \"legendgroup\": \"10\", \"marker\": {\"color\": \"rgb(70.0390625, 31.3671875, 215.8984375)\", \"size\": 10, \"symbol\": \"circle-open\"}, \"mode\": \"markers\", \"name\": \"log<sub>10</sub>T<sub>max</sub>=7.0 NuSTAR 2.5-3.5 keV\", \"showlegend\": false, \"type\": \"scatter\", \"x\": [628.3652421971151], \"y\": [640.4512357744142]}, {\"hovertext\": \"ratio: 0.973\", \"legendgroup\": \"10\", \"marker\": {\"color\": \"rgb(70.0390625, 31.3671875, 215.8984375)\", \"size\": 10, \"symbol\": \"triangle-down-open\"}, \"mode\": \"markers\", \"name\": \"log<sub>10</sub>T<sub>max</sub>=7.0 NuSTAR 2.5-3.5 keV\", \"showlegend\": false, \"type\": \"scatter\", \"x\": [1096.5050200540427], \"y\": [1066.6086711725009]}, {\"hovertext\": \"ratio: 0.874\", \"legendgroup\": \"10\", \"marker\": {\"color\": \"rgb(70.0390625, 31.3671875, 215.8984375)\", \"size\": 10, \"symbol\": \"diamond-open\"}, \"mode\": \"markers\", \"name\": \"log<sub>10</sub>T<sub>max</sub>=7.0 NuSTAR 2.5-3.5 keV\", \"showlegend\": false, \"type\": \"scatter\", \"x\": [498.63537770079637], \"y\": [435.57395528068986]}, {\"hovertext\": \"ratio: 0.775\", \"legendgroup\": \"10\", \"marker\": {\"color\": \"rgb(70.0390625, 31.3671875, 215.8984375)\", \"size\": 10, \"symbol\": \"square-open\"}, \"mode\": \"markers\", \"name\": \"log<sub>10</sub>T<sub>max</sub>=7.0 NuSTAR 2.5-3.5 keV\", \"showlegend\": false, \"type\": \"scatter\", \"x\": [29.019773365796073], \"y\": [22.5033228804908]}, {\"hovertext\": \"ratio: 1.002\", \"legendgroup\": \"10\", \"marker\": {\"color\": \"rgb(70.0390625, 31.3671875, 215.8984375)\", \"size\": 10, \"symbol\": \"star-open\"}, \"mode\": \"markers\", \"name\": \"log<sub>10</sub>T<sub>max</sub>=7.0 NuSTAR 2.5-3.5 keV\", \"showlegend\": false, \"type\": \"scatter\", \"x\": [13.70879077911377], \"y\": [13.730394514919778]}, {\"hovertext\": \"ratio: 1.0\", \"legendgroup\": \"10\", \"marker\": {\"color\": \"rgb(70.0390625, 31.3671875, 215.8984375)\", \"size\": 10, \"symbol\": \"hexagon-open\"}, \"mode\": \"markers\", \"name\": \"log<sub>10</sub>T<sub>max</sub>=7.0 NuSTAR 2.5-3.5 keV\", \"showlegend\": false, \"type\": \"scatter\", \"x\": [0.21206398124116085], \"y\": [0.21210993352777996]}, {\"legendgroup\": \"10\", \"line\": {\"color\": \"rgb(70.0390625, 31.3671875, 215.8984375)\", \"width\": 0.5}, \"name\": \"log<sub>10</sub>T<sub>max</sub>=7.0\", \"type\": \"scatter\", \"x\": [0.01, 0.011497569953977356, 0.013219411484660288, 0.01519911082952934, 0.01747528400007684, 0.02009233002565047, 0.023101297000831605, 0.026560877829466867, 0.030538555088334154, 0.03511191734215131, 0.040370172585965536, 0.046415888336127795, 0.0533669923120631, 0.06135907273413173, 0.07054802310718646, 0.08111308307896872, 0.093260334688322, 0.10722672220103231, 0.12328467394420659, 0.14174741629268056, 0.16297508346206444, 0.1873817422860384, 0.21544346900318845, 0.24770763559917114, 0.2848035868435802, 0.32745491628777285, 0.37649358067924676, 0.43287612810830595, 0.49770235643321115, 0.5722367659350217, 0.6579332246575682, 0.7564633275546291, 0.8697490026177834, 1.0, 1.1497569953977356, 1.3219411484660286, 1.5199110829529332, 1.7475284000076847, 2.0092330025650478, 2.31012970008316, 2.656087782946687, 3.0538555088334154, 3.511191734215131, 4.037017258596554, 4.641588833612782, 5.336699231206313, 6.135907273413176, 7.054802310718645, 8.111308307896872, 9.326033468832199, 10.722672220103231, 12.32846739442066, 14.174741629268048, 16.297508346206453, 18.73817422860385, 21.544346900318846, 24.770763559917114, 28.48035868435802, 32.74549162877728, 37.64935806792467, 43.287612810830616, 49.770235643321136, 57.2236765935022, 65.79332246575683, 75.64633275546291, 86.97490026177834, 100.0, 114.97569953977356, 132.19411484660287, 151.99110829529332, 174.7528400007683, 200.92330025650458, 231.0129700083158, 265.6087782946689, 305.38555088334186, 351.11917342151344, 403.70172585965577, 464.1588833612782, 533.6699231206312, 613.5907273413176, 705.4802310718645, 811.1308307896873, 932.60334688322, 1072.2672220103232, 1232.8467394420659, 1417.4741629268049, 1629.7508346206434, 1873.817422860383, 2154.4346900318865, 2477.076355991714, 2848.035868435805, 3274.5491628777318, 3764.9358067924713, 4328.7612810830615, 4977.023564332114, 5722.3676593502205, 6579.332246575683, 7564.633275546291, 8697.490026177835, 10000.0], \"y\": [0.01, 0.011497569953977356, 0.013219411484660288, 0.01519911082952934, 0.01747528400007684, 0.02009233002565047, 0.023101297000831605, 0.026560877829466867, 0.030538555088334154, 0.03511191734215131, 0.040370172585965536, 0.046415888336127795, 0.0533669923120631, 0.06135907273413173, 0.07054802310718646, 0.08111308307896872, 0.093260334688322, 0.10722672220103231, 0.12328467394420659, 0.14174741629268056, 0.16297508346206444, 0.1873817422860384, 0.21544346900318845, 0.24770763559917114, 0.2848035868435802, 0.32745491628777285, 0.37649358067924676, 0.43287612810830595, 0.49770235643321115, 0.5722367659350217, 0.6579332246575682, 0.7564633275546291, 0.8697490026177834, 1.0, 1.1497569953977356, 1.3219411484660286, 1.5199110829529332, 1.7475284000076847, 2.0092330025650478, 2.31012970008316, 2.656087782946687, 3.0538555088334154, 3.511191734215131, 4.037017258596554, 4.641588833612782, 5.336699231206313, 6.135907273413176, 7.054802310718645, 8.111308307896872, 9.326033468832199, 10.722672220103231, 12.32846739442066, 14.174741629268048, 16.297508346206453, 18.73817422860385, 21.544346900318846, 24.770763559917114, 28.48035868435802, 32.74549162877728, 37.64935806792467, 43.287612810830616, 49.770235643321136, 57.2236765935022, 65.79332246575683, 75.64633275546291, 86.97490026177834, 100.0, 114.97569953977356, 132.19411484660287, 151.99110829529332, 174.7528400007683, 200.92330025650458, 231.0129700083158, 265.6087782946689, 305.38555088334186, 351.11917342151344, 403.70172585965577, 464.1588833612782, 533.6699231206312, 613.5907273413176, 705.4802310718645, 811.1308307896873, 932.60334688322, 1072.2672220103232, 1232.8467394420659, 1417.4741629268049, 1629.7508346206434, 1873.817422860383, 2154.4346900318865, 2477.076355991714, 2848.035868435805, 3274.5491628777318, 3764.9358067924713, 4328.7612810830615, 4977.023564332114, 5722.3676593502205, 6579.332246575683, 7564.633275546291, 8697.490026177835, 10000.0]}, {\"name\": \"1:1\", \"type\": \"scatter\", \"x\": [0.01, 0.011497569953977356, 0.013219411484660288, 0.01519911082952934, 0.01747528400007684, 0.02009233002565047, 0.023101297000831605, 0.026560877829466867, 0.030538555088334154, 0.03511191734215131, 0.040370172585965536, 0.046415888336127795, 0.0533669923120631, 0.06135907273413173, 0.07054802310718646, 0.08111308307896872, 0.093260334688322, 0.10722672220103231, 0.12328467394420659, 0.14174741629268056, 0.16297508346206444, 0.1873817422860384, 0.21544346900318845, 0.24770763559917114, 0.2848035868435802, 0.32745491628777285, 0.37649358067924676, 0.43287612810830595, 0.49770235643321115, 0.5722367659350217, 0.6579332246575682, 0.7564633275546291, 0.8697490026177834, 1.0, 1.1497569953977356, 1.3219411484660286, 1.5199110829529332, 1.7475284000076847, 2.0092330025650478, 2.31012970008316, 2.656087782946687, 3.0538555088334154, 3.511191734215131, 4.037017258596554, 4.641588833612782, 5.336699231206313, 6.135907273413176, 7.054802310718645, 8.111308307896872, 9.326033468832199, 10.722672220103231, 12.32846739442066, 14.174741629268048, 16.297508346206453, 18.73817422860385, 21.544346900318846, 24.770763559917114, 28.48035868435802, 32.74549162877728, 37.64935806792467, 43.287612810830616, 49.770235643321136, 57.2236765935022, 65.79332246575683, 75.64633275546291, 86.97490026177834, 100.0, 114.97569953977356, 132.19411484660287, 151.99110829529332, 174.7528400007683, 200.92330025650458, 231.0129700083158, 265.6087782946689, 305.38555088334186, 351.11917342151344, 403.70172585965577, 464.1588833612782, 533.6699231206312, 613.5907273413176, 705.4802310718645, 811.1308307896873, 932.60334688322, 1072.2672220103232, 1232.8467394420659, 1417.4741629268049, 1629.7508346206434, 1873.817422860383, 2154.4346900318865, 2477.076355991714, 2848.035868435805, 3274.5491628777318, 3764.9358067924713, 4328.7612810830615, 4977.023564332114, 5722.3676593502205, 6579.332246575683, 7564.633275546291, 8697.490026177835, 10000.0], \"y\": [0.01, 0.011497569953977356, 0.013219411484660288, 0.01519911082952934, 0.01747528400007684, 0.02009233002565047, 0.023101297000831605, 0.026560877829466867, 0.030538555088334154, 0.03511191734215131, 0.040370172585965536, 0.046415888336127795, 0.0533669923120631, 0.06135907273413173, 0.07054802310718646, 0.08111308307896872, 0.093260334688322, 0.10722672220103231, 0.12328467394420659, 0.14174741629268056, 0.16297508346206444, 0.1873817422860384, 0.21544346900318845, 0.24770763559917114, 0.2848035868435802, 0.32745491628777285, 0.37649358067924676, 0.43287612810830595, 0.49770235643321115, 0.5722367659350217, 0.6579332246575682, 0.7564633275546291, 0.8697490026177834, 1.0, 1.1497569953977356, 1.3219411484660286, 1.5199110829529332, 1.7475284000076847, 2.0092330025650478, 2.31012970008316, 2.656087782946687, 3.0538555088334154, 3.511191734215131, 4.037017258596554, 4.641588833612782, 5.336699231206313, 6.135907273413176, 7.054802310718645, 8.111308307896872, 9.326033468832199, 10.722672220103231, 12.32846739442066, 14.174741629268048, 16.297508346206453, 18.73817422860385, 21.544346900318846, 24.770763559917114, 28.48035868435802, 32.74549162877728, 37.64935806792467, 43.287612810830616, 49.770235643321136, 57.2236765935022, 65.79332246575683, 75.64633275546291, 86.97490026177834, 100.0, 114.97569953977356, 132.19411484660287, 151.99110829529332, 174.7528400007683, 200.92330025650458, 231.0129700083158, 265.6087782946689, 305.38555088334186, 351.11917342151344, 403.70172585965577, 464.1588833612782, 533.6699231206312, 613.5907273413176, 705.4802310718645, 811.1308307896873, 932.60334688322, 1072.2672220103232, 1232.8467394420659, 1417.4741629268049, 1629.7508346206434, 1873.817422860383, 2154.4346900318865, 2477.076355991714, 2848.035868435805, 3274.5491628777318, 3764.9358067924713, 4328.7612810830615, 4977.023564332114, 5722.3676593502205, 6579.332246575683, 7564.633275546291, 8697.490026177835, 10000.0]}],                        {\"annotations\": [{\"showarrow\": false, \"text\": \"NuSTAR 2.5-3.5 keV\", \"x\": -0.6735330895059872, \"y\": -7}, {\"showarrow\": false, \"text\": \"94\", \"x\": 0.5424724686412462, \"y\": -6}, {\"showarrow\": false, \"text\": \"Be-Thin\", \"x\": 1.136999148362153, \"y\": -5}, {\"showarrow\": false, \"text\": \"335\", \"x\": 1.462694016428095, \"y\": -4}, {\"showarrow\": false, \"text\": \"131\", \"x\": 1.6905467306910917, \"y\": -3}, {\"showarrow\": false, \"text\": \"211\", \"x\": 2.697783088036954, \"y\": -2}, {\"showarrow\": false, \"text\": \"171\", \"x\": 2.798212154185442, \"y\": -1}, {\"showarrow\": false, \"text\": \"193\", \"x\": 3.0400106243188576, \"y\": 0}], \"height\": 700, \"template\": {\"data\": {\"bar\": [{\"error_x\": {\"color\": \"#2a3f5f\"}, \"error_y\": {\"color\": \"#2a3f5f\"}, \"marker\": {\"line\": {\"color\": \"#E5ECF6\", \"width\": 0.5}}, \"type\": \"bar\"}], \"barpolar\": [{\"marker\": {\"line\": {\"color\": \"#E5ECF6\", \"width\": 0.5}}, \"type\": \"barpolar\"}], \"carpet\": [{\"aaxis\": {\"endlinecolor\": \"#2a3f5f\", \"gridcolor\": \"white\", \"linecolor\": \"white\", \"minorgridcolor\": \"white\", \"startlinecolor\": \"#2a3f5f\"}, \"baxis\": {\"endlinecolor\": \"#2a3f5f\", \"gridcolor\": \"white\", \"linecolor\": \"white\", \"minorgridcolor\": \"white\", \"startlinecolor\": \"#2a3f5f\"}, \"type\": \"carpet\"}], \"choropleth\": [{\"colorbar\": {\"outlinewidth\": 0, \"ticks\": \"\"}, \"type\": \"choropleth\"}], \"contour\": [{\"colorbar\": {\"outlinewidth\": 0, \"ticks\": \"\"}, \"colorscale\": [[0.0, \"#0d0887\"], [0.1111111111111111, \"#46039f\"], [0.2222222222222222, \"#7201a8\"], [0.3333333333333333, \"#9c179e\"], [0.4444444444444444, \"#bd3786\"], [0.5555555555555556, \"#d8576b\"], [0.6666666666666666, \"#ed7953\"], [0.7777777777777778, \"#fb9f3a\"], [0.8888888888888888, \"#fdca26\"], [1.0, \"#f0f921\"]], \"type\": \"contour\"}], \"contourcarpet\": [{\"colorbar\": {\"outlinewidth\": 0, \"ticks\": \"\"}, \"type\": \"contourcarpet\"}], \"heatmap\": [{\"colorbar\": {\"outlinewidth\": 0, \"ticks\": \"\"}, \"colorscale\": [[0.0, \"#0d0887\"], [0.1111111111111111, \"#46039f\"], [0.2222222222222222, \"#7201a8\"], [0.3333333333333333, \"#9c179e\"], [0.4444444444444444, \"#bd3786\"], [0.5555555555555556, \"#d8576b\"], [0.6666666666666666, \"#ed7953\"], [0.7777777777777778, \"#fb9f3a\"], [0.8888888888888888, \"#fdca26\"], [1.0, \"#f0f921\"]], \"type\": \"heatmap\"}], \"heatmapgl\": [{\"colorbar\": {\"outlinewidth\": 0, \"ticks\": \"\"}, \"colorscale\": [[0.0, \"#0d0887\"], [0.1111111111111111, \"#46039f\"], [0.2222222222222222, \"#7201a8\"], [0.3333333333333333, \"#9c179e\"], [0.4444444444444444, \"#bd3786\"], [0.5555555555555556, \"#d8576b\"], [0.6666666666666666, \"#ed7953\"], [0.7777777777777778, \"#fb9f3a\"], [0.8888888888888888, \"#fdca26\"], [1.0, \"#f0f921\"]], \"type\": \"heatmapgl\"}], \"histogram\": [{\"marker\": {\"colorbar\": {\"outlinewidth\": 0, \"ticks\": \"\"}}, \"type\": \"histogram\"}], \"histogram2d\": [{\"colorbar\": {\"outlinewidth\": 0, \"ticks\": \"\"}, \"colorscale\": [[0.0, \"#0d0887\"], [0.1111111111111111, \"#46039f\"], [0.2222222222222222, \"#7201a8\"], [0.3333333333333333, \"#9c179e\"], [0.4444444444444444, \"#bd3786\"], [0.5555555555555556, \"#d8576b\"], [0.6666666666666666, \"#ed7953\"], [0.7777777777777778, \"#fb9f3a\"], [0.8888888888888888, \"#fdca26\"], [1.0, \"#f0f921\"]], \"type\": \"histogram2d\"}], \"histogram2dcontour\": [{\"colorbar\": {\"outlinewidth\": 0, \"ticks\": \"\"}, \"colorscale\": [[0.0, \"#0d0887\"], [0.1111111111111111, \"#46039f\"], [0.2222222222222222, \"#7201a8\"], [0.3333333333333333, \"#9c179e\"], [0.4444444444444444, \"#bd3786\"], [0.5555555555555556, \"#d8576b\"], [0.6666666666666666, \"#ed7953\"], [0.7777777777777778, \"#fb9f3a\"], [0.8888888888888888, \"#fdca26\"], [1.0, \"#f0f921\"]], \"type\": \"histogram2dcontour\"}], \"mesh3d\": [{\"colorbar\": {\"outlinewidth\": 0, \"ticks\": \"\"}, \"type\": \"mesh3d\"}], \"parcoords\": [{\"line\": {\"colorbar\": {\"outlinewidth\": 0, \"ticks\": \"\"}}, \"type\": \"parcoords\"}], \"pie\": [{\"automargin\": true, \"type\": \"pie\"}], \"scatter\": [{\"marker\": {\"colorbar\": {\"outlinewidth\": 0, \"ticks\": \"\"}}, \"type\": \"scatter\"}], \"scatter3d\": [{\"line\": {\"colorbar\": {\"outlinewidth\": 0, \"ticks\": \"\"}}, \"marker\": {\"colorbar\": {\"outlinewidth\": 0, \"ticks\": \"\"}}, \"type\": \"scatter3d\"}], \"scattercarpet\": [{\"marker\": {\"colorbar\": {\"outlinewidth\": 0, \"ticks\": \"\"}}, \"type\": \"scattercarpet\"}], \"scattergeo\": [{\"marker\": {\"colorbar\": {\"outlinewidth\": 0, \"ticks\": \"\"}}, \"type\": \"scattergeo\"}], \"scattergl\": [{\"marker\": {\"colorbar\": {\"outlinewidth\": 0, \"ticks\": \"\"}}, \"type\": \"scattergl\"}], \"scattermapbox\": [{\"marker\": {\"colorbar\": {\"outlinewidth\": 0, \"ticks\": \"\"}}, \"type\": \"scattermapbox\"}], \"scatterpolar\": [{\"marker\": {\"colorbar\": {\"outlinewidth\": 0, \"ticks\": \"\"}}, \"type\": \"scatterpolar\"}], \"scatterpolargl\": [{\"marker\": {\"colorbar\": {\"outlinewidth\": 0, \"ticks\": \"\"}}, \"type\": \"scatterpolargl\"}], \"scatterternary\": [{\"marker\": {\"colorbar\": {\"outlinewidth\": 0, \"ticks\": \"\"}}, \"type\": \"scatterternary\"}], \"surface\": [{\"colorbar\": {\"outlinewidth\": 0, \"ticks\": \"\"}, \"colorscale\": [[0.0, \"#0d0887\"], [0.1111111111111111, \"#46039f\"], [0.2222222222222222, \"#7201a8\"], [0.3333333333333333, \"#9c179e\"], [0.4444444444444444, \"#bd3786\"], [0.5555555555555556, \"#d8576b\"], [0.6666666666666666, \"#ed7953\"], [0.7777777777777778, \"#fb9f3a\"], [0.8888888888888888, \"#fdca26\"], [1.0, \"#f0f921\"]], \"type\": \"surface\"}], \"table\": [{\"cells\": {\"fill\": {\"color\": \"#EBF0F8\"}, \"line\": {\"color\": \"white\"}}, \"header\": {\"fill\": {\"color\": \"#C8D4E3\"}, \"line\": {\"color\": \"white\"}}, \"type\": \"table\"}]}, \"layout\": {\"annotationdefaults\": {\"arrowcolor\": \"#2a3f5f\", \"arrowhead\": 0, \"arrowwidth\": 1}, \"autotypenumbers\": \"strict\", \"coloraxis\": {\"colorbar\": {\"outlinewidth\": 0, \"ticks\": \"\"}}, \"colorscale\": {\"diverging\": [[0, \"#8e0152\"], [0.1, \"#c51b7d\"], [0.2, \"#de77ae\"], [0.3, \"#f1b6da\"], [0.4, \"#fde0ef\"], [0.5, \"#f7f7f7\"], [0.6, \"#e6f5d0\"], [0.7, \"#b8e186\"], [0.8, \"#7fbc41\"], [0.9, \"#4d9221\"], [1, \"#276419\"]], \"sequential\": [[0.0, \"#0d0887\"], [0.1111111111111111, \"#46039f\"], [0.2222222222222222, \"#7201a8\"], [0.3333333333333333, \"#9c179e\"], [0.4444444444444444, \"#bd3786\"], [0.5555555555555556, \"#d8576b\"], [0.6666666666666666, \"#ed7953\"], [0.7777777777777778, \"#fb9f3a\"], [0.8888888888888888, \"#fdca26\"], [1.0, \"#f0f921\"]], \"sequentialminus\": [[0.0, \"#0d0887\"], [0.1111111111111111, \"#46039f\"], [0.2222222222222222, \"#7201a8\"], [0.3333333333333333, \"#9c179e\"], [0.4444444444444444, \"#bd3786\"], [0.5555555555555556, \"#d8576b\"], [0.6666666666666666, \"#ed7953\"], [0.7777777777777778, \"#fb9f3a\"], [0.8888888888888888, \"#fdca26\"], [1.0, \"#f0f921\"]]}, \"colorway\": [\"#636efa\", \"#EF553B\", \"#00cc96\", \"#ab63fa\", \"#FFA15A\", \"#19d3f3\", \"#FF6692\", \"#B6E880\", \"#FF97FF\", \"#FECB52\"], \"font\": {\"color\": \"#2a3f5f\"}, \"geo\": {\"bgcolor\": \"white\", \"lakecolor\": \"white\", \"landcolor\": \"#E5ECF6\", \"showlakes\": true, \"showland\": true, \"subunitcolor\": \"white\"}, \"hoverlabel\": {\"align\": \"left\"}, \"hovermode\": \"closest\", \"mapbox\": {\"style\": \"light\"}, \"paper_bgcolor\": \"white\", \"plot_bgcolor\": \"#E5ECF6\", \"polar\": {\"angularaxis\": {\"gridcolor\": \"white\", \"linecolor\": \"white\", \"ticks\": \"\"}, \"bgcolor\": \"#E5ECF6\", \"radialaxis\": {\"gridcolor\": \"white\", \"linecolor\": \"white\", \"ticks\": \"\"}}, \"scene\": {\"xaxis\": {\"backgroundcolor\": \"#E5ECF6\", \"gridcolor\": \"white\", \"gridwidth\": 2, \"linecolor\": \"white\", \"showbackground\": true, \"ticks\": \"\", \"zerolinecolor\": \"white\"}, \"yaxis\": {\"backgroundcolor\": \"#E5ECF6\", \"gridcolor\": \"white\", \"gridwidth\": 2, \"linecolor\": \"white\", \"showbackground\": true, \"ticks\": \"\", \"zerolinecolor\": \"white\"}, \"zaxis\": {\"backgroundcolor\": \"#E5ECF6\", \"gridcolor\": \"white\", \"gridwidth\": 2, \"linecolor\": \"white\", \"showbackground\": true, \"ticks\": \"\", \"zerolinecolor\": \"white\"}}, \"shapedefaults\": {\"line\": {\"color\": \"#2a3f5f\"}}, \"ternary\": {\"aaxis\": {\"gridcolor\": \"white\", \"linecolor\": \"white\", \"ticks\": \"\"}, \"baxis\": {\"gridcolor\": \"white\", \"linecolor\": \"white\", \"ticks\": \"\"}, \"bgcolor\": \"#E5ECF6\", \"caxis\": {\"gridcolor\": \"white\", \"linecolor\": \"white\", \"ticks\": \"\"}}, \"title\": {\"x\": 0.05}, \"xaxis\": {\"automargin\": true, \"gridcolor\": \"white\", \"linecolor\": \"white\", \"ticks\": \"\", \"title\": {\"standoff\": 15}, \"zerolinecolor\": \"white\", \"zerolinewidth\": 2}, \"yaxis\": {\"automargin\": true, \"gridcolor\": \"white\", \"linecolor\": \"white\", \"ticks\": \"\", \"title\": {\"standoff\": 15}, \"zerolinecolor\": \"white\", \"zerolinewidth\": 2}}}, \"title\": {\"text\": \"DN_reg vs DN_in\"}, \"width\": 800, \"xaxis\": {\"exponentformat\": \"e\", \"showexponent\": \"all\", \"title\": {\"text\": \"DN_in\"}, \"type\": \"log\"}, \"yaxis\": {\"exponentformat\": \"e\", \"showexponent\": \"all\", \"title\": {\"text\": \"DN_reg\"}, \"type\": \"log\"}},                        {\"responsive\": true}                    ).then(function(){\n",
       "                            \n",
       "var gd = document.getElementById('4a8b09da-2eb6-45ee-907e-921cb0f5fc52');\n",
       "var x = new MutationObserver(function (mutations, observer) {{\n",
       "        var display = window.getComputedStyle(gd).display;\n",
       "        if (!display || display === 'none') {{\n",
       "            console.log([gd, 'removed!']);\n",
       "            Plotly.purge(gd);\n",
       "            observer.disconnect();\n",
       "        }}\n",
       "}});\n",
       "\n",
       "// Listen for the removal of the full notebook cells\n",
       "var notebookContainer = gd.closest('#notebook-container');\n",
       "if (notebookContainer) {{\n",
       "    x.observe(notebookContainer, {childList: true});\n",
       "}}\n",
       "\n",
       "// Listen for the clearing of the current output cell\n",
       "var outputEl = gd.closest('.output');\n",
       "if (outputEl) {{\n",
       "    x.observe(outputEl, {childList: true});\n",
       "}}\n",
       "\n",
       "                        })                };                });            </script>        </div>"
      ]
     },
     "metadata": {},
     "output_type": "display_data"
    }
   ],
   "source": [
    "title='DN_reg vs DN_in'\n",
    "markersyms=['cross-open','triangle-up-open','circle-open','triangle-down-open','diamond-open','square-open','star-open','hexagon-open']\n",
    "xcoords=np.log10(foo.dn_in)\n",
    "test=sorted(zip(xcoords,dd.chanax))\n",
    "lb=-2\n",
    "ub=4\n",
    "fig=go.Figure()\n",
    "for i,dem in enumerate(df):\n",
    "    name=\"log<sub>10</sub>T<sub>max</sub>=%.1f\" % tend[i]\n",
    "    dd=dem.iloc[0]\n",
    "    for j,ms in enumerate(markersyms):\n",
    "        #trname=name+ ' '+ dd.chanax[j]\n",
    "        fig.add_trace(go.Scatter(x=[dd.dn_in[0][j]],y=[dd.dn_reg[0][j]],hovertext=\"ratio: %s\" % np.round(dd.dn_reg[0][j]/dd.dn_in[0][j],3),\\\n",
    "                                 mode='markers',marker=dict(symbol=ms,size=10,color=colors[i*20]),name=trname,legendgroup=str(i),showlegend=False))\n",
    "    fig.add_trace(go.Scatter(x=np.logspace(lb,ub,100),y=np.logspace(lb,ub,100),name=name,line_color=colors[i*20],line_width=0.5,legendgroup=str(i)))\n",
    "\n",
    "fig.add_trace(go.Scatter(x=np.logspace(lb,ub,100),y=np.logspace(lb,ub,100),name='1:1'))\n",
    "for i,(x,c) in zip(range(8),test):\n",
    "    fig.add_annotation(x=x,y=-7+i,text=c,showarrow=False)\n",
    "fig.update_layout(xaxis_type='log',yaxis_type='log',xaxis_title='DN_in',yaxis_title='DN_reg',title=title)\n",
    "fig.update_layout(yaxis = dict(showexponent = 'all',exponentformat = 'e'),xaxis = dict(showexponent = 'all',exponentformat = 'e'))\n",
    "fig.update_layout(width=800,height=700)"
   ]
  },
  {
   "cell_type": "code",
   "execution_count": 102,
   "metadata": {},
   "outputs": [
    {
     "data": {
      "text/plain": [
       "'DEMreg_temp_dnreg_v_dnin.html'"
      ]
     },
     "execution_count": 102,
     "metadata": {},
     "output_type": "execute_result"
    }
   ],
   "source": [
    "plotly.offline.plot(fig,filename='DEMreg_temp_dnreg_v_dnin.html',auto_open=False)"
   ]
  },
  {
   "cell_type": "code",
   "execution_count": null,
   "metadata": {},
   "outputs": [],
   "source": []
  }
 ],
 "metadata": {
  "kernelspec": {
   "display_name": "Python 3",
   "language": "python",
   "name": "python3"
  },
  "language_info": {
   "codemirror_mode": {
    "name": "ipython",
    "version": 3
   },
   "file_extension": ".py",
   "mimetype": "text/x-python",
   "name": "python",
   "nbconvert_exporter": "python",
   "pygments_lexer": "ipython3",
   "version": "3.5.5"
  }
 },
 "nbformat": 4,
 "nbformat_minor": 4
}
